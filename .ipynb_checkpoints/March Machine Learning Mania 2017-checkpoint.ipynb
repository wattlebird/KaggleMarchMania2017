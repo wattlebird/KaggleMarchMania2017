{
 "cells": [
  {
   "cell_type": "markdown",
   "metadata": {},
   "source": [
    "# March Machine Learning Mania 2017\n",
    "\n",
    "In this Kaggle contest, one is required to predict the outcome of NCAA Men's division I's outcome, or alternatively, the result of march mania basketball game. Given several sheets of historical basketball playing record, this year's match result is to be predicted on every possible pair among the 68 selected teams. There's no restriction on the data source, however, this solution only restricts on the dataset given by Kaggle.\n",
    "\n",
    "The idea of my solution is quite straightforward and simple. A previous trial on prediction using seed difference only already gives good results. My solution is just improvement on this starting point."
   ]
  },
  {
   "cell_type": "markdown",
   "metadata": {},
   "source": [
    "## 1. Statistical feature generation\n",
    "\n",
    "Following the idea that this year's tournament result be predicted on identical season's regular season performance, each team will be generated with different features in different years.\n",
    "\n",
    "I in this solution generated 25 statistical features besides seed difference: \n",
    "\n",
    "1. Num of wins in regular season\n",
    "2. Num of significant wins in regular season\n",
    "3. Num of significant loses in regular season\n",
    "4. Seed in tournament\n",
    "5. Score average\n",
    "6. TO average\n",
    "7. AST average\n",
    "8. OR average\n",
    "9. DR average\n",
    "10. STL average\n",
    "10. BLK average\n",
    "11. PF average\n",
    "12. EfgO\n",
    "13. EfgD\n",
    "14. TopO\n",
    "15. TopD\n",
    "16. ORB\n",
    "17. DRB\n",
    "18. OFT\n",
    "19. DFT\n",
    "20. AstO\n",
    "21. AstD\n",
    "22. FGrate\n",
    "23. FG3rate\n",
    "24. FTrate\n",
    "25. AstTo"
   ]
  },
  {
   "cell_type": "code",
   "execution_count": 1,
   "metadata": {
    "collapsed": true
   },
   "outputs": [],
   "source": [
    "import pandas as pd\n",
    "import numpy as np\n",
    "\n",
    "\n",
    "regular = pd.read_csv(\"./Data/RegularSeasonDetailedResults.csv\")\n",
    "regular_rev = regular.ix[:, [0,1,4,5,2,3,7,21,22,23,24,25,26,27,28,29,30,31,32,33,8,9,10,11,12,13,14,15,16,17,18,19,20]]\n",
    "new_regular = pd.DataFrame(np.vstack([regular_rev.values, \n",
    "                                   regular.ix[:, [0,1,2,3,4,5,7,8,9,10,11,12,13,14,15,16,17,18,19,20,21,22,23,24,25,26,27,28,29,30,31,32,33]].values], \n",
    "                                 ), columns = [\"Season\",\"Daynum\",\"Player\",\"PlayerScore\",\"Opponent\",\"OpponentScore\",\"Numot\",\"Wfgm\",\"Wfga\",\"Wfgm3\",\"Wfga3\",\"Wftm\",\"Wfta\",\"Wor\",\"Wdr\",\"Wast\",\"Wto\",\"Wstl\",\"Wblk\",\"Wpf\",\"Lfgm\",\"Lfga\",\"Lfgm3\",\"Lfga3\",\"Lftm\",\"Lfta\",\"Lor\",\"Ldr\",\"Last\",\"Lto\",\"Lstl\",\"Lblk\",\"Lpf\"])\n",
    "loc = []\n",
    "revloc = []\n",
    "for itm in regular['Wloc'].values:\n",
    "    if itm=='N':\n",
    "        loc.append(0)\n",
    "        revloc.append(0)\n",
    "    elif itm=='H':\n",
    "        loc.append(1)\n",
    "        revloc.append(-1)\n",
    "    else:\n",
    "        loc.append(-1)\n",
    "        revloc.append(1)\n",
    "new_regular['PlayerLoc']=np.hstack([revloc, loc])\n",
    "new_regular['PlayerResult']=np.hstack([-1*np.ones(regular.shape[0], dtype=np.int), np.ones(regular.shape[0], dtype=np.int)])"
   ]
  },
  {
   "cell_type": "code",
   "execution_count": 2,
   "metadata": {
    "collapsed": false
   },
   "outputs": [],
   "source": [
    "# generate significant wins, significant lose, and location weight\n",
    "marginal_thres = 3\n",
    "sigwin = ((new_regular.loc[:, 'PlayerScore']-new_regular.loc[:, 'OpponentScore'])>marginal_thres).astype(np.int)\n",
    "siglose = ((new_regular.loc[:, 'PlayerScore']-new_regular.loc[:, 'OpponentScore'])<-marginal_thres).astype(np.int)\n",
    "locweight = (-new_regular.loc[:, 'PlayerLoc'])*0.5+1\n",
    "new_regular['SigWin'] = sigwin\n",
    "new_regular['SigLose'] = siglose\n",
    "new_regular['LocWeight'] = locweight"
   ]
  },
  {
   "cell_type": "code",
   "execution_count": 3,
   "metadata": {
    "collapsed": false
   },
   "outputs": [],
   "source": [
    "# generate features 1,2,3\n",
    "feature = new_regular.loc[:, [\"Season\", \"Player\", \"PlayerResult\", \"SigWin\", \"SigLose\"]].groupby(['Season', 'Player']).sum()\n",
    "# generate features 5-12\n",
    "feature = pd.merge(feature,\n",
    "                   new_regular.loc[:, [\"Season\", \"Player\", \"PlayerScore\", \"Wor\",\"Wdr\",\"Wast\",\"Wto\",\"Wstl\",\"Wblk\",\"Wpf\"]].groupby(['Season', 'Player']).mean(),\n",
    "                   left_index=True, right_index=True)"
   ]
  },
  {
   "cell_type": "code",
   "execution_count": 4,
   "metadata": {
    "collapsed": false
   },
   "outputs": [],
   "source": [
    "# generate features 13-26\n",
    "t = pd.DataFrame({\n",
    "        'EfgO': (new_regular.Wfgm+new_regular.Wfgm3/2)/new_regular.Wfga,\n",
    "        'EfgD': (new_regular.Lfgm+new_regular.Lfgm3/2)/new_regular.Lfga,\n",
    "        'TopO': new_regular.Wto/(new_regular.Wfga+0.44*new_regular.Wfta+new_regular.Wto),\n",
    "        'TopD': new_regular.Lto/(new_regular.Lfga+0.44*new_regular.Lfta+new_regular.Lto),\n",
    "        'ORB': new_regular.Wor/(new_regular.Wor+new_regular.Ldr),\n",
    "        'DRB': new_regular.Wdr/(new_regular.Wdr+new_regular.Lor),\n",
    "        'OFT': new_regular.Wftm/new_regular.Wfga,\n",
    "        'DFT': new_regular.Lftm/new_regular.Lfga,\n",
    "        'AstO': new_regular.Wast/(new_regular.Wfga+0.44*new_regular.Wfta+new_regular.Wast),\n",
    "        'AstD': new_regular.Last/(new_regular.Lfga+0.44*new_regular.Lfta+new_regular.Last),\n",
    "        'FGrate': new_regular.Wfgm/new_regular.Wfga,\n",
    "        'FG3rate': new_regular.Wfgm3/new_regular.Wfga3,\n",
    "        'FTrate': new_regular.Wftm/new_regular.Wfta,\n",
    "        'AstTo': new_regular.Wast/new_regular.Wto,\n",
    "        'Season': new_regular.Season,\n",
    "        'Player': new_regular.Player,\n",
    "    })\n",
    "feature = pd.merge(feature, t.groupby(['Season', 'Player']).mean(), left_index=True, right_index=True)"
   ]
  },
  {
   "cell_type": "code",
   "execution_count": 5,
   "metadata": {
    "collapsed": false
   },
   "outputs": [
    {
     "data": {
      "text/plain": [
       "False"
      ]
     },
     "execution_count": 5,
     "metadata": {},
     "output_type": "execute_result"
    }
   ],
   "source": [
    "feature.isnull().values.any()"
   ]
  },
  {
   "cell_type": "code",
   "execution_count": 6,
   "metadata": {
    "collapsed": false
   },
   "outputs": [],
   "source": [
    "# generate feature 4\n",
    "tourney_seeds = pd.read_csv(\"./Data/TourneySeeds.csv\")\n",
    "rank = []\n",
    "teams = []\n",
    "for seed, team in tourney_seeds.loc[:,['Seed','Team']].values:\n",
    "    rank.append(int(seed[1:3]))\n",
    "tourney_seeds[\"NumericalSeeds\"] = rank\n",
    "\n",
    "feature = pd.merge(feature, tourney_seeds, how='left', left_index=True, right_on=['Season', 'Team'])\n",
    "feature.drop('Seed', 1, inplace=True)"
   ]
  },
  {
   "cell_type": "code",
   "execution_count": 7,
   "metadata": {
    "collapsed": false
   },
   "outputs": [
    {
     "data": {
      "text/html": [
       "<div>\n",
       "<table border=\"1\" class=\"dataframe\">\n",
       "  <thead>\n",
       "    <tr style=\"text-align: right;\">\n",
       "      <th></th>\n",
       "      <th>PlayerResult</th>\n",
       "      <th>SigWin</th>\n",
       "      <th>SigLose</th>\n",
       "      <th>PlayerScore</th>\n",
       "      <th>Wor</th>\n",
       "      <th>Wdr</th>\n",
       "      <th>Wast</th>\n",
       "      <th>Wto</th>\n",
       "      <th>Wstl</th>\n",
       "      <th>Wblk</th>\n",
       "      <th>...</th>\n",
       "      <th>FG3rate</th>\n",
       "      <th>FGrate</th>\n",
       "      <th>FTrate</th>\n",
       "      <th>OFT</th>\n",
       "      <th>ORB</th>\n",
       "      <th>TopD</th>\n",
       "      <th>TopO</th>\n",
       "      <th>Season</th>\n",
       "      <th>Team</th>\n",
       "      <th>NumericalSeeds</th>\n",
       "    </tr>\n",
       "  </thead>\n",
       "  <tbody>\n",
       "    <tr>\n",
       "      <th>2149</th>\n",
       "      <td>-4</td>\n",
       "      <td>12</td>\n",
       "      <td>14</td>\n",
       "      <td>57.250000</td>\n",
       "      <td>4.178571</td>\n",
       "      <td>16.821429</td>\n",
       "      <td>13.000000</td>\n",
       "      <td>11.428571</td>\n",
       "      <td>5.964286</td>\n",
       "      <td>1.785714</td>\n",
       "      <td>...</td>\n",
       "      <td>0.367637</td>\n",
       "      <td>0.486149</td>\n",
       "      <td>0.642402</td>\n",
       "      <td>0.291436</td>\n",
       "      <td>0.168235</td>\n",
       "      <td>0.203236</td>\n",
       "      <td>0.193121</td>\n",
       "      <td>2003</td>\n",
       "      <td>1102</td>\n",
       "      <td>NaN</td>\n",
       "    </tr>\n",
       "    <tr>\n",
       "      <th>2149</th>\n",
       "      <td>-1</td>\n",
       "      <td>9</td>\n",
       "      <td>9</td>\n",
       "      <td>78.777778</td>\n",
       "      <td>9.777778</td>\n",
       "      <td>19.925926</td>\n",
       "      <td>15.222222</td>\n",
       "      <td>12.629630</td>\n",
       "      <td>7.259259</td>\n",
       "      <td>2.333333</td>\n",
       "      <td>...</td>\n",
       "      <td>0.331990</td>\n",
       "      <td>0.487294</td>\n",
       "      <td>0.735271</td>\n",
       "      <td>0.342976</td>\n",
       "      <td>0.305803</td>\n",
       "      <td>0.186897</td>\n",
       "      <td>0.159805</td>\n",
       "      <td>2003</td>\n",
       "      <td>1103</td>\n",
       "      <td>NaN</td>\n",
       "    </tr>\n",
       "    <tr>\n",
       "      <th>1196</th>\n",
       "      <td>6</td>\n",
       "      <td>17</td>\n",
       "      <td>9</td>\n",
       "      <td>69.285714</td>\n",
       "      <td>13.571429</td>\n",
       "      <td>23.928571</td>\n",
       "      <td>12.107143</td>\n",
       "      <td>13.285714</td>\n",
       "      <td>6.607143</td>\n",
       "      <td>3.785714</td>\n",
       "      <td>...</td>\n",
       "      <td>0.325442</td>\n",
       "      <td>0.419676</td>\n",
       "      <td>0.705168</td>\n",
       "      <td>0.263855</td>\n",
       "      <td>0.371256</td>\n",
       "      <td>0.179498</td>\n",
       "      <td>0.167275</td>\n",
       "      <td>2003</td>\n",
       "      <td>1104</td>\n",
       "      <td>10.0</td>\n",
       "    </tr>\n",
       "    <tr>\n",
       "      <th>2149</th>\n",
       "      <td>-12</td>\n",
       "      <td>6</td>\n",
       "      <td>13</td>\n",
       "      <td>71.769231</td>\n",
       "      <td>13.500000</td>\n",
       "      <td>23.115385</td>\n",
       "      <td>14.538462</td>\n",
       "      <td>18.653846</td>\n",
       "      <td>9.307692</td>\n",
       "      <td>2.076923</td>\n",
       "      <td>...</td>\n",
       "      <td>0.359630</td>\n",
       "      <td>0.396204</td>\n",
       "      <td>0.709598</td>\n",
       "      <td>0.255629</td>\n",
       "      <td>0.335166</td>\n",
       "      <td>0.212924</td>\n",
       "      <td>0.207792</td>\n",
       "      <td>2003</td>\n",
       "      <td>1105</td>\n",
       "      <td>NaN</td>\n",
       "    </tr>\n",
       "    <tr>\n",
       "      <th>2149</th>\n",
       "      <td>-2</td>\n",
       "      <td>12</td>\n",
       "      <td>10</td>\n",
       "      <td>63.607143</td>\n",
       "      <td>12.285714</td>\n",
       "      <td>23.857143</td>\n",
       "      <td>11.678571</td>\n",
       "      <td>17.035714</td>\n",
       "      <td>8.357143</td>\n",
       "      <td>3.142857</td>\n",
       "      <td>...</td>\n",
       "      <td>0.350196</td>\n",
       "      <td>0.425530</td>\n",
       "      <td>0.623158</td>\n",
       "      <td>0.199740</td>\n",
       "      <td>0.349480</td>\n",
       "      <td>0.194026</td>\n",
       "      <td>0.213721</td>\n",
       "      <td>2003</td>\n",
       "      <td>1106</td>\n",
       "      <td>NaN</td>\n",
       "    </tr>\n",
       "  </tbody>\n",
       "</table>\n",
       "<p>5 rows × 28 columns</p>\n",
       "</div>"
      ],
      "text/plain": [
       "      PlayerResult  SigWin  SigLose  PlayerScore        Wor        Wdr  \\\n",
       "2149            -4      12       14    57.250000   4.178571  16.821429   \n",
       "2149            -1       9        9    78.777778   9.777778  19.925926   \n",
       "1196             6      17        9    69.285714  13.571429  23.928571   \n",
       "2149           -12       6       13    71.769231  13.500000  23.115385   \n",
       "2149            -2      12       10    63.607143  12.285714  23.857143   \n",
       "\n",
       "           Wast        Wto      Wstl      Wblk       ...         FG3rate  \\\n",
       "2149  13.000000  11.428571  5.964286  1.785714       ...        0.367637   \n",
       "2149  15.222222  12.629630  7.259259  2.333333       ...        0.331990   \n",
       "1196  12.107143  13.285714  6.607143  3.785714       ...        0.325442   \n",
       "2149  14.538462  18.653846  9.307692  2.076923       ...        0.359630   \n",
       "2149  11.678571  17.035714  8.357143  3.142857       ...        0.350196   \n",
       "\n",
       "        FGrate    FTrate       OFT       ORB      TopD      TopO  Season  \\\n",
       "2149  0.486149  0.642402  0.291436  0.168235  0.203236  0.193121    2003   \n",
       "2149  0.487294  0.735271  0.342976  0.305803  0.186897  0.159805    2003   \n",
       "1196  0.419676  0.705168  0.263855  0.371256  0.179498  0.167275    2003   \n",
       "2149  0.396204  0.709598  0.255629  0.335166  0.212924  0.207792    2003   \n",
       "2149  0.425530  0.623158  0.199740  0.349480  0.194026  0.213721    2003   \n",
       "\n",
       "      Team  NumericalSeeds  \n",
       "2149  1102             NaN  \n",
       "2149  1103             NaN  \n",
       "1196  1104            10.0  \n",
       "2149  1105             NaN  \n",
       "2149  1106             NaN  \n",
       "\n",
       "[5 rows x 28 columns]"
      ]
     },
     "execution_count": 7,
     "metadata": {},
     "output_type": "execute_result"
    }
   ],
   "source": [
    "feature.head()"
   ]
  },
  {
   "cell_type": "markdown",
   "metadata": {},
   "source": [
    "## 2. Unsupervised ranking feature generation\n",
    "\n",
    "I also use several unsupervised ranking methods provided by rankit https://github.com/wattlebird/ranking to generate ranking result from different systems.\n",
    "\n",
    "The properties to be ranked are:\n",
    "1. Score\n",
    "2. Efg (fgm+fgm3/2)\n",
    "3. OR\n",
    "4. DR\n",
    "5. Ast\n",
    "6. TO\n",
    "7. STL\n",
    "8. BLK\n",
    "9. PF\n",
    "\n",
    "And I use the following ranking methods:\n",
    "1. Massey rank\n",
    "2. Colley rank\n",
    "3. Score difference rank\n",
    "4. Markov rank (by using rate difference)\n",
    "5. Markov rank (by using simple difference)\n",
    "6. OD rank\n",
    "7. Keener rank"
   ]
  },
  {
   "cell_type": "code",
   "execution_count": 8,
   "metadata": {
    "collapsed": false
   },
   "outputs": [
    {
     "data": {
      "text/html": [
       "<div>\n",
       "<table border=\"1\" class=\"dataframe\">\n",
       "  <thead>\n",
       "    <tr style=\"text-align: right;\">\n",
       "      <th></th>\n",
       "      <th>Season</th>\n",
       "      <th>Daynum</th>\n",
       "      <th>Wteam</th>\n",
       "      <th>Wscore</th>\n",
       "      <th>Lteam</th>\n",
       "      <th>Lscore</th>\n",
       "      <th>Wloc</th>\n",
       "      <th>Numot</th>\n",
       "      <th>Wfgm</th>\n",
       "      <th>Wfga</th>\n",
       "      <th>...</th>\n",
       "      <th>Lfga3</th>\n",
       "      <th>Lftm</th>\n",
       "      <th>Lfta</th>\n",
       "      <th>Lor</th>\n",
       "      <th>Ldr</th>\n",
       "      <th>Last</th>\n",
       "      <th>Lto</th>\n",
       "      <th>Lstl</th>\n",
       "      <th>Lblk</th>\n",
       "      <th>Lpf</th>\n",
       "    </tr>\n",
       "  </thead>\n",
       "  <tbody>\n",
       "    <tr>\n",
       "      <th>0</th>\n",
       "      <td>2003</td>\n",
       "      <td>10</td>\n",
       "      <td>1104</td>\n",
       "      <td>68</td>\n",
       "      <td>1328</td>\n",
       "      <td>62</td>\n",
       "      <td>N</td>\n",
       "      <td>0</td>\n",
       "      <td>27</td>\n",
       "      <td>58</td>\n",
       "      <td>...</td>\n",
       "      <td>10</td>\n",
       "      <td>16</td>\n",
       "      <td>22</td>\n",
       "      <td>10</td>\n",
       "      <td>22</td>\n",
       "      <td>8</td>\n",
       "      <td>18</td>\n",
       "      <td>9</td>\n",
       "      <td>2</td>\n",
       "      <td>20</td>\n",
       "    </tr>\n",
       "    <tr>\n",
       "      <th>1</th>\n",
       "      <td>2003</td>\n",
       "      <td>10</td>\n",
       "      <td>1272</td>\n",
       "      <td>70</td>\n",
       "      <td>1393</td>\n",
       "      <td>63</td>\n",
       "      <td>N</td>\n",
       "      <td>0</td>\n",
       "      <td>26</td>\n",
       "      <td>62</td>\n",
       "      <td>...</td>\n",
       "      <td>24</td>\n",
       "      <td>9</td>\n",
       "      <td>20</td>\n",
       "      <td>20</td>\n",
       "      <td>25</td>\n",
       "      <td>7</td>\n",
       "      <td>12</td>\n",
       "      <td>8</td>\n",
       "      <td>6</td>\n",
       "      <td>16</td>\n",
       "    </tr>\n",
       "    <tr>\n",
       "      <th>2</th>\n",
       "      <td>2003</td>\n",
       "      <td>11</td>\n",
       "      <td>1266</td>\n",
       "      <td>73</td>\n",
       "      <td>1437</td>\n",
       "      <td>61</td>\n",
       "      <td>N</td>\n",
       "      <td>0</td>\n",
       "      <td>24</td>\n",
       "      <td>58</td>\n",
       "      <td>...</td>\n",
       "      <td>26</td>\n",
       "      <td>14</td>\n",
       "      <td>23</td>\n",
       "      <td>31</td>\n",
       "      <td>22</td>\n",
       "      <td>9</td>\n",
       "      <td>12</td>\n",
       "      <td>2</td>\n",
       "      <td>5</td>\n",
       "      <td>23</td>\n",
       "    </tr>\n",
       "    <tr>\n",
       "      <th>3</th>\n",
       "      <td>2003</td>\n",
       "      <td>11</td>\n",
       "      <td>1296</td>\n",
       "      <td>56</td>\n",
       "      <td>1457</td>\n",
       "      <td>50</td>\n",
       "      <td>N</td>\n",
       "      <td>0</td>\n",
       "      <td>18</td>\n",
       "      <td>38</td>\n",
       "      <td>...</td>\n",
       "      <td>22</td>\n",
       "      <td>8</td>\n",
       "      <td>15</td>\n",
       "      <td>17</td>\n",
       "      <td>20</td>\n",
       "      <td>9</td>\n",
       "      <td>19</td>\n",
       "      <td>4</td>\n",
       "      <td>3</td>\n",
       "      <td>23</td>\n",
       "    </tr>\n",
       "    <tr>\n",
       "      <th>4</th>\n",
       "      <td>2003</td>\n",
       "      <td>11</td>\n",
       "      <td>1400</td>\n",
       "      <td>77</td>\n",
       "      <td>1208</td>\n",
       "      <td>71</td>\n",
       "      <td>N</td>\n",
       "      <td>0</td>\n",
       "      <td>30</td>\n",
       "      <td>61</td>\n",
       "      <td>...</td>\n",
       "      <td>16</td>\n",
       "      <td>17</td>\n",
       "      <td>27</td>\n",
       "      <td>21</td>\n",
       "      <td>15</td>\n",
       "      <td>12</td>\n",
       "      <td>10</td>\n",
       "      <td>7</td>\n",
       "      <td>1</td>\n",
       "      <td>14</td>\n",
       "    </tr>\n",
       "  </tbody>\n",
       "</table>\n",
       "<p>5 rows × 34 columns</p>\n",
       "</div>"
      ],
      "text/plain": [
       "   Season  Daynum  Wteam  Wscore  Lteam  Lscore Wloc  Numot  Wfgm  Wfga ...   \\\n",
       "0    2003      10   1104      68   1328      62    N      0    27    58 ...    \n",
       "1    2003      10   1272      70   1393      63    N      0    26    62 ...    \n",
       "2    2003      11   1266      73   1437      61    N      0    24    58 ...    \n",
       "3    2003      11   1296      56   1457      50    N      0    18    38 ...    \n",
       "4    2003      11   1400      77   1208      71    N      0    30    61 ...    \n",
       "\n",
       "   Lfga3  Lftm  Lfta  Lor  Ldr  Last  Lto  Lstl  Lblk  Lpf  \n",
       "0     10    16    22   10   22     8   18     9     2   20  \n",
       "1     24     9    20   20   25     7   12     8     6   16  \n",
       "2     26    14    23   31   22     9   12     2     5   23  \n",
       "3     22     8    15   17   20     9   19     4     3   23  \n",
       "4     16    17    27   21   15    12   10     7     1   14  \n",
       "\n",
       "[5 rows x 34 columns]"
      ]
     },
     "execution_count": 8,
     "metadata": {},
     "output_type": "execute_result"
    }
   ],
   "source": [
    "regular.head()"
   ]
  },
  {
   "cell_type": "code",
   "execution_count": 9,
   "metadata": {
    "collapsed": false,
    "scrolled": true
   },
   "outputs": [],
   "source": [
    "regular[\"LocWeight\"] = -0.2*np.require(loc, dtype=np.float)+1\n",
    "w = np.ones(regular.shape[0])\n",
    "w[regular.Daynum.values>=(132-15)] = 2.0\n",
    "regular[\"ContestWeight\"] = w\n",
    "regular[\"Weight\"] = regular.LocWeight * regular.ContestWeight\n",
    "suspendyear = 2018"
   ]
  },
  {
   "cell_type": "code",
   "execution_count": 10,
   "metadata": {
    "collapsed": false
   },
   "outputs": [],
   "source": [
    "regular['Wefgm'] = regular.Wfgm+regular.Wfgm3/2\n",
    "regular['Lefgm'] = regular.Lfgm+regular.Lfgm3/2"
   ]
  },
  {
   "cell_type": "code",
   "execution_count": 11,
   "metadata": {
    "collapsed": false
   },
   "outputs": [],
   "source": [
    "score = ['score', 'efgm', 'or', 'dr', 'ast', 'to', 'stl', 'blk', 'pf']\n",
    "rankingfeature = feature[['Season', 'Team']]"
   ]
  },
  {
   "cell_type": "code",
   "execution_count": 12,
   "metadata": {
    "collapsed": false
   },
   "outputs": [],
   "source": [
    "# generate rank for massey\n",
    "from rankit.util import Converter\n",
    "from rankit.ranker import *\n",
    "\n",
    "performance = []\n",
    "for y in range(2003, suspendyear):\n",
    "    ptable = feature[feature.Season==y][['Season', 'Team']].reset_index(drop=True)\n",
    "    for sc in score:\n",
    "        table = pd.DataFrame({\n",
    "                'primary': regular[regular.Season==y].Wteam,\n",
    "                'secondary': regular[regular.Season==y].Lteam,\n",
    "                'rate1': regular[regular.Season==y].loc[:, 'W'+sc],\n",
    "                'rate2': regular[regular.Season==y].loc[:, 'L'+sc],\n",
    "                'weight': regular[regular.Season==y].Weight\n",
    "            })\n",
    "        \n",
    "        cvt = Converter(table=table)\n",
    "        M=cvt.MasseyMatrix()\n",
    "        b=cvt.MasseyVector()\n",
    "        ranker=MasseyRank(itemlist=cvt.ItemList())\n",
    "        x=ranker.rate(M,b)\n",
    "        rst=ranker.rank(x)\n",
    "        ptable = pd.merge(ptable, rst, left_on=['Team'], right_on=['title']).drop(['rank', 'title'], 1).rename(columns={'rate': \"Massey\"+sc.upper()})\n",
    "    performance.append(ptable)"
   ]
  },
  {
   "cell_type": "code",
   "execution_count": 13,
   "metadata": {
    "collapsed": false,
    "scrolled": true
   },
   "outputs": [],
   "source": [
    "rankingfeature = pd.merge(rankingfeature, pd.concat(performance, ignore_index=True), on=['Season', 'Team'])"
   ]
  },
  {
   "cell_type": "code",
   "execution_count": 14,
   "metadata": {
    "collapsed": false
   },
   "outputs": [],
   "source": [
    "# generate rank for colley\n",
    "performance = []\n",
    "for y in range(2003, suspendyear):\n",
    "    ptable = feature[feature.Season==y][['Season', 'Team']].reset_index(drop=True)\n",
    "    for sc in score:\n",
    "        table = pd.DataFrame({\n",
    "                'primary': regular[regular.Season==y].Wteam,\n",
    "                'secondary': regular[regular.Season==y].Lteam,\n",
    "                'rate1': regular[regular.Season==y].loc[:, 'W'+sc],\n",
    "                'rate2': regular[regular.Season==y].loc[:, 'L'+sc],\n",
    "                'weight': regular[regular.Season==y].Weight\n",
    "            })\n",
    "        \n",
    "        cvt = Converter(table=table)\n",
    "        C=cvt.ColleyMatrix()\n",
    "        b=cvt.ColleyVector()\n",
    "        ranker=ColleyRank(itemlist=cvt.ItemList())\n",
    "        x=ranker.rate(C,b)\n",
    "        rst=ranker.rank(x)\n",
    "        ptable = pd.merge(ptable, rst, left_on=['Team'], right_on=['title']).drop(['rank', 'title'], 1).rename(columns={'rate': \"Colley\"+sc.upper()})\n",
    "    performance.append(ptable)\n",
    "rankingfeature = pd.merge(rankingfeature, pd.concat(performance, ignore_index=True), on=['Season', 'Team'])"
   ]
  },
  {
   "cell_type": "code",
   "execution_count": 15,
   "metadata": {
    "collapsed": false
   },
   "outputs": [
    {
     "name": "stderr",
     "output_type": "stream",
     "text": [
      "/home/ike/Projects/ranking/rankit/util/converter.py:202: RuntimeWarning: invalid value encountered in divide\n",
      "  S = D/C\n"
     ]
    }
   ],
   "source": [
    "# generate rank for score difference rank\n",
    "performance = []\n",
    "for y in range(2003, suspendyear):\n",
    "    ptable = feature[feature.Season==y][['Season', 'Team']].reset_index(drop=True)\n",
    "    for sc in score:\n",
    "        table = pd.DataFrame({\n",
    "                'primary': regular[regular.Season==y].Wteam,\n",
    "                'secondary': regular[regular.Season==y].Lteam,\n",
    "                'rate1': regular[regular.Season==y].loc[:, 'W'+sc],\n",
    "                'rate2': regular[regular.Season==y].loc[:, 'L'+sc],\n",
    "                'weight': regular[regular.Season==y].Weight\n",
    "            })\n",
    "        \n",
    "        cvt = Converter(table=table)\n",
    "        M=cvt.SymmetricDifferenceMatrix()\n",
    "        ranker=DifferenceRank(itemlist=cvt.ItemList())\n",
    "        x=ranker.rate(M)\n",
    "        rst=ranker.rank(x)\n",
    "        ptable = pd.merge(ptable, rst, left_on=['Team'], right_on=['title']).drop(['rank', 'title'], 1).rename(columns={'rate': \"Diff\"+sc.upper()})\n",
    "    performance.append(ptable)\n",
    "rankingfeature = pd.merge(rankingfeature, pd.concat(performance, ignore_index=True), on=['Season', 'Team'])"
   ]
  },
  {
   "cell_type": "code",
   "execution_count": 16,
   "metadata": {
    "collapsed": false
   },
   "outputs": [
    {
     "name": "stderr",
     "output_type": "stream",
     "text": [
      "/home/ike/Projects/ranking/rankit/ranker/EigRank.py:27: RuntimeWarning: invalid value encountered in divide\n",
      "  S = S/np.expand_dims(s, axis=1)\n"
     ]
    }
   ],
   "source": [
    "# generate rank for Markov rank (rate difference)\n",
    "performance = []\n",
    "for y in range(2003, suspendyear):\n",
    "    ptable = feature[feature.Season==y][['Season', 'Team']].reset_index(drop=True)\n",
    "    for sc in score:\n",
    "        table = pd.DataFrame({\n",
    "                'primary': regular[regular.Season==y].Wteam,\n",
    "                'secondary': regular[regular.Season==y].Lteam,\n",
    "                'rate1': regular[regular.Season==y].loc[:, 'W'+sc],\n",
    "                'rate2': regular[regular.Season==y].loc[:, 'L'+sc],\n",
    "                'weight': regular[regular.Season==y].Weight\n",
    "            })\n",
    "        \n",
    "        cvt = Converter(table=table)\n",
    "        M=cvt.RateDifferenceVoteMatrix()\n",
    "        ranker=MarkovRank(itemlist=cvt.ItemList(), epsilon=0.6)\n",
    "        x = ranker.rate(M)\n",
    "        rst=ranker.rank(x)\n",
    "        ptable = pd.merge(ptable, rst, left_on=['Team'], right_on=['title']).drop(['rank', 'title'], 1).rename(columns={'rate': \"MarkovRD\"+sc.upper()})\n",
    "    performance.append(ptable)\n",
    "rankingfeature = pd.merge(rankingfeature, pd.concat(performance, ignore_index=True), on=['Season', 'Team'])"
   ]
  },
  {
   "cell_type": "code",
   "execution_count": 17,
   "metadata": {
    "collapsed": true
   },
   "outputs": [],
   "source": [
    "# generate rank for Markov rank (simple difference)\n",
    "performance = []\n",
    "for y in range(2003, suspendyear):\n",
    "    ptable = feature[feature.Season==y][['Season', 'Team']].reset_index(drop=True)\n",
    "    for sc in score:\n",
    "        table = pd.DataFrame({\n",
    "                'primary': regular[regular.Season==y].Wteam,\n",
    "                'secondary': regular[regular.Season==y].Lteam,\n",
    "                'rate1': regular[regular.Season==y].loc[:, 'W'+sc],\n",
    "                'rate2': regular[regular.Season==y].loc[:, 'L'+sc],\n",
    "                'weight': regular[regular.Season==y].Weight\n",
    "            })\n",
    "        \n",
    "        cvt = Converter(table=table)\n",
    "        M=cvt.SimpleDifferenceVoteMatrix()\n",
    "        ranker=MarkovRank(itemlist=cvt.ItemList(), epsilon=0.8)\n",
    "        x = ranker.rate(M)\n",
    "        rst=ranker.rank(x)\n",
    "        ptable = pd.merge(ptable, rst, left_on=['Team'], right_on=['title']).drop(['rank', 'title'], 1).rename(columns={'rate': \"MarkovSD\"+sc.upper()})\n",
    "    performance.append(ptable)\n",
    "rankingfeature = pd.merge(rankingfeature, pd.concat(performance, ignore_index=True), on=['Season', 'Team'])"
   ]
  },
  {
   "cell_type": "code",
   "execution_count": 18,
   "metadata": {
    "collapsed": true
   },
   "outputs": [],
   "source": [
    "# generate rank for OD rank\n",
    "performance = []\n",
    "for y in range(2003, suspendyear):\n",
    "    ptable = feature[feature.Season==y][['Season', 'Team']].reset_index(drop=True)\n",
    "    for sc in score:\n",
    "        table = pd.DataFrame({\n",
    "                'primary': regular[regular.Season==y].Wteam,\n",
    "                'secondary': regular[regular.Season==y].Lteam,\n",
    "                'rate1': regular[regular.Season==y].loc[:, 'W'+sc],\n",
    "                'rate2': regular[regular.Season==y].loc[:, 'L'+sc],\n",
    "                'weight': regular[regular.Season==y].Weight\n",
    "            })\n",
    "        \n",
    "        cvt = Converter(table=table)\n",
    "        M=cvt.RateVoteMatrix()\n",
    "        ranker=ODRank(itemlist=cvt.ItemList(), iteration=1000000)\n",
    "        x=ranker.rate(M)\n",
    "        rst=ranker.rank(x)\n",
    "        ptable = pd.merge(ptable, rst, left_on=['Team'], right_on=['title']).drop(['rank', 'title'], 1).rename(columns={'rate': \"Offdef\"+sc.upper()})\n",
    "    performance.append(ptable)\n",
    "rankingfeature = pd.merge(rankingfeature, pd.concat(performance, ignore_index=True), on=['Season', 'Team'])"
   ]
  },
  {
   "cell_type": "code",
   "execution_count": 19,
   "metadata": {
    "collapsed": true
   },
   "outputs": [],
   "source": [
    "# generate rank for Keener rank\n",
    "performance = []\n",
    "for y in range(2003, suspendyear):\n",
    "    ptable = feature[feature.Season==y][['Season', 'Team']].reset_index(drop=True)\n",
    "    for sc in score:\n",
    "        table = pd.DataFrame({\n",
    "                'primary': regular[regular.Season==y].Wteam,\n",
    "                'secondary': regular[regular.Season==y].Lteam,\n",
    "                'rate1': regular[regular.Season==y].loc[:, 'W'+sc],\n",
    "                'rate2': regular[regular.Season==y].loc[:, 'L'+sc],\n",
    "                'weight': regular[regular.Season==y].Weight\n",
    "            })\n",
    "        \n",
    "        cvt = Converter(table=table)\n",
    "        M=cvt.RateVoteMatrix()\n",
    "        C = cvt.CountMatrix()\n",
    "        ranker=KeenerRank(itemlist=cvt.ItemList(), epsilon=1e-5)\n",
    "        x = ranker.rate(M.T, C)\n",
    "        rst=ranker.rank(x)\n",
    "        ptable = pd.merge(ptable, rst, left_on=['Team'], right_on=['title']).drop(['rank', 'title'], 1).rename(columns={'rate': \"Keener\"+sc.upper()})\n",
    "    performance.append(ptable)\n",
    "rankingfeature = pd.merge(rankingfeature, pd.concat(performance, ignore_index=True), on=['Season', 'Team'])"
   ]
  },
  {
   "cell_type": "code",
   "execution_count": 20,
   "metadata": {
    "collapsed": false
   },
   "outputs": [
    {
     "data": {
      "text/html": [
       "<div>\n",
       "<table border=\"1\" class=\"dataframe\">\n",
       "  <thead>\n",
       "    <tr style=\"text-align: right;\">\n",
       "      <th></th>\n",
       "      <th>Season</th>\n",
       "      <th>Team</th>\n",
       "      <th>MasseySCORE</th>\n",
       "      <th>MasseyEFGM</th>\n",
       "      <th>MasseyOR</th>\n",
       "      <th>MasseyDR</th>\n",
       "      <th>MasseyAST</th>\n",
       "      <th>MasseyTO</th>\n",
       "      <th>MasseySTL</th>\n",
       "      <th>MasseyBLK</th>\n",
       "      <th>...</th>\n",
       "      <th>OffdefPF</th>\n",
       "      <th>KeenerSCORE</th>\n",
       "      <th>KeenerEFGM</th>\n",
       "      <th>KeenerOR</th>\n",
       "      <th>KeenerDR</th>\n",
       "      <th>KeenerAST</th>\n",
       "      <th>KeenerTO</th>\n",
       "      <th>KeenerSTL</th>\n",
       "      <th>KeenerBLK</th>\n",
       "      <th>KeenerPF</th>\n",
       "    </tr>\n",
       "  </thead>\n",
       "  <tbody>\n",
       "    <tr>\n",
       "      <th>0</th>\n",
       "      <td>2003</td>\n",
       "      <td>1102</td>\n",
       "      <td>3.453202</td>\n",
       "      <td>2.305167</td>\n",
       "      <td>-4.159556</td>\n",
       "      <td>-2.035086</td>\n",
       "      <td>4.619430</td>\n",
       "      <td>-2.045339</td>\n",
       "      <td>0.492319</td>\n",
       "      <td>0.374228</td>\n",
       "      <td>...</td>\n",
       "      <td>563.599060</td>\n",
       "      <td>0.003072</td>\n",
       "      <td>0.003165</td>\n",
       "      <td>0.001953</td>\n",
       "      <td>0.002741</td>\n",
       "      <td>0.003539</td>\n",
       "      <td>0.002754</td>\n",
       "      <td>0.003219</td>\n",
       "      <td>0.003165</td>\n",
       "      <td>0.003023</td>\n",
       "    </tr>\n",
       "    <tr>\n",
       "      <th>1</th>\n",
       "      <td>2003</td>\n",
       "      <td>1103</td>\n",
       "      <td>1.941605</td>\n",
       "      <td>-1.258982</td>\n",
       "      <td>-2.032634</td>\n",
       "      <td>-1.223172</td>\n",
       "      <td>-0.400552</td>\n",
       "      <td>-2.269020</td>\n",
       "      <td>-0.028180</td>\n",
       "      <td>-0.567712</td>\n",
       "      <td>...</td>\n",
       "      <td>503.007202</td>\n",
       "      <td>0.003339</td>\n",
       "      <td>0.003217</td>\n",
       "      <td>0.003100</td>\n",
       "      <td>0.003218</td>\n",
       "      <td>0.003280</td>\n",
       "      <td>0.003144</td>\n",
       "      <td>0.003229</td>\n",
       "      <td>0.003082</td>\n",
       "      <td>0.003122</td>\n",
       "    </tr>\n",
       "    <tr>\n",
       "      <th>2</th>\n",
       "      <td>2003</td>\n",
       "      <td>1104</td>\n",
       "      <td>15.066994</td>\n",
       "      <td>5.050974</td>\n",
       "      <td>4.348333</td>\n",
       "      <td>5.194557</td>\n",
       "      <td>4.199918</td>\n",
       "      <td>-1.786401</td>\n",
       "      <td>1.819911</td>\n",
       "      <td>1.844885</td>\n",
       "      <td>...</td>\n",
       "      <td>509.509735</td>\n",
       "      <td>0.004497</td>\n",
       "      <td>0.004389</td>\n",
       "      <td>0.004649</td>\n",
       "      <td>0.004465</td>\n",
       "      <td>0.004570</td>\n",
       "      <td>0.003927</td>\n",
       "      <td>0.004650</td>\n",
       "      <td>0.004955</td>\n",
       "      <td>0.003829</td>\n",
       "    </tr>\n",
       "    <tr>\n",
       "      <th>3</th>\n",
       "      <td>2003</td>\n",
       "      <td>1105</td>\n",
       "      <td>-14.884725</td>\n",
       "      <td>-5.176912</td>\n",
       "      <td>-0.208284</td>\n",
       "      <td>-7.371105</td>\n",
       "      <td>-4.079338</td>\n",
       "      <td>-0.127603</td>\n",
       "      <td>-0.581408</td>\n",
       "      <td>-2.719443</td>\n",
       "      <td>...</td>\n",
       "      <td>708.988892</td>\n",
       "      <td>0.002133</td>\n",
       "      <td>0.002182</td>\n",
       "      <td>0.002244</td>\n",
       "      <td>0.002076</td>\n",
       "      <td>0.001983</td>\n",
       "      <td>0.002445</td>\n",
       "      <td>0.002547</td>\n",
       "      <td>0.001850</td>\n",
       "      <td>0.002702</td>\n",
       "    </tr>\n",
       "    <tr>\n",
       "      <th>4</th>\n",
       "      <td>2003</td>\n",
       "      <td>1106</td>\n",
       "      <td>-9.010021</td>\n",
       "      <td>-0.757055</td>\n",
       "      <td>-0.183324</td>\n",
       "      <td>-2.272155</td>\n",
       "      <td>-2.687569</td>\n",
       "      <td>2.307710</td>\n",
       "      <td>-0.579977</td>\n",
       "      <td>-0.189723</td>\n",
       "      <td>...</td>\n",
       "      <td>743.143127</td>\n",
       "      <td>0.002245</td>\n",
       "      <td>0.002384</td>\n",
       "      <td>0.002443</td>\n",
       "      <td>0.002231</td>\n",
       "      <td>0.002120</td>\n",
       "      <td>0.002530</td>\n",
       "      <td>0.002481</td>\n",
       "      <td>0.002344</td>\n",
       "      <td>0.002756</td>\n",
       "    </tr>\n",
       "  </tbody>\n",
       "</table>\n",
       "<p>5 rows × 65 columns</p>\n",
       "</div>"
      ],
      "text/plain": [
       "   Season  Team  MasseySCORE  MasseyEFGM  MasseyOR  MasseyDR  MasseyAST  \\\n",
       "0    2003  1102     3.453202    2.305167 -4.159556 -2.035086   4.619430   \n",
       "1    2003  1103     1.941605   -1.258982 -2.032634 -1.223172  -0.400552   \n",
       "2    2003  1104    15.066994    5.050974  4.348333  5.194557   4.199918   \n",
       "3    2003  1105   -14.884725   -5.176912 -0.208284 -7.371105  -4.079338   \n",
       "4    2003  1106    -9.010021   -0.757055 -0.183324 -2.272155  -2.687569   \n",
       "\n",
       "   MasseyTO  MasseySTL  MasseyBLK    ...       OffdefPF  KeenerSCORE  \\\n",
       "0 -2.045339   0.492319   0.374228    ...     563.599060     0.003072   \n",
       "1 -2.269020  -0.028180  -0.567712    ...     503.007202     0.003339   \n",
       "2 -1.786401   1.819911   1.844885    ...     509.509735     0.004497   \n",
       "3 -0.127603  -0.581408  -2.719443    ...     708.988892     0.002133   \n",
       "4  2.307710  -0.579977  -0.189723    ...     743.143127     0.002245   \n",
       "\n",
       "   KeenerEFGM  KeenerOR  KeenerDR  KeenerAST  KeenerTO  KeenerSTL  KeenerBLK  \\\n",
       "0    0.003165  0.001953  0.002741   0.003539  0.002754   0.003219   0.003165   \n",
       "1    0.003217  0.003100  0.003218   0.003280  0.003144   0.003229   0.003082   \n",
       "2    0.004389  0.004649  0.004465   0.004570  0.003927   0.004650   0.004955   \n",
       "3    0.002182  0.002244  0.002076   0.001983  0.002445   0.002547   0.001850   \n",
       "4    0.002384  0.002443  0.002231   0.002120  0.002530   0.002481   0.002344   \n",
       "\n",
       "   KeenerPF  \n",
       "0  0.003023  \n",
       "1  0.003122  \n",
       "2  0.003829  \n",
       "3  0.002702  \n",
       "4  0.002756  \n",
       "\n",
       "[5 rows x 65 columns]"
      ]
     },
     "execution_count": 20,
     "metadata": {},
     "output_type": "execute_result"
    }
   ],
   "source": [
    "rankingfeature.head()"
   ]
  },
  {
   "cell_type": "code",
   "execution_count": 21,
   "metadata": {
    "collapsed": true
   },
   "outputs": [],
   "source": [
    "feature = pd.merge(feature, rankingfeature, on=['Season', 'Team'], sort=True).reset_index(drop=True)"
   ]
  },
  {
   "cell_type": "markdown",
   "metadata": {},
   "source": [
    "## 3. Feature normalization"
   ]
  },
  {
   "cell_type": "code",
   "execution_count": 22,
   "metadata": {
    "collapsed": true
   },
   "outputs": [],
   "source": [
    "featurename = feature.columns.tolist()\n",
    "featurename.remove('Season')\n",
    "featurename.remove('Team')\n",
    "featurename.remove('NumericalSeeds')\n",
    "feature.loc[:, 'NumericalSeeds']/=16.0"
   ]
  },
  {
   "cell_type": "code",
   "execution_count": 23,
   "metadata": {
    "collapsed": false
   },
   "outputs": [],
   "source": [
    "from scipy import stats\n",
    "\n",
    "for fn in featurename:\n",
    "    for y in range(2003, suspendyear):\n",
    "        hist, bin_edges = np.histogram(feature[feature.Season==y].loc[:, fn].values[np.isfinite(feature[feature.Season==y].loc[:, fn].values)], bins=10000, density=True)\n",
    "        hist/=hist.sum()\n",
    "        cdf = stats.rv_discrete(values=(bin_edges[:-1], hist))\n",
    "        feature.loc[feature.Season==y, fn]= cdf.cdf(feature[feature.Season==y].loc[:, fn].values)"
   ]
  },
  {
   "cell_type": "markdown",
   "metadata": {},
   "source": [
    "## 4. Feature Selector and training set generator"
   ]
  },
  {
   "cell_type": "code",
   "execution_count": 24,
   "metadata": {
    "collapsed": false,
    "scrolled": true
   },
   "outputs": [],
   "source": [
    "featureselected = feature.groupby(['Season', 'Team']).first().copy()"
   ]
  },
  {
   "cell_type": "code",
   "execution_count": 25,
   "metadata": {
    "collapsed": false
   },
   "outputs": [],
   "source": [
    "featureconfig = [\n",
    "    u'PlayerResult', \n",
    "    u'SigWin', \n",
    "    u'SigLose', \n",
    "    u'PlayerScore', \n",
    "    u'Wor', \n",
    "    u'Wdr',\n",
    "    u'Wast', \n",
    "    u'Wto', \n",
    "    u'Wstl', \n",
    "    u'Wblk', \n",
    "    u'Wpf', \n",
    "    u'AstD', \n",
    "    u'AstO', \n",
    "    u'AstTo',\n",
    "    u'DFT', u'DRB', u'EfgD', u'EfgO', u'FG3rate', u'FGrate', u'FTrate',\n",
    "    u'OFT', u'ORB', u'TopD', u'TopO', #u'NumericalSeeds',\n",
    "    u'MasseySCORE', u'MasseyEFGM', u'MasseyOR', u'MasseyDR', u'MasseyAST', u'MasseyTO', u'MasseySTL', u'MasseyBLK', u'MasseyPF', \n",
    "    #u'ColleySCORE', u'ColleyEFGM', u'ColleyOR', u'ColleyDR', u'ColleyAST', u'ColleyTO', u'ColleySTL', u'ColleyBLK', u'ColleyPF', \n",
    "    u'DiffSCORE', u'DiffEFGM', u'DiffOR', u'DiffDR', u'DiffAST', u'DiffTO', u'DiffSTL', u'DiffBLK', u'DiffPF',\n",
    "    #u'MarkovRDSCORE', u'MarkovRDEFGM', u'MarkovRDOR', u'MarkovRDDR', u'MarkovRDAST', u'MarkovRDTO', u'MarkovRDSTL', u'MarkovRDBLK', u'MarkovRDPF', \n",
    "    u'MarkovSDSCORE', u'MarkovSDEFGM', u'MarkovSDOR', u'MarkovSDDR', u'MarkovSDAST', u'MarkovSDTO', u'MarkovSDSTL', u'MarkovSDBLK', u'MarkovSDPF', \n",
    "    u'OffdefSCORE', u'OffdefEFGM', u'OffdefOR', u'OffdefDR', u'OffdefAST', u'OffdefTO', u'OffdefSTL', u'OffdefBLK', u'OffdefPF', \n",
    "    u'KeenerSCORE', u'KeenerEFGM', u'KeenerOR', u'KeenerDR', u'KeenerAST', u'KeenerTO', u'KeenerSTL', u'KeenerBLK', u'KeenerPF'\n",
    "]\n",
    "featureselected = featureselected[featureconfig]"
   ]
  },
  {
   "cell_type": "code",
   "execution_count": 26,
   "metadata": {
    "collapsed": false
   },
   "outputs": [],
   "source": [
    "tourney_compact_results = pd.read_csv(\"./Data/TourneyCompactResults.csv\")\n",
    "result = pd.DataFrame({\n",
    "        'Season': pd.concat([tourney_compact_results['Season'], tourney_compact_results['Season']], ignore_index=True),\n",
    "        'Player': pd.concat([tourney_compact_results['Wteam'], tourney_compact_results['Lteam']], ignore_index=True),\n",
    "        'Opponent': pd.concat([tourney_compact_results['Lteam'], tourney_compact_results['Wteam']], ignore_index=True),\n",
    "        'Result': np.hstack([np.ones(tourney_compact_results.shape[0], dtype=np.int), np.zeros(tourney_compact_results.shape[0], dtype=np.int)])\n",
    "    })\n",
    "result = pd.merge(result, featureselected, left_on=['Season', 'Player'], right_index=True)\n",
    "result = pd.merge(result, featureselected, left_on=['Season', 'Opponent'], right_index=True, suffixes=[\"Ply\", \"Opp\"])"
   ]
  },
  {
   "cell_type": "code",
   "execution_count": 29,
   "metadata": {
    "collapsed": false
   },
   "outputs": [],
   "source": [
    "X = []\n",
    "Y = []\n",
    "Xv = []\n",
    "Yv = []\n",
    "for row in result.iterrows():\n",
    "    if row[1].loc['Season']<2013:\n",
    "        X.append(np.vstack([row[1][map(lambda x:x+u'Ply', featureconfig)], row[1][map(lambda x:x+u'Opp', featureconfig)]]))\n",
    "        Y.append(int(row[1].Result))\n",
    "    else:\n",
    "        Xv.append(np.vstack([row[1][map(lambda x:x+u'Ply', featureconfig)], row[1][map(lambda x:x+u'Opp', featureconfig)]]))\n",
    "        Yv.append(int(row[1].Result))"
   ]
  },
  {
   "cell_type": "markdown",
   "metadata": {},
   "source": [
    "## 5. Model building\n",
    "\n",
    "### 5.1 By using Neural Network"
   ]
  },
  {
   "cell_type": "code",
   "execution_count": 30,
   "metadata": {
    "collapsed": false
   },
   "outputs": [],
   "source": [
    "# one should transform the X, Y to the desired format\n",
    "X = np.einsum('ijkl->lijk', np.expand_dims(np.dstack(X), 0))\n",
    "Y = np.expand_dims(np.asarray(Y, dtype=np.int), 1)\n",
    "Xv = np.einsum('ijkl->lijk', np.expand_dims(np.dstack(Xv), 0))\n",
    "Yv = np.expand_dims(np.asarray(Yv, dtype=np.int), 1)"
   ]
  },
  {
   "cell_type": "code",
   "execution_count": 33,
   "metadata": {
    "collapsed": false
   },
   "outputs": [],
   "source": [
    "from keras.models import Sequential\n",
    "from keras.layers import Dense, Dropout, Activation, Flatten, Convolution2D, MaxPooling2D, Convolution1D\n",
    "from keras.regularizers import l2, l1, l1l2\n",
    "from keras.optimizers import SGD\n",
    "from keras.callbacks import EarlyStopping, ModelCheckpoint\n",
    "\n",
    "\n",
    "model = Sequential([\n",
    "    Convolution2D(16, 2, 4, border_mode='valid', input_shape=(X.shape[1], X.shape[2], X.shape[3]), W_regularizer=l1l2(2e-5, 0.01), init='lecun_uniform'),\n",
    "    Activation('relu'),\n",
    "    Flatten(),\n",
    "    Dense(96, W_regularizer=l1l2(2e-5, 0.01), init='lecun_uniform'),\n",
    "    Activation('relu'),\n",
    "    Dense(1, W_regularizer=l1l2(2e-5, 0.01), init='lecun_uniform'),\n",
    "    Activation('sigmoid')\n",
    "])\n",
    "\n",
    "early_stopping = EarlyStopping(monitor='val_binary_crossentropy', patience=100)\n",
    "model_check = ModelCheckpoint(\"Model/model.hdf5\", monitor='binary_crossentropy', save_best_only=True)\n",
    "opt = SGD(lr=0.08, momentum=0.9, decay=4e-5)\n",
    "model.compile(optimizer=opt, loss='binary_crossentropy', metrics=['binary_crossentropy'])"
   ]
  },
  {
   "cell_type": "code",
   "execution_count": 34,
   "metadata": {
    "collapsed": false,
    "scrolled": true
   },
   "outputs": [],
   "source": [
    "#model.fit(X, Y, nb_epoch=300, batch_size=2048, shuffle=True, \n",
    "#          validation_data=(Xv, Yv), verbose=0)\n",
    "history = model.fit(X, Y, nb_epoch=1000, batch_size=2048, shuffle=True, \n",
    "          validation_data=(Xv, Yv), verbose=0, callbacks=[])\n",
    "np.savetxt(\"loss_history.txt\", np.vstack([history.history[\"loss\"], history.history[\"binary_crossentropy\"], history.history['val_binary_crossentropy']]).T, delimiter=\"\\t\")"
   ]
  },
  {
   "cell_type": "code",
   "execution_count": 35,
   "metadata": {
    "collapsed": false
   },
   "outputs": [
    {
     "name": "stdout",
     "output_type": "stream",
     "text": [
      "\r",
      " 32/536 [>.............................] - ETA: 0s"
     ]
    }
   ],
   "source": [
    "Yp = model.predict_proba(Xv)"
   ]
  },
  {
   "cell_type": "code",
   "execution_count": 416,
   "metadata": {
    "collapsed": false
   },
   "outputs": [
    {
     "data": {
      "text/plain": [
       "0.54048611067666386"
      ]
     },
     "execution_count": 416,
     "metadata": {},
     "output_type": "execute_result"
    }
   ],
   "source": [
    "#keeps the best auc\n",
    "from sklearn.metrics import log_loss\n",
    "\n",
    "log_loss(Yv, Yp)"
   ]
  },
  {
   "cell_type": "code",
   "execution_count": 36,
   "metadata": {
    "collapsed": false
   },
   "outputs": [
    {
     "data": {
      "text/plain": [
       "0.54161504861453913"
      ]
     },
     "execution_count": 36,
     "metadata": {},
     "output_type": "execute_result"
    }
   ],
   "source": [
    "from sklearn.metrics import log_loss\n",
    "\n",
    "log_loss(Yv, Yp)"
   ]
  },
  {
   "cell_type": "code",
   "execution_count": 417,
   "metadata": {
    "collapsed": false
   },
   "outputs": [
    {
     "data": {
      "image/png": "[encoded data removed]",
      "text/plain": [
       "<matplotlib.figure.Figure at 0x7f0a87cae710>"
      ]
     },
     "metadata": {},
     "output_type": "display_data"
    }
   ],
   "source": [
    "import matplotlib.pyplot as plt\n",
    "\n",
    "plt.plot(history.history[\"binary_crossentropy\"])\n",
    "plt.plot(history.history['val_binary_crossentropy'])\n",
    "\n",
    "plt.show()"
   ]
  },
  {
   "cell_type": "code",
   "execution_count": 411,
   "metadata": {
    "collapsed": false
   },
   "outputs": [
    {
     "data": {
      "image/png": "[encoded data removed]",
      "text/plain": [
       "<matplotlib.figure.Figure at 0x7f0ab401a090>"
      ]
     },
     "metadata": {},
     "output_type": "display_data"
    }
   ],
   "source": [
    "plt.plot(history.history[\"loss\"])\n",
    "\n",
    "plt.show()"
   ]
  },
  {
   "cell_type": "markdown",
   "metadata": {},
   "source": [
    "### 5.2 Hey, wait. I hear someone says GBDT!"
   ]
  },
  {
   "cell_type": "code",
   "execution_count": 153,
   "metadata": {
    "collapsed": false
   },
   "outputs": [],
   "source": [
    "X = np.vstack([x.flatten() for x in X])\n",
    "Y = np.asarray(Y, dtype=np.int)\n",
    "Xv = np.vstack([x.flatten() for x in Xv])\n",
    "Yv = np.asarray(Yv, dtype=np.int)"
   ]
  },
  {
   "cell_type": "code",
   "execution_count": 156,
   "metadata": {
    "collapsed": true
   },
   "outputs": [],
   "source": [
    "import lightgbm as lgb\n",
    "\n",
    "train_data = lgb.Dataset(X, label=Y)\n",
    "valid_data = lgb.Dataset(Xv, label=Yv, reference=train_data)\n",
    "\n",
    "param = {'num_leaves':32, 'num_trees':100, 'lambda_l2': 0.01, 'sigmoid': 1 ,'objective':'binary', 'metric':'binary_logloss' }"
   ]
  },
  {
   "cell_type": "code",
   "execution_count": 157,
   "metadata": {
    "collapsed": false,
    "scrolled": true
   },
   "outputs": [
    {
     "name": "stdout",
     "output_type": "stream",
     "text": [
      "[1]\tvalid_0's binary_logloss: 0.671609\n",
      "[2]\tvalid_0's binary_logloss: 0.653722\n",
      "[3]\tvalid_0's binary_logloss: 0.639002\n",
      "[4]\tvalid_0's binary_logloss: 0.626879\n",
      "[5]\tvalid_0's binary_logloss: 0.618207\n",
      "[6]\tvalid_0's binary_logloss: 0.609448\n",
      "[7]\tvalid_0's binary_logloss: 0.602395\n",
      "[8]\tvalid_0's binary_logloss: 0.597511\n",
      "[9]\tvalid_0's binary_logloss: 0.592678\n",
      "[10]\tvalid_0's binary_logloss: 0.58897\n",
      "[11]\tvalid_0's binary_logloss: 0.586253\n",
      "[12]\tvalid_0's binary_logloss: 0.583688\n",
      "[13]\tvalid_0's binary_logloss: 0.581733\n",
      "[14]\tvalid_0's binary_logloss: 0.580079\n",
      "[15]\tvalid_0's binary_logloss: 0.578404\n",
      "[16]\tvalid_0's binary_logloss: 0.576647\n",
      "[17]\tvalid_0's binary_logloss: 0.575744\n",
      "[18]\tvalid_0's binary_logloss: 0.57536\n",
      "[19]\tvalid_0's binary_logloss: 0.576052\n",
      "[20]\tvalid_0's binary_logloss: 0.575181\n",
      "[21]\tvalid_0's binary_logloss: 0.576467\n",
      "[22]\tvalid_0's binary_logloss: 0.57694\n",
      "[23]\tvalid_0's binary_logloss: 0.57746\n",
      "[24]\tvalid_0's binary_logloss: 0.577715\n",
      "[25]\tvalid_0's binary_logloss: 0.578769\n",
      "[26]\tvalid_0's binary_logloss: 0.578349\n",
      "[27]\tvalid_0's binary_logloss: 0.579024\n",
      "[28]\tvalid_0's binary_logloss: 0.577954\n",
      "[29]\tvalid_0's binary_logloss: 0.578122\n",
      "[30]\tvalid_0's binary_logloss: 0.579502\n",
      "[31]\tvalid_0's binary_logloss: 0.580481\n",
      "[32]\tvalid_0's binary_logloss: 0.580624\n",
      "[33]\tvalid_0's binary_logloss: 0.58029\n",
      "[34]\tvalid_0's binary_logloss: 0.579619\n",
      "[35]\tvalid_0's binary_logloss: 0.58049\n",
      "[36]\tvalid_0's binary_logloss: 0.58195\n",
      "[37]\tvalid_0's binary_logloss: 0.582277\n",
      "[38]\tvalid_0's binary_logloss: 0.58296\n",
      "[39]\tvalid_0's binary_logloss: 0.585493\n",
      "[40]\tvalid_0's binary_logloss: 0.584562\n",
      "[41]\tvalid_0's binary_logloss: 0.584377\n",
      "[42]\tvalid_0's binary_logloss: 0.584706\n",
      "[43]\tvalid_0's binary_logloss: 0.584722\n",
      "[44]\tvalid_0's binary_logloss: 0.584873\n",
      "[45]\tvalid_0's binary_logloss: 0.585459\n",
      "[46]\tvalid_0's binary_logloss: 0.584914\n",
      "[47]\tvalid_0's binary_logloss: 0.584562\n",
      "[48]\tvalid_0's binary_logloss: 0.585649\n",
      "[49]\tvalid_0's binary_logloss: 0.585752\n",
      "[50]\tvalid_0's binary_logloss: 0.585853\n",
      "[51]\tvalid_0's binary_logloss: 0.586665\n",
      "[52]\tvalid_0's binary_logloss: 0.584995\n",
      "[53]\tvalid_0's binary_logloss: 0.585753\n",
      "[54]\tvalid_0's binary_logloss: 0.58684\n",
      "[55]\tvalid_0's binary_logloss: 0.588448\n",
      "[56]\tvalid_0's binary_logloss: 0.588859\n",
      "[57]\tvalid_0's binary_logloss: 0.590919\n",
      "[58]\tvalid_0's binary_logloss: 0.59116\n",
      "[59]\tvalid_0's binary_logloss: 0.591738\n",
      "[60]\tvalid_0's binary_logloss: 0.592353\n",
      "[61]\tvalid_0's binary_logloss: 0.593778\n",
      "[62]\tvalid_0's binary_logloss: 0.595375\n",
      "[63]\tvalid_0's binary_logloss: 0.596135\n",
      "[64]\tvalid_0's binary_logloss: 0.595505\n",
      "[65]\tvalid_0's binary_logloss: 0.595485\n",
      "[66]\tvalid_0's binary_logloss: 0.595225\n",
      "[67]\tvalid_0's binary_logloss: 0.595715\n",
      "[68]\tvalid_0's binary_logloss: 0.596916\n",
      "[69]\tvalid_0's binary_logloss: 0.596433\n",
      "[70]\tvalid_0's binary_logloss: 0.597001\n",
      "[71]\tvalid_0's binary_logloss: 0.597708\n",
      "[72]\tvalid_0's binary_logloss: 0.597631\n",
      "[73]\tvalid_0's binary_logloss: 0.597881\n",
      "[74]\tvalid_0's binary_logloss: 0.599016\n",
      "[75]\tvalid_0's binary_logloss: 0.598583\n",
      "[76]\tvalid_0's binary_logloss: 0.598956\n",
      "[77]\tvalid_0's binary_logloss: 0.599699\n",
      "[78]\tvalid_0's binary_logloss: 0.600098\n",
      "[79]\tvalid_0's binary_logloss: 0.600372\n",
      "[80]\tvalid_0's binary_logloss: 0.601387\n",
      "[81]\tvalid_0's binary_logloss: 0.601243\n",
      "[82]\tvalid_0's binary_logloss: 0.600575\n",
      "[83]\tvalid_0's binary_logloss: 0.601265\n",
      "[84]\tvalid_0's binary_logloss: 0.600795\n",
      "[85]\tvalid_0's binary_logloss: 0.602298\n",
      "[86]\tvalid_0's binary_logloss: 0.601962\n",
      "[87]\tvalid_0's binary_logloss: 0.602642\n",
      "[88]\tvalid_0's binary_logloss: 0.603132\n",
      "[89]\tvalid_0's binary_logloss: 0.603073\n",
      "[90]\tvalid_0's binary_logloss: 0.60377\n",
      "[91]\tvalid_0's binary_logloss: 0.604195\n",
      "[92]\tvalid_0's binary_logloss: 0.605081\n",
      "[93]\tvalid_0's binary_logloss: 0.60518\n",
      "[94]\tvalid_0's binary_logloss: 0.606343\n",
      "[95]\tvalid_0's binary_logloss: 0.606291\n",
      "[96]\tvalid_0's binary_logloss: 0.606518\n",
      "[97]\tvalid_0's binary_logloss: 0.607981\n",
      "[98]\tvalid_0's binary_logloss: 0.609574\n",
      "[99]\tvalid_0's binary_logloss: 0.610569\n",
      "[100]\tvalid_0's binary_logloss: 0.611541\n"
     ]
    }
   ],
   "source": [
    "gbdt = lgb.train(param, train_data, 100, valid_sets=[valid_data] )"
   ]
  },
  {
   "cell_type": "markdown",
   "metadata": {},
   "source": [
    "### 5.3 For real prediction"
   ]
  },
  {
   "cell_type": "code",
   "execution_count": 34,
   "metadata": {
    "collapsed": true
   },
   "outputs": [],
   "source": [
    "X = np.einsum('ijkl->lijk', np.expand_dims(np.dstack(X), 0))\n",
    "Y = np.expand_dims(np.asarray(Y, dtype=np.int), 1)"
   ]
  },
  {
   "cell_type": "code",
   "execution_count": 35,
   "metadata": {
    "collapsed": false
   },
   "outputs": [
    {
     "name": "stderr",
     "output_type": "stream",
     "text": [
      "Using Theano backend.\n",
      "WARNING (theano.sandbox.cuda): GPU device gpu0 will be initialized, and used if a GPU is needed. However, no computation, nor shared variables, will be implicitly moved to that device. If you want that behavior, use the 'device' flag instead.\n",
      "Using gpu device 0: GeForce GTX 960M (CNMeM is disabled, cuDNN Version is too old. Update to v5, was 3007.)\n"
     ]
    }
   ],
   "source": [
    "# for real prediction\n",
    "\n",
    "from keras.models import Sequential\n",
    "from keras.layers import Dense, Dropout, Activation, Flatten, Convolution2D, MaxPooling2D, Convolution1D\n",
    "from keras.regularizers import l2, l1, l1l2\n",
    "from keras.optimizers import SGD\n",
    "from keras.callbacks import EarlyStopping, ModelCheckpoint\n",
    "\n",
    "\n",
    "model = Sequential([\n",
    "    Convolution2D(16, 2, 4, border_mode='valid', input_shape=(X.shape[1], X.shape[2], X.shape[3]), W_regularizer=l1l2(2e-5, 0.01), init='lecun_uniform'),\n",
    "    Activation('relu'),\n",
    "    Flatten(),\n",
    "    Dense(96, W_regularizer=l1l2(2e-5, 0.01), init='lecun_uniform'),\n",
    "    Activation('relu'),\n",
    "    Dense(1, W_regularizer=l1l2(2e-5, 0.01), init='lecun_uniform'),\n",
    "    Activation('sigmoid')\n",
    "])\n",
    "\n",
    "early_stopping = EarlyStopping(monitor='val_binary_crossentropy', patience=100)\n",
    "model_check = ModelCheckpoint(\"Model/model.{epoch:04d}.hdf5\", monitor='binary_crossentropy')\n",
    "opt = SGD(lr=0.08, momentum=0.9, decay=4e-5)\n",
    "model.compile(optimizer=opt, loss='binary_crossentropy', metrics=['binary_crossentropy'])"
   ]
  },
  {
   "cell_type": "code",
   "execution_count": 36,
   "metadata": {
    "collapsed": true
   },
   "outputs": [],
   "source": [
    "history = model.fit(X, Y, nb_epoch=1000, batch_size=2048, shuffle=True, \n",
    "          verbose=0, callbacks=[model_check])\n",
    "np.savetxt(\"loss_history2.txt\", np.vstack([history.history[\"loss\"], history.history[\"binary_crossentropy\"]]).T, delimiter=\"\\t\")"
   ]
  },
  {
   "cell_type": "code",
   "execution_count": 38,
   "metadata": {
    "collapsed": false
   },
   "outputs": [
    {
     "data": {
      "image/png": "[encoded data removed]",
      "text/plain": [
       "<matplotlib.figure.Figure at 0x7fa329156b10>"
      ]
     },
     "metadata": {},
     "output_type": "display_data"
    }
   ],
   "source": [
    "import matplotlib.pyplot as plt\n",
    "\n",
    "plt.plot(history.history[\"binary_crossentropy\"])\n",
    "\n",
    "plt.show()"
   ]
  },
  {
   "cell_type": "code",
   "execution_count": 39,
   "metadata": {
    "collapsed": false
   },
   "outputs": [
    {
     "data": {
      "image/png": "[encoded data removed]",
      "text/plain": [
       "<matplotlib.figure.Figure at 0x7fa32ad73950>"
      ]
     },
     "metadata": {},
     "output_type": "display_data"
    }
   ],
   "source": [
    "plt.plot(history.history[\"loss\"])\n",
    "\n",
    "plt.show()"
   ]
  },
  {
   "cell_type": "markdown",
   "metadata": {},
   "source": [
    "## 6. Result generation"
   ]
  },
  {
   "cell_type": "code",
   "execution_count": 55,
   "metadata": {
    "collapsed": true
   },
   "outputs": [],
   "source": [
    "from keras.models import load_model\n",
    "model = load_model(\"Model/model.0173.hdf5\")"
   ]
  },
  {
   "cell_type": "code",
   "execution_count": 56,
   "metadata": {
    "collapsed": false
   },
   "outputs": [],
   "source": [
    "submission = pd.read_csv(\"./Data/SampleSubmission.csv\")\n",
    "content = []\n",
    "for row in submission.iterrows():\n",
    "    content.append(map(int, row[1].ix[0].split('_')))\n",
    "submission = pd.DataFrame(content, columns=['Season', 'Player', 'Opponent'])"
   ]
  },
  {
   "cell_type": "code",
   "execution_count": 57,
   "metadata": {
    "collapsed": true
   },
   "outputs": [],
   "source": [
    "submission = pd.merge(submission, featureselected, left_on=['Season', 'Player'], right_index=True)\n",
    "submission = pd.merge(submission, featureselected, left_on=['Season', 'Opponent'], right_index=True, suffixes=[\"Ply\", \"Opp\"])"
   ]
  },
  {
   "cell_type": "code",
   "execution_count": 58,
   "metadata": {
    "collapsed": false
   },
   "outputs": [
    {
     "data": {
      "text/html": [
       "<div>\n",
       "<table border=\"1\" class=\"dataframe\">\n",
       "  <thead>\n",
       "    <tr style=\"text-align: right;\">\n",
       "      <th></th>\n",
       "      <th>Season</th>\n",
       "      <th>Player</th>\n",
       "      <th>Opponent</th>\n",
       "      <th>PlayerResultPly</th>\n",
       "      <th>SigWinPly</th>\n",
       "      <th>SigLosePly</th>\n",
       "      <th>PlayerScorePly</th>\n",
       "      <th>WorPly</th>\n",
       "      <th>WdrPly</th>\n",
       "      <th>WastPly</th>\n",
       "      <th>...</th>\n",
       "      <th>OffdefPFOpp</th>\n",
       "      <th>KeenerSCOREOpp</th>\n",
       "      <th>KeenerEFGMOpp</th>\n",
       "      <th>KeenerOROpp</th>\n",
       "      <th>KeenerDROpp</th>\n",
       "      <th>KeenerASTOpp</th>\n",
       "      <th>KeenerTOOpp</th>\n",
       "      <th>KeenerSTLOpp</th>\n",
       "      <th>KeenerBLKOpp</th>\n",
       "      <th>KeenerPFOpp</th>\n",
       "    </tr>\n",
       "  </thead>\n",
       "  <tbody>\n",
       "    <tr>\n",
       "      <th>0</th>\n",
       "      <td>2017</td>\n",
       "      <td>1112</td>\n",
       "      <td>1116</td>\n",
       "      <td>0.994302</td>\n",
       "      <td>0.994302</td>\n",
       "      <td>0.056980</td>\n",
       "      <td>0.760684</td>\n",
       "      <td>0.501425</td>\n",
       "      <td>0.826211</td>\n",
       "      <td>0.629630</td>\n",
       "      <td>...</td>\n",
       "      <td>0.518519</td>\n",
       "      <td>0.883191</td>\n",
       "      <td>0.871795</td>\n",
       "      <td>0.783476</td>\n",
       "      <td>0.880342</td>\n",
       "      <td>0.874644</td>\n",
       "      <td>0.717949</td>\n",
       "      <td>0.974359</td>\n",
       "      <td>0.957265</td>\n",
       "      <td>0.849003</td>\n",
       "    </tr>\n",
       "    <tr>\n",
       "      <th>1</th>\n",
       "      <td>2017</td>\n",
       "      <td>1112</td>\n",
       "      <td>1124</td>\n",
       "      <td>0.994302</td>\n",
       "      <td>0.994302</td>\n",
       "      <td>0.056980</td>\n",
       "      <td>0.760684</td>\n",
       "      <td>0.501425</td>\n",
       "      <td>0.826211</td>\n",
       "      <td>0.629630</td>\n",
       "      <td>...</td>\n",
       "      <td>0.247863</td>\n",
       "      <td>0.712251</td>\n",
       "      <td>0.700855</td>\n",
       "      <td>0.663818</td>\n",
       "      <td>0.732194</td>\n",
       "      <td>0.774929</td>\n",
       "      <td>0.475783</td>\n",
       "      <td>0.589744</td>\n",
       "      <td>0.752137</td>\n",
       "      <td>0.347578</td>\n",
       "    </tr>\n",
       "    <tr>\n",
       "      <th>67</th>\n",
       "      <td>2017</td>\n",
       "      <td>1116</td>\n",
       "      <td>1124</td>\n",
       "      <td>0.917379</td>\n",
       "      <td>0.897436</td>\n",
       "      <td>0.267806</td>\n",
       "      <td>0.900285</td>\n",
       "      <td>0.715100</td>\n",
       "      <td>0.475783</td>\n",
       "      <td>0.675214</td>\n",
       "      <td>...</td>\n",
       "      <td>0.247863</td>\n",
       "      <td>0.712251</td>\n",
       "      <td>0.700855</td>\n",
       "      <td>0.663818</td>\n",
       "      <td>0.732194</td>\n",
       "      <td>0.774929</td>\n",
       "      <td>0.475783</td>\n",
       "      <td>0.589744</td>\n",
       "      <td>0.752137</td>\n",
       "      <td>0.347578</td>\n",
       "    </tr>\n",
       "    <tr>\n",
       "      <th>2</th>\n",
       "      <td>2017</td>\n",
       "      <td>1112</td>\n",
       "      <td>1137</td>\n",
       "      <td>0.994302</td>\n",
       "      <td>0.994302</td>\n",
       "      <td>0.056980</td>\n",
       "      <td>0.760684</td>\n",
       "      <td>0.501425</td>\n",
       "      <td>0.826211</td>\n",
       "      <td>0.629630</td>\n",
       "      <td>...</td>\n",
       "      <td>0.481481</td>\n",
       "      <td>0.401709</td>\n",
       "      <td>0.410256</td>\n",
       "      <td>0.119658</td>\n",
       "      <td>0.336182</td>\n",
       "      <td>0.475783</td>\n",
       "      <td>0.219373</td>\n",
       "      <td>0.373219</td>\n",
       "      <td>0.387464</td>\n",
       "      <td>0.256410</td>\n",
       "    </tr>\n",
       "    <tr>\n",
       "      <th>68</th>\n",
       "      <td>2017</td>\n",
       "      <td>1116</td>\n",
       "      <td>1137</td>\n",
       "      <td>0.917379</td>\n",
       "      <td>0.897436</td>\n",
       "      <td>0.267806</td>\n",
       "      <td>0.900285</td>\n",
       "      <td>0.715100</td>\n",
       "      <td>0.475783</td>\n",
       "      <td>0.675214</td>\n",
       "      <td>...</td>\n",
       "      <td>0.481481</td>\n",
       "      <td>0.401709</td>\n",
       "      <td>0.410256</td>\n",
       "      <td>0.119658</td>\n",
       "      <td>0.336182</td>\n",
       "      <td>0.475783</td>\n",
       "      <td>0.219373</td>\n",
       "      <td>0.373219</td>\n",
       "      <td>0.387464</td>\n",
       "      <td>0.256410</td>\n",
       "    </tr>\n",
       "  </tbody>\n",
       "</table>\n",
       "<p>5 rows × 143 columns</p>\n",
       "</div>"
      ],
      "text/plain": [
       "    Season  Player  Opponent  PlayerResultPly  SigWinPly  SigLosePly  \\\n",
       "0     2017    1112      1116         0.994302   0.994302    0.056980   \n",
       "1     2017    1112      1124         0.994302   0.994302    0.056980   \n",
       "67    2017    1116      1124         0.917379   0.897436    0.267806   \n",
       "2     2017    1112      1137         0.994302   0.994302    0.056980   \n",
       "68    2017    1116      1137         0.917379   0.897436    0.267806   \n",
       "\n",
       "    PlayerScorePly    WorPly    WdrPly   WastPly     ...       OffdefPFOpp  \\\n",
       "0         0.760684  0.501425  0.826211  0.629630     ...          0.518519   \n",
       "1         0.760684  0.501425  0.826211  0.629630     ...          0.247863   \n",
       "67        0.900285  0.715100  0.475783  0.675214     ...          0.247863   \n",
       "2         0.760684  0.501425  0.826211  0.629630     ...          0.481481   \n",
       "68        0.900285  0.715100  0.475783  0.675214     ...          0.481481   \n",
       "\n",
       "    KeenerSCOREOpp  KeenerEFGMOpp  KeenerOROpp  KeenerDROpp  KeenerASTOpp  \\\n",
       "0         0.883191       0.871795     0.783476     0.880342      0.874644   \n",
       "1         0.712251       0.700855     0.663818     0.732194      0.774929   \n",
       "67        0.712251       0.700855     0.663818     0.732194      0.774929   \n",
       "2         0.401709       0.410256     0.119658     0.336182      0.475783   \n",
       "68        0.401709       0.410256     0.119658     0.336182      0.475783   \n",
       "\n",
       "    KeenerTOOpp  KeenerSTLOpp  KeenerBLKOpp  KeenerPFOpp  \n",
       "0      0.717949      0.974359      0.957265     0.849003  \n",
       "1      0.475783      0.589744      0.752137     0.347578  \n",
       "67     0.475783      0.589744      0.752137     0.347578  \n",
       "2      0.219373      0.373219      0.387464     0.256410  \n",
       "68     0.219373      0.373219      0.387464     0.256410  \n",
       "\n",
       "[5 rows x 143 columns]"
      ]
     },
     "execution_count": 58,
     "metadata": {},
     "output_type": "execute_result"
    }
   ],
   "source": [
    "submission.head()"
   ]
  },
  {
   "cell_type": "code",
   "execution_count": 59,
   "metadata": {
    "collapsed": true
   },
   "outputs": [],
   "source": [
    "Xv = []\n",
    "for row in submission.iterrows():\n",
    "    Xv.append(np.vstack([row[1][map(lambda x:x+u'Ply', featureconfig)], row[1][map(lambda x:x+u'Opp', featureconfig)]]))"
   ]
  },
  {
   "cell_type": "code",
   "execution_count": 60,
   "metadata": {
    "collapsed": false
   },
   "outputs": [
    {
     "name": "stdout",
     "output_type": "stream",
     "text": [
      "1312/2278 [================>.............] - ETA: 0s"
     ]
    }
   ],
   "source": [
    "Xv = np.einsum('ijkl->lijk', np.expand_dims(np.dstack(Xv), 0))\n",
    "Yp = model.predict_proba(Xv)"
   ]
  },
  {
   "cell_type": "code",
   "execution_count": 61,
   "metadata": {
    "collapsed": false
   },
   "outputs": [],
   "source": [
    "submission['Prediction'] = Yp"
   ]
  },
  {
   "cell_type": "code",
   "execution_count": 62,
   "metadata": {
    "collapsed": true
   },
   "outputs": [],
   "source": [
    "id = []\n",
    "pred = []\n",
    "for row in submission.iterrows():\n",
    "    id.append(\"{0}_{1}_{2}\".format(int(row[1].ix[0]), int(row[1].ix[1]), int(row[1].ix[2])))\n",
    "    pred.append(row[1].Prediction)"
   ]
  },
  {
   "cell_type": "code",
   "execution_count": 63,
   "metadata": {
    "collapsed": true
   },
   "outputs": [],
   "source": [
    "submit = pd.DataFrame({\"id\":id, \"pred\":pred}, columns=['id', 'pred'])"
   ]
  },
  {
   "cell_type": "code",
   "execution_count": 64,
   "metadata": {
    "collapsed": true
   },
   "outputs": [],
   "source": [
    "submit.to_csv(\"result.csv\", index=False)"
   ]
  },
  {
   "cell_type": "code",
   "execution_count": null,
   "metadata": {
    "collapsed": true
   },
   "outputs": [],
   "source": []
  }
 ],
 "metadata": {
  "kernelspec": {
   "display_name": "Python 2",
   "language": "python",
   "name": "python2"
  },
  "language_info": {
   "codemirror_mode": {
    "name": "ipython",
    "version": 2
   },
   "file_extension": ".py",
   "mimetype": "text/x-python",
   "name": "python",
   "nbconvert_exporter": "python",
   "pygments_lexer": "ipython2",
   "version": "2.7.12"
  }
 },
 "nbformat": 4,
 "nbformat_minor": 1
}
