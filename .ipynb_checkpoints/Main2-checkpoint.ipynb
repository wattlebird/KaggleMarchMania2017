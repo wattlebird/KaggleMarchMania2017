{
 "cells": [
  {
   "cell_type": "code",
   "execution_count": 1,
   "metadata": {
    "collapsed": false
   },
   "outputs": [],
   "source": [
    "import pandas as pd\n",
    "import numpy as np\n",
    "\n",
    "\n",
    "tourney_seeds = pd.read_csv(\"./Data/TourneySeeds.csv\")\n",
    "rank = []\n",
    "teams = []\n",
    "for seed, team in tourney_seeds.loc[:,['Seed','Team']].values:\n",
    "    rank.append(int(seed[1:3]))\n",
    "tourney_seeds[\"NumericalSeeds\"] = rank"
   ]
  },
  {
   "cell_type": "code",
   "execution_count": 2,
   "metadata": {
    "collapsed": false
   },
   "outputs": [],
   "source": [
    "tourney_compact_results = pd.read_csv(\"./Data/TourneyCompactResults.csv\")"
   ]
  },
  {
   "cell_type": "code",
   "execution_count": 17,
   "metadata": {
    "collapsed": false
   },
   "outputs": [
    {
     "data": {
      "text/html": [
       "<div>\n",
       "<table border=\"1\" class=\"dataframe\">\n",
       "  <thead>\n",
       "    <tr style=\"text-align: right;\">\n",
       "      <th></th>\n",
       "      <th>Season</th>\n",
       "      <th>Seed</th>\n",
       "      <th>Team</th>\n",
       "      <th>NumericalSeeds</th>\n",
       "    </tr>\n",
       "  </thead>\n",
       "  <tbody>\n",
       "    <tr>\n",
       "      <th>0</th>\n",
       "      <td>1985</td>\n",
       "      <td>W01</td>\n",
       "      <td>1207</td>\n",
       "      <td>1</td>\n",
       "    </tr>\n",
       "    <tr>\n",
       "      <th>1</th>\n",
       "      <td>1985</td>\n",
       "      <td>W02</td>\n",
       "      <td>1210</td>\n",
       "      <td>2</td>\n",
       "    </tr>\n",
       "    <tr>\n",
       "      <th>2</th>\n",
       "      <td>1985</td>\n",
       "      <td>W03</td>\n",
       "      <td>1228</td>\n",
       "      <td>3</td>\n",
       "    </tr>\n",
       "    <tr>\n",
       "      <th>3</th>\n",
       "      <td>1985</td>\n",
       "      <td>W04</td>\n",
       "      <td>1260</td>\n",
       "      <td>4</td>\n",
       "    </tr>\n",
       "    <tr>\n",
       "      <th>4</th>\n",
       "      <td>1985</td>\n",
       "      <td>W05</td>\n",
       "      <td>1374</td>\n",
       "      <td>5</td>\n",
       "    </tr>\n",
       "  </tbody>\n",
       "</table>\n",
       "</div>"
      ],
      "text/plain": [
       "   Season Seed  Team  NumericalSeeds\n",
       "0    1985  W01  1207               1\n",
       "1    1985  W02  1210               2\n",
       "2    1985  W03  1228               3\n",
       "3    1985  W04  1260               4\n",
       "4    1985  W05  1374               5"
      ]
     },
     "execution_count": 17,
     "metadata": {},
     "output_type": "execute_result"
    }
   ],
   "source": [
    "tourney_seeds.head()"
   ]
  },
  {
   "cell_type": "code",
   "execution_count": 3,
   "metadata": {
    "collapsed": false
   },
   "outputs": [
    {
     "data": {
      "text/html": [
       "<div>\n",
       "<table border=\"1\" class=\"dataframe\">\n",
       "  <thead>\n",
       "    <tr style=\"text-align: right;\">\n",
       "      <th></th>\n",
       "      <th>Season</th>\n",
       "      <th>Daynum</th>\n",
       "      <th>Wteam</th>\n",
       "      <th>Wscore</th>\n",
       "      <th>Lteam</th>\n",
       "      <th>Lscore</th>\n",
       "      <th>Wloc</th>\n",
       "      <th>Numot</th>\n",
       "    </tr>\n",
       "  </thead>\n",
       "  <tbody>\n",
       "    <tr>\n",
       "      <th>0</th>\n",
       "      <td>1985</td>\n",
       "      <td>136</td>\n",
       "      <td>1116</td>\n",
       "      <td>63</td>\n",
       "      <td>1234</td>\n",
       "      <td>54</td>\n",
       "      <td>N</td>\n",
       "      <td>0</td>\n",
       "    </tr>\n",
       "    <tr>\n",
       "      <th>1</th>\n",
       "      <td>1985</td>\n",
       "      <td>136</td>\n",
       "      <td>1120</td>\n",
       "      <td>59</td>\n",
       "      <td>1345</td>\n",
       "      <td>58</td>\n",
       "      <td>N</td>\n",
       "      <td>0</td>\n",
       "    </tr>\n",
       "    <tr>\n",
       "      <th>2</th>\n",
       "      <td>1985</td>\n",
       "      <td>136</td>\n",
       "      <td>1207</td>\n",
       "      <td>68</td>\n",
       "      <td>1250</td>\n",
       "      <td>43</td>\n",
       "      <td>N</td>\n",
       "      <td>0</td>\n",
       "    </tr>\n",
       "    <tr>\n",
       "      <th>3</th>\n",
       "      <td>1985</td>\n",
       "      <td>136</td>\n",
       "      <td>1229</td>\n",
       "      <td>58</td>\n",
       "      <td>1425</td>\n",
       "      <td>55</td>\n",
       "      <td>N</td>\n",
       "      <td>0</td>\n",
       "    </tr>\n",
       "    <tr>\n",
       "      <th>4</th>\n",
       "      <td>1985</td>\n",
       "      <td>136</td>\n",
       "      <td>1242</td>\n",
       "      <td>49</td>\n",
       "      <td>1325</td>\n",
       "      <td>38</td>\n",
       "      <td>N</td>\n",
       "      <td>0</td>\n",
       "    </tr>\n",
       "  </tbody>\n",
       "</table>\n",
       "</div>"
      ],
      "text/plain": [
       "   Season  Daynum  Wteam  Wscore  Lteam  Lscore Wloc  Numot\n",
       "0    1985     136   1116      63   1234      54    N      0\n",
       "1    1985     136   1120      59   1345      58    N      0\n",
       "2    1985     136   1207      68   1250      43    N      0\n",
       "3    1985     136   1229      58   1425      55    N      0\n",
       "4    1985     136   1242      49   1325      38    N      0"
      ]
     },
     "execution_count": 3,
     "metadata": {},
     "output_type": "execute_result"
    }
   ],
   "source": [
    "tourney_compact_results.head()"
   ]
  },
  {
   "cell_type": "code",
   "execution_count": 3,
   "metadata": {
    "collapsed": false
   },
   "outputs": [],
   "source": [
    "result = pd.DataFrame({\n",
    "        \"Season\": pd.concat([tourney_compact_results['Season'], tourney_compact_results['Season']], ignore_index=True),\n",
    "        \"Player\": pd.concat([tourney_compact_results['Wteam'], tourney_compact_results['Lteam']], ignore_index=True),\n",
    "        \"Opponent\": pd.concat([tourney_compact_results['Lteam'], tourney_compact_results['Wteam']], ignore_index=True),\n",
    "        \"Result\": np.hstack([np.ones(tourney_compact_results.shape[0], dtype=int), np.zeros(tourney_compact_results.shape[0], dtype=int)])\n",
    "    }, columns=[\"Result\", \"Season\", \"Player\", \"Opponent\"])"
   ]
  },
  {
   "cell_type": "code",
   "execution_count": 4,
   "metadata": {
    "collapsed": false
   },
   "outputs": [],
   "source": [
    "t = pd.merge(result, tourney_seeds, left_on=['Season', 'Player'], right_on=['Season', 'Team'])\n",
    "t = t[['Result', 'Season','Player', 'Opponent', 'NumericalSeeds']]\n",
    "t.columns=['Result', 'Season','Player', 'Opponent', 'PlayerSeed']\n",
    "result = t"
   ]
  },
  {
   "cell_type": "code",
   "execution_count": 5,
   "metadata": {
    "collapsed": false
   },
   "outputs": [],
   "source": [
    "t = pd.merge(result, tourney_seeds, left_on=['Season', 'Opponent'], right_on=['Season', 'Team'])\n",
    "t = t[['Result', 'Season', 'Player', 'Opponent', 'PlayerSeed', 'NumericalSeeds']]\n",
    "t.columns = ['Result', 'Season','Player', 'Opponent', 'PlayerSeed', 'OpponentSeed']\n",
    "result = t"
   ]
  },
  {
   "cell_type": "code",
   "execution_count": 6,
   "metadata": {
    "collapsed": false
   },
   "outputs": [
    {
     "data": {
      "text/html": [
       "<div>\n",
       "<table border=\"1\" class=\"dataframe\">\n",
       "  <thead>\n",
       "    <tr style=\"text-align: right;\">\n",
       "      <th></th>\n",
       "      <th>Season</th>\n",
       "      <th>Daynum</th>\n",
       "      <th>Wteam</th>\n",
       "      <th>Wscore</th>\n",
       "      <th>Lteam</th>\n",
       "      <th>Lscore</th>\n",
       "      <th>Wloc</th>\n",
       "      <th>Numot</th>\n",
       "      <th>Wfgm</th>\n",
       "      <th>Wfga</th>\n",
       "      <th>...</th>\n",
       "      <th>Lfga3</th>\n",
       "      <th>Lftm</th>\n",
       "      <th>Lfta</th>\n",
       "      <th>Lor</th>\n",
       "      <th>Ldr</th>\n",
       "      <th>Last</th>\n",
       "      <th>Lto</th>\n",
       "      <th>Lstl</th>\n",
       "      <th>Lblk</th>\n",
       "      <th>Lpf</th>\n",
       "    </tr>\n",
       "  </thead>\n",
       "  <tbody>\n",
       "    <tr>\n",
       "      <th>0</th>\n",
       "      <td>2003</td>\n",
       "      <td>10</td>\n",
       "      <td>1104</td>\n",
       "      <td>68</td>\n",
       "      <td>1328</td>\n",
       "      <td>62</td>\n",
       "      <td>N</td>\n",
       "      <td>0</td>\n",
       "      <td>27</td>\n",
       "      <td>58</td>\n",
       "      <td>...</td>\n",
       "      <td>10</td>\n",
       "      <td>16</td>\n",
       "      <td>22</td>\n",
       "      <td>10</td>\n",
       "      <td>22</td>\n",
       "      <td>8</td>\n",
       "      <td>18</td>\n",
       "      <td>9</td>\n",
       "      <td>2</td>\n",
       "      <td>20</td>\n",
       "    </tr>\n",
       "    <tr>\n",
       "      <th>1</th>\n",
       "      <td>2003</td>\n",
       "      <td>10</td>\n",
       "      <td>1272</td>\n",
       "      <td>70</td>\n",
       "      <td>1393</td>\n",
       "      <td>63</td>\n",
       "      <td>N</td>\n",
       "      <td>0</td>\n",
       "      <td>26</td>\n",
       "      <td>62</td>\n",
       "      <td>...</td>\n",
       "      <td>24</td>\n",
       "      <td>9</td>\n",
       "      <td>20</td>\n",
       "      <td>20</td>\n",
       "      <td>25</td>\n",
       "      <td>7</td>\n",
       "      <td>12</td>\n",
       "      <td>8</td>\n",
       "      <td>6</td>\n",
       "      <td>16</td>\n",
       "    </tr>\n",
       "    <tr>\n",
       "      <th>2</th>\n",
       "      <td>2003</td>\n",
       "      <td>11</td>\n",
       "      <td>1266</td>\n",
       "      <td>73</td>\n",
       "      <td>1437</td>\n",
       "      <td>61</td>\n",
       "      <td>N</td>\n",
       "      <td>0</td>\n",
       "      <td>24</td>\n",
       "      <td>58</td>\n",
       "      <td>...</td>\n",
       "      <td>26</td>\n",
       "      <td>14</td>\n",
       "      <td>23</td>\n",
       "      <td>31</td>\n",
       "      <td>22</td>\n",
       "      <td>9</td>\n",
       "      <td>12</td>\n",
       "      <td>2</td>\n",
       "      <td>5</td>\n",
       "      <td>23</td>\n",
       "    </tr>\n",
       "    <tr>\n",
       "      <th>3</th>\n",
       "      <td>2003</td>\n",
       "      <td>11</td>\n",
       "      <td>1296</td>\n",
       "      <td>56</td>\n",
       "      <td>1457</td>\n",
       "      <td>50</td>\n",
       "      <td>N</td>\n",
       "      <td>0</td>\n",
       "      <td>18</td>\n",
       "      <td>38</td>\n",
       "      <td>...</td>\n",
       "      <td>22</td>\n",
       "      <td>8</td>\n",
       "      <td>15</td>\n",
       "      <td>17</td>\n",
       "      <td>20</td>\n",
       "      <td>9</td>\n",
       "      <td>19</td>\n",
       "      <td>4</td>\n",
       "      <td>3</td>\n",
       "      <td>23</td>\n",
       "    </tr>\n",
       "    <tr>\n",
       "      <th>4</th>\n",
       "      <td>2003</td>\n",
       "      <td>11</td>\n",
       "      <td>1400</td>\n",
       "      <td>77</td>\n",
       "      <td>1208</td>\n",
       "      <td>71</td>\n",
       "      <td>N</td>\n",
       "      <td>0</td>\n",
       "      <td>30</td>\n",
       "      <td>61</td>\n",
       "      <td>...</td>\n",
       "      <td>16</td>\n",
       "      <td>17</td>\n",
       "      <td>27</td>\n",
       "      <td>21</td>\n",
       "      <td>15</td>\n",
       "      <td>12</td>\n",
       "      <td>10</td>\n",
       "      <td>7</td>\n",
       "      <td>1</td>\n",
       "      <td>14</td>\n",
       "    </tr>\n",
       "  </tbody>\n",
       "</table>\n",
       "<p>5 rows × 34 columns</p>\n",
       "</div>"
      ],
      "text/plain": [
       "   Season  Daynum  Wteam  Wscore  Lteam  Lscore Wloc  Numot  Wfgm  Wfga ...   \\\n",
       "0    2003      10   1104      68   1328      62    N      0    27    58 ...    \n",
       "1    2003      10   1272      70   1393      63    N      0    26    62 ...    \n",
       "2    2003      11   1266      73   1437      61    N      0    24    58 ...    \n",
       "3    2003      11   1296      56   1457      50    N      0    18    38 ...    \n",
       "4    2003      11   1400      77   1208      71    N      0    30    61 ...    \n",
       "\n",
       "   Lfga3  Lftm  Lfta  Lor  Ldr  Last  Lto  Lstl  Lblk  Lpf  \n",
       "0     10    16    22   10   22     8   18     9     2   20  \n",
       "1     24     9    20   20   25     7   12     8     6   16  \n",
       "2     26    14    23   31   22     9   12     2     5   23  \n",
       "3     22     8    15   17   20     9   19     4     3   23  \n",
       "4     16    17    27   21   15    12   10     7     1   14  \n",
       "\n",
       "[5 rows x 34 columns]"
      ]
     },
     "execution_count": 6,
     "metadata": {},
     "output_type": "execute_result"
    }
   ],
   "source": [
    "regular = pd.read_csv(\"./Data/RegularSeasonDetailedResults.csv\")\n",
    "regular.head()"
   ]
  },
  {
   "cell_type": "code",
   "execution_count": 7,
   "metadata": {
    "collapsed": false
   },
   "outputs": [],
   "source": [
    "regular_rev = regular.ix[:, [0,1,4,5,2,3,7,21,22,23,24,25,26,27,28,29,30,31,32,33,8,9,10,11,12,13,14,15,16,17,18,19,20]]\n",
    "new_regular = pd.DataFrame(np.vstack([regular_rev.values, \n",
    "                                   regular.ix[:, [0,1,2,3,4,5,7,8,9,10,11,12,13,14,15,16,17,18,19,20,21,22,23,24,25,26,27,28,29,30,31,32,33]].values], \n",
    "                                 ), columns = [\"Season\",\"Daynum\",\"Player\",\"PlayerScore\",\"Opponent\",\"OpponentScore\",\"Numot\",\"Wfgm\",\"Wfga\",\"Wfgm3\",\"Wfga3\",\"Wftm\",\"Wfta\",\"Wor\",\"Wdr\",\"Wast\",\"Wto\",\"Wstl\",\"Wblk\",\"Wpf\",\"Lfgm\",\"Lfga\",\"Lfgm3\",\"Lfga3\",\"Lftm\",\"Lfta\",\"Lor\",\"Ldr\",\"Last\",\"Lto\",\"Lstl\",\"Lblk\",\"Lpf\"])"
   ]
  },
  {
   "cell_type": "code",
   "execution_count": 8,
   "metadata": {
    "collapsed": false
   },
   "outputs": [],
   "source": [
    "loc = []\n",
    "revloc = []\n",
    "for itm in regular['Wloc'].values:\n",
    "    if itm=='N':\n",
    "        loc.append(0)\n",
    "        revloc.append(0)\n",
    "    elif itm=='H':\n",
    "        loc.append(1)\n",
    "        revloc.append(2)\n",
    "    else:\n",
    "        loc.append(2)\n",
    "        revloc.append(1)\n",
    "new_regular['PlayerLoc']=np.hstack([revloc, loc])\n",
    "new_regular['PlayerResult']=np.hstack([np.zeros(regular.shape[0], dtype=np.int), np.ones(regular.shape[0], dtype=np.int)])"
   ]
  },
  {
   "cell_type": "code",
   "execution_count": 9,
   "metadata": {
    "collapsed": false
   },
   "outputs": [
    {
     "data": {
      "text/html": [
       "<div>\n",
       "<table border=\"1\" class=\"dataframe\">\n",
       "  <thead>\n",
       "    <tr style=\"text-align: right;\">\n",
       "      <th></th>\n",
       "      <th>Season</th>\n",
       "      <th>Daynum</th>\n",
       "      <th>Player</th>\n",
       "      <th>PlayerScore</th>\n",
       "      <th>Opponent</th>\n",
       "      <th>OpponentScore</th>\n",
       "      <th>Numot</th>\n",
       "      <th>Wfgm</th>\n",
       "      <th>Wfga</th>\n",
       "      <th>Wfgm3</th>\n",
       "      <th>...</th>\n",
       "      <th>Lfta</th>\n",
       "      <th>Lor</th>\n",
       "      <th>Ldr</th>\n",
       "      <th>Last</th>\n",
       "      <th>Lto</th>\n",
       "      <th>Lstl</th>\n",
       "      <th>Lblk</th>\n",
       "      <th>Lpf</th>\n",
       "      <th>PlayerLoc</th>\n",
       "      <th>PlayerResult</th>\n",
       "    </tr>\n",
       "  </thead>\n",
       "  <tbody>\n",
       "    <tr>\n",
       "      <th>0</th>\n",
       "      <td>2003</td>\n",
       "      <td>10</td>\n",
       "      <td>1328</td>\n",
       "      <td>62</td>\n",
       "      <td>1104</td>\n",
       "      <td>68</td>\n",
       "      <td>0</td>\n",
       "      <td>22</td>\n",
       "      <td>53</td>\n",
       "      <td>2</td>\n",
       "      <td>...</td>\n",
       "      <td>18</td>\n",
       "      <td>14</td>\n",
       "      <td>24</td>\n",
       "      <td>13</td>\n",
       "      <td>23</td>\n",
       "      <td>7</td>\n",
       "      <td>1</td>\n",
       "      <td>22</td>\n",
       "      <td>0</td>\n",
       "      <td>0</td>\n",
       "    </tr>\n",
       "    <tr>\n",
       "      <th>1</th>\n",
       "      <td>2003</td>\n",
       "      <td>10</td>\n",
       "      <td>1393</td>\n",
       "      <td>63</td>\n",
       "      <td>1272</td>\n",
       "      <td>70</td>\n",
       "      <td>0</td>\n",
       "      <td>24</td>\n",
       "      <td>67</td>\n",
       "      <td>6</td>\n",
       "      <td>...</td>\n",
       "      <td>19</td>\n",
       "      <td>15</td>\n",
       "      <td>28</td>\n",
       "      <td>16</td>\n",
       "      <td>13</td>\n",
       "      <td>4</td>\n",
       "      <td>4</td>\n",
       "      <td>18</td>\n",
       "      <td>0</td>\n",
       "      <td>0</td>\n",
       "    </tr>\n",
       "    <tr>\n",
       "      <th>2</th>\n",
       "      <td>2003</td>\n",
       "      <td>11</td>\n",
       "      <td>1437</td>\n",
       "      <td>61</td>\n",
       "      <td>1266</td>\n",
       "      <td>73</td>\n",
       "      <td>0</td>\n",
       "      <td>22</td>\n",
       "      <td>73</td>\n",
       "      <td>3</td>\n",
       "      <td>...</td>\n",
       "      <td>29</td>\n",
       "      <td>17</td>\n",
       "      <td>26</td>\n",
       "      <td>15</td>\n",
       "      <td>10</td>\n",
       "      <td>5</td>\n",
       "      <td>2</td>\n",
       "      <td>25</td>\n",
       "      <td>0</td>\n",
       "      <td>0</td>\n",
       "    </tr>\n",
       "    <tr>\n",
       "      <th>3</th>\n",
       "      <td>2003</td>\n",
       "      <td>11</td>\n",
       "      <td>1457</td>\n",
       "      <td>50</td>\n",
       "      <td>1296</td>\n",
       "      <td>56</td>\n",
       "      <td>0</td>\n",
       "      <td>18</td>\n",
       "      <td>49</td>\n",
       "      <td>6</td>\n",
       "      <td>...</td>\n",
       "      <td>31</td>\n",
       "      <td>6</td>\n",
       "      <td>19</td>\n",
       "      <td>11</td>\n",
       "      <td>12</td>\n",
       "      <td>14</td>\n",
       "      <td>2</td>\n",
       "      <td>18</td>\n",
       "      <td>0</td>\n",
       "      <td>0</td>\n",
       "    </tr>\n",
       "    <tr>\n",
       "      <th>4</th>\n",
       "      <td>2003</td>\n",
       "      <td>11</td>\n",
       "      <td>1208</td>\n",
       "      <td>71</td>\n",
       "      <td>1400</td>\n",
       "      <td>77</td>\n",
       "      <td>0</td>\n",
       "      <td>24</td>\n",
       "      <td>62</td>\n",
       "      <td>6</td>\n",
       "      <td>...</td>\n",
       "      <td>13</td>\n",
       "      <td>17</td>\n",
       "      <td>22</td>\n",
       "      <td>12</td>\n",
       "      <td>14</td>\n",
       "      <td>4</td>\n",
       "      <td>4</td>\n",
       "      <td>20</td>\n",
       "      <td>0</td>\n",
       "      <td>0</td>\n",
       "    </tr>\n",
       "  </tbody>\n",
       "</table>\n",
       "<p>5 rows × 35 columns</p>\n",
       "</div>"
      ],
      "text/plain": [
       "   Season  Daynum  Player  PlayerScore  Opponent  OpponentScore  Numot  Wfgm  \\\n",
       "0    2003      10    1328           62      1104             68      0    22   \n",
       "1    2003      10    1393           63      1272             70      0    24   \n",
       "2    2003      11    1437           61      1266             73      0    22   \n",
       "3    2003      11    1457           50      1296             56      0    18   \n",
       "4    2003      11    1208           71      1400             77      0    24   \n",
       "\n",
       "   Wfga  Wfgm3      ...       Lfta  Lor  Ldr  Last  Lto  Lstl  Lblk  Lpf  \\\n",
       "0    53      2      ...         18   14   24    13   23     7     1   22   \n",
       "1    67      6      ...         19   15   28    16   13     4     4   18   \n",
       "2    73      3      ...         29   17   26    15   10     5     2   25   \n",
       "3    49      6      ...         31    6   19    11   12    14     2   18   \n",
       "4    62      6      ...         13   17   22    12   14     4     4   20   \n",
       "\n",
       "   PlayerLoc  PlayerResult  \n",
       "0          0             0  \n",
       "1          0             0  \n",
       "2          0             0  \n",
       "3          0             0  \n",
       "4          0             0  \n",
       "\n",
       "[5 rows x 35 columns]"
      ]
     },
     "execution_count": 9,
     "metadata": {},
     "output_type": "execute_result"
    }
   ],
   "source": [
    "new_regular.head()"
   ]
  },
  {
   "cell_type": "markdown",
   "metadata": {
    "collapsed": true
   },
   "source": [
    "Effective field goal percentage"
   ]
  },
  {
   "cell_type": "code",
   "execution_count": 9,
   "metadata": {
    "collapsed": false,
    "scrolled": true
   },
   "outputs": [
    {
     "data": {
      "text/html": [
       "<div>\n",
       "<table border=\"1\" class=\"dataframe\">\n",
       "  <thead>\n",
       "    <tr style=\"text-align: right;\">\n",
       "      <th></th>\n",
       "      <th></th>\n",
       "      <th>EfgO</th>\n",
       "      <th>EfgD</th>\n",
       "    </tr>\n",
       "    <tr>\n",
       "      <th>Season</th>\n",
       "      <th>Player</th>\n",
       "      <th></th>\n",
       "      <th></th>\n",
       "    </tr>\n",
       "  </thead>\n",
       "  <tbody>\n",
       "    <tr>\n",
       "      <th rowspan=\"5\" valign=\"top\">2003</th>\n",
       "      <th>1102</th>\n",
       "      <td>0.584407</td>\n",
       "      <td>0.514142</td>\n",
       "    </tr>\n",
       "    <tr>\n",
       "      <th>1103</th>\n",
       "      <td>0.536564</td>\n",
       "      <td>0.549098</td>\n",
       "    </tr>\n",
       "    <tr>\n",
       "      <th>1104</th>\n",
       "      <td>0.475785</td>\n",
       "      <td>0.480099</td>\n",
       "    </tr>\n",
       "    <tr>\n",
       "      <th>1105</th>\n",
       "      <td>0.457983</td>\n",
       "      <td>0.509308</td>\n",
       "    </tr>\n",
       "    <tr>\n",
       "      <th>1106</th>\n",
       "      <td>0.481697</td>\n",
       "      <td>0.452774</td>\n",
       "    </tr>\n",
       "  </tbody>\n",
       "</table>\n",
       "</div>"
      ],
      "text/plain": [
       "                   EfgO      EfgD\n",
       "Season Player                    \n",
       "2003   1102    0.584407  0.514142\n",
       "       1103    0.536564  0.549098\n",
       "       1104    0.475785  0.480099\n",
       "       1105    0.457983  0.509308\n",
       "       1106    0.481697  0.452774"
      ]
     },
     "execution_count": 9,
     "metadata": {},
     "output_type": "execute_result"
    }
   ],
   "source": [
    "t = new_regular[['Season', 'Player', 'Opponent', 'Wfgm', 'Wfgm3', 'Wfga', 'Lfgm', 'Lfgm3', 'Lfga']].copy()\n",
    "t[\"EfgO\"] = np.require(t['Wfgm'].values, dtype=np.float)+np.require(t['Wfgm3'].values, dtype=np.float)/2\n",
    "t[\"EfgO\"] = t['EfgO']/t['Wfga']\n",
    "t[\"EfgD\"] = np.require(t['Lfgm'].values, dtype=np.float)+np.require(t['Lfgm3'].values, dtype=np.float)/2\n",
    "t[\"EfgD\"] = t['EfgD']/t['Lfga']\n",
    "t = t.groupby(by=['Season', 'Player']).mean()\n",
    "rst = pd.DataFrame({'EfgO': t['EfgO'], 'EfgD': t['EfgD']}, columns=['EfgO', 'EfgD'])\n",
    "rst.head()"
   ]
  },
  {
   "cell_type": "code",
   "execution_count": 10,
   "metadata": {
    "collapsed": false
   },
   "outputs": [],
   "source": [
    "feature = pd.DataFrame(tourney_seeds[['Season', 'Team']].values, columns=['Season', 'Player'])\n",
    "feature = pd.merge(feature, rst, left_on=['Season', 'Player'], right_index=True)"
   ]
  },
  {
   "cell_type": "markdown",
   "metadata": {
    "collapsed": false
   },
   "source": [
    "Turnover percentage"
   ]
  },
  {
   "cell_type": "code",
   "execution_count": 11,
   "metadata": {
    "collapsed": false
   },
   "outputs": [
    {
     "data": {
      "text/html": [
       "<div>\n",
       "<table border=\"1\" class=\"dataframe\">\n",
       "  <thead>\n",
       "    <tr style=\"text-align: right;\">\n",
       "      <th></th>\n",
       "      <th></th>\n",
       "      <th>TopO</th>\n",
       "      <th>TopD</th>\n",
       "    </tr>\n",
       "    <tr>\n",
       "      <th>Season</th>\n",
       "      <th>Player</th>\n",
       "      <th></th>\n",
       "      <th></th>\n",
       "    </tr>\n",
       "  </thead>\n",
       "  <tbody>\n",
       "    <tr>\n",
       "      <th rowspan=\"5\" valign=\"top\">2003</th>\n",
       "      <th>1102</th>\n",
       "      <td>0.193121</td>\n",
       "      <td>0.203236</td>\n",
       "    </tr>\n",
       "    <tr>\n",
       "      <th>1103</th>\n",
       "      <td>0.159805</td>\n",
       "      <td>0.186897</td>\n",
       "    </tr>\n",
       "    <tr>\n",
       "      <th>1104</th>\n",
       "      <td>0.167275</td>\n",
       "      <td>0.179498</td>\n",
       "    </tr>\n",
       "    <tr>\n",
       "      <th>1105</th>\n",
       "      <td>0.207792</td>\n",
       "      <td>0.212924</td>\n",
       "    </tr>\n",
       "    <tr>\n",
       "      <th>1106</th>\n",
       "      <td>0.213721</td>\n",
       "      <td>0.194026</td>\n",
       "    </tr>\n",
       "  </tbody>\n",
       "</table>\n",
       "</div>"
      ],
      "text/plain": [
       "                   TopO      TopD\n",
       "Season Player                    \n",
       "2003   1102    0.193121  0.203236\n",
       "       1103    0.159805  0.186897\n",
       "       1104    0.167275  0.179498\n",
       "       1105    0.207792  0.212924\n",
       "       1106    0.213721  0.194026"
      ]
     },
     "execution_count": 11,
     "metadata": {},
     "output_type": "execute_result"
    }
   ],
   "source": [
    "t = new_regular[['Season', 'Player', 'Opponent', 'Wfga', 'Wfta', 'Wto', 'Lfga', 'Lfta', 'Lto']].copy()\n",
    "t[\"TopO\"] = np.require(t['Wfga'].values+t['Wto'].values, dtype=np.float) + \\\n",
    "0.44* np.require(t['Wfta'].values, dtype=np.float)\n",
    "t[\"TopO\"] = t['Wto']/t['TopO']\n",
    "t[\"TopD\"] = np.require(t['Lfga'].values+t['Lto'].values, dtype=np.float) + \\\n",
    "0.44* np.require(t['Lfta'].values, dtype=np.float)\n",
    "t[\"TopD\"] = t['Lto']/t['TopD']\n",
    "t = t.groupby(by=['Season', 'Player']).mean()\n",
    "rst = pd.DataFrame({'TopO': t['TopO'], 'TopD': t['TopD']}, columns=['TopO', 'TopD'])\n",
    "rst.head()"
   ]
  },
  {
   "cell_type": "code",
   "execution_count": 12,
   "metadata": {
    "collapsed": false
   },
   "outputs": [],
   "source": [
    "feature = pd.merge(feature, rst, left_on=['Season', 'Player'], right_index=True)"
   ]
  },
  {
   "cell_type": "markdown",
   "metadata": {},
   "source": [
    "Rebounding"
   ]
  },
  {
   "cell_type": "code",
   "execution_count": 13,
   "metadata": {
    "collapsed": false
   },
   "outputs": [
    {
     "data": {
      "text/html": [
       "<div>\n",
       "<table border=\"1\" class=\"dataframe\">\n",
       "  <thead>\n",
       "    <tr style=\"text-align: right;\">\n",
       "      <th></th>\n",
       "      <th></th>\n",
       "      <th>ORB</th>\n",
       "      <th>DRB</th>\n",
       "    </tr>\n",
       "    <tr>\n",
       "      <th>Season</th>\n",
       "      <th>Player</th>\n",
       "      <th></th>\n",
       "      <th></th>\n",
       "    </tr>\n",
       "  </thead>\n",
       "  <tbody>\n",
       "    <tr>\n",
       "      <th rowspan=\"5\" valign=\"top\">2003</th>\n",
       "      <th>1102</th>\n",
       "      <td>0.168235</td>\n",
       "      <td>0.630384</td>\n",
       "    </tr>\n",
       "    <tr>\n",
       "      <th>1103</th>\n",
       "      <td>0.305803</td>\n",
       "      <td>0.626998</td>\n",
       "    </tr>\n",
       "    <tr>\n",
       "      <th>1104</th>\n",
       "      <td>0.371256</td>\n",
       "      <td>0.686897</td>\n",
       "    </tr>\n",
       "    <tr>\n",
       "      <th>1105</th>\n",
       "      <td>0.335166</td>\n",
       "      <td>0.641434</td>\n",
       "    </tr>\n",
       "    <tr>\n",
       "      <th>1106</th>\n",
       "      <td>0.349480</td>\n",
       "      <td>0.679342</td>\n",
       "    </tr>\n",
       "  </tbody>\n",
       "</table>\n",
       "</div>"
      ],
      "text/plain": [
       "                    ORB       DRB\n",
       "Season Player                    \n",
       "2003   1102    0.168235  0.630384\n",
       "       1103    0.305803  0.626998\n",
       "       1104    0.371256  0.686897\n",
       "       1105    0.335166  0.641434\n",
       "       1106    0.349480  0.679342"
      ]
     },
     "execution_count": 13,
     "metadata": {},
     "output_type": "execute_result"
    }
   ],
   "source": [
    "t = new_regular[['Season', 'Player', 'Opponent', 'Wor', 'Wdr', 'Lor', 'Ldr']].copy()\n",
    "t[\"ORB\"] = np.require(t[\"Wor\"].values+t[\"Ldr\"].values, dtype=np.float)\n",
    "t[\"ORB\"] = t['Wor']/t['ORB']\n",
    "t[\"DRB\"] = np.require(t[\"Wdr\"].values+t[\"Lor\"].values, dtype=np.float)\n",
    "t[\"DRB\"] = t['Wdr']/t['DRB']\n",
    "t = t.groupby(by=['Season', 'Player']).mean()\n",
    "rst = pd.DataFrame({'ORB': t['ORB'], 'DRB': t['DRB']}, columns=['ORB', 'DRB'])\n",
    "rst.head()"
   ]
  },
  {
   "cell_type": "code",
   "execution_count": 14,
   "metadata": {
    "collapsed": true
   },
   "outputs": [],
   "source": [
    "feature = pd.merge(feature, rst, left_on=['Season', 'Player'], right_index=True)"
   ]
  },
  {
   "cell_type": "markdown",
   "metadata": {},
   "source": [
    "free throws"
   ]
  },
  {
   "cell_type": "code",
   "execution_count": 15,
   "metadata": {
    "collapsed": false
   },
   "outputs": [
    {
     "data": {
      "text/html": [
       "<div>\n",
       "<table border=\"1\" class=\"dataframe\">\n",
       "  <thead>\n",
       "    <tr style=\"text-align: right;\">\n",
       "      <th></th>\n",
       "      <th></th>\n",
       "      <th>OFT</th>\n",
       "      <th>DFT</th>\n",
       "    </tr>\n",
       "    <tr>\n",
       "      <th>Season</th>\n",
       "      <th>Player</th>\n",
       "      <th></th>\n",
       "      <th></th>\n",
       "    </tr>\n",
       "  </thead>\n",
       "  <tbody>\n",
       "    <tr>\n",
       "      <th rowspan=\"5\" valign=\"top\">2003</th>\n",
       "      <th>1102</th>\n",
       "      <td>0.291436</td>\n",
       "      <td>0.336057</td>\n",
       "    </tr>\n",
       "    <tr>\n",
       "      <th>1103</th>\n",
       "      <td>0.342976</td>\n",
       "      <td>0.282092</td>\n",
       "    </tr>\n",
       "    <tr>\n",
       "      <th>1104</th>\n",
       "      <td>0.263855</td>\n",
       "      <td>0.223414</td>\n",
       "    </tr>\n",
       "    <tr>\n",
       "      <th>1105</th>\n",
       "      <td>0.255629</td>\n",
       "      <td>0.289471</td>\n",
       "    </tr>\n",
       "    <tr>\n",
       "      <th>1106</th>\n",
       "      <td>0.199740</td>\n",
       "      <td>0.297459</td>\n",
       "    </tr>\n",
       "  </tbody>\n",
       "</table>\n",
       "</div>"
      ],
      "text/plain": [
       "                    OFT       DFT\n",
       "Season Player                    \n",
       "2003   1102    0.291436  0.336057\n",
       "       1103    0.342976  0.282092\n",
       "       1104    0.263855  0.223414\n",
       "       1105    0.255629  0.289471\n",
       "       1106    0.199740  0.297459"
      ]
     },
     "execution_count": 15,
     "metadata": {},
     "output_type": "execute_result"
    }
   ],
   "source": [
    "t = new_regular[['Season', 'Player', 'Opponent', 'Wfga', 'Wftm', 'Lfga', 'Lftm']].copy()\n",
    "t['OFT'] = np.require(t['Wftm'].values, dtype=np.float)/np.require(t['Wfga'].values, dtype=np.float)\n",
    "t['DFT'] = np.require(t['Lftm'].values, dtype=np.float)/np.require(t['Lfga'].values, dtype=np.float)\n",
    "t = t.groupby(by=['Season', 'Player']).mean()\n",
    "rst = pd.DataFrame({'OFT': t['OFT'], 'DFT': t['DFT']}, \n",
    "                   columns=['OFT', 'DFT'])\n",
    "rst.head()"
   ]
  },
  {
   "cell_type": "code",
   "execution_count": 16,
   "metadata": {
    "collapsed": false
   },
   "outputs": [],
   "source": [
    "feature = pd.merge(feature, rst, left_on=['Season', 'Player'], right_index=True)"
   ]
  },
  {
   "cell_type": "markdown",
   "metadata": {},
   "source": [
    "assist"
   ]
  },
  {
   "cell_type": "code",
   "execution_count": 18,
   "metadata": {
    "collapsed": false
   },
   "outputs": [
    {
     "data": {
      "text/html": [
       "<div>\n",
       "<table border=\"1\" class=\"dataframe\">\n",
       "  <thead>\n",
       "    <tr style=\"text-align: right;\">\n",
       "      <th></th>\n",
       "      <th></th>\n",
       "      <th>AstO</th>\n",
       "      <th>AstD</th>\n",
       "    </tr>\n",
       "    <tr>\n",
       "      <th>Season</th>\n",
       "      <th>Player</th>\n",
       "      <th></th>\n",
       "      <th></th>\n",
       "    </tr>\n",
       "  </thead>\n",
       "  <tbody>\n",
       "    <tr>\n",
       "      <th rowspan=\"5\" valign=\"top\">2003</th>\n",
       "      <th>1102</th>\n",
       "      <td>0.211098</td>\n",
       "      <td>0.151343</td>\n",
       "    </tr>\n",
       "    <tr>\n",
       "      <th>1103</th>\n",
       "      <td>0.183910</td>\n",
       "      <td>0.188268</td>\n",
       "    </tr>\n",
       "    <tr>\n",
       "      <th>1104</th>\n",
       "      <td>0.152915</td>\n",
       "      <td>0.155161</td>\n",
       "    </tr>\n",
       "    <tr>\n",
       "      <th>1105</th>\n",
       "      <td>0.168060</td>\n",
       "      <td>0.183142</td>\n",
       "    </tr>\n",
       "    <tr>\n",
       "      <th>1106</th>\n",
       "      <td>0.155741</td>\n",
       "      <td>0.155688</td>\n",
       "    </tr>\n",
       "  </tbody>\n",
       "</table>\n",
       "</div>"
      ],
      "text/plain": [
       "                   AstO      AstD\n",
       "Season Player                    \n",
       "2003   1102    0.211098  0.151343\n",
       "       1103    0.183910  0.188268\n",
       "       1104    0.152915  0.155161\n",
       "       1105    0.168060  0.183142\n",
       "       1106    0.155741  0.155688"
      ]
     },
     "execution_count": 18,
     "metadata": {},
     "output_type": "execute_result"
    }
   ],
   "source": [
    "t = new_regular[['Season', 'Player', 'Opponent', 'Wfga', 'Wfta', 'Wast', 'Lfga', 'Lfta', 'Last']].copy()\n",
    "t[\"AstO\"] = np.require(t['Wfga'].values+t['Wast'].values, dtype=np.float) + \\\n",
    "0.44* np.require(t['Wfta'].values, dtype=np.float)\n",
    "t[\"AstO\"] = t['Wast']/t['AstO']\n",
    "t[\"AstD\"] = np.require(t['Lfga'].values+t['Last'].values, dtype=np.float) + \\\n",
    "0.44* np.require(t['Lfta'].values, dtype=np.float)\n",
    "t[\"AstD\"] = t['Last']/t['AstD']\n",
    "t = t.groupby(by=['Season', 'Player']).mean()\n",
    "rst = pd.DataFrame({'AstO': t['AstO'], 'AstD': t['AstD']}, columns=['AstO', 'AstD'])\n",
    "rst.head()"
   ]
  },
  {
   "cell_type": "code",
   "execution_count": 19,
   "metadata": {
    "collapsed": true
   },
   "outputs": [],
   "source": [
    "feature = pd.merge(feature, rst, left_on=['Season', 'Player'], right_index=True)"
   ]
  },
  {
   "cell_type": "code",
   "execution_count": 20,
   "metadata": {
    "collapsed": false,
    "scrolled": true
   },
   "outputs": [
    {
     "data": {
      "text/html": [
       "<div>\n",
       "<table border=\"1\" class=\"dataframe\">\n",
       "  <thead>\n",
       "    <tr style=\"text-align: right;\">\n",
       "      <th></th>\n",
       "      <th>Season</th>\n",
       "      <th>Player</th>\n",
       "      <th>EfgO</th>\n",
       "      <th>EfgD</th>\n",
       "      <th>TopO</th>\n",
       "      <th>TopD</th>\n",
       "      <th>ORB</th>\n",
       "      <th>DRB</th>\n",
       "      <th>OFT</th>\n",
       "      <th>DFT</th>\n",
       "      <th>AstO</th>\n",
       "      <th>AstD</th>\n",
       "    </tr>\n",
       "  </thead>\n",
       "  <tbody>\n",
       "    <tr>\n",
       "      <th>1154</th>\n",
       "      <td>2003</td>\n",
       "      <td>1328</td>\n",
       "      <td>0.512124</td>\n",
       "      <td>0.448150</td>\n",
       "      <td>0.155078</td>\n",
       "      <td>0.181439</td>\n",
       "      <td>0.347284</td>\n",
       "      <td>0.709854</td>\n",
       "      <td>0.234856</td>\n",
       "      <td>0.236844</td>\n",
       "      <td>0.176096</td>\n",
       "      <td>0.144307</td>\n",
       "    </tr>\n",
       "    <tr>\n",
       "      <th>1155</th>\n",
       "      <td>2003</td>\n",
       "      <td>1448</td>\n",
       "      <td>0.511972</td>\n",
       "      <td>0.463124</td>\n",
       "      <td>0.178941</td>\n",
       "      <td>0.167749</td>\n",
       "      <td>0.429724</td>\n",
       "      <td>0.687237</td>\n",
       "      <td>0.354094</td>\n",
       "      <td>0.221934</td>\n",
       "      <td>0.173555</td>\n",
       "      <td>0.156230</td>\n",
       "    </tr>\n",
       "    <tr>\n",
       "      <th>1156</th>\n",
       "      <td>2003</td>\n",
       "      <td>1393</td>\n",
       "      <td>0.515151</td>\n",
       "      <td>0.445717</td>\n",
       "      <td>0.160408</td>\n",
       "      <td>0.165338</td>\n",
       "      <td>0.385242</td>\n",
       "      <td>0.630790</td>\n",
       "      <td>0.274586</td>\n",
       "      <td>0.199656</td>\n",
       "      <td>0.168919</td>\n",
       "      <td>0.177844</td>\n",
       "    </tr>\n",
       "    <tr>\n",
       "      <th>1157</th>\n",
       "      <td>2003</td>\n",
       "      <td>1257</td>\n",
       "      <td>0.528861</td>\n",
       "      <td>0.450485</td>\n",
       "      <td>0.156505</td>\n",
       "      <td>0.205507</td>\n",
       "      <td>0.356053</td>\n",
       "      <td>0.664037</td>\n",
       "      <td>0.292504</td>\n",
       "      <td>0.329973</td>\n",
       "      <td>0.187087</td>\n",
       "      <td>0.149965</td>\n",
       "    </tr>\n",
       "    <tr>\n",
       "      <th>1158</th>\n",
       "      <td>2003</td>\n",
       "      <td>1280</td>\n",
       "      <td>0.521359</td>\n",
       "      <td>0.463462</td>\n",
       "      <td>0.197467</td>\n",
       "      <td>0.208120</td>\n",
       "      <td>0.383446</td>\n",
       "      <td>0.695785</td>\n",
       "      <td>0.220035</td>\n",
       "      <td>0.199428</td>\n",
       "      <td>0.184934</td>\n",
       "      <td>0.139829</td>\n",
       "    </tr>\n",
       "  </tbody>\n",
       "</table>\n",
       "</div>"
      ],
      "text/plain": [
       "      Season  Player      EfgO      EfgD      TopO      TopD       ORB  \\\n",
       "1154    2003    1328  0.512124  0.448150  0.155078  0.181439  0.347284   \n",
       "1155    2003    1448  0.511972  0.463124  0.178941  0.167749  0.429724   \n",
       "1156    2003    1393  0.515151  0.445717  0.160408  0.165338  0.385242   \n",
       "1157    2003    1257  0.528861  0.450485  0.156505  0.205507  0.356053   \n",
       "1158    2003    1280  0.521359  0.463462  0.197467  0.208120  0.383446   \n",
       "\n",
       "           DRB       OFT       DFT      AstO      AstD  \n",
       "1154  0.709854  0.234856  0.236844  0.176096  0.144307  \n",
       "1155  0.687237  0.354094  0.221934  0.173555  0.156230  \n",
       "1156  0.630790  0.274586  0.199656  0.168919  0.177844  \n",
       "1157  0.664037  0.292504  0.329973  0.187087  0.149965  \n",
       "1158  0.695785  0.220035  0.199428  0.184934  0.139829  "
      ]
     },
     "execution_count": 20,
     "metadata": {},
     "output_type": "execute_result"
    }
   ],
   "source": [
    "feature.head()"
   ]
  },
  {
   "cell_type": "markdown",
   "metadata": {},
   "source": [
    "## Feature normalization"
   ]
  },
  {
   "cell_type": "code",
   "execution_count": 21,
   "metadata": {
    "collapsed": true
   },
   "outputs": [],
   "source": [
    "from scipy import stats\n",
    "\n",
    "cdf = dict()\n",
    "hist, bin_edges = np.histogram(feature['EfgO'].values, bins=10000, density=True)\n",
    "hist/=hist.sum()\n",
    "cdf['EfgO'] = stats.rv_discrete(name='EfgO', values=(bin_edges[:-1], hist))\n",
    "feature['EfgO'] = cdf['EfgO'].cdf(feature['EfgO'].values)"
   ]
  },
  {
   "cell_type": "code",
   "execution_count": 22,
   "metadata": {
    "collapsed": false
   },
   "outputs": [],
   "source": [
    "hist, bin_edges = np.histogram(feature['EfgD'].values, bins=10000, density=True)\n",
    "hist/=hist.sum()\n",
    "cdf['EfgD'] = stats.rv_discrete(name='EfgD', values=(bin_edges[:-1], hist))\n",
    "feature['EfgD'] = cdf['EfgD'].cdf(feature['EfgD'].values)\n",
    "\n",
    "hist, bin_edges = np.histogram(feature['TopO'].values, bins=10000, density=True)\n",
    "hist/=hist.sum()\n",
    "cdf['TopO'] = stats.rv_discrete(name='TopO', values=(bin_edges[:-1], hist))\n",
    "feature['TopO'] = cdf['TopO'].cdf(feature['TopO'].values)\n",
    "\n",
    "hist, bin_edges = np.histogram(feature['TopD'].values, bins=10000, density=True)\n",
    "hist/=hist.sum()\n",
    "cdf['TopD'] = stats.rv_discrete(name='TopD', values=(bin_edges[:-1], hist))\n",
    "feature['TopD'] = cdf['TopD'].cdf(feature['TopD'].values)\n",
    "\n",
    "hist, bin_edges = np.histogram(feature['ORB'].values, bins=10000, density=True)\n",
    "hist/=hist.sum()\n",
    "cdf['ORB'] = stats.rv_discrete(name='ORB', values=(bin_edges[:-1], hist))\n",
    "feature['ORB'] = cdf['ORB'].cdf(feature['ORB'].values)\n",
    "\n",
    "hist, bin_edges = np.histogram(feature['DRB'].values, bins=10000, density=True)\n",
    "hist/=hist.sum()\n",
    "cdf['DRB'] = stats.rv_discrete(name='DRB', values=(bin_edges[:-1], hist))\n",
    "feature['DRB'] = cdf['DRB'].cdf(feature['DRB'].values)\n",
    "\n",
    "hist, bin_edges = np.histogram(feature['OFT'].values, bins=10000, density=True)\n",
    "hist/=hist.sum()\n",
    "cdf['OFT'] = stats.rv_discrete(name='DRB', values=(bin_edges[:-1], hist))\n",
    "feature['OFT'] = cdf['OFT'].cdf(feature['OFT'].values)\n",
    "\n",
    "hist, bin_edges = np.histogram(feature['DFT'].values, bins=10000, density=True)\n",
    "hist/=hist.sum()\n",
    "cdf['DFT'] = stats.rv_discrete(name='DFT', values=(bin_edges[:-1], hist))\n",
    "feature['DFT'] = cdf['DFT'].cdf(feature['DFT'].values)\n",
    "\n",
    "hist, bin_edges = np.histogram(feature['AstO'].values, bins=10000, density=True)\n",
    "hist/=hist.sum()\n",
    "cdf['AstO'] = stats.rv_discrete(name='AstO', values=(bin_edges[:-1], hist))\n",
    "feature['AstO'] = cdf['AstO'].cdf(feature['AstO'].values)\n",
    "\n",
    "hist, bin_edges = np.histogram(feature['AstD'].values, bins=10000, density=True)\n",
    "hist/=hist.sum()\n",
    "cdf['AstD'] = stats.rv_discrete(name='AstD', values=(bin_edges[:-1], hist))\n",
    "feature['AstD'] = cdf['AstD'].cdf(feature['AstD'].values)"
   ]
  },
  {
   "cell_type": "code",
   "execution_count": 23,
   "metadata": {
    "collapsed": false,
    "scrolled": true
   },
   "outputs": [
    {
     "data": {
      "text/html": [
       "<div>\n",
       "<table border=\"1\" class=\"dataframe\">\n",
       "  <thead>\n",
       "    <tr style=\"text-align: right;\">\n",
       "      <th></th>\n",
       "      <th>Season</th>\n",
       "      <th>Player</th>\n",
       "      <th>EfgO</th>\n",
       "      <th>EfgD</th>\n",
       "      <th>TopO</th>\n",
       "      <th>TopD</th>\n",
       "      <th>ORB</th>\n",
       "      <th>DRB</th>\n",
       "      <th>OFT</th>\n",
       "      <th>DFT</th>\n",
       "      <th>AstO</th>\n",
       "      <th>AstD</th>\n",
       "    </tr>\n",
       "  </thead>\n",
       "  <tbody>\n",
       "    <tr>\n",
       "      <th>1154</th>\n",
       "      <td>2003</td>\n",
       "      <td>1328</td>\n",
       "      <td>0.396552</td>\n",
       "      <td>0.164871</td>\n",
       "      <td>0.307112</td>\n",
       "      <td>0.545259</td>\n",
       "      <td>0.548491</td>\n",
       "      <td>0.747845</td>\n",
       "      <td>0.106681</td>\n",
       "      <td>0.506466</td>\n",
       "      <td>0.451509</td>\n",
       "      <td>0.182112</td>\n",
       "    </tr>\n",
       "    <tr>\n",
       "      <th>1155</th>\n",
       "      <td>2003</td>\n",
       "      <td>1448</td>\n",
       "      <td>0.394397</td>\n",
       "      <td>0.362069</td>\n",
       "      <td>0.784483</td>\n",
       "      <td>0.299569</td>\n",
       "      <td>0.994612</td>\n",
       "      <td>0.456897</td>\n",
       "      <td>0.964440</td>\n",
       "      <td>0.351293</td>\n",
       "      <td>0.393319</td>\n",
       "      <td>0.467672</td>\n",
       "    </tr>\n",
       "    <tr>\n",
       "      <th>1156</th>\n",
       "      <td>2003</td>\n",
       "      <td>1393</td>\n",
       "      <td>0.447198</td>\n",
       "      <td>0.134698</td>\n",
       "      <td>0.410560</td>\n",
       "      <td>0.270474</td>\n",
       "      <td>0.875000</td>\n",
       "      <td>0.024784</td>\n",
       "      <td>0.462284</td>\n",
       "      <td>0.169181</td>\n",
       "      <td>0.293103</td>\n",
       "      <td>0.921336</td>\n",
       "    </tr>\n",
       "    <tr>\n",
       "      <th>1157</th>\n",
       "      <td>2003</td>\n",
       "      <td>1257</td>\n",
       "      <td>0.664871</td>\n",
       "      <td>0.188578</td>\n",
       "      <td>0.340517</td>\n",
       "      <td>0.851293</td>\n",
       "      <td>0.635776</td>\n",
       "      <td>0.173491</td>\n",
       "      <td>0.653017</td>\n",
       "      <td>0.971983</td>\n",
       "      <td>0.693966</td>\n",
       "      <td>0.321121</td>\n",
       "    </tr>\n",
       "    <tr>\n",
       "      <th>1158</th>\n",
       "      <td>2003</td>\n",
       "      <td>1280</td>\n",
       "      <td>0.540948</td>\n",
       "      <td>0.370690</td>\n",
       "      <td>0.947198</td>\n",
       "      <td>0.884698</td>\n",
       "      <td>0.864224</td>\n",
       "      <td>0.567888</td>\n",
       "      <td>0.044181</td>\n",
       "      <td>0.165948</td>\n",
       "      <td>0.643319</td>\n",
       "      <td>0.105603</td>\n",
       "    </tr>\n",
       "  </tbody>\n",
       "</table>\n",
       "</div>"
      ],
      "text/plain": [
       "      Season  Player      EfgO      EfgD      TopO      TopD       ORB  \\\n",
       "1154    2003    1328  0.396552  0.164871  0.307112  0.545259  0.548491   \n",
       "1155    2003    1448  0.394397  0.362069  0.784483  0.299569  0.994612   \n",
       "1156    2003    1393  0.447198  0.134698  0.410560  0.270474  0.875000   \n",
       "1157    2003    1257  0.664871  0.188578  0.340517  0.851293  0.635776   \n",
       "1158    2003    1280  0.540948  0.370690  0.947198  0.884698  0.864224   \n",
       "\n",
       "           DRB       OFT       DFT      AstO      AstD  \n",
       "1154  0.747845  0.106681  0.506466  0.451509  0.182112  \n",
       "1155  0.456897  0.964440  0.351293  0.393319  0.467672  \n",
       "1156  0.024784  0.462284  0.169181  0.293103  0.921336  \n",
       "1157  0.173491  0.653017  0.971983  0.693966  0.321121  \n",
       "1158  0.567888  0.044181  0.165948  0.643319  0.105603  "
      ]
     },
     "execution_count": 23,
     "metadata": {},
     "output_type": "execute_result"
    }
   ],
   "source": [
    "feature.head()"
   ]
  },
  {
   "cell_type": "code",
   "execution_count": 24,
   "metadata": {
    "collapsed": false
   },
   "outputs": [],
   "source": [
    "result['SeedDelta'] = (result['OpponentSeed']-result['PlayerSeed']+16.0)/31\n",
    "result = pd.merge(result, feature, on=['Season', 'Player'])\n",
    "result = pd.merge(result, feature, left_on=['Season', 'Opponent'], right_on=['Season', 'Player'], suffixes=[\"Ply\", \"Opp\"])"
   ]
  },
  {
   "cell_type": "code",
   "execution_count": 25,
   "metadata": {
    "collapsed": false
   },
   "outputs": [],
   "source": [
    "result.drop(['PlayerOpp'], 1, inplace=True)\n",
    "result = result.rename(columns={\"PlayerPly\": \"Player\"})"
   ]
  },
  {
   "cell_type": "markdown",
   "metadata": {
    "collapsed": false
   },
   "source": [
    "Parameter tunning"
   ]
  },
  {
   "cell_type": "code",
   "execution_count": 26,
   "metadata": {
    "collapsed": false,
    "scrolled": true
   },
   "outputs": [
    {
     "data": {
      "text/html": [
       "<div>\n",
       "<table border=\"1\" class=\"dataframe\">\n",
       "  <thead>\n",
       "    <tr style=\"text-align: right;\">\n",
       "      <th></th>\n",
       "      <th>Result</th>\n",
       "      <th>Season</th>\n",
       "      <th>Player</th>\n",
       "      <th>Opponent</th>\n",
       "      <th>PlayerSeed</th>\n",
       "      <th>OpponentSeed</th>\n",
       "      <th>SeedDelta</th>\n",
       "      <th>EfgOPly</th>\n",
       "      <th>EfgDPly</th>\n",
       "      <th>TopOPly</th>\n",
       "      <th>...</th>\n",
       "      <th>EfgOOpp</th>\n",
       "      <th>EfgDOpp</th>\n",
       "      <th>TopOOpp</th>\n",
       "      <th>TopDOpp</th>\n",
       "      <th>ORBOpp</th>\n",
       "      <th>DRBOpp</th>\n",
       "      <th>OFTOpp</th>\n",
       "      <th>DFTOpp</th>\n",
       "      <th>AstOOpp</th>\n",
       "      <th>AstDOpp</th>\n",
       "    </tr>\n",
       "  </thead>\n",
       "  <tbody>\n",
       "    <tr>\n",
       "      <th>1823</th>\n",
       "      <td>1</td>\n",
       "      <td>2016</td>\n",
       "      <td>1462</td>\n",
       "      <td>1451</td>\n",
       "      <td>2</td>\n",
       "      <td>15</td>\n",
       "      <td>0.935484</td>\n",
       "      <td>0.506466</td>\n",
       "      <td>0.675647</td>\n",
       "      <td>0.234914</td>\n",
       "      <td>...</td>\n",
       "      <td>0.905172</td>\n",
       "      <td>0.554957</td>\n",
       "      <td>0.765086</td>\n",
       "      <td>0.025862</td>\n",
       "      <td>0.012931</td>\n",
       "      <td>0.982759</td>\n",
       "      <td>0.891164</td>\n",
       "      <td>0.125000</td>\n",
       "      <td>0.300647</td>\n",
       "      <td>0.053879</td>\n",
       "    </tr>\n",
       "    <tr>\n",
       "      <th>1824</th>\n",
       "      <td>1</td>\n",
       "      <td>2016</td>\n",
       "      <td>1401</td>\n",
       "      <td>1453</td>\n",
       "      <td>3</td>\n",
       "      <td>14</td>\n",
       "      <td>0.870968</td>\n",
       "      <td>0.479526</td>\n",
       "      <td>0.522629</td>\n",
       "      <td>0.163793</td>\n",
       "      <td>...</td>\n",
       "      <td>0.256466</td>\n",
       "      <td>0.950431</td>\n",
       "      <td>0.046336</td>\n",
       "      <td>0.561422</td>\n",
       "      <td>0.168103</td>\n",
       "      <td>0.429957</td>\n",
       "      <td>0.600216</td>\n",
       "      <td>0.677802</td>\n",
       "      <td>0.060345</td>\n",
       "      <td>0.617457</td>\n",
       "    </tr>\n",
       "    <tr>\n",
       "      <th>1825</th>\n",
       "      <td>1</td>\n",
       "      <td>2016</td>\n",
       "      <td>1401</td>\n",
       "      <td>1320</td>\n",
       "      <td>3</td>\n",
       "      <td>11</td>\n",
       "      <td>0.774194</td>\n",
       "      <td>0.479526</td>\n",
       "      <td>0.522629</td>\n",
       "      <td>0.163793</td>\n",
       "      <td>...</td>\n",
       "      <td>0.701509</td>\n",
       "      <td>0.761853</td>\n",
       "      <td>0.106681</td>\n",
       "      <td>0.279095</td>\n",
       "      <td>0.001078</td>\n",
       "      <td>0.924569</td>\n",
       "      <td>0.230603</td>\n",
       "      <td>0.054957</td>\n",
       "      <td>0.227371</td>\n",
       "      <td>0.713362</td>\n",
       "    </tr>\n",
       "    <tr>\n",
       "      <th>1826</th>\n",
       "      <td>0</td>\n",
       "      <td>2016</td>\n",
       "      <td>1400</td>\n",
       "      <td>1320</td>\n",
       "      <td>6</td>\n",
       "      <td>11</td>\n",
       "      <td>0.677419</td>\n",
       "      <td>0.173491</td>\n",
       "      <td>0.633621</td>\n",
       "      <td>0.043103</td>\n",
       "      <td>...</td>\n",
       "      <td>0.701509</td>\n",
       "      <td>0.761853</td>\n",
       "      <td>0.106681</td>\n",
       "      <td>0.279095</td>\n",
       "      <td>0.001078</td>\n",
       "      <td>0.924569</td>\n",
       "      <td>0.230603</td>\n",
       "      <td>0.054957</td>\n",
       "      <td>0.227371</td>\n",
       "      <td>0.713362</td>\n",
       "    </tr>\n",
       "    <tr>\n",
       "      <th>1827</th>\n",
       "      <td>1</td>\n",
       "      <td>2016</td>\n",
       "      <td>1433</td>\n",
       "      <td>1333</td>\n",
       "      <td>10</td>\n",
       "      <td>7</td>\n",
       "      <td>0.419355</td>\n",
       "      <td>0.411638</td>\n",
       "      <td>0.782328</td>\n",
       "      <td>0.082974</td>\n",
       "      <td>...</td>\n",
       "      <td>0.243534</td>\n",
       "      <td>0.875000</td>\n",
       "      <td>0.171336</td>\n",
       "      <td>0.339440</td>\n",
       "      <td>0.114224</td>\n",
       "      <td>0.398707</td>\n",
       "      <td>0.287716</td>\n",
       "      <td>0.834052</td>\n",
       "      <td>0.225216</td>\n",
       "      <td>0.897629</td>\n",
       "    </tr>\n",
       "  </tbody>\n",
       "</table>\n",
       "<p>5 rows × 27 columns</p>\n",
       "</div>"
      ],
      "text/plain": [
       "      Result  Season  Player  Opponent  PlayerSeed  OpponentSeed  SeedDelta  \\\n",
       "1823       1    2016    1462      1451           2            15   0.935484   \n",
       "1824       1    2016    1401      1453           3            14   0.870968   \n",
       "1825       1    2016    1401      1320           3            11   0.774194   \n",
       "1826       0    2016    1400      1320           6            11   0.677419   \n",
       "1827       1    2016    1433      1333          10             7   0.419355   \n",
       "\n",
       "       EfgOPly   EfgDPly   TopOPly    ...      EfgOOpp   EfgDOpp   TopOOpp  \\\n",
       "1823  0.506466  0.675647  0.234914    ...     0.905172  0.554957  0.765086   \n",
       "1824  0.479526  0.522629  0.163793    ...     0.256466  0.950431  0.046336   \n",
       "1825  0.479526  0.522629  0.163793    ...     0.701509  0.761853  0.106681   \n",
       "1826  0.173491  0.633621  0.043103    ...     0.701509  0.761853  0.106681   \n",
       "1827  0.411638  0.782328  0.082974    ...     0.243534  0.875000  0.171336   \n",
       "\n",
       "       TopDOpp    ORBOpp    DRBOpp    OFTOpp    DFTOpp   AstOOpp   AstDOpp  \n",
       "1823  0.025862  0.012931  0.982759  0.891164  0.125000  0.300647  0.053879  \n",
       "1824  0.561422  0.168103  0.429957  0.600216  0.677802  0.060345  0.617457  \n",
       "1825  0.279095  0.001078  0.924569  0.230603  0.054957  0.227371  0.713362  \n",
       "1826  0.279095  0.001078  0.924569  0.230603  0.054957  0.227371  0.713362  \n",
       "1827  0.339440  0.114224  0.398707  0.287716  0.834052  0.225216  0.897629  \n",
       "\n",
       "[5 rows x 27 columns]"
      ]
     },
     "execution_count": 26,
     "metadata": {},
     "output_type": "execute_result"
    }
   ],
   "source": [
    "result.tail()"
   ]
  },
  {
   "cell_type": "code",
   "execution_count": 30,
   "metadata": {
    "collapsed": false
   },
   "outputs": [],
   "source": [
    "from keras.models import Sequential\n",
    "from keras.layers import Dense, Activation\n",
    "from keras.regularizers import l2, l1, l1l2\n",
    "from keras.optimizers import SGD\n",
    "\n",
    "model = Sequential([\n",
    "    Dense(1, input_dim=21, W_regularizer=l1l2(0.002, 0.005), init='lecun_uniform'),\n",
    "    Activation('sigmoid')\n",
    "])\n",
    "\n",
    "opt = SGD(lr=0.125, momentum=0.92, decay=1e-4)\n",
    "model.compile(optimizer=opt, loss='binary_crossentropy', metrics=['binary_crossentropy'])"
   ]
  },
  {
   "cell_type": "code",
   "execution_count": 28,
   "metadata": {
    "collapsed": true
   },
   "outputs": [],
   "source": [
    "seg = result[(result['Season'])<2013].copy()\n",
    "X = seg.ix[:, 6:27].values\n",
    "Y = seg.ix[:, 0].values\n",
    "test = result[(result['Season']>=2013)].copy()\n",
    "Xt = test.ix[:, 6:27].values\n",
    "Yt = test.ix[:, 0].values"
   ]
  },
  {
   "cell_type": "code",
   "execution_count": 31,
   "metadata": {
    "collapsed": false,
    "scrolled": true
   },
   "outputs": [
    {
     "name": "stdout",
     "output_type": "stream",
     "text": [
      "Train on 1292 samples, validate on 536 samples\n",
      "Epoch 1/70\n",
      "1292/1292 [==============================] - 0s - loss: 0.7327 - binary_crossentropy: 0.7181 - val_loss: 0.6914 - val_binary_crossentropy: 0.6914\n",
      "Epoch 2/70\n",
      "1292/1292 [==============================] - 0s - loss: 0.7252 - binary_crossentropy: 0.7108 - val_loss: 0.6859 - val_binary_crossentropy: 0.6859\n",
      "Epoch 3/70\n",
      "1292/1292 [==============================] - 0s - loss: 0.7155 - binary_crossentropy: 0.7013 - val_loss: 0.6831 - val_binary_crossentropy: 0.6831\n",
      "Epoch 4/70\n",
      "1292/1292 [==============================] - 0s - loss: 0.7088 - binary_crossentropy: 0.6949 - val_loss: 0.6837 - val_binary_crossentropy: 0.6837\n",
      "Epoch 5/70\n",
      "1292/1292 [==============================] - 0s - loss: 0.7070 - binary_crossentropy: 0.6934 - val_loss: 0.6853 - val_binary_crossentropy: 0.6853\n",
      "Epoch 6/70\n",
      "1292/1292 [==============================] - 0s - loss: 0.7072 - binary_crossentropy: 0.6939 - val_loss: 0.6842 - val_binary_crossentropy: 0.6842\n",
      "Epoch 7/70\n",
      "1292/1292 [==============================] - 0s - loss: 0.7053 - binary_crossentropy: 0.6921 - val_loss: 0.6788 - val_binary_crossentropy: 0.6788\n",
      "Epoch 8/70\n",
      "1292/1292 [==============================] - 0s - loss: 0.6989 - binary_crossentropy: 0.6859 - val_loss: 0.6701 - val_binary_crossentropy: 0.6701\n",
      "Epoch 9/70\n",
      "1292/1292 [==============================] - 0s - loss: 0.6892 - binary_crossentropy: 0.6762 - val_loss: 0.6612 - val_binary_crossentropy: 0.6612\n",
      "Epoch 10/70\n",
      "1292/1292 [==============================] - 0s - loss: 0.6796 - binary_crossentropy: 0.6665 - val_loss: 0.6545 - val_binary_crossentropy: 0.6545\n",
      "Epoch 11/70\n",
      "1292/1292 [==============================] - 0s - loss: 0.6727 - binary_crossentropy: 0.6594 - val_loss: 0.6506 - val_binary_crossentropy: 0.6506\n",
      "Epoch 12/70\n",
      "1292/1292 [==============================] - 0s - loss: 0.6688 - binary_crossentropy: 0.6553 - val_loss: 0.6479 - val_binary_crossentropy: 0.6479\n",
      "Epoch 13/70\n",
      "1292/1292 [==============================] - 0s - loss: 0.6660 - binary_crossentropy: 0.6522 - val_loss: 0.6447 - val_binary_crossentropy: 0.6447\n",
      "Epoch 14/70\n",
      "1292/1292 [==============================] - 0s - loss: 0.6619 - binary_crossentropy: 0.6478 - val_loss: 0.6399 - val_binary_crossentropy: 0.6399\n",
      "Epoch 15/70\n",
      "1292/1292 [==============================] - 0s - loss: 0.6557 - binary_crossentropy: 0.6412 - val_loss: 0.6343 - val_binary_crossentropy: 0.6343\n",
      "Epoch 16/70\n",
      "1292/1292 [==============================] - 0s - loss: 0.6485 - binary_crossentropy: 0.6334 - val_loss: 0.6292 - val_binary_crossentropy: 0.6292\n",
      "Epoch 17/70\n",
      "1292/1292 [==============================] - 0s - loss: 0.6420 - binary_crossentropy: 0.6263 - val_loss: 0.6255 - val_binary_crossentropy: 0.6255\n",
      "Epoch 18/70\n",
      "1292/1292 [==============================] - 0s - loss: 0.6375 - binary_crossentropy: 0.6212 - val_loss: 0.6231 - val_binary_crossentropy: 0.6231\n",
      "Epoch 19/70\n",
      "1292/1292 [==============================] - 0s - loss: 0.6349 - binary_crossentropy: 0.6178 - val_loss: 0.6209 - val_binary_crossentropy: 0.6209\n",
      "Epoch 20/70\n",
      "1292/1292 [==============================] - 0s - loss: 0.6329 - binary_crossentropy: 0.6150 - val_loss: 0.6182 - val_binary_crossentropy: 0.6182\n",
      "Epoch 21/70\n",
      "1292/1292 [==============================] - 0s - loss: 0.6303 - binary_crossentropy: 0.6114 - val_loss: 0.6149 - val_binary_crossentropy: 0.6149\n",
      "Epoch 22/70\n",
      "1292/1292 [==============================] - 0s - loss: 0.6266 - binary_crossentropy: 0.6067 - val_loss: 0.6114 - val_binary_crossentropy: 0.6114\n",
      "Epoch 23/70\n",
      "1292/1292 [==============================] - 0s - loss: 0.6227 - binary_crossentropy: 0.6017 - val_loss: 0.6087 - val_binary_crossentropy: 0.6087\n",
      "Epoch 24/70\n",
      "1292/1292 [==============================] - 0s - loss: 0.6194 - binary_crossentropy: 0.5974 - val_loss: 0.6072 - val_binary_crossentropy: 0.6072\n",
      "Epoch 25/70\n",
      "1292/1292 [==============================] - 0s - loss: 0.6174 - binary_crossentropy: 0.5943 - val_loss: 0.6064 - val_binary_crossentropy: 0.6064\n",
      "Epoch 26/70\n",
      "1292/1292 [==============================] - 0s - loss: 0.6165 - binary_crossentropy: 0.5922 - val_loss: 0.6058 - val_binary_crossentropy: 0.6058\n",
      "Epoch 27/70\n",
      "1292/1292 [==============================] - 0s - loss: 0.6158 - binary_crossentropy: 0.5904 - val_loss: 0.6046 - val_binary_crossentropy: 0.6046\n",
      "Epoch 28/70\n",
      "1292/1292 [==============================] - 0s - loss: 0.6148 - binary_crossentropy: 0.5882 - val_loss: 0.6028 - val_binary_crossentropy: 0.6028\n",
      "Epoch 29/70\n",
      "1292/1292 [==============================] - 0s - loss: 0.6131 - binary_crossentropy: 0.5855 - val_loss: 0.6007 - val_binary_crossentropy: 0.6007\n",
      "Epoch 30/70\n",
      "1292/1292 [==============================] - 0s - loss: 0.6114 - binary_crossentropy: 0.5827 - val_loss: 0.5988 - val_binary_crossentropy: 0.5988\n",
      "Epoch 31/70\n",
      "1292/1292 [==============================] - 0s - loss: 0.6100 - binary_crossentropy: 0.5803 - val_loss: 0.5973 - val_binary_crossentropy: 0.5973\n",
      "Epoch 32/70\n",
      "1292/1292 [==============================] - 0s - loss: 0.6093 - binary_crossentropy: 0.5786 - val_loss: 0.5963 - val_binary_crossentropy: 0.5963\n",
      "Epoch 33/70\n",
      "1292/1292 [==============================] - 0s - loss: 0.6091 - binary_crossentropy: 0.5775 - val_loss: 0.5956 - val_binary_crossentropy: 0.5956\n",
      "Epoch 34/70\n",
      "1292/1292 [==============================] - 0s - loss: 0.6090 - binary_crossentropy: 0.5765 - val_loss: 0.5949 - val_binary_crossentropy: 0.5949\n",
      "Epoch 35/70\n",
      "1292/1292 [==============================] - 0s - loss: 0.6087 - binary_crossentropy: 0.5753 - val_loss: 0.5942 - val_binary_crossentropy: 0.5942\n",
      "Epoch 36/70\n",
      "1292/1292 [==============================] - 0s - loss: 0.6081 - binary_crossentropy: 0.5738 - val_loss: 0.5937 - val_binary_crossentropy: 0.5937\n",
      "Epoch 37/70\n",
      "1292/1292 [==============================] - 0s - loss: 0.6073 - binary_crossentropy: 0.5722 - val_loss: 0.5934 - val_binary_crossentropy: 0.5934\n",
      "Epoch 38/70\n",
      "1292/1292 [==============================] - 0s - loss: 0.6067 - binary_crossentropy: 0.5709 - val_loss: 0.5934 - val_binary_crossentropy: 0.5934\n",
      "Epoch 39/70\n",
      "1292/1292 [==============================] - 0s - loss: 0.6065 - binary_crossentropy: 0.5699 - val_loss: 0.5936 - val_binary_crossentropy: 0.5936\n",
      "Epoch 40/70\n",
      "1292/1292 [==============================] - 0s - loss: 0.6065 - binary_crossentropy: 0.5692 - val_loss: 0.5938 - val_binary_crossentropy: 0.5938\n",
      "Epoch 41/70\n",
      "1292/1292 [==============================] - 0s - loss: 0.6065 - binary_crossentropy: 0.5687 - val_loss: 0.5936 - val_binary_crossentropy: 0.5936\n",
      "Epoch 42/70\n",
      "1292/1292 [==============================] - 0s - loss: 0.6064 - binary_crossentropy: 0.5680 - val_loss: 0.5931 - val_binary_crossentropy: 0.5931\n",
      "Epoch 43/70\n",
      "1292/1292 [==============================] - 0s - loss: 0.6061 - binary_crossentropy: 0.5673 - val_loss: 0.5924 - val_binary_crossentropy: 0.5924\n",
      "Epoch 44/70\n",
      "1292/1292 [==============================] - 0s - loss: 0.6058 - binary_crossentropy: 0.5664 - val_loss: 0.5917 - val_binary_crossentropy: 0.5917\n",
      "Epoch 45/70\n",
      "1292/1292 [==============================] - 0s - loss: 0.6055 - binary_crossentropy: 0.5657 - val_loss: 0.5910 - val_binary_crossentropy: 0.5910\n",
      "Epoch 46/70\n",
      "1292/1292 [==============================] - 0s - loss: 0.6054 - binary_crossentropy: 0.5652 - val_loss: 0.5906 - val_binary_crossentropy: 0.5906\n",
      "Epoch 47/70\n",
      "1292/1292 [==============================] - 0s - loss: 0.6054 - binary_crossentropy: 0.5648 - val_loss: 0.5902 - val_binary_crossentropy: 0.5902\n",
      "Epoch 48/70\n",
      "1292/1292 [==============================] - 0s - loss: 0.6054 - binary_crossentropy: 0.5645 - val_loss: 0.5900 - val_binary_crossentropy: 0.5900\n",
      "Epoch 49/70\n",
      "1292/1292 [==============================] - 0s - loss: 0.6054 - binary_crossentropy: 0.5642 - val_loss: 0.5899 - val_binary_crossentropy: 0.5899\n",
      "Epoch 50/70\n",
      "1292/1292 [==============================] - 0s - loss: 0.6053 - binary_crossentropy: 0.5638 - val_loss: 0.5898 - val_binary_crossentropy: 0.5898\n",
      "Epoch 51/70\n",
      "1292/1292 [==============================] - 0s - loss: 0.6050 - binary_crossentropy: 0.5634 - val_loss: 0.5899 - val_binary_crossentropy: 0.5899\n",
      "Epoch 52/70\n",
      "1292/1292 [==============================] - 0s - loss: 0.6048 - binary_crossentropy: 0.5630 - val_loss: 0.5901 - val_binary_crossentropy: 0.5901\n",
      "Epoch 53/70\n",
      "1292/1292 [==============================] - 0s - loss: 0.6047 - binary_crossentropy: 0.5628 - val_loss: 0.5903 - val_binary_crossentropy: 0.5903\n",
      "Epoch 54/70\n",
      "1292/1292 [==============================] - 0s - loss: 0.6047 - binary_crossentropy: 0.5626 - val_loss: 0.5904 - val_binary_crossentropy: 0.5904\n",
      "Epoch 55/70\n",
      "1292/1292 [==============================] - 0s - loss: 0.6046 - binary_crossentropy: 0.5625 - val_loss: 0.5905 - val_binary_crossentropy: 0.5905\n",
      "Epoch 56/70\n",
      "1292/1292 [==============================] - 0s - loss: 0.6046 - binary_crossentropy: 0.5624 - val_loss: 0.5904 - val_binary_crossentropy: 0.5904\n",
      "Epoch 57/70\n",
      "1292/1292 [==============================] - 0s - loss: 0.6045 - binary_crossentropy: 0.5622 - val_loss: 0.5901 - val_binary_crossentropy: 0.5901\n",
      "Epoch 58/70\n",
      "1292/1292 [==============================] - 0s - loss: 0.6043 - binary_crossentropy: 0.5620 - val_loss: 0.5897 - val_binary_crossentropy: 0.5897\n",
      "Epoch 59/70\n",
      "1292/1292 [==============================] - 0s - loss: 0.6041 - binary_crossentropy: 0.5618 - val_loss: 0.5894 - val_binary_crossentropy: 0.5894\n",
      "Epoch 60/70\n",
      "1292/1292 [==============================] - 0s - loss: 0.6040 - binary_crossentropy: 0.5617 - val_loss: 0.5891 - val_binary_crossentropy: 0.5891\n",
      "Epoch 61/70\n",
      "1292/1292 [==============================] - 0s - loss: 0.6039 - binary_crossentropy: 0.5617 - val_loss: 0.5889 - val_binary_crossentropy: 0.5889\n",
      "Epoch 62/70\n",
      "1292/1292 [==============================] - 0s - loss: 0.6038 - binary_crossentropy: 0.5616 - val_loss: 0.5888 - val_binary_crossentropy: 0.5888\n",
      "Epoch 63/70\n",
      "1292/1292 [==============================] - 0s - loss: 0.6038 - binary_crossentropy: 0.5616 - val_loss: 0.5887 - val_binary_crossentropy: 0.5887\n",
      "Epoch 64/70\n",
      "1292/1292 [==============================] - 0s - loss: 0.6037 - binary_crossentropy: 0.5616 - val_loss: 0.5888 - val_binary_crossentropy: 0.5888\n",
      "Epoch 65/70\n",
      "1292/1292 [==============================] - 0s - loss: 0.6036 - binary_crossentropy: 0.5616 - val_loss: 0.5888 - val_binary_crossentropy: 0.5888\n",
      "Epoch 66/70\n",
      "1292/1292 [==============================] - 0s - loss: 0.6034 - binary_crossentropy: 0.5615 - val_loss: 0.5890 - val_binary_crossentropy: 0.5890\n",
      "Epoch 67/70\n",
      "1292/1292 [==============================] - 0s - loss: 0.6033 - binary_crossentropy: 0.5615 - val_loss: 0.5891 - val_binary_crossentropy: 0.5891\n",
      "Epoch 68/70\n",
      "1292/1292 [==============================] - 0s - loss: 0.6033 - binary_crossentropy: 0.5615 - val_loss: 0.5893 - val_binary_crossentropy: 0.5893\n",
      "Epoch 69/70\n",
      "1292/1292 [==============================] - 0s - loss: 0.6032 - binary_crossentropy: 0.5616 - val_loss: 0.5893 - val_binary_crossentropy: 0.5893\n",
      "Epoch 70/70\n",
      "1292/1292 [==============================] - 0s - loss: 0.6032 - binary_crossentropy: 0.5616 - val_loss: 0.5893 - val_binary_crossentropy: 0.5893\n"
     ]
    },
    {
     "data": {
      "text/plain": [
       "<keras.callbacks.History at 0x7f8a7c125e90>"
      ]
     },
     "execution_count": 31,
     "metadata": {},
     "output_type": "execute_result"
    }
   ],
   "source": [
    "model.fit(X, np.expand_dims(Y, 1), nb_epoch=70, batch_size=2048, validation_data=(Xt, np.expand_dims(Yt, 1)), verbose=1)"
   ]
  },
  {
   "cell_type": "code",
   "execution_count": 33,
   "metadata": {
    "collapsed": false
   },
   "outputs": [
    {
     "data": {
      "text/plain": [
       "array([[1],\n",
       "       [0],\n",
       "       [0],\n",
       "       ..., \n",
       "       [1],\n",
       "       [1],\n",
       "       [1]])"
      ]
     },
     "execution_count": 33,
     "metadata": {},
     "output_type": "execute_result"
    }
   ],
   "source": [
    "np.expand_dims(Y, 1)"
   ]
  },
  {
   "cell_type": "code",
   "execution_count": 48,
   "metadata": {
    "collapsed": false
   },
   "outputs": [
    {
     "name": "stdout",
     "output_type": "stream",
     "text": [
      "\r",
      " 32/134 [======>.......................] - ETA: 0s"
     ]
    }
   ],
   "source": [
    "Yp=model.predict_proba(Xt)"
   ]
  },
  {
   "cell_type": "code",
   "execution_count": 66,
   "metadata": {
    "collapsed": false
   },
   "outputs": [
    {
     "data": {
      "text/plain": [
       "array([[ 0.51612903,  0.14224138,  0.97952586, ...,  0.4612069 ,\n",
       "         0.92780172,  0.22952586],\n",
       "       [ 0.03225806,  0.14224138,  0.97952586, ...,  0.27155172,\n",
       "         0.61314655,  0.54525862],\n",
       "       [ 0.38709677,  0.67025862,  0.04956897, ...,  0.27155172,\n",
       "         0.61314655,  0.54525862],\n",
       "       ..., \n",
       "       [ 0.87096774,  0.54741379,  0.13469828, ...,  0.76293103,\n",
       "         0.92780172,  0.81357759],\n",
       "       [ 0.74193548,  0.82974138,  0.5       , ...,  0.95043103,\n",
       "         0.92780172,  0.14331897],\n",
       "       [ 0.87096774,  0.44073276,  0.04956897, ...,  0.4612069 ,\n",
       "         0.71012931,  0.54525862]])"
      ]
     },
     "execution_count": 66,
     "metadata": {},
     "output_type": "execute_result"
    }
   ],
   "source": [
    "X"
   ]
  },
  {
   "cell_type": "code",
   "execution_count": 10,
   "metadata": {
    "collapsed": false
   },
   "outputs": [],
   "source": [
    "seg = result[(result['Season'])<2013].copy()\n",
    "X = seg.ix[:, 6:7].values\n",
    "Y = seg.ix[:, 0].values\n",
    "test = result[(result['Season']==2013)].copy()\n",
    "Xt = test.ix[:, 6:7].values\n",
    "Yt = test.ix[:, 0].values"
   ]
  },
  {
   "cell_type": "code",
   "execution_count": 48,
   "metadata": {
    "collapsed": false
   },
   "outputs": [
    {
     "data": {
      "text/plain": [
       "{'min_samples_leaf': 4, 'n_estimators': 110}"
      ]
     },
     "execution_count": 48,
     "metadata": {},
     "output_type": "execute_result"
    }
   ],
   "source": [
    "cver.best_params_"
   ]
  },
  {
   "cell_type": "code",
   "execution_count": 49,
   "metadata": {
    "collapsed": false
   },
   "outputs": [
    {
     "data": {
      "text/plain": [
       "RandomForestClassifier(bootstrap=True, class_weight=None, criterion='gini',\n",
       "            max_depth=None, max_features='auto', max_leaf_nodes=None,\n",
       "            min_samples_leaf=4, min_samples_split=2,\n",
       "            min_weight_fraction_leaf=0.0, n_estimators=110, n_jobs=1,\n",
       "            oob_score=False, random_state=None, verbose=0,\n",
       "            warm_start=False)"
      ]
     },
     "execution_count": 49,
     "metadata": {},
     "output_type": "execute_result"
    }
   ],
   "source": [
    "rf = RandomForestClassifier(n_estimators=110, min_samples_leaf=4)\n",
    "rf.fit(X, Y)"
   ]
  },
  {
   "cell_type": "markdown",
   "metadata": {},
   "source": [
    "Test on test set"
   ]
  },
  {
   "cell_type": "code",
   "execution_count": 31,
   "metadata": {
    "collapsed": false
   },
   "outputs": [
    {
     "name": "stdout",
     "output_type": "stream",
     "text": [
      "\r",
      " 32/134 [======>.......................] - ETA: 0s"
     ]
    }
   ],
   "source": [
    "Yp = model.predict_proba(Xt)"
   ]
  },
  {
   "cell_type": "code",
   "execution_count": 52,
   "metadata": {
    "collapsed": false
   },
   "outputs": [
    {
     "data": {
      "text/plain": [
       "0.61295923585826095"
      ]
     },
     "execution_count": 52,
     "metadata": {},
     "output_type": "execute_result"
    }
   ],
   "source": [
    "#keeps the best auc\n",
    "from sklearn.metrics import log_loss\n",
    "\n",
    "log_loss(Yt, Yp)"
   ]
  },
  {
   "cell_type": "code",
   "execution_count": 32,
   "metadata": {
    "collapsed": false
   },
   "outputs": [
    {
     "data": {
      "text/plain": [
       "0.60233398560267781"
      ]
     },
     "execution_count": 32,
     "metadata": {},
     "output_type": "execute_result"
    }
   ],
   "source": [
    "from sklearn.metrics import log_loss\n",
    "log_loss(Yt, Yp, eps=1e-7)"
   ]
  },
  {
   "cell_type": "code",
   "execution_count": 30,
   "metadata": {
    "collapsed": false
   },
   "outputs": [
    {
     "data": {
      "text/plain": [
       "0.73535308531967036"
      ]
     },
     "execution_count": 30,
     "metadata": {},
     "output_type": "execute_result"
    }
   ],
   "source": [
    "#keeps the best auc\n",
    "from sklearn.metrics import roc_auc_score\n",
    "\n",
    "roc_auc_score(Yt, Yp[:,1])"
   ]
  },
  {
   "cell_type": "code",
   "execution_count": 34,
   "metadata": {
    "collapsed": false
   },
   "outputs": [
    {
     "data": {
      "text/plain": [
       "0.72978391623969707"
      ]
     },
     "execution_count": 34,
     "metadata": {},
     "output_type": "execute_result"
    }
   ],
   "source": [
    "from sklearn.metrics import roc_auc_score\n",
    "roc_auc_score(Yt, Yp)"
   ]
  },
  {
   "cell_type": "markdown",
   "metadata": {},
   "source": [
    "# Submit result"
   ]
  },
  {
   "cell_type": "code",
   "execution_count": 38,
   "metadata": {
    "collapsed": false
   },
   "outputs": [],
   "source": [
    "submission = pd.read_csv(\"./Data/sample_submission.csv\")\n",
    "content = []\n",
    "for row in submission.iterrows():\n",
    "    content.append(map(int, row[1].ix[0].split('_')))"
   ]
  },
  {
   "cell_type": "code",
   "execution_count": 39,
   "metadata": {
    "collapsed": false
   },
   "outputs": [],
   "source": [
    "submission = pd.DataFrame(content, columns=['Season', 'Player', 'Opponent'])"
   ]
  },
  {
   "cell_type": "code",
   "execution_count": null,
   "metadata": {
    "collapsed": true
   },
   "outputs": [],
   "source": []
  },
  {
   "cell_type": "code",
   "execution_count": 40,
   "metadata": {
    "collapsed": false
   },
   "outputs": [],
   "source": [
    "# take features from existing data\n",
    "t = pd.merge(submission, tourney_seeds, left_on=['Season', 'Player'], right_on=['Season', 'Team'])\n",
    "t = t.ix[:, [0,1,2,5]]\n",
    "t.columns = ['Season', 'Player', 'Opponent', 'PlayerSeed']\n",
    "t = pd.merge(t, tourney_seeds, left_on=['Season', 'Opponent'], right_on=['Season', 'Team'])\n",
    "t = t.ix[:, [0, 1, 2, 3, 6]]\n",
    "t.columns = ['Season', 'Player', 'Opponent', 'PlayerSeed', 'OpponentSeed']\n",
    "t['SeedDelta'] = (t['OpponentSeed']-t['PlayerSeed']+16.0)/31\n",
    "t['SeedState'] = (17.0-t['PlayerSeed'].values)/16\n",
    "t = pd.merge(t, feature, on=['Season', 'Player'])\n",
    "t = pd.merge(t, feature, left_on=['Season', 'Opponent'], right_on=['Season', 'Player'], suffixes=[\"Ply\", \"Opp\"])\n",
    "t.drop('PlayerOpp', 1, inplace=True)\n",
    "t = t.rename(columns={\"PlayerPly\": \"Player\"})"
   ]
  },
  {
   "cell_type": "code",
   "execution_count": 47,
   "metadata": {
    "collapsed": false
   },
   "outputs": [],
   "source": [
    "X = t.ix[:, 5:23].values\n",
    "Y = rf.predict_proba(X)"
   ]
  },
  {
   "cell_type": "code",
   "execution_count": 48,
   "metadata": {
    "collapsed": false
   },
   "outputs": [],
   "source": [
    "t['Prediction']=Y[:, 1]"
   ]
  },
  {
   "cell_type": "code",
   "execution_count": 49,
   "metadata": {
    "collapsed": true
   },
   "outputs": [],
   "source": [
    "id = []\n",
    "pred = []\n",
    "for row in t.iterrows():\n",
    "    id.append(\"{0}_{1}_{2}\".format(int(row[1].ix[0]), int(row[1].ix[1]), int(row[1].ix[2])))\n",
    "    pred.append(row[1].ix[23])"
   ]
  },
  {
   "cell_type": "code",
   "execution_count": 50,
   "metadata": {
    "collapsed": true
   },
   "outputs": [],
   "source": [
    "submit = pd.DataFrame({\"id\":id, \"pred\":pred}, columns=['id', 'pred'])"
   ]
  },
  {
   "cell_type": "code",
   "execution_count": 51,
   "metadata": {
    "collapsed": false
   },
   "outputs": [
    {
     "data": {
      "text/html": [
       "<div>\n",
       "<table border=\"1\" class=\"dataframe\">\n",
       "  <thead>\n",
       "    <tr style=\"text-align: right;\">\n",
       "      <th></th>\n",
       "      <th>id</th>\n",
       "      <th>pred</th>\n",
       "    </tr>\n",
       "  </thead>\n",
       "  <tbody>\n",
       "    <tr>\n",
       "      <th>0</th>\n",
       "      <td>2013_1103_1107</td>\n",
       "      <td>0.527143</td>\n",
       "    </tr>\n",
       "    <tr>\n",
       "      <th>1</th>\n",
       "      <td>2013_1103_1112</td>\n",
       "      <td>0.275000</td>\n",
       "    </tr>\n",
       "    <tr>\n",
       "      <th>2</th>\n",
       "      <td>2013_1107_1112</td>\n",
       "      <td>0.075000</td>\n",
       "    </tr>\n",
       "    <tr>\n",
       "      <th>3</th>\n",
       "      <td>2013_1103_1125</td>\n",
       "      <td>0.395238</td>\n",
       "    </tr>\n",
       "    <tr>\n",
       "      <th>4</th>\n",
       "      <td>2013_1107_1125</td>\n",
       "      <td>0.309286</td>\n",
       "    </tr>\n",
       "  </tbody>\n",
       "</table>\n",
       "</div>"
      ],
      "text/plain": [
       "               id      pred\n",
       "0  2013_1103_1107  0.527143\n",
       "1  2013_1103_1112  0.275000\n",
       "2  2013_1107_1112  0.075000\n",
       "3  2013_1103_1125  0.395238\n",
       "4  2013_1107_1125  0.309286"
      ]
     },
     "execution_count": 51,
     "metadata": {},
     "output_type": "execute_result"
    }
   ],
   "source": [
    "submit.head()"
   ]
  },
  {
   "cell_type": "code",
   "execution_count": 52,
   "metadata": {
    "collapsed": true
   },
   "outputs": [],
   "source": [
    "submit.to_csv(\"result.csv\", index=False)"
   ]
  },
  {
   "cell_type": "markdown",
   "metadata": {},
   "source": [
    "Try to calculate loss locally"
   ]
  },
  {
   "cell_type": "code",
   "execution_count": 53,
   "metadata": {
    "collapsed": false
   },
   "outputs": [],
   "source": [
    "submission = t[['Season', 'Player', 'Opponent', 'Prediction']]"
   ]
  },
  {
   "cell_type": "code",
   "execution_count": 54,
   "metadata": {
    "collapsed": false
   },
   "outputs": [
    {
     "data": {
      "text/plain": [
       "(9112, 4)"
      ]
     },
     "execution_count": 54,
     "metadata": {},
     "output_type": "execute_result"
    }
   ],
   "source": [
    "submission.shape"
   ]
  },
  {
   "cell_type": "code",
   "execution_count": 55,
   "metadata": {
    "collapsed": false
   },
   "outputs": [],
   "source": [
    "t1 = pd.merge(submission, tourney_compact_results, left_on=['Season', 'Player', 'Opponent'], right_on=['Season', 'Wteam', 'Lteam'])\n",
    "t2 = pd.merge(submission, tourney_compact_results, left_on=['Season', 'Player', 'Opponent'], right_on=['Season', 'Lteam', 'Wteam'])"
   ]
  },
  {
   "cell_type": "code",
   "execution_count": 56,
   "metadata": {
    "collapsed": false
   },
   "outputs": [
    {
     "data": {
      "text/plain": [
       "0.2889324328931448"
      ]
     },
     "execution_count": 56,
     "metadata": {},
     "output_type": "execute_result"
    }
   ],
   "source": [
    "t1['Label']=1\n",
    "t2['Label']=0\n",
    "submission = pd.concat([t1, t2], ignore_index=True)\n",
    "log_loss(submission['Label'].values, submission['Prediction'].values)"
   ]
  },
  {
   "cell_type": "code",
   "execution_count": null,
   "metadata": {
    "collapsed": true
   },
   "outputs": [],
   "source": []
  }
 ],
 "metadata": {
  "kernelspec": {
   "display_name": "Python 2",
   "language": "python",
   "name": "python2"
  },
  "language_info": {
   "codemirror_mode": {
    "name": "ipython",
    "version": 2
   },
   "file_extension": ".py",
   "mimetype": "text/x-python",
   "name": "python",
   "nbconvert_exporter": "python",
   "pygments_lexer": "ipython2",
   "version": "2.7.12"
  }
 },
 "nbformat": 4,
 "nbformat_minor": 1
}
