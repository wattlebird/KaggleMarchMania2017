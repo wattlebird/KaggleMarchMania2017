{
 "cells": [
  {
   "cell_type": "markdown",
   "metadata": {},
   "source": [
    "Distreate feature generation"
   ]
  },
  {
   "cell_type": "code",
   "execution_count": 25,
   "metadata": {
    "collapsed": true
   },
   "outputs": [],
   "source": [
    "from scipy.sparse import csr_matrix\n",
    "\n",
    "def one_hot_array(length, i, dense=False):\n",
    "    if dense:\n",
    "        rtn = np.zeros((1, length), dtype=np.float)\n",
    "        if np.isscalar(i):\n",
    "            rtn[0, i]=1\n",
    "            return rtn\n",
    "        else:\n",
    "            for itm in i:\n",
    "                rtn[0, itm]=1\n",
    "            return rtn\n",
    "    else:\n",
    "        if np.isscalar(i):\n",
    "            return csr_matrix(([1], ([0], [i])), dtype=np.float, shape=(1, length))\n",
    "        else:\n",
    "            return csr_matrix(([1]*len(i), ([0]*len(i), i)), dtype=np.float, shape=(1, length))\n",
    "    "
   ]
  },
  {
   "cell_type": "markdown",
   "metadata": {},
   "source": [
    "Generate features for a year"
   ]
  },
  {
   "cell_type": "code",
   "execution_count": 26,
   "metadata": {
    "collapsed": true
   },
   "outputs": [],
   "source": [
    "import pandas as pd\n",
    "import numpy as np\n",
    "\n",
    "def feature_generator(year):\n",
    "    tourney_seeds = pd.read_csv(\"./Data/TourneySeeds.csv\")\n",
    "    rank = []\n",
    "    teams = []\n",
    "    for seed, team in tourney_seeds[tourney_seeds.Season==year].loc[:,['Seed','Team']].values:\n",
    "        rank.append(int(seed[1:3]))\n",
    "        teams.append(team-1101)\n",
    "        \n",
    "    f_team = dict({x: one_hot_array(365, x) for x in teams})\n",
    "    \n",
    "    f_rank = dict({x: one_hot_array(16, rank[i]-1) for i, x in enumerate(teams)})\n",
    "    \n",
    "    pretour_rank = []\n",
    "    first_four_teams = []\n",
    "    pretour_teams = []\n",
    "    for seed, team in tourney_seeds[tourney_seeds.Season==(year-1)].loc[:,['Seed','Team']].values:\n",
    "        pretour_rank.append(int(seed[1:3]))\n",
    "        if len(seed)>3:\n",
    "            first_four_teams.append(team-1101)\n",
    "        pretour_teams.append(team-1101)\n",
    "    t_dict = dict({x: one_hot_array(16, pretour_rank[i]-1) for i, x in enumerate(pretour_teams)})\n",
    "    f_pretour_rank = ({\n",
    "        x: t_dict[x] if x in t_dict else csr_matrix((1, 16), dtype=np.float) for x in teams\n",
    "    })\n",
    "    \n",
    "    tour_result_simp = pd.read_csv(\"./Data/TourneyCompactResults.csv\")\n",
    "    tour_arc = np.hstack([tour_result_simp[tour_result_simp.ix[:, 0]==(year-1)].loc[:, 'Wteam'].values, \n",
    "                      tour_result_simp[tour_result_simp.ix[:, 0]==(year-1)].loc[:, 'Lteam'].values])\n",
    "    tour_arc-=1101\n",
    "    f_pretour_round = dict()\n",
    "    unique, counts = np.unique(tour_arc, return_counts=True)\n",
    "    pretour_cnt = dict(zip(unique, counts))\n",
    "    for x in teams:\n",
    "        if x in first_four_teams:\n",
    "            f_pretour_round[x] = one_hot_array(7, range(0, pretour_cnt[x]))\n",
    "        elif x in pretour_cnt:\n",
    "            f_pretour_round[x] = one_hot_array(7, range(1, pretour_cnt[x]+1), True)\n",
    "        else:\n",
    "            f_pretour_round[x] = np.zeros((1, 7), dtype=np.float)\n",
    "    \n",
    "    tour_result = pd.read_csv(\"./Data/TourneyDetailedResults.csv\")\n",
    "    pair_pretour_result = dict()\n",
    "    for row in tour_result[tour_result.loc[:, \"Season\"]==(year-1)].iterrows():\n",
    "        rec = row[1]\n",
    "        winner = rec['Wteam']-1101\n",
    "        loser = rec['Lteam']-1101\n",
    "\n",
    "        # on the winner's side\n",
    "        v = np.zeros((1, 21), dtype=np.float)\n",
    "        v[0, 0]=1 # winner\n",
    "        if rec['Wscore']-rec['Lscore']<=3: v[0, 2]=1 # marginal win\n",
    "        if rec['Numot']!=0: v[0, 4]=1 \n",
    "        if rec['Wfgm']>rec['Lfgm']: v[0, 5]=1\n",
    "        if rec['Wfga']>rec['Lfga']: v[0, 6]=1\n",
    "        if rec['Wfgm']/(rec['Wfga']+0.0) > rec['Lfgm']/(rec['Lfga']+0.0): v[0, 7]=1\n",
    "        if rec['Wfgm3']>rec['Lfgm3']: v[0, 8]=1\n",
    "        if rec['Wfga3']>rec['Lfga3']: v[0, 9]=1\n",
    "        if rec['Wfgm3']/(rec['Wfga3']+0.0) > rec['Lfgm3']/(rec['Lfga3']+0.0): v[0, 10]=1\n",
    "        if rec['Wftm']>rec['Lftm']: v[0, 11]=1\n",
    "        if rec['Wfta']>rec['Lfta']: v[0, 12]=1\n",
    "        if rec['Wftm']/(rec['Wfta']+0.0) > rec['Lftm']/(rec['Lfta']+0.0): v[0, 13]=1\n",
    "        if rec['Wor']>rec['Lor']: v[0, 14]=1\n",
    "        if rec['Wdr']>rec['Ldr']: v[0, 15]=1\n",
    "        if rec['Wast']>rec['Last']: v[0, 16]=1\n",
    "        if rec['Wto']>rec['Lto']: v[0, 17]=1\n",
    "        if rec['Wstl']>rec['Lstl']: v[0, 18]=1\n",
    "        if rec['Wblk']>rec['Lblk']: v[0, 19]=1\n",
    "        if rec['Wpf']>rec['Lpf']: v[0, 20]=1\n",
    "\n",
    "        if winner not in pair_pretour_result:\n",
    "            pair_pretour_result[winner] = []\n",
    "        pair_pretour_result[winner].append((loser, v))\n",
    "\n",
    "        # on the loser's side\n",
    "        v = np.zeros((1, 21), dtype=np.float)\n",
    "        v[0, 1]=1 # loser\n",
    "        if rec['Wscore']-rec['Lscore']<=3: v[0, 3]=1 # marginal lose\n",
    "        if rec['Numot']!=0: v[0, 4]=1 \n",
    "        if rec['Wfgm']<rec['Lfgm']: v[0, 5]=1\n",
    "        if rec['Wfga']<rec['Lfga']: v[0, 6]=1\n",
    "        if rec['Wfgm']/(rec['Wfga']+0.0) < rec['Lfgm']/(rec['Lfga']+0.0): v[0, 7]=1\n",
    "        if rec['Wfgm3']<rec['Lfgm3']: v[0, 8]=1\n",
    "        if rec['Wfga3']<rec['Lfga3']: v[0, 9]=1\n",
    "        if rec['Wfgm3']/(rec['Wfga3']+0.0) < rec['Lfgm3']/(rec['Lfga3']+0.0): v[0, 10]=1\n",
    "        if rec['Wftm']<rec['Lftm']: v[0, 11]=1\n",
    "        if rec['Wfta']<rec['Lfta']: v[0, 12]=1\n",
    "        if rec['Wftm']/(rec['Wfta']+0.0) < rec['Lftm']/(rec['Lfta']+0.0): v[0, 13]=1\n",
    "        if rec['Wor']<rec['Lor']: v[0, 14]=1\n",
    "        if rec['Wdr']<rec['Ldr']: v[0, 15]=1\n",
    "        if rec['Wast']<rec['Last']: v[0, 16]=1\n",
    "        if rec['Wto']<rec['Lto']: v[0, 17]=1\n",
    "        if rec['Wstl']<rec['Lstl']: v[0, 18]=1\n",
    "        if rec['Wblk']<rec['Lblk']: v[0, 19]=1\n",
    "        if rec['Wpf']<rec['Lpf']: v[0, 20]=1\n",
    "        if loser not in pair_pretour_result:\n",
    "            pair_pretour_result[loser] = []\n",
    "        pair_pretour_result[loser].append((winner, v))\n",
    "    f_pretour_record = dict()\n",
    "    for team in teams:\n",
    "        if team not in pair_pretour_result:\n",
    "            f_pretour_record[team] = csr_matrix((1, 365*21), dtype = np.float)\n",
    "        else:\n",
    "            record = sorted(pair_pretour_result[team], key=lambda x:x[0])\n",
    "            col=[]\n",
    "            for base, arr in record:\n",
    "                col.extend(list(base*21+arr.nonzero()[1]))\n",
    "            f_pretour_record[team] = one_hot_array(365*21, col)\n",
    "            \n",
    "    regular_result = pd.read_csv(\"./Data/RegularSeasonDetailedResults.csv\")\n",
    "    pair_regular_result = dict()\n",
    "    for row in regular_result[regular_result.loc[:, \"Season\"]==year].iterrows():\n",
    "        rec = row[1]\n",
    "        winner = rec['Wteam']-1101\n",
    "        loser = rec['Lteam']-1101\n",
    "\n",
    "        # on the winner's side\n",
    "        v = np.zeros((1, 22), dtype=np.float)\n",
    "        v[0, 0]=1 # winner\n",
    "        if rec['Wscore']-rec['Lscore']<=3: v[0, 2]=1 # marginal win\n",
    "        if rec['Numot']!=0: v[0, 4]=1 \n",
    "        if rec['Wfgm']>rec['Lfgm']: v[0, 5]=1\n",
    "        if rec['Wfga']>rec['Lfga']: v[0, 6]=1\n",
    "        if rec['Wfgm']/(rec['Wfga']+1e-9) > rec['Lfgm']/(rec['Lfga']+1e-9): v[0, 7]=1\n",
    "        if rec['Wfgm3']>rec['Lfgm3']: v[0, 8]=1\n",
    "        if rec['Wfga3']>rec['Lfga3']: v[0, 9]=1\n",
    "        if rec['Wfgm3']/(rec['Wfga3']+1e-9) > rec['Lfgm3']/(rec['Lfga3']+1e-9): v[0, 10]=1\n",
    "        if rec['Wftm']>rec['Lftm']: v[0, 11]=1\n",
    "        if rec['Wfta']>rec['Lfta']: v[0, 12]=1\n",
    "        if rec['Wftm']/(rec['Wfta']+1e-9) > rec['Lftm']/(rec['Lfta']+1e-9): v[0, 13]=1\n",
    "        if rec['Wor']>rec['Lor']: v[0, 14]=1\n",
    "        if rec['Wdr']>rec['Ldr']: v[0, 15]=1\n",
    "        if rec['Wast']>rec['Last']: v[0, 16]=1\n",
    "        if rec['Wto']>rec['Lto']: v[0, 17]=1\n",
    "        if rec['Wstl']>rec['Lstl']: v[0, 18]=1\n",
    "        if rec['Wblk']>rec['Lblk']: v[0, 19]=1\n",
    "        if rec['Wpf']>rec['Lpf']: v[0, 20]=1\n",
    "        if rec['Wloc']=='H': \n",
    "            v[0, 21]=1\n",
    "        elif rec['Wloc']=='A':\n",
    "            v[0, 21]=2\n",
    "\n",
    "\n",
    "        if winner not in pair_regular_result:\n",
    "            pair_regular_result[winner] = []\n",
    "        pair_regular_result[winner].append((loser, v))\n",
    "\n",
    "        # on the loser's side\n",
    "        v = np.zeros((1, 22), dtype=np.float)\n",
    "        v[0, 1]=1 # loser\n",
    "        if rec['Wscore']-rec['Lscore']<=3: v[0, 3]=1 # marginal lose\n",
    "        if rec['Numot']!=0: v[0, 4]=1 \n",
    "        if rec['Wfgm']<rec['Lfgm']: v[0, 5]=1\n",
    "        if rec['Wfga']<rec['Lfga']: v[0, 6]=1\n",
    "        if rec['Wfgm']/(rec['Wfga']+1e-9) < rec['Lfgm']/(rec['Lfga']+1e-9): v[0, 7]=1\n",
    "        if rec['Wfgm3']<rec['Lfgm3']: v[0, 8]=1\n",
    "        if rec['Wfga3']<rec['Lfga3']: v[0, 9]=1\n",
    "        if rec['Wfgm3']/(rec['Wfga3']+1e-9) < rec['Lfgm3']/(rec['Lfga3']+1e-9): v[0, 10]=1\n",
    "        if rec['Wftm']<rec['Lftm']: v[0, 11]=1\n",
    "        if rec['Wfta']<rec['Lfta']: v[0, 12]=1\n",
    "        if rec['Wftm']/(rec['Wfta']+1e-9) < rec['Lftm']/(rec['Lfta']+1e-9): v[0, 13]=1\n",
    "        if rec['Wor']<rec['Lor']: v[0, 14]=1\n",
    "        if rec['Wdr']<rec['Ldr']: v[0, 15]=1\n",
    "        if rec['Wast']<rec['Last']: v[0, 16]=1\n",
    "        if rec['Wto']<rec['Lto']: v[0, 17]=1\n",
    "        if rec['Wstl']<rec['Lstl']: v[0, 18]=1\n",
    "        if rec['Wblk']<rec['Lblk']: v[0, 19]=1\n",
    "        if rec['Wpf']<rec['Lpf']: v[0, 20]=1\n",
    "        if rec['Wloc']=='H': \n",
    "            v[0, 21]=2\n",
    "        elif rec['Wloc']=='A':\n",
    "            v[0, 21]=1\n",
    "        if loser not in pair_regular_result:\n",
    "            pair_regular_result[loser] = []\n",
    "        pair_regular_result[loser].append((winner, v))\n",
    "        \n",
    "    f_regular_record = dict()\n",
    "    for team in teams:\n",
    "        if team not in pair_regular_result:\n",
    "            f_regular_record[team] = csr_matrix((1, 365*21*3), dtype = np.float)\n",
    "        else:\n",
    "            record = sorted(pair_regular_result[team], key=lambda x:x[0])\n",
    "            col=[]\n",
    "            for base, arr in record:\n",
    "                col.extend(list(base*21*3+arr[0, 21]*21+arr[0, :21].nonzero()[0]))\n",
    "\n",
    "            f_regular_record[team] = one_hot_array(365*21*3, sorted(col))\n",
    "            \n",
    "    return (teams, (f_team, f_rank, f_pretour_rank, f_pretour_round, f_pretour_record, f_regular_record))"
   ]
  },
  {
   "cell_type": "code",
   "execution_count": 27,
   "metadata": {
    "collapsed": false
   },
   "outputs": [],
   "source": [
    "def cross_features(*args):\n",
    "    mtxlen = [m.shape[1] for m in args]\n",
    "    totallen = reduce(lambda x, y: x*y, mtxlen)\n",
    "    acc = []\n",
    "    cur = totallen\n",
    "    for itm in mtxlen:\n",
    "        acc.append(cur/itm)\n",
    "        cur = acc[-1]\n",
    "    \n",
    "    col = []\n",
    "    from itertools import product\n",
    "    for itm in product(*[m.indices for m in args]):\n",
    "        v = 0\n",
    "        for i, c in enumerate(itm):\n",
    "            v+=acc[i]*c\n",
    "        col.append(v)\n",
    "    return one_hot_array(totallen, col)"
   ]
  },
  {
   "cell_type": "code",
   "execution_count": 15,
   "metadata": {
    "collapsed": false
   },
   "outputs": [
    {
     "data": {
      "text/plain": [
       "<1x5840 sparse matrix of type '<type 'numpy.int32'>'\n",
       "\twith 1 stored elements in Compressed Sparse Row format>"
      ]
     },
     "execution_count": 15,
     "metadata": {},
     "output_type": "execute_result"
    }
   ],
   "source": [
    "cross_features(fs[0][2], fs[1][2])"
   ]
  },
  {
   "cell_type": "markdown",
   "metadata": {
    "collapsed": true
   },
   "source": [
    "Generate training data"
   ]
  },
  {
   "cell_type": "code",
   "execution_count": 28,
   "metadata": {
    "collapsed": false,
    "scrolled": true
   },
   "outputs": [],
   "source": [
    "def get_feature_for_pair(p, y):\n",
    "    # get feature of pairlst p in year y \n",
    "    X = []\n",
    "    teamlst, (f_team, f_rank, f_pretour_rank, f_pretour_round, f_pretour_record, f_regular_record) = feature_generator(y)\n",
    "    \n",
    "    from scipy.sparse import hstack\n",
    "    for pair in p:\n",
    "        X.append(hstack([\n",
    "                f_team[pair[0]],\n",
    "                f_team[pair[1]],\n",
    "                f_rank[pair[0]],\n",
    "                f_rank[pair[1]],\n",
    "                f_pretour_record[pair[0]],\n",
    "                f_regular_record[pair[0]],\n",
    "                f_pretour_record[pair[1]],\n",
    "                f_regular_record[pair[1]],\n",
    "                cross_features(f_team[pair[0]], f_team[pair[1]]),\n",
    "                cross_features(f_team[pair[0]], f_rank[pair[1]]),\n",
    "                cross_features(f_team[pair[1]], f_rank[pair[0]]),\n",
    "                cross_features(f_rank[pair[0]], f_rank[pair[1]])\n",
    "            ]))\n",
    "    return X"
   ]
  },
  {
   "cell_type": "code",
   "execution_count": 14,
   "metadata": {
    "collapsed": false
   },
   "outputs": [],
   "source": [
    "X = get_feature_for_pair(pair, year)"
   ]
  },
  {
   "cell_type": "code",
   "execution_count": null,
   "metadata": {
    "collapsed": false
   },
   "outputs": [],
   "source": [
    "import pandas as pd\n",
    "import numpy as np\n",
    "\n",
    "\n",
    "tcr = pd.read_csv(\"./Data/TourneyCompactResults.csv\")\n",
    "years = [2004, 2005, 2006, 2007, 2008, 2009, 2010, 2011, 2012]\n",
    "X = []\n",
    "Y = []\n",
    "for year in years:\n",
    "    y = []\n",
    "    pair = []\n",
    "    for w, l in tcr[tcr.Season==year].loc[:, ['Wteam', 'Lteam']].values:\n",
    "        pair.extend([(w-1101, l-1101), (l-1101, w-1101)])\n",
    "        y.extend([1, 0])\n",
    "    x = get_feature_for_pair(pair, year)\n",
    "    Y.extend(y)\n",
    "    X.extend(x)"
   ]
  },
  {
   "cell_type": "code",
   "execution_count": 16,
   "metadata": {
    "collapsed": true
   },
   "outputs": [],
   "source": [
    "vyears = [2013]\n",
    "Xv = []\n",
    "Yv = []\n",
    "for year in vyears:\n",
    "    y = []\n",
    "    pair = []\n",
    "    for w, l in tcr[tcr.Season==year].loc[:, ['Wteam', 'Lteam']].values:\n",
    "        pair.extend([(w-1101, l-1101), (l-1101, w-1101)])\n",
    "        y.extend([1, 0])\n",
    "    x = get_feature_for_pair(pair, year)\n",
    "    Yv.extend(y)\n",
    "    Xv.extend(x)"
   ]
  },
  {
   "cell_type": "code",
   "execution_count": 22,
   "metadata": {
    "collapsed": false
   },
   "outputs": [],
   "source": [
    "from scipy.sparse import vstack\n",
    "X = vstack(X).tocsr()\n",
    "Xv = vstack(Xv).tocsr()\n",
    "Y = np.asarray(Y, dtype=np.float)\n",
    "Yv = np.asarray(Yv, dtype = np.float)"
   ]
  },
  {
   "cell_type": "code",
   "execution_count": 23,
   "metadata": {
    "collapsed": true
   },
   "outputs": [],
   "source": [
    "import lightgbm as lgb\n",
    "\n",
    "lgb_train = lgb.Dataset(X, Y)\n",
    "lgb_valid = lgb.Dataset(Xv, Yv, reference=lgb_train)"
   ]
  },
  {
   "cell_type": "code",
   "execution_count": 20,
   "metadata": {
    "collapsed": true
   },
   "outputs": [],
   "source": [
    "params = {\n",
    "    'boosting_type': 'gbdt',\n",
    "    'objective': 'binary',\n",
    "    'tree_learner': 'feature',\n",
    "    'num_threads': 4,\n",
    "    'metric': 'binary_logloss',\n",
    "    'num_leaves': 127,\n",
    "    'learning_rate': 0.1,\n",
    "    'feature_fraction': 0.9,\n",
    "    'bagging_fraction': 0.8,\n",
    "    'bagging_freq': 5,\n",
    "    'verbose': 1\n",
    "}"
   ]
  },
  {
   "cell_type": "code",
   "execution_count": 24,
   "metadata": {
    "collapsed": false
   },
   "outputs": [
    {
     "ename": "TypeError",
     "evalue": "Expected np.float32 or np.float64, met type(int32)",
     "output_type": "error",
     "traceback": [
      "\u001b[1;31m---------------------------------------------------------------------------\u001b[0m",
      "\u001b[1;31mTypeError\u001b[0m                                 Traceback (most recent call last)",
      "\u001b[1;32m<ipython-input-24-0281418a711d>\u001b[0m in \u001b[0;36m<module>\u001b[1;34m()\u001b[0m\n\u001b[0;32m      3\u001b[0m                 \u001b[0mnum_boost_round\u001b[0m\u001b[1;33m=\u001b[0m\u001b[1;36m50\u001b[0m\u001b[1;33m,\u001b[0m\u001b[1;33m\u001b[0m\u001b[0m\n\u001b[0;32m      4\u001b[0m                 \u001b[0mvalid_sets\u001b[0m\u001b[1;33m=\u001b[0m\u001b[0mlgb_valid\u001b[0m\u001b[1;33m,\u001b[0m\u001b[1;33m\u001b[0m\u001b[0m\n\u001b[1;32m----> 5\u001b[1;33m                 early_stopping_rounds=5)\n\u001b[0m",
      "\u001b[1;32m/home/ike/Software/LightGBM/python-package/lightgbm/engine.pyc\u001b[0m in \u001b[0;36mtrain\u001b[1;34m(params, train_set, num_boost_round, valid_sets, valid_names, fobj, feval, init_model, feature_name, categorical_feature, early_stopping_rounds, evals_result, verbose_eval, learning_rates, callbacks)\u001b[0m\n\u001b[0;32m    161\u001b[0m \u001b[1;33m\u001b[0m\u001b[0m\n\u001b[0;32m    162\u001b[0m     \u001b[1;34m\"\"\"construct booster\"\"\"\u001b[0m\u001b[1;33m\u001b[0m\u001b[0m\n\u001b[1;32m--> 163\u001b[1;33m     \u001b[0mbooster\u001b[0m \u001b[1;33m=\u001b[0m \u001b[0mBooster\u001b[0m\u001b[1;33m(\u001b[0m\u001b[0mparams\u001b[0m\u001b[1;33m=\u001b[0m\u001b[0mparams\u001b[0m\u001b[1;33m,\u001b[0m \u001b[0mtrain_set\u001b[0m\u001b[1;33m=\u001b[0m\u001b[0mtrain_set\u001b[0m\u001b[1;33m)\u001b[0m\u001b[1;33m\u001b[0m\u001b[0m\n\u001b[0m\u001b[0;32m    164\u001b[0m     \u001b[1;32mif\u001b[0m \u001b[0mis_valid_contain_train\u001b[0m\u001b[1;33m:\u001b[0m\u001b[1;33m\u001b[0m\u001b[0m\n\u001b[0;32m    165\u001b[0m         \u001b[0mbooster\u001b[0m\u001b[1;33m.\u001b[0m\u001b[0mset_train_data_name\u001b[0m\u001b[1;33m(\u001b[0m\u001b[0mtrain_data_name\u001b[0m\u001b[1;33m)\u001b[0m\u001b[1;33m\u001b[0m\u001b[0m\n",
      "\u001b[1;32m/home/ike/Software/LightGBM/python-package/lightgbm/basic.pyc\u001b[0m in \u001b[0;36m__init__\u001b[1;34m(self, params, train_set, model_file, silent)\u001b[0m\n\u001b[0;32m   1173\u001b[0m             \u001b[1;34m\"\"\"construct booster object\"\"\"\u001b[0m\u001b[1;33m\u001b[0m\u001b[0m\n\u001b[0;32m   1174\u001b[0m             _safe_call(_LIB.LGBM_BoosterCreate(\n\u001b[1;32m-> 1175\u001b[1;33m                 \u001b[0mtrain_set\u001b[0m\u001b[1;33m.\u001b[0m\u001b[0mconstruct\u001b[0m\u001b[1;33m(\u001b[0m\u001b[1;33m)\u001b[0m\u001b[1;33m.\u001b[0m\u001b[0mhandle\u001b[0m\u001b[1;33m,\u001b[0m\u001b[1;33m\u001b[0m\u001b[0m\n\u001b[0m\u001b[0;32m   1176\u001b[0m                 \u001b[0mc_str\u001b[0m\u001b[1;33m(\u001b[0m\u001b[0mparams_str\u001b[0m\u001b[1;33m)\u001b[0m\u001b[1;33m,\u001b[0m\u001b[1;33m\u001b[0m\u001b[0m\n\u001b[0;32m   1177\u001b[0m                 ctypes.byref(self.handle)))\n",
      "\u001b[1;32m/home/ike/Software/LightGBM/python-package/lightgbm/basic.pyc\u001b[0m in \u001b[0;36mconstruct\u001b[1;34m(self)\u001b[0m\n\u001b[0;32m    771\u001b[0m                                 \u001b[0mweight\u001b[0m\u001b[1;33m=\u001b[0m\u001b[0mself\u001b[0m\u001b[1;33m.\u001b[0m\u001b[0mweight\u001b[0m\u001b[1;33m,\u001b[0m \u001b[0mgroup\u001b[0m\u001b[1;33m=\u001b[0m\u001b[0mself\u001b[0m\u001b[1;33m.\u001b[0m\u001b[0mgroup\u001b[0m\u001b[1;33m,\u001b[0m \u001b[0mpredictor\u001b[0m\u001b[1;33m=\u001b[0m\u001b[0mself\u001b[0m\u001b[1;33m.\u001b[0m\u001b[0m_predictor\u001b[0m\u001b[1;33m,\u001b[0m\u001b[1;33m\u001b[0m\u001b[0m\n\u001b[0;32m    772\u001b[0m                                 \u001b[0msilent\u001b[0m\u001b[1;33m=\u001b[0m\u001b[0mself\u001b[0m\u001b[1;33m.\u001b[0m\u001b[0msilent\u001b[0m\u001b[1;33m,\u001b[0m \u001b[0mfeature_name\u001b[0m\u001b[1;33m=\u001b[0m\u001b[0mself\u001b[0m\u001b[1;33m.\u001b[0m\u001b[0mfeature_name\u001b[0m\u001b[1;33m,\u001b[0m\u001b[1;33m\u001b[0m\u001b[0m\n\u001b[1;32m--> 773\u001b[1;33m                                 categorical_feature=self.categorical_feature, params=self.params)\n\u001b[0m\u001b[0;32m    774\u001b[0m             \u001b[1;32mif\u001b[0m \u001b[0mself\u001b[0m\u001b[1;33m.\u001b[0m\u001b[0mfree_raw_data\u001b[0m\u001b[1;33m:\u001b[0m\u001b[1;33m\u001b[0m\u001b[0m\n\u001b[0;32m    775\u001b[0m                 \u001b[0mself\u001b[0m\u001b[1;33m.\u001b[0m\u001b[0mdata\u001b[0m \u001b[1;33m=\u001b[0m \u001b[0mNone\u001b[0m\u001b[1;33m\u001b[0m\u001b[0m\n",
      "\u001b[1;32m/home/ike/Software/LightGBM/python-package/lightgbm/basic.pyc\u001b[0m in \u001b[0;36m_lazy_init\u001b[1;34m(self, data, label, max_bin, reference, weight, group, predictor, silent, feature_name, categorical_feature, params)\u001b[0m\n\u001b[0;32m    632\u001b[0m                 ctypes.byref(self.handle)))\n\u001b[0;32m    633\u001b[0m         \u001b[1;32melif\u001b[0m \u001b[0misinstance\u001b[0m\u001b[1;33m(\u001b[0m\u001b[0mdata\u001b[0m\u001b[1;33m,\u001b[0m \u001b[0mscipy\u001b[0m\u001b[1;33m.\u001b[0m\u001b[0msparse\u001b[0m\u001b[1;33m.\u001b[0m\u001b[0mcsr_matrix\u001b[0m\u001b[1;33m)\u001b[0m\u001b[1;33m:\u001b[0m\u001b[1;33m\u001b[0m\u001b[0m\n\u001b[1;32m--> 634\u001b[1;33m             \u001b[0mself\u001b[0m\u001b[1;33m.\u001b[0m\u001b[0m__init_from_csr\u001b[0m\u001b[1;33m(\u001b[0m\u001b[0mdata\u001b[0m\u001b[1;33m,\u001b[0m \u001b[0mparams_str\u001b[0m\u001b[1;33m,\u001b[0m \u001b[0mref_dataset\u001b[0m\u001b[1;33m)\u001b[0m\u001b[1;33m\u001b[0m\u001b[0m\n\u001b[0m\u001b[0;32m    635\u001b[0m         \u001b[1;32melif\u001b[0m \u001b[0misinstance\u001b[0m\u001b[1;33m(\u001b[0m\u001b[0mdata\u001b[0m\u001b[1;33m,\u001b[0m \u001b[0mscipy\u001b[0m\u001b[1;33m.\u001b[0m\u001b[0msparse\u001b[0m\u001b[1;33m.\u001b[0m\u001b[0mcsc_matrix\u001b[0m\u001b[1;33m)\u001b[0m\u001b[1;33m:\u001b[0m\u001b[1;33m\u001b[0m\u001b[0m\n\u001b[0;32m    636\u001b[0m             \u001b[0mself\u001b[0m\u001b[1;33m.\u001b[0m\u001b[0m__init_from_csc\u001b[0m\u001b[1;33m(\u001b[0m\u001b[0mdata\u001b[0m\u001b[1;33m,\u001b[0m \u001b[0mparams_str\u001b[0m\u001b[1;33m,\u001b[0m \u001b[0mref_dataset\u001b[0m\u001b[1;33m)\u001b[0m\u001b[1;33m\u001b[0m\u001b[0m\n",
      "\u001b[1;32m/home/ike/Software/LightGBM/python-package/lightgbm/basic.pyc\u001b[0m in \u001b[0;36m__init_from_csr\u001b[1;34m(self, csr, params_str, ref_dataset)\u001b[0m\n\u001b[0;32m    705\u001b[0m \u001b[1;33m\u001b[0m\u001b[0m\n\u001b[0;32m    706\u001b[0m         \u001b[0mptr_indptr\u001b[0m\u001b[1;33m,\u001b[0m \u001b[0mtype_ptr_indptr\u001b[0m \u001b[1;33m=\u001b[0m \u001b[0mc_int_array\u001b[0m\u001b[1;33m(\u001b[0m\u001b[0mcsr\u001b[0m\u001b[1;33m.\u001b[0m\u001b[0mindptr\u001b[0m\u001b[1;33m)\u001b[0m\u001b[1;33m\u001b[0m\u001b[0m\n\u001b[1;32m--> 707\u001b[1;33m         \u001b[0mptr_data\u001b[0m\u001b[1;33m,\u001b[0m \u001b[0mtype_ptr_data\u001b[0m \u001b[1;33m=\u001b[0m \u001b[0mc_float_array\u001b[0m\u001b[1;33m(\u001b[0m\u001b[0mcsr\u001b[0m\u001b[1;33m.\u001b[0m\u001b[0mdata\u001b[0m\u001b[1;33m)\u001b[0m\u001b[1;33m\u001b[0m\u001b[0m\n\u001b[0m\u001b[0;32m    708\u001b[0m \u001b[1;33m\u001b[0m\u001b[0m\n\u001b[0;32m    709\u001b[0m         _safe_call(_LIB.LGBM_DatasetCreateFromCSR(\n",
      "\u001b[1;32m/home/ike/Software/LightGBM/python-package/lightgbm/basic.pyc\u001b[0m in \u001b[0;36mc_float_array\u001b[1;34m(data)\u001b[0m\n\u001b[0;32m    189\u001b[0m         \u001b[1;32melse\u001b[0m\u001b[1;33m:\u001b[0m\u001b[1;33m\u001b[0m\u001b[0m\n\u001b[0;32m    190\u001b[0m             raise TypeError(\"Expected np.float32 or np.float64, met type({})\"\n\u001b[1;32m--> 191\u001b[1;33m                             .format(data.dtype))\n\u001b[0m\u001b[0;32m    192\u001b[0m     \u001b[1;32melse\u001b[0m\u001b[1;33m:\u001b[0m\u001b[1;33m\u001b[0m\u001b[0m\n\u001b[0;32m    193\u001b[0m         \u001b[1;32mraise\u001b[0m \u001b[0mTypeError\u001b[0m\u001b[1;33m(\u001b[0m\u001b[1;34m\"Unknown type({})\"\u001b[0m\u001b[1;33m.\u001b[0m\u001b[0mformat\u001b[0m\u001b[1;33m(\u001b[0m\u001b[0mtype\u001b[0m\u001b[1;33m(\u001b[0m\u001b[0mdata\u001b[0m\u001b[1;33m)\u001b[0m\u001b[1;33m.\u001b[0m\u001b[0m__name__\u001b[0m\u001b[1;33m)\u001b[0m\u001b[1;33m)\u001b[0m\u001b[1;33m\u001b[0m\u001b[0m\n",
      "\u001b[1;31mTypeError\u001b[0m: Expected np.float32 or np.float64, met type(int32)"
     ]
    }
   ],
   "source": [
    "gbm = lgb.train(params,\n",
    "                lgb_train,\n",
    "                num_boost_round=50,\n",
    "                valid_sets=lgb_valid,\n",
    "                early_stopping_rounds=5)"
   ]
  },
  {
   "cell_type": "code",
   "execution_count": 13,
   "metadata": {
    "collapsed": false
   },
   "outputs": [
    {
     "data": {
      "text/plain": [
       "<1164x207243 sparse matrix of type '<type 'numpy.int32'>'\n",
       "\twith 770130 stored elements in Compressed Sparse Row format>"
      ]
     },
     "execution_count": 13,
     "metadata": {},
     "output_type": "execute_result"
    }
   ],
   "source": []
  },
  {
   "cell_type": "code",
   "execution_count": null,
   "metadata": {
    "collapsed": true
   },
   "outputs": [],
   "source": []
  }
 ],
 "metadata": {
  "kernelspec": {
   "display_name": "Python 2",
   "language": "python",
   "name": "python2"
  },
  "language_info": {
   "codemirror_mode": {
    "name": "ipython",
    "version": 2
   },
   "file_extension": ".py",
   "mimetype": "text/x-python",
   "name": "python",
   "nbconvert_exporter": "python",
   "pygments_lexer": "ipython2",
   "version": "2.7.12"
  }
 },
 "nbformat": 4,
 "nbformat_minor": 1
}
