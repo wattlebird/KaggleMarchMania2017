{
 "cells": [
  {
   "cell_type": "markdown",
   "metadata": {},
   "source": [
    "# March Machine Learning Mania 2017\n",
    "\n",
    "In this Kaggle contest, one is required to predict the outcome of NCAA Men's division I's outcome, or alternatively, the result of march mania basketball game. Given several sheets of historical basketball playing record, this year's match result is to be predicted on every possible pair among the 68 selected teams. There's no restriction on the data source, however, this solution only restricts on the dataset given by Kaggle.\n",
    "\n",
    "The idea of my solution is quite straightforward and simple. A previous trial on prediction using seed difference only already gives good results. My solution is just improvement on this starting point."
   ]
  },
  {
   "cell_type": "markdown",
   "metadata": {},
   "source": [
    "## 1. Statistical feature generation\n",
    "\n",
    "Following the idea that this year's tournament result be predicted on identical season's regular season performance, each team will be generated with different features in different years.\n",
    "\n",
    "I in this solution generated 25 statistical features besides seed difference: \n",
    "\n",
    "1. Num of wins in regular season\n",
    "2. Num of significant wins in regular season\n",
    "3. Num of significant loses in regular season\n",
    "4. Seed in tournament\n",
    "5. Score average\n",
    "6. TO average\n",
    "7. AST average\n",
    "8. OR average\n",
    "9. DR average\n",
    "10. STL average\n",
    "10. BLK average\n",
    "11. PF average\n",
    "12. EfgO\n",
    "13. EfgD\n",
    "14. TopO\n",
    "15. TopD\n",
    "16. ORB\n",
    "17. DRB\n",
    "18. OFT\n",
    "19. DFT\n",
    "20. AstO\n",
    "21. AstD\n",
    "22. FGrate\n",
    "23. FG3rate\n",
    "24. FTrate\n",
    "25. AstTo"
   ]
  },
  {
   "cell_type": "code",
   "execution_count": 334,
   "metadata": {
    "collapsed": true
   },
   "outputs": [],
   "source": [
    "import pandas as pd\n",
    "import numpy as np\n",
    "\n",
    "\n",
    "regular = pd.read_csv(\"./Data/RegularSeasonDetailedResults.csv\")\n",
    "regular_rev = regular.ix[:, [0,1,4,5,2,3,7,21,22,23,24,25,26,27,28,29,30,31,32,33,8,9,10,11,12,13,14,15,16,17,18,19,20]]\n",
    "new_regular = pd.DataFrame(np.vstack([regular_rev.values, \n",
    "                                   regular.ix[:, [0,1,2,3,4,5,7,8,9,10,11,12,13,14,15,16,17,18,19,20,21,22,23,24,25,26,27,28,29,30,31,32,33]].values], \n",
    "                                 ), columns = [\"Season\",\"Daynum\",\"Player\",\"PlayerScore\",\"Opponent\",\"OpponentScore\",\"Numot\",\"Wfgm\",\"Wfga\",\"Wfgm3\",\"Wfga3\",\"Wftm\",\"Wfta\",\"Wor\",\"Wdr\",\"Wast\",\"Wto\",\"Wstl\",\"Wblk\",\"Wpf\",\"Lfgm\",\"Lfga\",\"Lfgm3\",\"Lfga3\",\"Lftm\",\"Lfta\",\"Lor\",\"Ldr\",\"Last\",\"Lto\",\"Lstl\",\"Lblk\",\"Lpf\"])\n",
    "loc = []\n",
    "revloc = []\n",
    "for itm in regular['Wloc'].values:\n",
    "    if itm=='N':\n",
    "        loc.append(0)\n",
    "        revloc.append(0)\n",
    "    elif itm=='H':\n",
    "        loc.append(1)\n",
    "        revloc.append(-1)\n",
    "    else:\n",
    "        loc.append(-1)\n",
    "        revloc.append(1)\n",
    "new_regular['PlayerLoc']=np.hstack([revloc, loc])\n",
    "new_regular['PlayerResult']=np.hstack([-1*np.ones(regular.shape[0], dtype=np.int), np.ones(regular.shape[0], dtype=np.int)])"
   ]
  },
  {
   "cell_type": "code",
   "execution_count": 335,
   "metadata": {
    "collapsed": false
   },
   "outputs": [],
   "source": [
    "# generate significant wins, significant lose, and location weight\n",
    "marginal_thres = 5\n",
    "sigwin = ((new_regular.loc[:, 'PlayerScore']-new_regular.loc[:, 'OpponentScore'])>marginal_thres).astype(np.int)\n",
    "siglose = ((new_regular.loc[:, 'PlayerScore']-new_regular.loc[:, 'OpponentScore'])<-marginal_thres).astype(np.int)\n",
    "locweight = (-new_regular.loc[:, 'PlayerLoc'])*0.5+1\n",
    "new_regular['SigWin'] = sigwin\n",
    "new_regular['SigLose'] = siglose\n",
    "new_regular['LocWeight'] = locweight"
   ]
  },
  {
   "cell_type": "code",
   "execution_count": 336,
   "metadata": {
    "collapsed": false
   },
   "outputs": [],
   "source": [
    "# generate features 1,2,3\n",
    "feature = new_regular.loc[:, [\"Season\", \"Player\", \"PlayerResult\", \"SigWin\", \"SigLose\"]].groupby(['Season', 'Player']).sum()\n",
    "# generate features 5-12\n",
    "feature = pd.merge(feature,\n",
    "                   new_regular.loc[:, [\"Season\", \"Player\", \"PlayerScore\", \"Wor\",\"Wdr\",\"Wast\",\"Wto\",\"Wstl\",\"Wblk\",\"Wpf\"]].groupby(['Season', 'Player']).mean(),\n",
    "                   left_index=True, right_index=True)"
   ]
  },
  {
   "cell_type": "code",
   "execution_count": 337,
   "metadata": {
    "collapsed": false
   },
   "outputs": [],
   "source": [
    "# generate features 13-26\n",
    "t = pd.DataFrame({\n",
    "        'EfgO': (new_regular.Wfgm+new_regular.Wfgm3/2)/new_regular.Wfga,\n",
    "        'EfgD': (new_regular.Lfgm+new_regular.Lfgm3/2)/new_regular.Lfga,\n",
    "        'TopO': new_regular.Wto/(new_regular.Wfga+0.44*new_regular.Wfta+new_regular.Wto),\n",
    "        'TopD': new_regular.Lto/(new_regular.Lfga+0.44*new_regular.Lfta+new_regular.Lto),\n",
    "        'ORB': new_regular.Wor/(new_regular.Wor+new_regular.Ldr),\n",
    "        'DRB': new_regular.Wdr/(new_regular.Wdr+new_regular.Lor),\n",
    "        'OFT': new_regular.Wftm/new_regular.Wfga,\n",
    "        'DFT': new_regular.Lftm/new_regular.Lfga,\n",
    "        'AstO': new_regular.Wast/(new_regular.Wfga+0.44*new_regular.Wfta+new_regular.Wast),\n",
    "        'AstD': new_regular.Last/(new_regular.Lfga+0.44*new_regular.Lfta+new_regular.Last),\n",
    "        'FGrate': new_regular.Wfgm/new_regular.Wfga,\n",
    "        'FG3rate': new_regular.Wfgm3/new_regular.Wfga3,\n",
    "        'FTrate': new_regular.Wftm/new_regular.Wfta,\n",
    "        'AstTo': new_regular.Wast/new_regular.Wto,\n",
    "        'Season': new_regular.Season,\n",
    "        'Player': new_regular.Player,\n",
    "    })\n",
    "feature = pd.merge(feature, t.groupby(['Season', 'Player']).mean(), left_index=True, right_index=True)"
   ]
  },
  {
   "cell_type": "code",
   "execution_count": 338,
   "metadata": {
    "collapsed": false
   },
   "outputs": [
    {
     "data": {
      "text/plain": [
       "False"
      ]
     },
     "execution_count": 338,
     "metadata": {},
     "output_type": "execute_result"
    }
   ],
   "source": [
    "feature.isnull().values.any()"
   ]
  },
  {
   "cell_type": "code",
   "execution_count": 339,
   "metadata": {
    "collapsed": false
   },
   "outputs": [],
   "source": [
    "# generate feature 4\n",
    "tourney_seeds = pd.read_csv(\"./Data/TourneySeeds.csv\")\n",
    "rank = []\n",
    "teams = []\n",
    "for seed, team in tourney_seeds.loc[:,['Seed','Team']].values:\n",
    "    rank.append(int(seed[1:3]))\n",
    "tourney_seeds[\"NumericalSeeds\"] = rank\n",
    "\n",
    "feature = pd.merge(feature, tourney_seeds, how='left', left_index=True, right_on=['Season', 'Team'])\n",
    "feature.drop('Seed', 1, inplace=True)"
   ]
  },
  {
   "cell_type": "code",
   "execution_count": 340,
   "metadata": {
    "collapsed": false
   },
   "outputs": [
    {
     "data": {
      "text/html": [
       "<div>\n",
       "<table border=\"1\" class=\"dataframe\">\n",
       "  <thead>\n",
       "    <tr style=\"text-align: right;\">\n",
       "      <th></th>\n",
       "      <th>PlayerResult</th>\n",
       "      <th>SigWin</th>\n",
       "      <th>SigLose</th>\n",
       "      <th>PlayerScore</th>\n",
       "      <th>Wor</th>\n",
       "      <th>Wdr</th>\n",
       "      <th>Wast</th>\n",
       "      <th>Wto</th>\n",
       "      <th>Wstl</th>\n",
       "      <th>Wblk</th>\n",
       "      <th>...</th>\n",
       "      <th>FG3rate</th>\n",
       "      <th>FGrate</th>\n",
       "      <th>FTrate</th>\n",
       "      <th>OFT</th>\n",
       "      <th>ORB</th>\n",
       "      <th>TopD</th>\n",
       "      <th>TopO</th>\n",
       "      <th>Season</th>\n",
       "      <th>Team</th>\n",
       "      <th>NumericalSeeds</th>\n",
       "    </tr>\n",
       "  </thead>\n",
       "  <tbody>\n",
       "    <tr>\n",
       "      <th>2149</th>\n",
       "      <td>-4</td>\n",
       "      <td>9</td>\n",
       "      <td>11</td>\n",
       "      <td>57.250000</td>\n",
       "      <td>4.178571</td>\n",
       "      <td>16.821429</td>\n",
       "      <td>13.000000</td>\n",
       "      <td>11.428571</td>\n",
       "      <td>5.964286</td>\n",
       "      <td>1.785714</td>\n",
       "      <td>...</td>\n",
       "      <td>0.367637</td>\n",
       "      <td>0.486149</td>\n",
       "      <td>0.642402</td>\n",
       "      <td>0.291436</td>\n",
       "      <td>0.168235</td>\n",
       "      <td>0.203236</td>\n",
       "      <td>0.193121</td>\n",
       "      <td>2003</td>\n",
       "      <td>1102</td>\n",
       "      <td>NaN</td>\n",
       "    </tr>\n",
       "    <tr>\n",
       "      <th>2149</th>\n",
       "      <td>-1</td>\n",
       "      <td>7</td>\n",
       "      <td>8</td>\n",
       "      <td>78.777778</td>\n",
       "      <td>9.777778</td>\n",
       "      <td>19.925926</td>\n",
       "      <td>15.222222</td>\n",
       "      <td>12.629630</td>\n",
       "      <td>7.259259</td>\n",
       "      <td>2.333333</td>\n",
       "      <td>...</td>\n",
       "      <td>0.331990</td>\n",
       "      <td>0.487294</td>\n",
       "      <td>0.735271</td>\n",
       "      <td>0.342976</td>\n",
       "      <td>0.305803</td>\n",
       "      <td>0.186897</td>\n",
       "      <td>0.159805</td>\n",
       "      <td>2003</td>\n",
       "      <td>1103</td>\n",
       "      <td>NaN</td>\n",
       "    </tr>\n",
       "    <tr>\n",
       "      <th>1196</th>\n",
       "      <td>6</td>\n",
       "      <td>16</td>\n",
       "      <td>6</td>\n",
       "      <td>69.285714</td>\n",
       "      <td>13.571429</td>\n",
       "      <td>23.928571</td>\n",
       "      <td>12.107143</td>\n",
       "      <td>13.285714</td>\n",
       "      <td>6.607143</td>\n",
       "      <td>3.785714</td>\n",
       "      <td>...</td>\n",
       "      <td>0.325442</td>\n",
       "      <td>0.419676</td>\n",
       "      <td>0.705168</td>\n",
       "      <td>0.263855</td>\n",
       "      <td>0.371256</td>\n",
       "      <td>0.179498</td>\n",
       "      <td>0.167275</td>\n",
       "      <td>2003</td>\n",
       "      <td>1104</td>\n",
       "      <td>10.0</td>\n",
       "    </tr>\n",
       "    <tr>\n",
       "      <th>2149</th>\n",
       "      <td>-12</td>\n",
       "      <td>5</td>\n",
       "      <td>12</td>\n",
       "      <td>71.769231</td>\n",
       "      <td>13.500000</td>\n",
       "      <td>23.115385</td>\n",
       "      <td>14.538462</td>\n",
       "      <td>18.653846</td>\n",
       "      <td>9.307692</td>\n",
       "      <td>2.076923</td>\n",
       "      <td>...</td>\n",
       "      <td>0.359630</td>\n",
       "      <td>0.396204</td>\n",
       "      <td>0.709598</td>\n",
       "      <td>0.255629</td>\n",
       "      <td>0.335166</td>\n",
       "      <td>0.212924</td>\n",
       "      <td>0.207792</td>\n",
       "      <td>2003</td>\n",
       "      <td>1105</td>\n",
       "      <td>NaN</td>\n",
       "    </tr>\n",
       "    <tr>\n",
       "      <th>2149</th>\n",
       "      <td>-2</td>\n",
       "      <td>8</td>\n",
       "      <td>10</td>\n",
       "      <td>63.607143</td>\n",
       "      <td>12.285714</td>\n",
       "      <td>23.857143</td>\n",
       "      <td>11.678571</td>\n",
       "      <td>17.035714</td>\n",
       "      <td>8.357143</td>\n",
       "      <td>3.142857</td>\n",
       "      <td>...</td>\n",
       "      <td>0.350196</td>\n",
       "      <td>0.425530</td>\n",
       "      <td>0.623158</td>\n",
       "      <td>0.199740</td>\n",
       "      <td>0.349480</td>\n",
       "      <td>0.194026</td>\n",
       "      <td>0.213721</td>\n",
       "      <td>2003</td>\n",
       "      <td>1106</td>\n",
       "      <td>NaN</td>\n",
       "    </tr>\n",
       "  </tbody>\n",
       "</table>\n",
       "<p>5 rows × 28 columns</p>\n",
       "</div>"
      ],
      "text/plain": [
       "      PlayerResult  SigWin  SigLose  PlayerScore        Wor        Wdr  \\\n",
       "2149            -4       9       11    57.250000   4.178571  16.821429   \n",
       "2149            -1       7        8    78.777778   9.777778  19.925926   \n",
       "1196             6      16        6    69.285714  13.571429  23.928571   \n",
       "2149           -12       5       12    71.769231  13.500000  23.115385   \n",
       "2149            -2       8       10    63.607143  12.285714  23.857143   \n",
       "\n",
       "           Wast        Wto      Wstl      Wblk       ...         FG3rate  \\\n",
       "2149  13.000000  11.428571  5.964286  1.785714       ...        0.367637   \n",
       "2149  15.222222  12.629630  7.259259  2.333333       ...        0.331990   \n",
       "1196  12.107143  13.285714  6.607143  3.785714       ...        0.325442   \n",
       "2149  14.538462  18.653846  9.307692  2.076923       ...        0.359630   \n",
       "2149  11.678571  17.035714  8.357143  3.142857       ...        0.350196   \n",
       "\n",
       "        FGrate    FTrate       OFT       ORB      TopD      TopO  Season  \\\n",
       "2149  0.486149  0.642402  0.291436  0.168235  0.203236  0.193121    2003   \n",
       "2149  0.487294  0.735271  0.342976  0.305803  0.186897  0.159805    2003   \n",
       "1196  0.419676  0.705168  0.263855  0.371256  0.179498  0.167275    2003   \n",
       "2149  0.396204  0.709598  0.255629  0.335166  0.212924  0.207792    2003   \n",
       "2149  0.425530  0.623158  0.199740  0.349480  0.194026  0.213721    2003   \n",
       "\n",
       "      Team  NumericalSeeds  \n",
       "2149  1102             NaN  \n",
       "2149  1103             NaN  \n",
       "1196  1104            10.0  \n",
       "2149  1105             NaN  \n",
       "2149  1106             NaN  \n",
       "\n",
       "[5 rows x 28 columns]"
      ]
     },
     "execution_count": 340,
     "metadata": {},
     "output_type": "execute_result"
    }
   ],
   "source": [
    "feature.head()"
   ]
  },
  {
   "cell_type": "markdown",
   "metadata": {},
   "source": [
    "## 2. Unsupervised ranking feature generation\n",
    "\n",
    "I also use several unsupervised ranking methods provided by rankit https://github.com/wattlebird/ranking to generate ranking result from different systems.\n",
    "\n",
    "The properties to be ranked are:\n",
    "1. Score\n",
    "2. Efg (fgm+fgm3/2)\n",
    "3. OR\n",
    "4. DR\n",
    "5. Ast\n",
    "6. TO\n",
    "7. STL\n",
    "8. BLK\n",
    "9. PF\n",
    "\n",
    "And I use the following ranking methods:\n",
    "1. Massey rank\n",
    "2. Colley rank\n",
    "3. Score difference rank\n",
    "4. Markov rank (by using rate difference)\n",
    "5. Markov rank (by using simple difference)\n",
    "6. OD rank\n",
    "7. Keener rank"
   ]
  },
  {
   "cell_type": "code",
   "execution_count": 341,
   "metadata": {
    "collapsed": false
   },
   "outputs": [
    {
     "data": {
      "text/html": [
       "<div>\n",
       "<table border=\"1\" class=\"dataframe\">\n",
       "  <thead>\n",
       "    <tr style=\"text-align: right;\">\n",
       "      <th></th>\n",
       "      <th>Season</th>\n",
       "      <th>Daynum</th>\n",
       "      <th>Wteam</th>\n",
       "      <th>Wscore</th>\n",
       "      <th>Lteam</th>\n",
       "      <th>Lscore</th>\n",
       "      <th>Wloc</th>\n",
       "      <th>Numot</th>\n",
       "      <th>Wfgm</th>\n",
       "      <th>Wfga</th>\n",
       "      <th>...</th>\n",
       "      <th>Lfga3</th>\n",
       "      <th>Lftm</th>\n",
       "      <th>Lfta</th>\n",
       "      <th>Lor</th>\n",
       "      <th>Ldr</th>\n",
       "      <th>Last</th>\n",
       "      <th>Lto</th>\n",
       "      <th>Lstl</th>\n",
       "      <th>Lblk</th>\n",
       "      <th>Lpf</th>\n",
       "    </tr>\n",
       "  </thead>\n",
       "  <tbody>\n",
       "    <tr>\n",
       "      <th>0</th>\n",
       "      <td>2003</td>\n",
       "      <td>10</td>\n",
       "      <td>1104</td>\n",
       "      <td>68</td>\n",
       "      <td>1328</td>\n",
       "      <td>62</td>\n",
       "      <td>N</td>\n",
       "      <td>0</td>\n",
       "      <td>27</td>\n",
       "      <td>58</td>\n",
       "      <td>...</td>\n",
       "      <td>10</td>\n",
       "      <td>16</td>\n",
       "      <td>22</td>\n",
       "      <td>10</td>\n",
       "      <td>22</td>\n",
       "      <td>8</td>\n",
       "      <td>18</td>\n",
       "      <td>9</td>\n",
       "      <td>2</td>\n",
       "      <td>20</td>\n",
       "    </tr>\n",
       "    <tr>\n",
       "      <th>1</th>\n",
       "      <td>2003</td>\n",
       "      <td>10</td>\n",
       "      <td>1272</td>\n",
       "      <td>70</td>\n",
       "      <td>1393</td>\n",
       "      <td>63</td>\n",
       "      <td>N</td>\n",
       "      <td>0</td>\n",
       "      <td>26</td>\n",
       "      <td>62</td>\n",
       "      <td>...</td>\n",
       "      <td>24</td>\n",
       "      <td>9</td>\n",
       "      <td>20</td>\n",
       "      <td>20</td>\n",
       "      <td>25</td>\n",
       "      <td>7</td>\n",
       "      <td>12</td>\n",
       "      <td>8</td>\n",
       "      <td>6</td>\n",
       "      <td>16</td>\n",
       "    </tr>\n",
       "    <tr>\n",
       "      <th>2</th>\n",
       "      <td>2003</td>\n",
       "      <td>11</td>\n",
       "      <td>1266</td>\n",
       "      <td>73</td>\n",
       "      <td>1437</td>\n",
       "      <td>61</td>\n",
       "      <td>N</td>\n",
       "      <td>0</td>\n",
       "      <td>24</td>\n",
       "      <td>58</td>\n",
       "      <td>...</td>\n",
       "      <td>26</td>\n",
       "      <td>14</td>\n",
       "      <td>23</td>\n",
       "      <td>31</td>\n",
       "      <td>22</td>\n",
       "      <td>9</td>\n",
       "      <td>12</td>\n",
       "      <td>2</td>\n",
       "      <td>5</td>\n",
       "      <td>23</td>\n",
       "    </tr>\n",
       "    <tr>\n",
       "      <th>3</th>\n",
       "      <td>2003</td>\n",
       "      <td>11</td>\n",
       "      <td>1296</td>\n",
       "      <td>56</td>\n",
       "      <td>1457</td>\n",
       "      <td>50</td>\n",
       "      <td>N</td>\n",
       "      <td>0</td>\n",
       "      <td>18</td>\n",
       "      <td>38</td>\n",
       "      <td>...</td>\n",
       "      <td>22</td>\n",
       "      <td>8</td>\n",
       "      <td>15</td>\n",
       "      <td>17</td>\n",
       "      <td>20</td>\n",
       "      <td>9</td>\n",
       "      <td>19</td>\n",
       "      <td>4</td>\n",
       "      <td>3</td>\n",
       "      <td>23</td>\n",
       "    </tr>\n",
       "    <tr>\n",
       "      <th>4</th>\n",
       "      <td>2003</td>\n",
       "      <td>11</td>\n",
       "      <td>1400</td>\n",
       "      <td>77</td>\n",
       "      <td>1208</td>\n",
       "      <td>71</td>\n",
       "      <td>N</td>\n",
       "      <td>0</td>\n",
       "      <td>30</td>\n",
       "      <td>61</td>\n",
       "      <td>...</td>\n",
       "      <td>16</td>\n",
       "      <td>17</td>\n",
       "      <td>27</td>\n",
       "      <td>21</td>\n",
       "      <td>15</td>\n",
       "      <td>12</td>\n",
       "      <td>10</td>\n",
       "      <td>7</td>\n",
       "      <td>1</td>\n",
       "      <td>14</td>\n",
       "    </tr>\n",
       "  </tbody>\n",
       "</table>\n",
       "<p>5 rows × 34 columns</p>\n",
       "</div>"
      ],
      "text/plain": [
       "   Season  Daynum  Wteam  Wscore  Lteam  Lscore Wloc  Numot  Wfgm  Wfga ...   \\\n",
       "0    2003      10   1104      68   1328      62    N      0    27    58 ...    \n",
       "1    2003      10   1272      70   1393      63    N      0    26    62 ...    \n",
       "2    2003      11   1266      73   1437      61    N      0    24    58 ...    \n",
       "3    2003      11   1296      56   1457      50    N      0    18    38 ...    \n",
       "4    2003      11   1400      77   1208      71    N      0    30    61 ...    \n",
       "\n",
       "   Lfga3  Lftm  Lfta  Lor  Ldr  Last  Lto  Lstl  Lblk  Lpf  \n",
       "0     10    16    22   10   22     8   18     9     2   20  \n",
       "1     24     9    20   20   25     7   12     8     6   16  \n",
       "2     26    14    23   31   22     9   12     2     5   23  \n",
       "3     22     8    15   17   20     9   19     4     3   23  \n",
       "4     16    17    27   21   15    12   10     7     1   14  \n",
       "\n",
       "[5 rows x 34 columns]"
      ]
     },
     "execution_count": 341,
     "metadata": {},
     "output_type": "execute_result"
    }
   ],
   "source": [
    "regular.head()"
   ]
  },
  {
   "cell_type": "code",
   "execution_count": 342,
   "metadata": {
    "collapsed": false,
    "scrolled": true
   },
   "outputs": [],
   "source": [
    "regular[\"LocWeight\"] = -0.5*np.require(loc, dtype=np.float)+1\n",
    "w = np.ones(regular.shape[0])\n",
    "w[regular.Daynum.values>=(132-10)] = 2.0\n",
    "regular[\"ContestWeight\"] = w\n",
    "regular[\"Weight\"] = regular.LocWeight * regular.ContestWeight\n",
    "suspendyear = 2018"
   ]
  },
  {
   "cell_type": "code",
   "execution_count": 343,
   "metadata": {
    "collapsed": false
   },
   "outputs": [],
   "source": [
    "regular['Wefgm'] = regular.Wfgm+regular.Wfgm3/2\n",
    "regular['Lefgm'] = regular.Lfgm+regular.Lfgm3/2"
   ]
  },
  {
   "cell_type": "code",
   "execution_count": 344,
   "metadata": {
    "collapsed": false
   },
   "outputs": [],
   "source": [
    "score = ['score', 'efgm', 'or', 'dr', 'ast', 'to', 'stl', 'blk', 'pf']\n",
    "rankingfeature = feature[['Season', 'Team']]"
   ]
  },
  {
   "cell_type": "code",
   "execution_count": 345,
   "metadata": {
    "collapsed": false
   },
   "outputs": [],
   "source": [
    "# generate rank for massey\n",
    "from rankit.util import Converter\n",
    "from rankit.ranker import *\n",
    "\n",
    "performance = []\n",
    "for y in range(2003, suspendyear):\n",
    "    ptable = feature[feature.Season==y][['Season', 'Team']].reset_index(drop=True)\n",
    "    for sc in score:\n",
    "        table = pd.DataFrame({\n",
    "                'primary': regular[regular.Season==y].Wteam,\n",
    "                'secondary': regular[regular.Season==y].Lteam,\n",
    "                'rate1': regular[regular.Season==y].loc[:, 'W'+sc],\n",
    "                'rate2': regular[regular.Season==y].loc[:, 'L'+sc],\n",
    "                'weight': regular[regular.Season==y].Weight\n",
    "            })\n",
    "        \n",
    "        cvt = Converter(table=table)\n",
    "        M=cvt.MasseyMatrix()\n",
    "        b=cvt.MasseyVector()\n",
    "        ranker=MasseyRank(itemlist=cvt.ItemList())\n",
    "        x=ranker.rate(M,b)\n",
    "        rst=ranker.rank(x)\n",
    "        ptable = pd.merge(ptable, rst, left_on=['Team'], right_on=['title']).drop(['rank', 'title'], 1).rename(columns={'rate': \"Massey\"+sc.upper()})\n",
    "    performance.append(ptable)"
   ]
  },
  {
   "cell_type": "code",
   "execution_count": 346,
   "metadata": {
    "collapsed": false,
    "scrolled": true
   },
   "outputs": [],
   "source": [
    "rankingfeature = pd.merge(rankingfeature, pd.concat(performance, ignore_index=True), on=['Season', 'Team'])"
   ]
  },
  {
   "cell_type": "code",
   "execution_count": 347,
   "metadata": {
    "collapsed": false
   },
   "outputs": [],
   "source": [
    "# generate rank for colley\n",
    "performance = []\n",
    "for y in range(2003, suspendyear):\n",
    "    ptable = feature[feature.Season==y][['Season', 'Team']].reset_index(drop=True)\n",
    "    for sc in score:\n",
    "        table = pd.DataFrame({\n",
    "                'primary': regular[regular.Season==y].Wteam,\n",
    "                'secondary': regular[regular.Season==y].Lteam,\n",
    "                'rate1': regular[regular.Season==y].loc[:, 'W'+sc],\n",
    "                'rate2': regular[regular.Season==y].loc[:, 'L'+sc],\n",
    "                'weight': regular[regular.Season==y].Weight\n",
    "            })\n",
    "        \n",
    "        cvt = Converter(table=table)\n",
    "        C=cvt.ColleyMatrix()\n",
    "        b=cvt.ColleyVector()\n",
    "        ranker=ColleyRank(itemlist=cvt.ItemList())\n",
    "        x=ranker.rate(C,b)\n",
    "        rst=ranker.rank(x)\n",
    "        ptable = pd.merge(ptable, rst, left_on=['Team'], right_on=['title']).drop(['rank', 'title'], 1).rename(columns={'rate': \"Colley\"+sc.upper()})\n",
    "    performance.append(ptable)\n",
    "rankingfeature = pd.merge(rankingfeature, pd.concat(performance, ignore_index=True), on=['Season', 'Team'])"
   ]
  },
  {
   "cell_type": "code",
   "execution_count": 348,
   "metadata": {
    "collapsed": false
   },
   "outputs": [],
   "source": [
    "# generate rank for score difference rank\n",
    "performance = []\n",
    "for y in range(2003, suspendyear):\n",
    "    ptable = feature[feature.Season==y][['Season', 'Team']].reset_index(drop=True)\n",
    "    for sc in score:\n",
    "        table = pd.DataFrame({\n",
    "                'primary': regular[regular.Season==y].Wteam,\n",
    "                'secondary': regular[regular.Season==y].Lteam,\n",
    "                'rate1': regular[regular.Season==y].loc[:, 'W'+sc],\n",
    "                'rate2': regular[regular.Season==y].loc[:, 'L'+sc],\n",
    "                'weight': regular[regular.Season==y].Weight\n",
    "            })\n",
    "        \n",
    "        cvt = Converter(table=table)\n",
    "        M=cvt.SymmetricDifferenceMatrix()\n",
    "        ranker=DifferenceRank(itemlist=cvt.ItemList())\n",
    "        x=ranker.rate(M)\n",
    "        rst=ranker.rank(x)\n",
    "        ptable = pd.merge(ptable, rst, left_on=['Team'], right_on=['title']).drop(['rank', 'title'], 1).rename(columns={'rate': \"Diff\"+sc.upper()})\n",
    "    performance.append(ptable)\n",
    "rankingfeature = pd.merge(rankingfeature, pd.concat(performance, ignore_index=True), on=['Season', 'Team'])"
   ]
  },
  {
   "cell_type": "code",
   "execution_count": 349,
   "metadata": {
    "collapsed": false
   },
   "outputs": [],
   "source": [
    "# generate rank for Markov rank (rate difference)\n",
    "performance = []\n",
    "for y in range(2003, suspendyear):\n",
    "    ptable = feature[feature.Season==y][['Season', 'Team']].reset_index(drop=True)\n",
    "    for sc in score:\n",
    "        table = pd.DataFrame({\n",
    "                'primary': regular[regular.Season==y].Wteam,\n",
    "                'secondary': regular[regular.Season==y].Lteam,\n",
    "                'rate1': regular[regular.Season==y].loc[:, 'W'+sc],\n",
    "                'rate2': regular[regular.Season==y].loc[:, 'L'+sc],\n",
    "                'weight': regular[regular.Season==y].Weight\n",
    "            })\n",
    "        \n",
    "        cvt = Converter(table=table)\n",
    "        M=cvt.RateDifferenceVoteMatrix()\n",
    "        ranker=MarkovRank(itemlist=cvt.ItemList(), epsilon=0.6)\n",
    "        x = ranker.rate(M)\n",
    "        rst=ranker.rank(x)\n",
    "        ptable = pd.merge(ptable, rst, left_on=['Team'], right_on=['title']).drop(['rank', 'title'], 1).rename(columns={'rate': \"MarkovRD\"+sc.upper()})\n",
    "    performance.append(ptable)\n",
    "rankingfeature = pd.merge(rankingfeature, pd.concat(performance, ignore_index=True), on=['Season', 'Team'])"
   ]
  },
  {
   "cell_type": "code",
   "execution_count": 350,
   "metadata": {
    "collapsed": true
   },
   "outputs": [],
   "source": [
    "# generate rank for Markov rank (simple difference)\n",
    "performance = []\n",
    "for y in range(2003, suspendyear):\n",
    "    ptable = feature[feature.Season==y][['Season', 'Team']].reset_index(drop=True)\n",
    "    for sc in score:\n",
    "        table = pd.DataFrame({\n",
    "                'primary': regular[regular.Season==y].Wteam,\n",
    "                'secondary': regular[regular.Season==y].Lteam,\n",
    "                'rate1': regular[regular.Season==y].loc[:, 'W'+sc],\n",
    "                'rate2': regular[regular.Season==y].loc[:, 'L'+sc],\n",
    "                'weight': regular[regular.Season==y].Weight\n",
    "            })\n",
    "        \n",
    "        cvt = Converter(table=table)\n",
    "        M=cvt.SimpleDifferenceVoteMatrix()\n",
    "        ranker=MarkovRank(itemlist=cvt.ItemList(), epsilon=0.6)\n",
    "        x = ranker.rate(M)\n",
    "        rst=ranker.rank(x)\n",
    "        ptable = pd.merge(ptable, rst, left_on=['Team'], right_on=['title']).drop(['rank', 'title'], 1).rename(columns={'rate': \"MarkovSD\"+sc.upper()})\n",
    "    performance.append(ptable)\n",
    "rankingfeature = pd.merge(rankingfeature, pd.concat(performance, ignore_index=True), on=['Season', 'Team'])"
   ]
  },
  {
   "cell_type": "code",
   "execution_count": 351,
   "metadata": {
    "collapsed": true
   },
   "outputs": [],
   "source": [
    "# generate rank for OD rank\n",
    "performance = []\n",
    "for y in range(2003, suspendyear):\n",
    "    ptable = feature[feature.Season==y][['Season', 'Team']].reset_index(drop=True)\n",
    "    for sc in score:\n",
    "        table = pd.DataFrame({\n",
    "                'primary': regular[regular.Season==y].Wteam,\n",
    "                'secondary': regular[regular.Season==y].Lteam,\n",
    "                'rate1': regular[regular.Season==y].loc[:, 'W'+sc],\n",
    "                'rate2': regular[regular.Season==y].loc[:, 'L'+sc],\n",
    "                'weight': regular[regular.Season==y].Weight\n",
    "            })\n",
    "        \n",
    "        cvt = Converter(table=table)\n",
    "        M=cvt.RateVoteMatrix()\n",
    "        ranker=ODRank(itemlist=cvt.ItemList(), iteration=1000000)\n",
    "        x=ranker.rate(M)\n",
    "        rst=ranker.rank(x)\n",
    "        ptable = pd.merge(ptable, rst, left_on=['Team'], right_on=['title']).drop(['rank', 'title'], 1).rename(columns={'rate': \"Offdef\"+sc.upper()})\n",
    "    performance.append(ptable)\n",
    "rankingfeature = pd.merge(rankingfeature, pd.concat(performance, ignore_index=True), on=['Season', 'Team'])"
   ]
  },
  {
   "cell_type": "code",
   "execution_count": 352,
   "metadata": {
    "collapsed": true
   },
   "outputs": [],
   "source": [
    "# generate rank for Keener rank\n",
    "performance = []\n",
    "for y in range(2003, suspendyear):\n",
    "    ptable = feature[feature.Season==y][['Season', 'Team']].reset_index(drop=True)\n",
    "    for sc in score:\n",
    "        table = pd.DataFrame({\n",
    "                'primary': regular[regular.Season==y].Wteam,\n",
    "                'secondary': regular[regular.Season==y].Lteam,\n",
    "                'rate1': regular[regular.Season==y].loc[:, 'W'+sc],\n",
    "                'rate2': regular[regular.Season==y].loc[:, 'L'+sc],\n",
    "                'weight': regular[regular.Season==y].Weight\n",
    "            })\n",
    "        \n",
    "        cvt = Converter(table=table)\n",
    "        M=cvt.RateVoteMatrix()\n",
    "        C = cvt.CountMatrix()\n",
    "        ranker=KeenerRank(itemlist=cvt.ItemList(), epsilon=1e-5)\n",
    "        x = ranker.rate(M.T, C)\n",
    "        rst=ranker.rank(x)\n",
    "        ptable = pd.merge(ptable, rst, left_on=['Team'], right_on=['title']).drop(['rank', 'title'], 1).rename(columns={'rate': \"Keener\"+sc.upper()})\n",
    "    performance.append(ptable)\n",
    "rankingfeature = pd.merge(rankingfeature, pd.concat(performance, ignore_index=True), on=['Season', 'Team'])"
   ]
  },
  {
   "cell_type": "code",
   "execution_count": 353,
   "metadata": {
    "collapsed": false
   },
   "outputs": [
    {
     "data": {
      "text/html": [
       "<div>\n",
       "<table border=\"1\" class=\"dataframe\">\n",
       "  <thead>\n",
       "    <tr style=\"text-align: right;\">\n",
       "      <th></th>\n",
       "      <th>Season</th>\n",
       "      <th>Team</th>\n",
       "      <th>MasseySCORE</th>\n",
       "      <th>MasseyEFGM</th>\n",
       "      <th>MasseyOR</th>\n",
       "      <th>MasseyDR</th>\n",
       "      <th>MasseyAST</th>\n",
       "      <th>MasseyTO</th>\n",
       "      <th>MasseySTL</th>\n",
       "      <th>MasseyBLK</th>\n",
       "      <th>...</th>\n",
       "      <th>OffdefPF</th>\n",
       "      <th>KeenerSCORE</th>\n",
       "      <th>KeenerEFGM</th>\n",
       "      <th>KeenerOR</th>\n",
       "      <th>KeenerDR</th>\n",
       "      <th>KeenerAST</th>\n",
       "      <th>KeenerTO</th>\n",
       "      <th>KeenerSTL</th>\n",
       "      <th>KeenerBLK</th>\n",
       "      <th>KeenerPF</th>\n",
       "    </tr>\n",
       "  </thead>\n",
       "  <tbody>\n",
       "    <tr>\n",
       "      <th>0</th>\n",
       "      <td>2003</td>\n",
       "      <td>1102</td>\n",
       "      <td>206.185302</td>\n",
       "      <td>55.075173</td>\n",
       "      <td>-20.710106</td>\n",
       "      <td>80.964791</td>\n",
       "      <td>39.804117</td>\n",
       "      <td>-20.982559</td>\n",
       "      <td>68.562083</td>\n",
       "      <td>-4.312036</td>\n",
       "      <td>...</td>\n",
       "      <td>485.275726</td>\n",
       "      <td>0.003067</td>\n",
       "      <td>0.003155</td>\n",
       "      <td>0.002017</td>\n",
       "      <td>0.002733</td>\n",
       "      <td>0.003534</td>\n",
       "      <td>0.002751</td>\n",
       "      <td>0.003225</td>\n",
       "      <td>0.003156</td>\n",
       "      <td>0.003015</td>\n",
       "    </tr>\n",
       "    <tr>\n",
       "      <th>1</th>\n",
       "      <td>2003</td>\n",
       "      <td>1103</td>\n",
       "      <td>205.245410</td>\n",
       "      <td>51.736180</td>\n",
       "      <td>-18.691948</td>\n",
       "      <td>81.417902</td>\n",
       "      <td>34.881977</td>\n",
       "      <td>-21.417394</td>\n",
       "      <td>67.791348</td>\n",
       "      <td>-5.074698</td>\n",
       "      <td>...</td>\n",
       "      <td>436.073700</td>\n",
       "      <td>0.003332</td>\n",
       "      <td>0.003212</td>\n",
       "      <td>0.003135</td>\n",
       "      <td>0.003206</td>\n",
       "      <td>0.003272</td>\n",
       "      <td>0.003153</td>\n",
       "      <td>0.003217</td>\n",
       "      <td>0.003102</td>\n",
       "      <td>0.003136</td>\n",
       "    </tr>\n",
       "    <tr>\n",
       "      <th>2</th>\n",
       "      <td>2003</td>\n",
       "      <td>1104</td>\n",
       "      <td>215.994162</td>\n",
       "      <td>57.279869</td>\n",
       "      <td>-12.173415</td>\n",
       "      <td>87.415419</td>\n",
       "      <td>38.611625</td>\n",
       "      <td>-20.288968</td>\n",
       "      <td>69.935976</td>\n",
       "      <td>-2.833542</td>\n",
       "      <td>...</td>\n",
       "      <td>460.473511</td>\n",
       "      <td>0.004481</td>\n",
       "      <td>0.004373</td>\n",
       "      <td>0.004629</td>\n",
       "      <td>0.004448</td>\n",
       "      <td>0.004513</td>\n",
       "      <td>0.003953</td>\n",
       "      <td>0.004603</td>\n",
       "      <td>0.004801</td>\n",
       "      <td>0.003854</td>\n",
       "    </tr>\n",
       "    <tr>\n",
       "      <th>3</th>\n",
       "      <td>2003</td>\n",
       "      <td>1105</td>\n",
       "      <td>186.538557</td>\n",
       "      <td>47.293021</td>\n",
       "      <td>-15.696315</td>\n",
       "      <td>75.237400</td>\n",
       "      <td>31.285695</td>\n",
       "      <td>-18.671046</td>\n",
       "      <td>67.152460</td>\n",
       "      <td>-7.463295</td>\n",
       "      <td>...</td>\n",
       "      <td>614.496399</td>\n",
       "      <td>0.002128</td>\n",
       "      <td>0.002177</td>\n",
       "      <td>0.002259</td>\n",
       "      <td>0.002084</td>\n",
       "      <td>0.002018</td>\n",
       "      <td>0.002463</td>\n",
       "      <td>0.002536</td>\n",
       "      <td>0.001867</td>\n",
       "      <td>0.002684</td>\n",
       "    </tr>\n",
       "    <tr>\n",
       "      <th>4</th>\n",
       "      <td>2003</td>\n",
       "      <td>1106</td>\n",
       "      <td>193.961253</td>\n",
       "      <td>52.212902</td>\n",
       "      <td>-16.560125</td>\n",
       "      <td>80.853331</td>\n",
       "      <td>32.833194</td>\n",
       "      <td>-16.854804</td>\n",
       "      <td>67.361833</td>\n",
       "      <td>-4.538705</td>\n",
       "      <td>...</td>\n",
       "      <td>650.450134</td>\n",
       "      <td>0.002242</td>\n",
       "      <td>0.002383</td>\n",
       "      <td>0.002449</td>\n",
       "      <td>0.002226</td>\n",
       "      <td>0.002123</td>\n",
       "      <td>0.002525</td>\n",
       "      <td>0.002483</td>\n",
       "      <td>0.002378</td>\n",
       "      <td>0.002757</td>\n",
       "    </tr>\n",
       "  </tbody>\n",
       "</table>\n",
       "<p>5 rows × 65 columns</p>\n",
       "</div>"
      ],
      "text/plain": [
       "   Season  Team  MasseySCORE  MasseyEFGM   MasseyOR   MasseyDR  MasseyAST  \\\n",
       "0    2003  1102   206.185302   55.075173 -20.710106  80.964791  39.804117   \n",
       "1    2003  1103   205.245410   51.736180 -18.691948  81.417902  34.881977   \n",
       "2    2003  1104   215.994162   57.279869 -12.173415  87.415419  38.611625   \n",
       "3    2003  1105   186.538557   47.293021 -15.696315  75.237400  31.285695   \n",
       "4    2003  1106   193.961253   52.212902 -16.560125  80.853331  32.833194   \n",
       "\n",
       "    MasseyTO  MasseySTL  MasseyBLK    ...       OffdefPF  KeenerSCORE  \\\n",
       "0 -20.982559  68.562083  -4.312036    ...     485.275726     0.003067   \n",
       "1 -21.417394  67.791348  -5.074698    ...     436.073700     0.003332   \n",
       "2 -20.288968  69.935976  -2.833542    ...     460.473511     0.004481   \n",
       "3 -18.671046  67.152460  -7.463295    ...     614.496399     0.002128   \n",
       "4 -16.854804  67.361833  -4.538705    ...     650.450134     0.002242   \n",
       "\n",
       "   KeenerEFGM  KeenerOR  KeenerDR  KeenerAST  KeenerTO  KeenerSTL  KeenerBLK  \\\n",
       "0    0.003155  0.002017  0.002733   0.003534  0.002751   0.003225   0.003156   \n",
       "1    0.003212  0.003135  0.003206   0.003272  0.003153   0.003217   0.003102   \n",
       "2    0.004373  0.004629  0.004448   0.004513  0.003953   0.004603   0.004801   \n",
       "3    0.002177  0.002259  0.002084   0.002018  0.002463   0.002536   0.001867   \n",
       "4    0.002383  0.002449  0.002226   0.002123  0.002525   0.002483   0.002378   \n",
       "\n",
       "   KeenerPF  \n",
       "0  0.003015  \n",
       "1  0.003136  \n",
       "2  0.003854  \n",
       "3  0.002684  \n",
       "4  0.002757  \n",
       "\n",
       "[5 rows x 65 columns]"
      ]
     },
     "execution_count": 353,
     "metadata": {},
     "output_type": "execute_result"
    }
   ],
   "source": [
    "rankingfeature.head()"
   ]
  },
  {
   "cell_type": "code",
   "execution_count": 354,
   "metadata": {
    "collapsed": true
   },
   "outputs": [],
   "source": [
    "feature = pd.merge(feature, rankingfeature, on=['Season', 'Team'], sort=True).reset_index(drop=True)"
   ]
  },
  {
   "cell_type": "markdown",
   "metadata": {},
   "source": [
    "## 3. Feature normalization"
   ]
  },
  {
   "cell_type": "code",
   "execution_count": 355,
   "metadata": {
    "collapsed": true
   },
   "outputs": [],
   "source": [
    "featurename = feature.columns.tolist()\n",
    "featurename.remove('Season')\n",
    "featurename.remove('Team')\n",
    "featurename.remove('NumericalSeeds')\n",
    "feature.loc[:, 'NumericalSeeds']/=16.0"
   ]
  },
  {
   "cell_type": "code",
   "execution_count": 356,
   "metadata": {
    "collapsed": false
   },
   "outputs": [],
   "source": [
    "from scipy import stats\n",
    "\n",
    "for fn in featurename:\n",
    "    for y in range(2003, suspendyear):\n",
    "        hist, bin_edges = np.histogram(feature[feature.Season==y].loc[:, fn].values[np.isfinite(feature[feature.Season==y].loc[:, fn].values)], bins=10000, density=True)\n",
    "        hist/=hist.sum()\n",
    "        cdf = stats.rv_discrete(values=(bin_edges[:-1], hist))\n",
    "        feature.loc[feature.Season==y, fn]= cdf.cdf(feature[feature.Season==y].loc[:, fn].values)"
   ]
  },
  {
   "cell_type": "markdown",
   "metadata": {},
   "source": [
    "## 4. Feature Selector and training set generator"
   ]
  },
  {
   "cell_type": "code",
   "execution_count": 357,
   "metadata": {
    "collapsed": false,
    "scrolled": true
   },
   "outputs": [],
   "source": [
    "featureselected = feature.groupby(['Season', 'Team']).first().copy()"
   ]
  },
  {
   "cell_type": "code",
   "execution_count": 358,
   "metadata": {
    "collapsed": false
   },
   "outputs": [],
   "source": [
    "featureconfig = [\n",
    "    u'PlayerResult', \n",
    "    u'SigWin', \n",
    "    u'SigLose', \n",
    "    u'PlayerScore', \n",
    "    u'Wor', \n",
    "    u'Wdr',\n",
    "    u'Wast', \n",
    "    u'Wto', \n",
    "    u'Wstl', \n",
    "    u'Wblk', \n",
    "    u'Wpf', \n",
    "    u'AstD', \n",
    "    u'AstO', \n",
    "    u'AstTo',\n",
    "    u'DFT', u'DRB', u'EfgD', u'EfgO', u'FG3rate', u'FGrate', u'FTrate',\n",
    "    u'OFT', u'ORB', u'TopD', u'TopO', #u'NumericalSeeds',\n",
    "    u'MasseySCORE', u'MasseyEFGM', u'MasseyOR', u'MasseyDR', u'MasseyAST', u'MasseyTO', u'MasseySTL', u'MasseyBLK', u'MasseyPF', \n",
    "    #u'ColleySCORE', u'ColleyEFGM', u'ColleyOR', u'ColleyDR', u'ColleyAST', u'ColleyTO', u'ColleySTL', u'ColleyBLK', u'ColleyPF', \n",
    "    u'DiffSCORE', u'DiffEFGM', u'DiffOR', u'DiffDR', u'DiffAST', u'DiffTO', u'DiffSTL', u'DiffBLK', u'DiffPF',\n",
    "    #u'MarkovRDSCORE', u'MarkovRDEFGM', u'MarkovRDOR', u'MarkovRDDR', u'MarkovRDAST', u'MarkovRDTO', u'MarkovRDSTL', u'MarkovRDBLK', u'MarkovRDPF', \n",
    "    u'MarkovSDSCORE', u'MarkovSDEFGM', u'MarkovSDOR', u'MarkovSDDR', u'MarkovSDAST', u'MarkovSDTO', u'MarkovSDSTL', u'MarkovSDBLK', u'MarkovSDPF', \n",
    "    u'OffdefSCORE', u'OffdefEFGM', u'OffdefOR', u'OffdefDR', u'OffdefAST', u'OffdefTO', u'OffdefSTL', u'OffdefBLK', u'OffdefPF', \n",
    "    u'KeenerSCORE', u'KeenerEFGM', u'KeenerOR', u'KeenerDR', u'KeenerAST', u'KeenerTO', u'KeenerSTL', u'KeenerBLK', u'KeenerPF'\n",
    "]\n",
    "featureselected = featureselected[featureconfig]"
   ]
  },
  {
   "cell_type": "code",
   "execution_count": 359,
   "metadata": {
    "collapsed": false
   },
   "outputs": [],
   "source": [
    "tourney_compact_results = pd.read_csv(\"./Data/TourneyCompactResults.csv\")\n",
    "result = pd.DataFrame({\n",
    "        'Season': pd.concat([tourney_compact_results['Season'], tourney_compact_results['Season']], ignore_index=True),\n",
    "        'Player': pd.concat([tourney_compact_results['Wteam'], tourney_compact_results['Lteam']], ignore_index=True),\n",
    "        'Opponent': pd.concat([tourney_compact_results['Lteam'], tourney_compact_results['Wteam']], ignore_index=True),\n",
    "        'Result': np.hstack([np.ones(tourney_compact_results.shape[0], dtype=np.int), np.zeros(tourney_compact_results.shape[0], dtype=np.int)])\n",
    "    })\n",
    "result = pd.merge(result, featureselected, left_on=['Season', 'Player'], right_index=True)\n",
    "result = pd.merge(result, featureselected, left_on=['Season', 'Opponent'], right_index=True, suffixes=[\"Ply\", \"Opp\"])"
   ]
  },
  {
   "cell_type": "code",
   "execution_count": 447,
   "metadata": {
    "collapsed": false
   },
   "outputs": [],
   "source": [
    "X = []\n",
    "Y = []\n",
    "Xv = []\n",
    "Yv = []\n",
    "for row in result.iterrows():\n",
    "    if row[1].loc['Season']<2017:\n",
    "        X.append(np.vstack([row[1][map(lambda x:x+u'Ply', featureconfig)], row[1][map(lambda x:x+u'Opp', featureconfig)]]))\n",
    "        Y.append(int(row[1].Result))\n",
    "    else:\n",
    "        Xv.append(np.vstack([row[1][map(lambda x:x+u'Ply', featureconfig)], row[1][map(lambda x:x+u'Opp', featureconfig)]]))\n",
    "        Yv.append(int(row[1].Result))"
   ]
  },
  {
   "cell_type": "markdown",
   "metadata": {},
   "source": [
    "## 5. Model building\n",
    "\n",
    "### 5.1 By using Neural Network"
   ]
  },
  {
   "cell_type": "code",
   "execution_count": 419,
   "metadata": {
    "collapsed": false
   },
   "outputs": [],
   "source": [
    "# one should transform the X, Y to the desired format\n",
    "X = np.einsum('ijkl->lijk', np.expand_dims(np.dstack(X), 0))\n",
    "Y = np.expand_dims(np.asarray(Y, dtype=np.int), 1)\n",
    "Xv = np.einsum('ijkl->lijk', np.expand_dims(np.dstack(Xv), 0))\n",
    "Yv = np.expand_dims(np.asarray(Yv, dtype=np.int), 1)"
   ]
  },
  {
   "cell_type": "code",
   "execution_count": 438,
   "metadata": {
    "collapsed": false
   },
   "outputs": [],
   "source": [
    "from keras.models import Sequential\n",
    "from keras.layers import Dense, Dropout, Activation, Flatten, Convolution2D, MaxPooling2D, Convolution1D\n",
    "from keras.regularizers import l2, l1, l1l2\n",
    "from keras.optimizers import SGD\n",
    "from keras.callbacks import EarlyStopping, ModelCheckpoint\n",
    "\n",
    "\n",
    "model = Sequential([\n",
    "    Convolution2D(24, 2, 4, border_mode='valid', input_shape=(X.shape[1], X.shape[2], X.shape[3]), W_regularizer=l1l2(2e-5, 0.009), init='lecun_uniform'),\n",
    "    Activation('relu'),\n",
    "    Flatten(),\n",
    "    Dense(96, W_regularizer=l1l2(2e-5, 0.009), init='lecun_uniform'),\n",
    "    Activation('relu'),\n",
    "    Dense(1, W_regularizer=l1l2(2e-5, 0.009), init='lecun_uniform'),\n",
    "    Activation('sigmoid')\n",
    "])\n",
    "\n",
    "early_stopping = EarlyStopping(monitor='val_binary_crossentropy', patience=100)\n",
    "model_check = ModelCheckpoint(\"Model/model.hdf5\", monitor='binary_crossentropy', save_best_only=True)\n",
    "opt = SGD(lr=0.08, momentum=0.9, decay=4e-5)\n",
    "model.compile(optimizer=opt, loss='binary_crossentropy', metrics=['binary_crossentropy'])"
   ]
  },
  {
   "cell_type": "code",
   "execution_count": 439,
   "metadata": {
    "collapsed": false,
    "scrolled": true
   },
   "outputs": [],
   "source": [
    "#model.fit(X, Y, nb_epoch=300, batch_size=2048, shuffle=True, \n",
    "#          validation_data=(Xv, Yv), verbose=0)\n",
    "history = model.fit(X, Y, nb_epoch=1000, batch_size=2048, shuffle=True, \n",
    "          validation_data=(Xv, Yv), verbose=0, callbacks=[])\n",
    "np.savetxt(\"loss_history.txt\", np.vstack([history.history[\"loss\"], history.history[\"binary_crossentropy\"], history.history['val_binary_crossentropy']]).T, delimiter=\"\\t\")"
   ]
  },
  {
   "cell_type": "code",
   "execution_count": 433,
   "metadata": {
    "collapsed": false
   },
   "outputs": [
    {
     "name": "stdout",
     "output_type": "stream",
     "text": [
      "\r",
      " 32/134 [======>.......................] - ETA: 0s"
     ]
    }
   ],
   "source": [
    "Yp = model.predict_proba(Xv)"
   ]
  },
  {
   "cell_type": "code",
   "execution_count": 423,
   "metadata": {
    "collapsed": false
   },
   "outputs": [
    {
     "data": {
      "text/plain": [
       "0.53701021734263688"
      ]
     },
     "execution_count": 423,
     "metadata": {},
     "output_type": "execute_result"
    }
   ],
   "source": [
    "#keeps the best auc\n",
    "from sklearn.metrics import log_loss\n",
    "\n",
    "log_loss(Yv, Yp)"
   ]
  },
  {
   "cell_type": "code",
   "execution_count": 412,
   "metadata": {
    "collapsed": false
   },
   "outputs": [
    {
     "data": {
      "text/plain": [
       "0.53654666686145613"
      ]
     },
     "execution_count": 412,
     "metadata": {},
     "output_type": "execute_result"
    }
   ],
   "source": [
    "from sklearn.metrics import log_loss\n",
    "\n",
    "log_loss(Yv, Yp)"
   ]
  },
  {
   "cell_type": "code",
   "execution_count": 406,
   "metadata": {
    "collapsed": false
   },
   "outputs": [],
   "source": [
    "%matplotlib inline"
   ]
  },
  {
   "cell_type": "code",
   "execution_count": 440,
   "metadata": {
    "collapsed": false
   },
   "outputs": [
    {
     "data": {
      "image/png": "[encoded data removed]",
      "text/plain": [
       "<matplotlib.figure.Figure at 0x7fcf0ab4c410>"
      ]
     },
     "metadata": {},
     "output_type": "display_data"
    }
   ],
   "source": [
    "import matplotlib.pyplot as plt\n",
    "\n",
    "plt.plot(history.history[\"binary_crossentropy\"])\n",
    "plt.plot(history.history['val_binary_crossentropy'])\n",
    "\n",
    "plt.show()"
   ]
  },
  {
   "cell_type": "code",
   "execution_count": 408,
   "metadata": {
    "collapsed": false
   },
   "outputs": [
    {
     "data": {
      "image/png": "[encoded data removed]",
      "text/plain": [
       "<matplotlib.figure.Figure at 0x7fcf5e60b790>"
      ]
     },
     "metadata": {},
     "output_type": "display_data"
    }
   ],
   "source": [
    "plt.plot(history.history[\"loss\"])\n",
    "\n",
    "plt.show()"
   ]
  },
  {
   "cell_type": "markdown",
   "metadata": {},
   "source": [
    "### 5.2 Hey, wait. I hear someone says GBDT!"
   ]
  },
  {
   "cell_type": "code",
   "execution_count": null,
   "metadata": {
    "collapsed": false
   },
   "outputs": [],
   "source": [
    "X = np.vstack([x.flatten() for x in X])\n",
    "Y = np.asarray(Y, dtype=np.int)\n",
    "Xv = np.vstack([x.flatten() for x in Xv])\n",
    "Yv = np.asarray(Yv, dtype=np.int)"
   ]
  },
  {
   "cell_type": "code",
   "execution_count": null,
   "metadata": {
    "collapsed": true
   },
   "outputs": [],
   "source": [
    "import lightgbm as lgb\n",
    "\n",
    "train_data = lgb.Dataset(X, label=Y)\n",
    "valid_data = lgb.Dataset(Xv, label=Yv, reference=train_data)\n",
    "\n",
    "param = {'num_leaves':32, 'num_trees':100, 'lambda_l2': 0.01, 'sigmoid': 1 ,'objective':'binary', 'metric':'binary_logloss' }"
   ]
  },
  {
   "cell_type": "code",
   "execution_count": null,
   "metadata": {
    "collapsed": false,
    "scrolled": true
   },
   "outputs": [],
   "source": [
    "gbdt = lgb.train(param, train_data, 100, valid_sets=[valid_data] )"
   ]
  },
  {
   "cell_type": "markdown",
   "metadata": {},
   "source": [
    "### 5.3 For real prediction"
   ]
  },
  {
   "cell_type": "code",
   "execution_count": 448,
   "metadata": {
    "collapsed": true
   },
   "outputs": [],
   "source": [
    "X = np.einsum('ijkl->lijk', np.expand_dims(np.dstack(X), 0))\n",
    "Y = np.expand_dims(np.asarray(Y, dtype=np.int), 1)"
   ]
  },
  {
   "cell_type": "code",
   "execution_count": 444,
   "metadata": {
    "collapsed": false
   },
   "outputs": [],
   "source": [
    "# for real prediction\n",
    "\n",
    "from keras.models import Sequential\n",
    "from keras.layers import Dense, Dropout, Activation, Flatten, Convolution2D, MaxPooling2D, Convolution1D\n",
    "from keras.regularizers import l2, l1, l1l2\n",
    "from keras.optimizers import SGD\n",
    "from keras.callbacks import EarlyStopping, ModelCheckpoint\n",
    "\n",
    "\n",
    "model = Sequential([\n",
    "    Convolution2D(24, 2, 4, border_mode='valid', input_shape=(X.shape[1], X.shape[2], X.shape[3]), W_regularizer=l1l2(2e-5, 0.009), init='lecun_uniform'),\n",
    "    Activation('relu'),\n",
    "    Flatten(),\n",
    "    Dense(96, W_regularizer=l1l2(2e-5, 0.009), init='lecun_uniform'),\n",
    "    Activation('relu'),\n",
    "    Dense(1, W_regularizer=l1l2(2e-5, 0.009), init='lecun_uniform'),\n",
    "    Activation('sigmoid')\n",
    "])\n",
    "\n",
    "early_stopping = EarlyStopping(monitor='val_binary_crossentropy', patience=100)\n",
    "model_check = ModelCheckpoint(\"Model/model.{epoch:04d}.hdf5\", monitor='binary_crossentropy')\n",
    "opt = SGD(lr=0.08, momentum=0.9, decay=4e-5)\n",
    "model.compile(optimizer=opt, loss='binary_crossentropy', metrics=['binary_crossentropy'])"
   ]
  },
  {
   "cell_type": "code",
   "execution_count": 449,
   "metadata": {
    "collapsed": false
   },
   "outputs": [],
   "source": [
    "history = model.fit(X, Y, nb_epoch=1000, batch_size=2048, shuffle=True, \n",
    "          verbose=0, callbacks=[model_check])\n",
    "np.savetxt(\"loss_history2.txt\", np.vstack([history.history[\"loss\"], history.history[\"binary_crossentropy\"]]).T, delimiter=\"\\t\")"
   ]
  },
  {
   "cell_type": "code",
   "execution_count": 450,
   "metadata": {
    "collapsed": false
   },
   "outputs": [
    {
     "data": {
      "image/png": "[encoded data removed]",
      "text/plain": [
       "<matplotlib.figure.Figure at 0x7fcf2f53e350>"
      ]
     },
     "metadata": {},
     "output_type": "display_data"
    }
   ],
   "source": [
    "import matplotlib.pyplot as plt\n",
    "\n",
    "plt.plot(history.history[\"binary_crossentropy\"])\n",
    "\n",
    "plt.show()"
   ]
  },
  {
   "cell_type": "code",
   "execution_count": 451,
   "metadata": {
    "collapsed": false
   },
   "outputs": [
    {
     "data": {
      "image/png": "[encoded data removed]",
      "text/plain": [
       "<matplotlib.figure.Figure at 0x7fcf2f53e8d0>"
      ]
     },
     "metadata": {},
     "output_type": "display_data"
    }
   ],
   "source": [
    "plt.plot(history.history[\"loss\"])\n",
    "\n",
    "plt.show()"
   ]
  },
  {
   "cell_type": "markdown",
   "metadata": {},
   "source": [
    "## 6. Result generation"
   ]
  },
  {
   "cell_type": "code",
   "execution_count": 462,
   "metadata": {
    "collapsed": true
   },
   "outputs": [],
   "source": [
    "from keras.models import load_model\n",
    "model = load_model(\"Model/model.0958.hdf5\")"
   ]
  },
  {
   "cell_type": "code",
   "execution_count": 463,
   "metadata": {
    "collapsed": false
   },
   "outputs": [],
   "source": [
    "submission = pd.read_csv(\"./Data/SampleSubmission.csv\")\n",
    "content = []\n",
    "for row in submission.iterrows():\n",
    "    content.append(map(int, row[1].ix[0].split('_')))\n",
    "submission = pd.DataFrame(content, columns=['Season', 'Player', 'Opponent'])"
   ]
  },
  {
   "cell_type": "code",
   "execution_count": 464,
   "metadata": {
    "collapsed": true
   },
   "outputs": [],
   "source": [
    "submission = pd.merge(submission, featureselected, left_on=['Season', 'Player'], right_index=True)\n",
    "submission = pd.merge(submission, featureselected, left_on=['Season', 'Opponent'], right_index=True, suffixes=[\"Ply\", \"Opp\"])"
   ]
  },
  {
   "cell_type": "code",
   "execution_count": 465,
   "metadata": {
    "collapsed": false
   },
   "outputs": [
    {
     "data": {
      "text/html": [
       "<div>\n",
       "<table border=\"1\" class=\"dataframe\">\n",
       "  <thead>\n",
       "    <tr style=\"text-align: right;\">\n",
       "      <th></th>\n",
       "      <th>Season</th>\n",
       "      <th>Player</th>\n",
       "      <th>Opponent</th>\n",
       "      <th>PlayerResultPly</th>\n",
       "      <th>SigWinPly</th>\n",
       "      <th>SigLosePly</th>\n",
       "      <th>PlayerScorePly</th>\n",
       "      <th>WorPly</th>\n",
       "      <th>WdrPly</th>\n",
       "      <th>WastPly</th>\n",
       "      <th>...</th>\n",
       "      <th>OffdefPFOpp</th>\n",
       "      <th>KeenerSCOREOpp</th>\n",
       "      <th>KeenerEFGMOpp</th>\n",
       "      <th>KeenerOROpp</th>\n",
       "      <th>KeenerDROpp</th>\n",
       "      <th>KeenerASTOpp</th>\n",
       "      <th>KeenerTOOpp</th>\n",
       "      <th>KeenerSTLOpp</th>\n",
       "      <th>KeenerBLKOpp</th>\n",
       "      <th>KeenerPFOpp</th>\n",
       "    </tr>\n",
       "  </thead>\n",
       "  <tbody>\n",
       "    <tr>\n",
       "      <th>0</th>\n",
       "      <td>2017</td>\n",
       "      <td>1112</td>\n",
       "      <td>1116</td>\n",
       "      <td>0.994302</td>\n",
       "      <td>0.982906</td>\n",
       "      <td>0.028490</td>\n",
       "      <td>0.760684</td>\n",
       "      <td>0.501425</td>\n",
       "      <td>0.826211</td>\n",
       "      <td>0.629630</td>\n",
       "      <td>...</td>\n",
       "      <td>0.507123</td>\n",
       "      <td>0.880342</td>\n",
       "      <td>0.871795</td>\n",
       "      <td>0.772080</td>\n",
       "      <td>0.880342</td>\n",
       "      <td>0.868946</td>\n",
       "      <td>0.732194</td>\n",
       "      <td>0.971510</td>\n",
       "      <td>0.957265</td>\n",
       "      <td>0.846154</td>\n",
       "    </tr>\n",
       "    <tr>\n",
       "      <th>1</th>\n",
       "      <td>2017</td>\n",
       "      <td>1112</td>\n",
       "      <td>1124</td>\n",
       "      <td>0.994302</td>\n",
       "      <td>0.982906</td>\n",
       "      <td>0.028490</td>\n",
       "      <td>0.760684</td>\n",
       "      <td>0.501425</td>\n",
       "      <td>0.826211</td>\n",
       "      <td>0.629630</td>\n",
       "      <td>...</td>\n",
       "      <td>0.253561</td>\n",
       "      <td>0.712251</td>\n",
       "      <td>0.695157</td>\n",
       "      <td>0.655271</td>\n",
       "      <td>0.732194</td>\n",
       "      <td>0.766382</td>\n",
       "      <td>0.484330</td>\n",
       "      <td>0.561254</td>\n",
       "      <td>0.706553</td>\n",
       "      <td>0.347578</td>\n",
       "    </tr>\n",
       "    <tr>\n",
       "      <th>67</th>\n",
       "      <td>2017</td>\n",
       "      <td>1116</td>\n",
       "      <td>1124</td>\n",
       "      <td>0.917379</td>\n",
       "      <td>0.905983</td>\n",
       "      <td>0.330484</td>\n",
       "      <td>0.900285</td>\n",
       "      <td>0.715100</td>\n",
       "      <td>0.475783</td>\n",
       "      <td>0.675214</td>\n",
       "      <td>...</td>\n",
       "      <td>0.253561</td>\n",
       "      <td>0.712251</td>\n",
       "      <td>0.695157</td>\n",
       "      <td>0.655271</td>\n",
       "      <td>0.732194</td>\n",
       "      <td>0.766382</td>\n",
       "      <td>0.484330</td>\n",
       "      <td>0.561254</td>\n",
       "      <td>0.706553</td>\n",
       "      <td>0.347578</td>\n",
       "    </tr>\n",
       "    <tr>\n",
       "      <th>2</th>\n",
       "      <td>2017</td>\n",
       "      <td>1112</td>\n",
       "      <td>1137</td>\n",
       "      <td>0.994302</td>\n",
       "      <td>0.982906</td>\n",
       "      <td>0.028490</td>\n",
       "      <td>0.760684</td>\n",
       "      <td>0.501425</td>\n",
       "      <td>0.826211</td>\n",
       "      <td>0.629630</td>\n",
       "      <td>...</td>\n",
       "      <td>0.390313</td>\n",
       "      <td>0.398860</td>\n",
       "      <td>0.407407</td>\n",
       "      <td>0.131054</td>\n",
       "      <td>0.350427</td>\n",
       "      <td>0.461538</td>\n",
       "      <td>0.239316</td>\n",
       "      <td>0.358974</td>\n",
       "      <td>0.393162</td>\n",
       "      <td>0.242165</td>\n",
       "    </tr>\n",
       "    <tr>\n",
       "      <th>68</th>\n",
       "      <td>2017</td>\n",
       "      <td>1116</td>\n",
       "      <td>1137</td>\n",
       "      <td>0.917379</td>\n",
       "      <td>0.905983</td>\n",
       "      <td>0.330484</td>\n",
       "      <td>0.900285</td>\n",
       "      <td>0.715100</td>\n",
       "      <td>0.475783</td>\n",
       "      <td>0.675214</td>\n",
       "      <td>...</td>\n",
       "      <td>0.390313</td>\n",
       "      <td>0.398860</td>\n",
       "      <td>0.407407</td>\n",
       "      <td>0.131054</td>\n",
       "      <td>0.350427</td>\n",
       "      <td>0.461538</td>\n",
       "      <td>0.239316</td>\n",
       "      <td>0.358974</td>\n",
       "      <td>0.393162</td>\n",
       "      <td>0.242165</td>\n",
       "    </tr>\n",
       "  </tbody>\n",
       "</table>\n",
       "<p>5 rows × 143 columns</p>\n",
       "</div>"
      ],
      "text/plain": [
       "    Season  Player  Opponent  PlayerResultPly  SigWinPly  SigLosePly  \\\n",
       "0     2017    1112      1116         0.994302   0.982906    0.028490   \n",
       "1     2017    1112      1124         0.994302   0.982906    0.028490   \n",
       "67    2017    1116      1124         0.917379   0.905983    0.330484   \n",
       "2     2017    1112      1137         0.994302   0.982906    0.028490   \n",
       "68    2017    1116      1137         0.917379   0.905983    0.330484   \n",
       "\n",
       "    PlayerScorePly    WorPly    WdrPly   WastPly     ...       OffdefPFOpp  \\\n",
       "0         0.760684  0.501425  0.826211  0.629630     ...          0.507123   \n",
       "1         0.760684  0.501425  0.826211  0.629630     ...          0.253561   \n",
       "67        0.900285  0.715100  0.475783  0.675214     ...          0.253561   \n",
       "2         0.760684  0.501425  0.826211  0.629630     ...          0.390313   \n",
       "68        0.900285  0.715100  0.475783  0.675214     ...          0.390313   \n",
       "\n",
       "    KeenerSCOREOpp  KeenerEFGMOpp  KeenerOROpp  KeenerDROpp  KeenerASTOpp  \\\n",
       "0         0.880342       0.871795     0.772080     0.880342      0.868946   \n",
       "1         0.712251       0.695157     0.655271     0.732194      0.766382   \n",
       "67        0.712251       0.695157     0.655271     0.732194      0.766382   \n",
       "2         0.398860       0.407407     0.131054     0.350427      0.461538   \n",
       "68        0.398860       0.407407     0.131054     0.350427      0.461538   \n",
       "\n",
       "    KeenerTOOpp  KeenerSTLOpp  KeenerBLKOpp  KeenerPFOpp  \n",
       "0      0.732194      0.971510      0.957265     0.846154  \n",
       "1      0.484330      0.561254      0.706553     0.347578  \n",
       "67     0.484330      0.561254      0.706553     0.347578  \n",
       "2      0.239316      0.358974      0.393162     0.242165  \n",
       "68     0.239316      0.358974      0.393162     0.242165  \n",
       "\n",
       "[5 rows x 143 columns]"
      ]
     },
     "execution_count": 465,
     "metadata": {},
     "output_type": "execute_result"
    }
   ],
   "source": [
    "submission.head()"
   ]
  },
  {
   "cell_type": "code",
   "execution_count": 466,
   "metadata": {
    "collapsed": true
   },
   "outputs": [],
   "source": [
    "Xv = []\n",
    "for row in submission.iterrows():\n",
    "    Xv.append(np.vstack([row[1][map(lambda x:x+u'Ply', featureconfig)], row[1][map(lambda x:x+u'Opp', featureconfig)]]))"
   ]
  },
  {
   "cell_type": "code",
   "execution_count": 467,
   "metadata": {
    "collapsed": false
   },
   "outputs": [
    {
     "name": "stdout",
     "output_type": "stream",
     "text": [
      "1824/2278 [=======================>......] - ETA: 0s"
     ]
    }
   ],
   "source": [
    "Xv = np.einsum('ijkl->lijk', np.expand_dims(np.dstack(Xv), 0))\n",
    "Yp = model.predict_proba(Xv)"
   ]
  },
  {
   "cell_type": "code",
   "execution_count": 468,
   "metadata": {
    "collapsed": false
   },
   "outputs": [],
   "source": [
    "submission['Prediction'] = Yp"
   ]
  },
  {
   "cell_type": "code",
   "execution_count": 469,
   "metadata": {
    "collapsed": true
   },
   "outputs": [],
   "source": [
    "id = []\n",
    "pred = []\n",
    "for row in submission.iterrows():\n",
    "    id.append(\"{0}_{1}_{2}\".format(int(row[1].ix[0]), int(row[1].ix[1]), int(row[1].ix[2])))\n",
    "    pred.append(row[1].Prediction)"
   ]
  },
  {
   "cell_type": "code",
   "execution_count": 470,
   "metadata": {
    "collapsed": true
   },
   "outputs": [],
   "source": [
    "submit = pd.DataFrame({\"id\":id, \"pred\":pred}, columns=['id', 'pred'])"
   ]
  },
  {
   "cell_type": "code",
   "execution_count": 471,
   "metadata": {
    "collapsed": true
   },
   "outputs": [],
   "source": [
    "submit.to_csv(\"result.csv\", index=False)"
   ]
  },
  {
   "cell_type": "code",
   "execution_count": null,
   "metadata": {
    "collapsed": true
   },
   "outputs": [],
   "source": []
  }
 ],
 "metadata": {
  "kernelspec": {
   "display_name": "Python 2",
   "language": "python",
   "name": "python2"
  },
  "language_info": {
   "codemirror_mode": {
    "name": "ipython",
    "version": 2
   },
   "file_extension": ".py",
   "mimetype": "text/x-python",
   "name": "python",
   "nbconvert_exporter": "python",
   "pygments_lexer": "ipython2",
   "version": "2.7.12"
  }
 },
 "nbformat": 4,
 "nbformat_minor": 1
}
