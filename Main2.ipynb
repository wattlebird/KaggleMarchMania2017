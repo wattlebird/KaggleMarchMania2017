{
 "cells": [
  {
   "cell_type": "code",
   "execution_count": 1,
   "metadata": {
    "collapsed": false
   },
   "outputs": [],
   "source": [
    "import pandas as pd\n",
    "import numpy as np\n",
    "\n",
    "\n",
    "tourney_seeds = pd.read_csv(\"./Data/TourneySeeds.csv\")\n",
    "rank = []\n",
    "teams = []\n",
    "for seed, team in tourney_seeds.loc[:,['Seed','Team']].values:\n",
    "    rank.append(int(seed[1:3]))\n",
    "tourney_seeds[\"NumericalSeeds\"] = rank"
   ]
  },
  {
   "cell_type": "code",
   "execution_count": 2,
   "metadata": {
    "collapsed": false
   },
   "outputs": [],
   "source": [
    "tourney_compact_results = pd.read_csv(\"./Data/TourneyCompactResults.csv\")"
   ]
  },
  {
   "cell_type": "code",
   "execution_count": 17,
   "metadata": {
    "collapsed": false
   },
   "outputs": [
    {
     "data": {
      "text/html": [
       "<div>\n",
       "<table border=\"1\" class=\"dataframe\">\n",
       "  <thead>\n",
       "    <tr style=\"text-align: right;\">\n",
       "      <th></th>\n",
       "      <th>Season</th>\n",
       "      <th>Seed</th>\n",
       "      <th>Team</th>\n",
       "      <th>NumericalSeeds</th>\n",
       "    </tr>\n",
       "  </thead>\n",
       "  <tbody>\n",
       "    <tr>\n",
       "      <th>0</th>\n",
       "      <td>1985</td>\n",
       "      <td>W01</td>\n",
       "      <td>1207</td>\n",
       "      <td>1</td>\n",
       "    </tr>\n",
       "    <tr>\n",
       "      <th>1</th>\n",
       "      <td>1985</td>\n",
       "      <td>W02</td>\n",
       "      <td>1210</td>\n",
       "      <td>2</td>\n",
       "    </tr>\n",
       "    <tr>\n",
       "      <th>2</th>\n",
       "      <td>1985</td>\n",
       "      <td>W03</td>\n",
       "      <td>1228</td>\n",
       "      <td>3</td>\n",
       "    </tr>\n",
       "    <tr>\n",
       "      <th>3</th>\n",
       "      <td>1985</td>\n",
       "      <td>W04</td>\n",
       "      <td>1260</td>\n",
       "      <td>4</td>\n",
       "    </tr>\n",
       "    <tr>\n",
       "      <th>4</th>\n",
       "      <td>1985</td>\n",
       "      <td>W05</td>\n",
       "      <td>1374</td>\n",
       "      <td>5</td>\n",
       "    </tr>\n",
       "  </tbody>\n",
       "</table>\n",
       "</div>"
      ],
      "text/plain": [
       "   Season Seed  Team  NumericalSeeds\n",
       "0    1985  W01  1207               1\n",
       "1    1985  W02  1210               2\n",
       "2    1985  W03  1228               3\n",
       "3    1985  W04  1260               4\n",
       "4    1985  W05  1374               5"
      ]
     },
     "execution_count": 17,
     "metadata": {},
     "output_type": "execute_result"
    }
   ],
   "source": [
    "tourney_seeds.head()"
   ]
  },
  {
   "cell_type": "code",
   "execution_count": 3,
   "metadata": {
    "collapsed": false
   },
   "outputs": [
    {
     "data": {
      "text/html": [
       "<div>\n",
       "<table border=\"1\" class=\"dataframe\">\n",
       "  <thead>\n",
       "    <tr style=\"text-align: right;\">\n",
       "      <th></th>\n",
       "      <th>Season</th>\n",
       "      <th>Daynum</th>\n",
       "      <th>Wteam</th>\n",
       "      <th>Wscore</th>\n",
       "      <th>Lteam</th>\n",
       "      <th>Lscore</th>\n",
       "      <th>Wloc</th>\n",
       "      <th>Numot</th>\n",
       "    </tr>\n",
       "  </thead>\n",
       "  <tbody>\n",
       "    <tr>\n",
       "      <th>0</th>\n",
       "      <td>1985</td>\n",
       "      <td>136</td>\n",
       "      <td>1116</td>\n",
       "      <td>63</td>\n",
       "      <td>1234</td>\n",
       "      <td>54</td>\n",
       "      <td>N</td>\n",
       "      <td>0</td>\n",
       "    </tr>\n",
       "    <tr>\n",
       "      <th>1</th>\n",
       "      <td>1985</td>\n",
       "      <td>136</td>\n",
       "      <td>1120</td>\n",
       "      <td>59</td>\n",
       "      <td>1345</td>\n",
       "      <td>58</td>\n",
       "      <td>N</td>\n",
       "      <td>0</td>\n",
       "    </tr>\n",
       "    <tr>\n",
       "      <th>2</th>\n",
       "      <td>1985</td>\n",
       "      <td>136</td>\n",
       "      <td>1207</td>\n",
       "      <td>68</td>\n",
       "      <td>1250</td>\n",
       "      <td>43</td>\n",
       "      <td>N</td>\n",
       "      <td>0</td>\n",
       "    </tr>\n",
       "    <tr>\n",
       "      <th>3</th>\n",
       "      <td>1985</td>\n",
       "      <td>136</td>\n",
       "      <td>1229</td>\n",
       "      <td>58</td>\n",
       "      <td>1425</td>\n",
       "      <td>55</td>\n",
       "      <td>N</td>\n",
       "      <td>0</td>\n",
       "    </tr>\n",
       "    <tr>\n",
       "      <th>4</th>\n",
       "      <td>1985</td>\n",
       "      <td>136</td>\n",
       "      <td>1242</td>\n",
       "      <td>49</td>\n",
       "      <td>1325</td>\n",
       "      <td>38</td>\n",
       "      <td>N</td>\n",
       "      <td>0</td>\n",
       "    </tr>\n",
       "  </tbody>\n",
       "</table>\n",
       "</div>"
      ],
      "text/plain": [
       "   Season  Daynum  Wteam  Wscore  Lteam  Lscore Wloc  Numot\n",
       "0    1985     136   1116      63   1234      54    N      0\n",
       "1    1985     136   1120      59   1345      58    N      0\n",
       "2    1985     136   1207      68   1250      43    N      0\n",
       "3    1985     136   1229      58   1425      55    N      0\n",
       "4    1985     136   1242      49   1325      38    N      0"
      ]
     },
     "execution_count": 3,
     "metadata": {},
     "output_type": "execute_result"
    }
   ],
   "source": [
    "tourney_compact_results.head()"
   ]
  },
  {
   "cell_type": "code",
   "execution_count": 3,
   "metadata": {
    "collapsed": false
   },
   "outputs": [],
   "source": [
    "result = pd.DataFrame({\n",
    "        \"Season\": pd.concat([tourney_compact_results['Season'], tourney_compact_results['Season']], ignore_index=True),\n",
    "        \"Player\": pd.concat([tourney_compact_results['Wteam'], tourney_compact_results['Lteam']], ignore_index=True),\n",
    "        \"Opponent\": pd.concat([tourney_compact_results['Lteam'], tourney_compact_results['Wteam']], ignore_index=True),\n",
    "        \"Result\": np.hstack([np.ones(tourney_compact_results.shape[0], dtype=int), np.zeros(tourney_compact_results.shape[0], dtype=int)])\n",
    "    }, columns=[\"Result\", \"Season\", \"Player\", \"Opponent\"])"
   ]
  },
  {
   "cell_type": "code",
   "execution_count": 4,
   "metadata": {
    "collapsed": false
   },
   "outputs": [],
   "source": [
    "t = pd.merge(result, tourney_seeds, left_on=['Season', 'Player'], right_on=['Season', 'Team'])\n",
    "t = t[['Result', 'Season','Player', 'Opponent', 'NumericalSeeds']]\n",
    "t.columns=['Result', 'Season','Player', 'Opponent', 'PlayerSeed']\n",
    "result = t"
   ]
  },
  {
   "cell_type": "code",
   "execution_count": 5,
   "metadata": {
    "collapsed": false
   },
   "outputs": [],
   "source": [
    "t = pd.merge(result, tourney_seeds, left_on=['Season', 'Opponent'], right_on=['Season', 'Team'])\n",
    "t = t[['Result', 'Season', 'Player', 'Opponent', 'PlayerSeed', 'NumericalSeeds']]\n",
    "t.columns = ['Result', 'Season','Player', 'Opponent', 'PlayerSeed', 'OpponentSeed']\n",
    "result = t"
   ]
  },
  {
   "cell_type": "code",
   "execution_count": 6,
   "metadata": {
    "collapsed": false
   },
   "outputs": [
    {
     "data": {
      "text/html": [
       "<div>\n",
       "<table border=\"1\" class=\"dataframe\">\n",
       "  <thead>\n",
       "    <tr style=\"text-align: right;\">\n",
       "      <th></th>\n",
       "      <th>Season</th>\n",
       "      <th>Daynum</th>\n",
       "      <th>Wteam</th>\n",
       "      <th>Wscore</th>\n",
       "      <th>Lteam</th>\n",
       "      <th>Lscore</th>\n",
       "      <th>Wloc</th>\n",
       "      <th>Numot</th>\n",
       "      <th>Wfgm</th>\n",
       "      <th>Wfga</th>\n",
       "      <th>...</th>\n",
       "      <th>Lfga3</th>\n",
       "      <th>Lftm</th>\n",
       "      <th>Lfta</th>\n",
       "      <th>Lor</th>\n",
       "      <th>Ldr</th>\n",
       "      <th>Last</th>\n",
       "      <th>Lto</th>\n",
       "      <th>Lstl</th>\n",
       "      <th>Lblk</th>\n",
       "      <th>Lpf</th>\n",
       "    </tr>\n",
       "  </thead>\n",
       "  <tbody>\n",
       "    <tr>\n",
       "      <th>0</th>\n",
       "      <td>2003</td>\n",
       "      <td>10</td>\n",
       "      <td>1104</td>\n",
       "      <td>68</td>\n",
       "      <td>1328</td>\n",
       "      <td>62</td>\n",
       "      <td>N</td>\n",
       "      <td>0</td>\n",
       "      <td>27</td>\n",
       "      <td>58</td>\n",
       "      <td>...</td>\n",
       "      <td>10</td>\n",
       "      <td>16</td>\n",
       "      <td>22</td>\n",
       "      <td>10</td>\n",
       "      <td>22</td>\n",
       "      <td>8</td>\n",
       "      <td>18</td>\n",
       "      <td>9</td>\n",
       "      <td>2</td>\n",
       "      <td>20</td>\n",
       "    </tr>\n",
       "    <tr>\n",
       "      <th>1</th>\n",
       "      <td>2003</td>\n",
       "      <td>10</td>\n",
       "      <td>1272</td>\n",
       "      <td>70</td>\n",
       "      <td>1393</td>\n",
       "      <td>63</td>\n",
       "      <td>N</td>\n",
       "      <td>0</td>\n",
       "      <td>26</td>\n",
       "      <td>62</td>\n",
       "      <td>...</td>\n",
       "      <td>24</td>\n",
       "      <td>9</td>\n",
       "      <td>20</td>\n",
       "      <td>20</td>\n",
       "      <td>25</td>\n",
       "      <td>7</td>\n",
       "      <td>12</td>\n",
       "      <td>8</td>\n",
       "      <td>6</td>\n",
       "      <td>16</td>\n",
       "    </tr>\n",
       "    <tr>\n",
       "      <th>2</th>\n",
       "      <td>2003</td>\n",
       "      <td>11</td>\n",
       "      <td>1266</td>\n",
       "      <td>73</td>\n",
       "      <td>1437</td>\n",
       "      <td>61</td>\n",
       "      <td>N</td>\n",
       "      <td>0</td>\n",
       "      <td>24</td>\n",
       "      <td>58</td>\n",
       "      <td>...</td>\n",
       "      <td>26</td>\n",
       "      <td>14</td>\n",
       "      <td>23</td>\n",
       "      <td>31</td>\n",
       "      <td>22</td>\n",
       "      <td>9</td>\n",
       "      <td>12</td>\n",
       "      <td>2</td>\n",
       "      <td>5</td>\n",
       "      <td>23</td>\n",
       "    </tr>\n",
       "    <tr>\n",
       "      <th>3</th>\n",
       "      <td>2003</td>\n",
       "      <td>11</td>\n",
       "      <td>1296</td>\n",
       "      <td>56</td>\n",
       "      <td>1457</td>\n",
       "      <td>50</td>\n",
       "      <td>N</td>\n",
       "      <td>0</td>\n",
       "      <td>18</td>\n",
       "      <td>38</td>\n",
       "      <td>...</td>\n",
       "      <td>22</td>\n",
       "      <td>8</td>\n",
       "      <td>15</td>\n",
       "      <td>17</td>\n",
       "      <td>20</td>\n",
       "      <td>9</td>\n",
       "      <td>19</td>\n",
       "      <td>4</td>\n",
       "      <td>3</td>\n",
       "      <td>23</td>\n",
       "    </tr>\n",
       "    <tr>\n",
       "      <th>4</th>\n",
       "      <td>2003</td>\n",
       "      <td>11</td>\n",
       "      <td>1400</td>\n",
       "      <td>77</td>\n",
       "      <td>1208</td>\n",
       "      <td>71</td>\n",
       "      <td>N</td>\n",
       "      <td>0</td>\n",
       "      <td>30</td>\n",
       "      <td>61</td>\n",
       "      <td>...</td>\n",
       "      <td>16</td>\n",
       "      <td>17</td>\n",
       "      <td>27</td>\n",
       "      <td>21</td>\n",
       "      <td>15</td>\n",
       "      <td>12</td>\n",
       "      <td>10</td>\n",
       "      <td>7</td>\n",
       "      <td>1</td>\n",
       "      <td>14</td>\n",
       "    </tr>\n",
       "  </tbody>\n",
       "</table>\n",
       "<p>5 rows × 34 columns</p>\n",
       "</div>"
      ],
      "text/plain": [
       "   Season  Daynum  Wteam  Wscore  Lteam  Lscore Wloc  Numot  Wfgm  Wfga ...   \\\n",
       "0    2003      10   1104      68   1328      62    N      0    27    58 ...    \n",
       "1    2003      10   1272      70   1393      63    N      0    26    62 ...    \n",
       "2    2003      11   1266      73   1437      61    N      0    24    58 ...    \n",
       "3    2003      11   1296      56   1457      50    N      0    18    38 ...    \n",
       "4    2003      11   1400      77   1208      71    N      0    30    61 ...    \n",
       "\n",
       "   Lfga3  Lftm  Lfta  Lor  Ldr  Last  Lto  Lstl  Lblk  Lpf  \n",
       "0     10    16    22   10   22     8   18     9     2   20  \n",
       "1     24     9    20   20   25     7   12     8     6   16  \n",
       "2     26    14    23   31   22     9   12     2     5   23  \n",
       "3     22     8    15   17   20     9   19     4     3   23  \n",
       "4     16    17    27   21   15    12   10     7     1   14  \n",
       "\n",
       "[5 rows x 34 columns]"
      ]
     },
     "execution_count": 6,
     "metadata": {},
     "output_type": "execute_result"
    }
   ],
   "source": [
    "regular = pd.read_csv(\"./Data/RegularSeasonDetailedResults.csv\")\n",
    "regular.head()"
   ]
  },
  {
   "cell_type": "code",
   "execution_count": 7,
   "metadata": {
    "collapsed": false
   },
   "outputs": [],
   "source": [
    "regular_rev = regular.ix[:, [0,1,4,5,2,3,7,21,22,23,24,25,26,27,28,29,30,31,32,33,8,9,10,11,12,13,14,15,16,17,18,19,20]]\n",
    "new_regular = pd.DataFrame(np.vstack([regular_rev.values, \n",
    "                                   regular.ix[:, [0,1,2,3,4,5,7,8,9,10,11,12,13,14,15,16,17,18,19,20,21,22,23,24,25,26,27,28,29,30,31,32,33]].values], \n",
    "                                 ), columns = [\"Season\",\"Daynum\",\"Player\",\"PlayerScore\",\"Opponent\",\"OpponentScore\",\"Numot\",\"Wfgm\",\"Wfga\",\"Wfgm3\",\"Wfga3\",\"Wftm\",\"Wfta\",\"Wor\",\"Wdr\",\"Wast\",\"Wto\",\"Wstl\",\"Wblk\",\"Wpf\",\"Lfgm\",\"Lfga\",\"Lfgm3\",\"Lfga3\",\"Lftm\",\"Lfta\",\"Lor\",\"Ldr\",\"Last\",\"Lto\",\"Lstl\",\"Lblk\",\"Lpf\"])"
   ]
  },
  {
   "cell_type": "code",
   "execution_count": 8,
   "metadata": {
    "collapsed": false
   },
   "outputs": [],
   "source": [
    "loc = []\n",
    "revloc = []\n",
    "for itm in regular['Wloc'].values:\n",
    "    if itm=='N':\n",
    "        loc.append(0)\n",
    "        revloc.append(0)\n",
    "    elif itm=='H':\n",
    "        loc.append(1)\n",
    "        revloc.append(2)\n",
    "    else:\n",
    "        loc.append(2)\n",
    "        revloc.append(1)\n",
    "new_regular['PlayerLoc']=np.hstack([revloc, loc])\n",
    "new_regular['PlayerResult']=np.hstack([np.zeros(regular.shape[0], dtype=np.int), np.ones(regular.shape[0], dtype=np.int)])"
   ]
  },
  {
   "cell_type": "code",
   "execution_count": 9,
   "metadata": {
    "collapsed": false
   },
   "outputs": [
    {
     "data": {
      "text/html": [
       "<div>\n",
       "<table border=\"1\" class=\"dataframe\">\n",
       "  <thead>\n",
       "    <tr style=\"text-align: right;\">\n",
       "      <th></th>\n",
       "      <th>Season</th>\n",
       "      <th>Daynum</th>\n",
       "      <th>Player</th>\n",
       "      <th>PlayerScore</th>\n",
       "      <th>Opponent</th>\n",
       "      <th>OpponentScore</th>\n",
       "      <th>Numot</th>\n",
       "      <th>Wfgm</th>\n",
       "      <th>Wfga</th>\n",
       "      <th>Wfgm3</th>\n",
       "      <th>...</th>\n",
       "      <th>Lfta</th>\n",
       "      <th>Lor</th>\n",
       "      <th>Ldr</th>\n",
       "      <th>Last</th>\n",
       "      <th>Lto</th>\n",
       "      <th>Lstl</th>\n",
       "      <th>Lblk</th>\n",
       "      <th>Lpf</th>\n",
       "      <th>PlayerLoc</th>\n",
       "      <th>PlayerResult</th>\n",
       "    </tr>\n",
       "  </thead>\n",
       "  <tbody>\n",
       "    <tr>\n",
       "      <th>0</th>\n",
       "      <td>2003</td>\n",
       "      <td>10</td>\n",
       "      <td>1328</td>\n",
       "      <td>62</td>\n",
       "      <td>1104</td>\n",
       "      <td>68</td>\n",
       "      <td>0</td>\n",
       "      <td>22</td>\n",
       "      <td>53</td>\n",
       "      <td>2</td>\n",
       "      <td>...</td>\n",
       "      <td>18</td>\n",
       "      <td>14</td>\n",
       "      <td>24</td>\n",
       "      <td>13</td>\n",
       "      <td>23</td>\n",
       "      <td>7</td>\n",
       "      <td>1</td>\n",
       "      <td>22</td>\n",
       "      <td>0</td>\n",
       "      <td>0</td>\n",
       "    </tr>\n",
       "    <tr>\n",
       "      <th>1</th>\n",
       "      <td>2003</td>\n",
       "      <td>10</td>\n",
       "      <td>1393</td>\n",
       "      <td>63</td>\n",
       "      <td>1272</td>\n",
       "      <td>70</td>\n",
       "      <td>0</td>\n",
       "      <td>24</td>\n",
       "      <td>67</td>\n",
       "      <td>6</td>\n",
       "      <td>...</td>\n",
       "      <td>19</td>\n",
       "      <td>15</td>\n",
       "      <td>28</td>\n",
       "      <td>16</td>\n",
       "      <td>13</td>\n",
       "      <td>4</td>\n",
       "      <td>4</td>\n",
       "      <td>18</td>\n",
       "      <td>0</td>\n",
       "      <td>0</td>\n",
       "    </tr>\n",
       "    <tr>\n",
       "      <th>2</th>\n",
       "      <td>2003</td>\n",
       "      <td>11</td>\n",
       "      <td>1437</td>\n",
       "      <td>61</td>\n",
       "      <td>1266</td>\n",
       "      <td>73</td>\n",
       "      <td>0</td>\n",
       "      <td>22</td>\n",
       "      <td>73</td>\n",
       "      <td>3</td>\n",
       "      <td>...</td>\n",
       "      <td>29</td>\n",
       "      <td>17</td>\n",
       "      <td>26</td>\n",
       "      <td>15</td>\n",
       "      <td>10</td>\n",
       "      <td>5</td>\n",
       "      <td>2</td>\n",
       "      <td>25</td>\n",
       "      <td>0</td>\n",
       "      <td>0</td>\n",
       "    </tr>\n",
       "    <tr>\n",
       "      <th>3</th>\n",
       "      <td>2003</td>\n",
       "      <td>11</td>\n",
       "      <td>1457</td>\n",
       "      <td>50</td>\n",
       "      <td>1296</td>\n",
       "      <td>56</td>\n",
       "      <td>0</td>\n",
       "      <td>18</td>\n",
       "      <td>49</td>\n",
       "      <td>6</td>\n",
       "      <td>...</td>\n",
       "      <td>31</td>\n",
       "      <td>6</td>\n",
       "      <td>19</td>\n",
       "      <td>11</td>\n",
       "      <td>12</td>\n",
       "      <td>14</td>\n",
       "      <td>2</td>\n",
       "      <td>18</td>\n",
       "      <td>0</td>\n",
       "      <td>0</td>\n",
       "    </tr>\n",
       "    <tr>\n",
       "      <th>4</th>\n",
       "      <td>2003</td>\n",
       "      <td>11</td>\n",
       "      <td>1208</td>\n",
       "      <td>71</td>\n",
       "      <td>1400</td>\n",
       "      <td>77</td>\n",
       "      <td>0</td>\n",
       "      <td>24</td>\n",
       "      <td>62</td>\n",
       "      <td>6</td>\n",
       "      <td>...</td>\n",
       "      <td>13</td>\n",
       "      <td>17</td>\n",
       "      <td>22</td>\n",
       "      <td>12</td>\n",
       "      <td>14</td>\n",
       "      <td>4</td>\n",
       "      <td>4</td>\n",
       "      <td>20</td>\n",
       "      <td>0</td>\n",
       "      <td>0</td>\n",
       "    </tr>\n",
       "  </tbody>\n",
       "</table>\n",
       "<p>5 rows × 35 columns</p>\n",
       "</div>"
      ],
      "text/plain": [
       "   Season  Daynum  Player  PlayerScore  Opponent  OpponentScore  Numot  Wfgm  \\\n",
       "0    2003      10    1328           62      1104             68      0    22   \n",
       "1    2003      10    1393           63      1272             70      0    24   \n",
       "2    2003      11    1437           61      1266             73      0    22   \n",
       "3    2003      11    1457           50      1296             56      0    18   \n",
       "4    2003      11    1208           71      1400             77      0    24   \n",
       "\n",
       "   Wfga  Wfgm3      ...       Lfta  Lor  Ldr  Last  Lto  Lstl  Lblk  Lpf  \\\n",
       "0    53      2      ...         18   14   24    13   23     7     1   22   \n",
       "1    67      6      ...         19   15   28    16   13     4     4   18   \n",
       "2    73      3      ...         29   17   26    15   10     5     2   25   \n",
       "3    49      6      ...         31    6   19    11   12    14     2   18   \n",
       "4    62      6      ...         13   17   22    12   14     4     4   20   \n",
       "\n",
       "   PlayerLoc  PlayerResult  \n",
       "0          0             0  \n",
       "1          0             0  \n",
       "2          0             0  \n",
       "3          0             0  \n",
       "4          0             0  \n",
       "\n",
       "[5 rows x 35 columns]"
      ]
     },
     "execution_count": 9,
     "metadata": {},
     "output_type": "execute_result"
    }
   ],
   "source": [
    "new_regular.head()"
   ]
  },
  {
   "cell_type": "markdown",
   "metadata": {
    "collapsed": true
   },
   "source": [
    "Effective field goal percentage"
   ]
  },
  {
   "cell_type": "code",
   "execution_count": 9,
   "metadata": {
    "collapsed": false,
    "scrolled": true
   },
   "outputs": [
    {
     "data": {
      "text/html": [
       "<div>\n",
       "<table border=\"1\" class=\"dataframe\">\n",
       "  <thead>\n",
       "    <tr style=\"text-align: right;\">\n",
       "      <th></th>\n",
       "      <th></th>\n",
       "      <th>EfgO</th>\n",
       "      <th>EfgD</th>\n",
       "    </tr>\n",
       "    <tr>\n",
       "      <th>Season</th>\n",
       "      <th>Player</th>\n",
       "      <th></th>\n",
       "      <th></th>\n",
       "    </tr>\n",
       "  </thead>\n",
       "  <tbody>\n",
       "    <tr>\n",
       "      <th rowspan=\"5\" valign=\"top\">2003</th>\n",
       "      <th>1102</th>\n",
       "      <td>0.584407</td>\n",
       "      <td>0.514142</td>\n",
       "    </tr>\n",
       "    <tr>\n",
       "      <th>1103</th>\n",
       "      <td>0.536564</td>\n",
       "      <td>0.549098</td>\n",
       "    </tr>\n",
       "    <tr>\n",
       "      <th>1104</th>\n",
       "      <td>0.475785</td>\n",
       "      <td>0.480099</td>\n",
       "    </tr>\n",
       "    <tr>\n",
       "      <th>1105</th>\n",
       "      <td>0.457983</td>\n",
       "      <td>0.509308</td>\n",
       "    </tr>\n",
       "    <tr>\n",
       "      <th>1106</th>\n",
       "      <td>0.481697</td>\n",
       "      <td>0.452774</td>\n",
       "    </tr>\n",
       "  </tbody>\n",
       "</table>\n",
       "</div>"
      ],
      "text/plain": [
       "                   EfgO      EfgD\n",
       "Season Player                    \n",
       "2003   1102    0.584407  0.514142\n",
       "       1103    0.536564  0.549098\n",
       "       1104    0.475785  0.480099\n",
       "       1105    0.457983  0.509308\n",
       "       1106    0.481697  0.452774"
      ]
     },
     "execution_count": 9,
     "metadata": {},
     "output_type": "execute_result"
    }
   ],
   "source": [
    "t = new_regular[['Season', 'Player', 'Opponent', 'Wfgm', 'Wfgm3', 'Wfga', 'Lfgm', 'Lfgm3', 'Lfga']].copy()\n",
    "t[\"EfgO\"] = np.require(t['Wfgm'].values, dtype=np.float)+np.require(t['Wfgm3'].values, dtype=np.float)/2\n",
    "t[\"EfgO\"] = t['EfgO']/t['Wfga']\n",
    "t[\"EfgD\"] = np.require(t['Lfgm'].values, dtype=np.float)+np.require(t['Lfgm3'].values, dtype=np.float)/2\n",
    "t[\"EfgD\"] = t['EfgD']/t['Lfga']\n",
    "t = t.groupby(by=['Season', 'Player']).mean()\n",
    "rst = pd.DataFrame({'EfgO': t['EfgO'], 'EfgD': t['EfgD']}, columns=['EfgO', 'EfgD'])\n",
    "rst.head()"
   ]
  },
  {
   "cell_type": "code",
   "execution_count": 10,
   "metadata": {
    "collapsed": false
   },
   "outputs": [],
   "source": [
    "feature = pd.DataFrame(tourney_seeds[['Season', 'Team']].values, columns=['Season', 'Player'])\n",
    "feature = pd.merge(feature, rst, left_on=['Season', 'Player'], right_index=True)"
   ]
  },
  {
   "cell_type": "markdown",
   "metadata": {
    "collapsed": false
   },
   "source": [
    "Turnover percentage"
   ]
  },
  {
   "cell_type": "code",
   "execution_count": 11,
   "metadata": {
    "collapsed": false
   },
   "outputs": [
    {
     "data": {
      "text/html": [
       "<div>\n",
       "<table border=\"1\" class=\"dataframe\">\n",
       "  <thead>\n",
       "    <tr style=\"text-align: right;\">\n",
       "      <th></th>\n",
       "      <th></th>\n",
       "      <th>TopO</th>\n",
       "      <th>TopD</th>\n",
       "    </tr>\n",
       "    <tr>\n",
       "      <th>Season</th>\n",
       "      <th>Player</th>\n",
       "      <th></th>\n",
       "      <th></th>\n",
       "    </tr>\n",
       "  </thead>\n",
       "  <tbody>\n",
       "    <tr>\n",
       "      <th rowspan=\"5\" valign=\"top\">2003</th>\n",
       "      <th>1102</th>\n",
       "      <td>0.193121</td>\n",
       "      <td>0.203236</td>\n",
       "    </tr>\n",
       "    <tr>\n",
       "      <th>1103</th>\n",
       "      <td>0.159805</td>\n",
       "      <td>0.186897</td>\n",
       "    </tr>\n",
       "    <tr>\n",
       "      <th>1104</th>\n",
       "      <td>0.167275</td>\n",
       "      <td>0.179498</td>\n",
       "    </tr>\n",
       "    <tr>\n",
       "      <th>1105</th>\n",
       "      <td>0.207792</td>\n",
       "      <td>0.212924</td>\n",
       "    </tr>\n",
       "    <tr>\n",
       "      <th>1106</th>\n",
       "      <td>0.213721</td>\n",
       "      <td>0.194026</td>\n",
       "    </tr>\n",
       "  </tbody>\n",
       "</table>\n",
       "</div>"
      ],
      "text/plain": [
       "                   TopO      TopD\n",
       "Season Player                    \n",
       "2003   1102    0.193121  0.203236\n",
       "       1103    0.159805  0.186897\n",
       "       1104    0.167275  0.179498\n",
       "       1105    0.207792  0.212924\n",
       "       1106    0.213721  0.194026"
      ]
     },
     "execution_count": 11,
     "metadata": {},
     "output_type": "execute_result"
    }
   ],
   "source": [
    "t = new_regular[['Season', 'Player', 'Opponent', 'Wfga', 'Wfta', 'Wto', 'Lfga', 'Lfta', 'Lto']].copy()\n",
    "t[\"TopO\"] = np.require(t['Wfga'].values+t['Wto'].values, dtype=np.float) + \\\n",
    "0.44* np.require(t['Wfta'].values, dtype=np.float)\n",
    "t[\"TopO\"] = t['Wto']/t['TopO']\n",
    "t[\"TopD\"] = np.require(t['Lfga'].values+t['Lto'].values, dtype=np.float) + \\\n",
    "0.44* np.require(t['Lfta'].values, dtype=np.float)\n",
    "t[\"TopD\"] = t['Lto']/t['TopD']\n",
    "t = t.groupby(by=['Season', 'Player']).mean()\n",
    "rst = pd.DataFrame({'TopO': t['TopO'], 'TopD': t['TopD']}, columns=['TopO', 'TopD'])\n",
    "rst.head()"
   ]
  },
  {
   "cell_type": "code",
   "execution_count": 12,
   "metadata": {
    "collapsed": false
   },
   "outputs": [],
   "source": [
    "feature = pd.merge(feature, rst, left_on=['Season', 'Player'], right_index=True)"
   ]
  },
  {
   "cell_type": "markdown",
   "metadata": {},
   "source": [
    "Rebounding"
   ]
  },
  {
   "cell_type": "code",
   "execution_count": 13,
   "metadata": {
    "collapsed": false
   },
   "outputs": [
    {
     "data": {
      "text/html": [
       "<div>\n",
       "<table border=\"1\" class=\"dataframe\">\n",
       "  <thead>\n",
       "    <tr style=\"text-align: right;\">\n",
       "      <th></th>\n",
       "      <th></th>\n",
       "      <th>ORB</th>\n",
       "      <th>DRB</th>\n",
       "    </tr>\n",
       "    <tr>\n",
       "      <th>Season</th>\n",
       "      <th>Player</th>\n",
       "      <th></th>\n",
       "      <th></th>\n",
       "    </tr>\n",
       "  </thead>\n",
       "  <tbody>\n",
       "    <tr>\n",
       "      <th rowspan=\"5\" valign=\"top\">2003</th>\n",
       "      <th>1102</th>\n",
       "      <td>0.168235</td>\n",
       "      <td>0.630384</td>\n",
       "    </tr>\n",
       "    <tr>\n",
       "      <th>1103</th>\n",
       "      <td>0.305803</td>\n",
       "      <td>0.626998</td>\n",
       "    </tr>\n",
       "    <tr>\n",
       "      <th>1104</th>\n",
       "      <td>0.371256</td>\n",
       "      <td>0.686897</td>\n",
       "    </tr>\n",
       "    <tr>\n",
       "      <th>1105</th>\n",
       "      <td>0.335166</td>\n",
       "      <td>0.641434</td>\n",
       "    </tr>\n",
       "    <tr>\n",
       "      <th>1106</th>\n",
       "      <td>0.349480</td>\n",
       "      <td>0.679342</td>\n",
       "    </tr>\n",
       "  </tbody>\n",
       "</table>\n",
       "</div>"
      ],
      "text/plain": [
       "                    ORB       DRB\n",
       "Season Player                    \n",
       "2003   1102    0.168235  0.630384\n",
       "       1103    0.305803  0.626998\n",
       "       1104    0.371256  0.686897\n",
       "       1105    0.335166  0.641434\n",
       "       1106    0.349480  0.679342"
      ]
     },
     "execution_count": 13,
     "metadata": {},
     "output_type": "execute_result"
    }
   ],
   "source": [
    "t = new_regular[['Season', 'Player', 'Opponent', 'Wor', 'Wdr', 'Lor', 'Ldr']].copy()\n",
    "t[\"ORB\"] = np.require(t[\"Wor\"].values+t[\"Ldr\"].values, dtype=np.float)\n",
    "t[\"ORB\"] = t['Wor']/t['ORB']\n",
    "t[\"DRB\"] = np.require(t[\"Wdr\"].values+t[\"Lor\"].values, dtype=np.float)\n",
    "t[\"DRB\"] = t['Wdr']/t['DRB']\n",
    "t = t.groupby(by=['Season', 'Player']).mean()\n",
    "rst = pd.DataFrame({'ORB': t['ORB'], 'DRB': t['DRB']}, columns=['ORB', 'DRB'])\n",
    "rst.head()"
   ]
  },
  {
   "cell_type": "code",
   "execution_count": 14,
   "metadata": {
    "collapsed": true
   },
   "outputs": [],
   "source": [
    "feature = pd.merge(feature, rst, left_on=['Season', 'Player'], right_index=True)"
   ]
  },
  {
   "cell_type": "markdown",
   "metadata": {},
   "source": [
    "free throws"
   ]
  },
  {
   "cell_type": "code",
   "execution_count": 15,
   "metadata": {
    "collapsed": false
   },
   "outputs": [
    {
     "data": {
      "text/html": [
       "<div>\n",
       "<table border=\"1\" class=\"dataframe\">\n",
       "  <thead>\n",
       "    <tr style=\"text-align: right;\">\n",
       "      <th></th>\n",
       "      <th></th>\n",
       "      <th>OFT</th>\n",
       "      <th>DFT</th>\n",
       "    </tr>\n",
       "    <tr>\n",
       "      <th>Season</th>\n",
       "      <th>Player</th>\n",
       "      <th></th>\n",
       "      <th></th>\n",
       "    </tr>\n",
       "  </thead>\n",
       "  <tbody>\n",
       "    <tr>\n",
       "      <th rowspan=\"5\" valign=\"top\">2003</th>\n",
       "      <th>1102</th>\n",
       "      <td>0.291436</td>\n",
       "      <td>0.336057</td>\n",
       "    </tr>\n",
       "    <tr>\n",
       "      <th>1103</th>\n",
       "      <td>0.342976</td>\n",
       "      <td>0.282092</td>\n",
       "    </tr>\n",
       "    <tr>\n",
       "      <th>1104</th>\n",
       "      <td>0.263855</td>\n",
       "      <td>0.223414</td>\n",
       "    </tr>\n",
       "    <tr>\n",
       "      <th>1105</th>\n",
       "      <td>0.255629</td>\n",
       "      <td>0.289471</td>\n",
       "    </tr>\n",
       "    <tr>\n",
       "      <th>1106</th>\n",
       "      <td>0.199740</td>\n",
       "      <td>0.297459</td>\n",
       "    </tr>\n",
       "  </tbody>\n",
       "</table>\n",
       "</div>"
      ],
      "text/plain": [
       "                    OFT       DFT\n",
       "Season Player                    \n",
       "2003   1102    0.291436  0.336057\n",
       "       1103    0.342976  0.282092\n",
       "       1104    0.263855  0.223414\n",
       "       1105    0.255629  0.289471\n",
       "       1106    0.199740  0.297459"
      ]
     },
     "execution_count": 15,
     "metadata": {},
     "output_type": "execute_result"
    }
   ],
   "source": [
    "t = new_regular[['Season', 'Player', 'Opponent', 'Wfga', 'Wftm', 'Lfga', 'Lftm']].copy()\n",
    "t['OFT'] = np.require(t['Wftm'].values, dtype=np.float)/np.require(t['Wfga'].values, dtype=np.float)\n",
    "t['DFT'] = np.require(t['Lftm'].values, dtype=np.float)/np.require(t['Lfga'].values, dtype=np.float)\n",
    "t = t.groupby(by=['Season', 'Player']).mean()\n",
    "rst = pd.DataFrame({'OFT': t['OFT'], 'DFT': t['DFT']}, \n",
    "                   columns=['OFT', 'DFT'])\n",
    "rst.head()"
   ]
  },
  {
   "cell_type": "code",
   "execution_count": 16,
   "metadata": {
    "collapsed": false
   },
   "outputs": [],
   "source": [
    "feature = pd.merge(feature, rst, left_on=['Season', 'Player'], right_index=True)"
   ]
  },
  {
   "cell_type": "code",
   "execution_count": 18,
   "metadata": {
    "collapsed": false,
    "scrolled": true
   },
   "outputs": [
    {
     "data": {
      "text/html": [
       "<div>\n",
       "<table border=\"1\" class=\"dataframe\">\n",
       "  <thead>\n",
       "    <tr style=\"text-align: right;\">\n",
       "      <th></th>\n",
       "      <th>Season</th>\n",
       "      <th>Player</th>\n",
       "      <th>EfgO</th>\n",
       "      <th>EfgD</th>\n",
       "      <th>TopO</th>\n",
       "      <th>TopD</th>\n",
       "      <th>ORB</th>\n",
       "      <th>DRB</th>\n",
       "      <th>OFT</th>\n",
       "      <th>DFT</th>\n",
       "    </tr>\n",
       "  </thead>\n",
       "  <tbody>\n",
       "    <tr>\n",
       "      <th>1154</th>\n",
       "      <td>2003</td>\n",
       "      <td>1328</td>\n",
       "      <td>0.512124</td>\n",
       "      <td>0.448150</td>\n",
       "      <td>0.155078</td>\n",
       "      <td>0.181439</td>\n",
       "      <td>0.347284</td>\n",
       "      <td>0.709854</td>\n",
       "      <td>0.234856</td>\n",
       "      <td>0.236844</td>\n",
       "    </tr>\n",
       "    <tr>\n",
       "      <th>1155</th>\n",
       "      <td>2003</td>\n",
       "      <td>1448</td>\n",
       "      <td>0.511972</td>\n",
       "      <td>0.463124</td>\n",
       "      <td>0.178941</td>\n",
       "      <td>0.167749</td>\n",
       "      <td>0.429724</td>\n",
       "      <td>0.687237</td>\n",
       "      <td>0.354094</td>\n",
       "      <td>0.221934</td>\n",
       "    </tr>\n",
       "    <tr>\n",
       "      <th>1156</th>\n",
       "      <td>2003</td>\n",
       "      <td>1393</td>\n",
       "      <td>0.515151</td>\n",
       "      <td>0.445717</td>\n",
       "      <td>0.160408</td>\n",
       "      <td>0.165338</td>\n",
       "      <td>0.385242</td>\n",
       "      <td>0.630790</td>\n",
       "      <td>0.274586</td>\n",
       "      <td>0.199656</td>\n",
       "    </tr>\n",
       "    <tr>\n",
       "      <th>1157</th>\n",
       "      <td>2003</td>\n",
       "      <td>1257</td>\n",
       "      <td>0.528861</td>\n",
       "      <td>0.450485</td>\n",
       "      <td>0.156505</td>\n",
       "      <td>0.205507</td>\n",
       "      <td>0.356053</td>\n",
       "      <td>0.664037</td>\n",
       "      <td>0.292504</td>\n",
       "      <td>0.329973</td>\n",
       "    </tr>\n",
       "    <tr>\n",
       "      <th>1158</th>\n",
       "      <td>2003</td>\n",
       "      <td>1280</td>\n",
       "      <td>0.521359</td>\n",
       "      <td>0.463462</td>\n",
       "      <td>0.197467</td>\n",
       "      <td>0.208120</td>\n",
       "      <td>0.383446</td>\n",
       "      <td>0.695785</td>\n",
       "      <td>0.220035</td>\n",
       "      <td>0.199428</td>\n",
       "    </tr>\n",
       "  </tbody>\n",
       "</table>\n",
       "</div>"
      ],
      "text/plain": [
       "      Season  Player      EfgO      EfgD      TopO      TopD       ORB  \\\n",
       "1154    2003    1328  0.512124  0.448150  0.155078  0.181439  0.347284   \n",
       "1155    2003    1448  0.511972  0.463124  0.178941  0.167749  0.429724   \n",
       "1156    2003    1393  0.515151  0.445717  0.160408  0.165338  0.385242   \n",
       "1157    2003    1257  0.528861  0.450485  0.156505  0.205507  0.356053   \n",
       "1158    2003    1280  0.521359  0.463462  0.197467  0.208120  0.383446   \n",
       "\n",
       "           DRB       OFT       DFT  \n",
       "1154  0.709854  0.234856  0.236844  \n",
       "1155  0.687237  0.354094  0.221934  \n",
       "1156  0.630790  0.274586  0.199656  \n",
       "1157  0.664037  0.292504  0.329973  \n",
       "1158  0.695785  0.220035  0.199428  "
      ]
     },
     "execution_count": 18,
     "metadata": {},
     "output_type": "execute_result"
    }
   ],
   "source": [
    "feature.head()"
   ]
  },
  {
   "cell_type": "markdown",
   "metadata": {},
   "source": [
    "## Feature normalization"
   ]
  },
  {
   "cell_type": "code",
   "execution_count": 17,
   "metadata": {
    "collapsed": true
   },
   "outputs": [],
   "source": [
    "from scipy import stats\n",
    "\n",
    "cdf = dict()\n",
    "hist, bin_edges = np.histogram(feature['EfgO'].values, bins=10000, density=True)\n",
    "hist/=hist.sum()\n",
    "cdf['EfgO'] = stats.rv_discrete(name='EfgO', values=(bin_edges[:-1], hist))\n",
    "feature['EfgO'] = cdf['EfgO'].cdf(feature['EfgO'].values)"
   ]
  },
  {
   "cell_type": "code",
   "execution_count": 18,
   "metadata": {
    "collapsed": false
   },
   "outputs": [],
   "source": [
    "hist, bin_edges = np.histogram(feature['EfgD'].values, bins=10000, density=True)\n",
    "hist/=hist.sum()\n",
    "cdf['EfgD'] = stats.rv_discrete(name='EfgD', values=(bin_edges[:-1], hist))\n",
    "feature['EfgD'] = cdf['EfgD'].cdf(feature['EfgD'].values)\n",
    "\n",
    "hist, bin_edges = np.histogram(feature['TopO'].values, bins=10000, density=True)\n",
    "hist/=hist.sum()\n",
    "cdf['TopO'] = stats.rv_discrete(name='TopO', values=(bin_edges[:-1], hist))\n",
    "feature['TopO'] = cdf['TopO'].cdf(feature['TopO'].values)\n",
    "\n",
    "hist, bin_edges = np.histogram(feature['TopD'].values, bins=10000, density=True)\n",
    "hist/=hist.sum()\n",
    "cdf['TopD'] = stats.rv_discrete(name='TopD', values=(bin_edges[:-1], hist))\n",
    "feature['TopD'] = cdf['TopD'].cdf(feature['TopD'].values)\n",
    "\n",
    "hist, bin_edges = np.histogram(feature['ORB'].values, bins=10000, density=True)\n",
    "hist/=hist.sum()\n",
    "cdf['ORB'] = stats.rv_discrete(name='ORB', values=(bin_edges[:-1], hist))\n",
    "feature['ORB'] = cdf['ORB'].cdf(feature['ORB'].values)\n",
    "\n",
    "hist, bin_edges = np.histogram(feature['DRB'].values, bins=10000, density=True)\n",
    "hist/=hist.sum()\n",
    "cdf['DRB'] = stats.rv_discrete(name='DRB', values=(bin_edges[:-1], hist))\n",
    "feature['DRB'] = cdf['DRB'].cdf(feature['DRB'].values)\n",
    "\n",
    "hist, bin_edges = np.histogram(feature['OFT'].values, bins=10000, density=True)\n",
    "hist/=hist.sum()\n",
    "cdf['OFT'] = stats.rv_discrete(name='DRB', values=(bin_edges[:-1], hist))\n",
    "feature['OFT'] = cdf['OFT'].cdf(feature['OFT'].values)\n",
    "\n",
    "hist, bin_edges = np.histogram(feature['DFT'].values, bins=10000, density=True)\n",
    "hist/=hist.sum()\n",
    "cdf['DFT'] = stats.rv_discrete(name='DFT', values=(bin_edges[:-1], hist))\n",
    "feature['DFT'] = cdf['DFT'].cdf(feature['DFT'].values)"
   ]
  },
  {
   "cell_type": "code",
   "execution_count": 19,
   "metadata": {
    "collapsed": false,
    "scrolled": true
   },
   "outputs": [
    {
     "data": {
      "text/html": [
       "<div>\n",
       "<table border=\"1\" class=\"dataframe\">\n",
       "  <thead>\n",
       "    <tr style=\"text-align: right;\">\n",
       "      <th></th>\n",
       "      <th>Season</th>\n",
       "      <th>Player</th>\n",
       "      <th>EfgO</th>\n",
       "      <th>EfgD</th>\n",
       "      <th>TopO</th>\n",
       "      <th>TopD</th>\n",
       "      <th>ORB</th>\n",
       "      <th>DRB</th>\n",
       "      <th>OFT</th>\n",
       "      <th>DFT</th>\n",
       "    </tr>\n",
       "  </thead>\n",
       "  <tbody>\n",
       "    <tr>\n",
       "      <th>1154</th>\n",
       "      <td>2003</td>\n",
       "      <td>1328</td>\n",
       "      <td>0.396552</td>\n",
       "      <td>0.164871</td>\n",
       "      <td>0.307112</td>\n",
       "      <td>0.545259</td>\n",
       "      <td>0.548491</td>\n",
       "      <td>0.747845</td>\n",
       "      <td>0.106681</td>\n",
       "      <td>0.506466</td>\n",
       "    </tr>\n",
       "    <tr>\n",
       "      <th>1155</th>\n",
       "      <td>2003</td>\n",
       "      <td>1448</td>\n",
       "      <td>0.394397</td>\n",
       "      <td>0.362069</td>\n",
       "      <td>0.784483</td>\n",
       "      <td>0.299569</td>\n",
       "      <td>0.994612</td>\n",
       "      <td>0.456897</td>\n",
       "      <td>0.964440</td>\n",
       "      <td>0.351293</td>\n",
       "    </tr>\n",
       "    <tr>\n",
       "      <th>1156</th>\n",
       "      <td>2003</td>\n",
       "      <td>1393</td>\n",
       "      <td>0.447198</td>\n",
       "      <td>0.134698</td>\n",
       "      <td>0.410560</td>\n",
       "      <td>0.270474</td>\n",
       "      <td>0.875000</td>\n",
       "      <td>0.024784</td>\n",
       "      <td>0.462284</td>\n",
       "      <td>0.169181</td>\n",
       "    </tr>\n",
       "    <tr>\n",
       "      <th>1157</th>\n",
       "      <td>2003</td>\n",
       "      <td>1257</td>\n",
       "      <td>0.664871</td>\n",
       "      <td>0.188578</td>\n",
       "      <td>0.340517</td>\n",
       "      <td>0.851293</td>\n",
       "      <td>0.635776</td>\n",
       "      <td>0.173491</td>\n",
       "      <td>0.653017</td>\n",
       "      <td>0.971983</td>\n",
       "    </tr>\n",
       "    <tr>\n",
       "      <th>1158</th>\n",
       "      <td>2003</td>\n",
       "      <td>1280</td>\n",
       "      <td>0.540948</td>\n",
       "      <td>0.370690</td>\n",
       "      <td>0.947198</td>\n",
       "      <td>0.884698</td>\n",
       "      <td>0.864224</td>\n",
       "      <td>0.567888</td>\n",
       "      <td>0.044181</td>\n",
       "      <td>0.165948</td>\n",
       "    </tr>\n",
       "  </tbody>\n",
       "</table>\n",
       "</div>"
      ],
      "text/plain": [
       "      Season  Player      EfgO      EfgD      TopO      TopD       ORB  \\\n",
       "1154    2003    1328  0.396552  0.164871  0.307112  0.545259  0.548491   \n",
       "1155    2003    1448  0.394397  0.362069  0.784483  0.299569  0.994612   \n",
       "1156    2003    1393  0.447198  0.134698  0.410560  0.270474  0.875000   \n",
       "1157    2003    1257  0.664871  0.188578  0.340517  0.851293  0.635776   \n",
       "1158    2003    1280  0.540948  0.370690  0.947198  0.884698  0.864224   \n",
       "\n",
       "           DRB       OFT       DFT  \n",
       "1154  0.747845  0.106681  0.506466  \n",
       "1155  0.456897  0.964440  0.351293  \n",
       "1156  0.024784  0.462284  0.169181  \n",
       "1157  0.173491  0.653017  0.971983  \n",
       "1158  0.567888  0.044181  0.165948  "
      ]
     },
     "execution_count": 19,
     "metadata": {},
     "output_type": "execute_result"
    }
   ],
   "source": [
    "feature.head()"
   ]
  },
  {
   "cell_type": "code",
   "execution_count": 20,
   "metadata": {
    "collapsed": false
   },
   "outputs": [],
   "source": [
    "result['SeedDelta'] = (result['OpponentSeed']-result['PlayerSeed']+16.0)/31\n",
    "result['SeedState'] = (17.0-result['PlayerSeed'].values)/16\n",
    "result = pd.merge(result, feature, on=['Season', 'Player'])\n",
    "result = pd.merge(result, feature, left_on=['Season', 'Opponent'], right_on=['Season', 'Player'], suffixes=[\"Ply\", \"Opp\"])"
   ]
  },
  {
   "cell_type": "code",
   "execution_count": 8,
   "metadata": {
    "collapsed": false
   },
   "outputs": [],
   "source": [
    "# complete record test\n",
    "result['SeedDelta'] = (result['OpponentSeed']-result['PlayerSeed']+16.0)/31"
   ]
  },
  {
   "cell_type": "code",
   "execution_count": 21,
   "metadata": {
    "collapsed": false
   },
   "outputs": [],
   "source": [
    "result.drop(['PlayerOpp', 'SeedState'], 1, inplace=True)\n",
    "result = result.rename(columns={\"PlayerPly\": \"Player\"})"
   ]
  },
  {
   "cell_type": "markdown",
   "metadata": {
    "collapsed": false
   },
   "source": [
    "Parameter tunning"
   ]
  },
  {
   "cell_type": "code",
   "execution_count": 9,
   "metadata": {
    "collapsed": false,
    "scrolled": true
   },
   "outputs": [
    {
     "data": {
      "text/html": [
       "<div>\n",
       "<table border=\"1\" class=\"dataframe\">\n",
       "  <thead>\n",
       "    <tr style=\"text-align: right;\">\n",
       "      <th></th>\n",
       "      <th>Result</th>\n",
       "      <th>Season</th>\n",
       "      <th>Player</th>\n",
       "      <th>Opponent</th>\n",
       "      <th>PlayerSeed</th>\n",
       "      <th>OpponentSeed</th>\n",
       "      <th>SeedDelta</th>\n",
       "    </tr>\n",
       "  </thead>\n",
       "  <tbody>\n",
       "    <tr>\n",
       "      <th>4095</th>\n",
       "      <td>0</td>\n",
       "      <td>2016</td>\n",
       "      <td>1396</td>\n",
       "      <td>1234</td>\n",
       "      <td>10</td>\n",
       "      <td>7</td>\n",
       "      <td>0.419355</td>\n",
       "    </tr>\n",
       "    <tr>\n",
       "      <th>4096</th>\n",
       "      <td>1</td>\n",
       "      <td>2016</td>\n",
       "      <td>1458</td>\n",
       "      <td>1338</td>\n",
       "      <td>7</td>\n",
       "      <td>10</td>\n",
       "      <td>0.612903</td>\n",
       "    </tr>\n",
       "    <tr>\n",
       "      <th>4097</th>\n",
       "      <td>1</td>\n",
       "      <td>2016</td>\n",
       "      <td>1458</td>\n",
       "      <td>1462</td>\n",
       "      <td>7</td>\n",
       "      <td>2</td>\n",
       "      <td>0.354839</td>\n",
       "    </tr>\n",
       "    <tr>\n",
       "      <th>4098</th>\n",
       "      <td>0</td>\n",
       "      <td>2016</td>\n",
       "      <td>1451</td>\n",
       "      <td>1462</td>\n",
       "      <td>15</td>\n",
       "      <td>2</td>\n",
       "      <td>0.096774</td>\n",
       "    </tr>\n",
       "    <tr>\n",
       "      <th>4099</th>\n",
       "      <td>1</td>\n",
       "      <td>2016</td>\n",
       "      <td>1462</td>\n",
       "      <td>1451</td>\n",
       "      <td>2</td>\n",
       "      <td>15</td>\n",
       "      <td>0.935484</td>\n",
       "    </tr>\n",
       "  </tbody>\n",
       "</table>\n",
       "</div>"
      ],
      "text/plain": [
       "      Result  Season  Player  Opponent  PlayerSeed  OpponentSeed  SeedDelta\n",
       "4095       0    2016    1396      1234          10             7   0.419355\n",
       "4096       1    2016    1458      1338           7            10   0.612903\n",
       "4097       1    2016    1458      1462           7             2   0.354839\n",
       "4098       0    2016    1451      1462          15             2   0.096774\n",
       "4099       1    2016    1462      1451           2            15   0.935484"
      ]
     },
     "execution_count": 9,
     "metadata": {},
     "output_type": "execute_result"
    }
   ],
   "source": [
    "result.tail()"
   ]
  },
  {
   "cell_type": "code",
   "execution_count": 11,
   "metadata": {
    "collapsed": false
   },
   "outputs": [
    {
     "name": "stderr",
     "output_type": "stream",
     "text": [
      "Using Theano backend.\n",
      "WARNING (theano.sandbox.cuda): GPU device gpu0 will be initialized, and used if a GPU is needed. However, no computation, nor shared variables, will be implicitly moved to that device. If you want that behavior, use the 'device' flag instead.\n",
      "Using gpu device 0: GeForce GTX 960M (CNMeM is disabled, cuDNN Version is too old. Update to v5, was 3007.)\n"
     ]
    }
   ],
   "source": [
    "from keras.models import Sequential\n",
    "from keras.layers import Dense, Activation\n",
    "from keras.regularizers import l2, l1, l1l2\n",
    "from keras.optimizers import SGD\n",
    "\n",
    "model = Sequential([\n",
    "    Dense(1, input_dim=1, W_regularizer=l1l2(0.002, 0.005), init='lecun_uniform'),\n",
    "    Activation('sigmoid')\n",
    "])\n",
    "\n",
    "opt = SGD(lr=0.125, momentum=0.92, decay=1e-4)\n",
    "model.compile(optimizer=opt, loss='binary_crossentropy', metrics=['binary_crossentropy'])"
   ]
  },
  {
   "cell_type": "code",
   "execution_count": 12,
   "metadata": {
    "collapsed": false,
    "scrolled": true
   },
   "outputs": [
    {
     "name": "stdout",
     "output_type": "stream",
     "text": [
      "Train on 3564 samples, validate on 134 samples\n",
      "Epoch 1/70\n",
      "3564/3564 [==============================] - 0s - loss: 0.7002 - binary_crossentropy: 0.7000 - val_loss: 0.6973 - val_binary_crossentropy: 0.6973\n",
      "Epoch 2/70\n",
      "3564/3564 [==============================] - 0s - loss: 0.6979 - binary_crossentropy: 0.6977 - val_loss: 0.6943 - val_binary_crossentropy: 0.6943\n",
      "Epoch 3/70\n",
      "3564/3564 [==============================] - 0s - loss: 0.6936 - binary_crossentropy: 0.6936 - val_loss: 0.6908 - val_binary_crossentropy: 0.6908\n",
      "Epoch 4/70\n",
      "3564/3564 [==============================] - 0s - loss: 0.6890 - binary_crossentropy: 0.6889 - val_loss: 0.6873 - val_binary_crossentropy: 0.6873\n",
      "Epoch 5/70\n",
      "3564/3564 [==============================] - 0s - loss: 0.6849 - binary_crossentropy: 0.6844 - val_loss: 0.6839 - val_binary_crossentropy: 0.6839\n",
      "Epoch 6/70\n",
      "3564/3564 [==============================] - 0s - loss: 0.6806 - binary_crossentropy: 0.6797 - val_loss: 0.6804 - val_binary_crossentropy: 0.6804\n",
      "Epoch 7/70\n",
      "3564/3564 [==============================] - 0s - loss: 0.6762 - binary_crossentropy: 0.6747 - val_loss: 0.6766 - val_binary_crossentropy: 0.6766\n",
      "Epoch 8/70\n",
      "3564/3564 [==============================] - 0s - loss: 0.6714 - binary_crossentropy: 0.6694 - val_loss: 0.6723 - val_binary_crossentropy: 0.6723\n",
      "Epoch 9/70\n",
      "3564/3564 [==============================] - 0s - loss: 0.6665 - binary_crossentropy: 0.6637 - val_loss: 0.6678 - val_binary_crossentropy: 0.6678\n",
      "Epoch 10/70\n",
      "3564/3564 [==============================] - 0s - loss: 0.6614 - binary_crossentropy: 0.6579 - val_loss: 0.6633 - val_binary_crossentropy: 0.6633\n",
      "Epoch 11/70\n",
      "3564/3564 [==============================] - 0s - loss: 0.6566 - binary_crossentropy: 0.6522 - val_loss: 0.6592 - val_binary_crossentropy: 0.6592\n",
      "Epoch 12/70\n",
      "3564/3564 [==============================] - 0s - loss: 0.6521 - binary_crossentropy: 0.6469 - val_loss: 0.6554 - val_binary_crossentropy: 0.6554\n",
      "Epoch 13/70\n",
      "3564/3564 [==============================] - 0s - loss: 0.6482 - binary_crossentropy: 0.6420 - val_loss: 0.6519 - val_binary_crossentropy: 0.6519\n",
      "Epoch 14/70\n",
      "3564/3564 [==============================] - 0s - loss: 0.6447 - binary_crossentropy: 0.6374 - val_loss: 0.6488 - val_binary_crossentropy: 0.6488\n",
      "Epoch 15/70\n",
      "3564/3564 [==============================] - 0s - loss: 0.6414 - binary_crossentropy: 0.6330 - val_loss: 0.6458 - val_binary_crossentropy: 0.6458\n",
      "Epoch 16/70\n",
      "3564/3564 [==============================] - 0s - loss: 0.6385 - binary_crossentropy: 0.6288 - val_loss: 0.6430 - val_binary_crossentropy: 0.6430\n",
      "Epoch 17/70\n",
      "3564/3564 [==============================] - 0s - loss: 0.6358 - binary_crossentropy: 0.6247 - val_loss: 0.6403 - val_binary_crossentropy: 0.6403\n",
      "Epoch 18/70\n",
      "3564/3564 [==============================] - 0s - loss: 0.6334 - binary_crossentropy: 0.6209 - val_loss: 0.6379 - val_binary_crossentropy: 0.6379\n",
      "Epoch 19/70\n",
      "3564/3564 [==============================] - 0s - loss: 0.6312 - binary_crossentropy: 0.6173 - val_loss: 0.6357 - val_binary_crossentropy: 0.6357\n",
      "Epoch 20/70\n",
      "3564/3564 [==============================] - 0s - loss: 0.6293 - binary_crossentropy: 0.6140 - val_loss: 0.6336 - val_binary_crossentropy: 0.6336\n",
      "Epoch 21/70\n",
      "3564/3564 [==============================] - 0s - loss: 0.6277 - binary_crossentropy: 0.6109 - val_loss: 0.6318 - val_binary_crossentropy: 0.6318\n",
      "Epoch 22/70\n",
      "3564/3564 [==============================] - 0s - loss: 0.6264 - binary_crossentropy: 0.6081 - val_loss: 0.6302 - val_binary_crossentropy: 0.6302\n",
      "Epoch 23/70\n",
      "3564/3564 [==============================] - 0s - loss: 0.6252 - binary_crossentropy: 0.6056 - val_loss: 0.6287 - val_binary_crossentropy: 0.6287\n",
      "Epoch 24/70\n",
      "3564/3564 [==============================] - 0s - loss: 0.6241 - binary_crossentropy: 0.6032 - val_loss: 0.6274 - val_binary_crossentropy: 0.6274\n",
      "Epoch 25/70\n",
      "3564/3564 [==============================] - 0s - loss: 0.6233 - binary_crossentropy: 0.6012 - val_loss: 0.6262 - val_binary_crossentropy: 0.6262\n",
      "Epoch 26/70\n",
      "3564/3564 [==============================] - 0s - loss: 0.6226 - binary_crossentropy: 0.5993 - val_loss: 0.6251 - val_binary_crossentropy: 0.6251\n",
      "Epoch 27/70\n",
      "3564/3564 [==============================] - 0s - loss: 0.6219 - binary_crossentropy: 0.5976 - val_loss: 0.6242 - val_binary_crossentropy: 0.6242\n",
      "Epoch 28/70\n",
      "3564/3564 [==============================] - 0s - loss: 0.6213 - binary_crossentropy: 0.5960 - val_loss: 0.6233 - val_binary_crossentropy: 0.6233\n",
      "Epoch 29/70\n",
      "3564/3564 [==============================] - 0s - loss: 0.6209 - binary_crossentropy: 0.5946 - val_loss: 0.6225 - val_binary_crossentropy: 0.6225\n",
      "Epoch 30/70\n",
      "3564/3564 [==============================] - 0s - loss: 0.6205 - binary_crossentropy: 0.5933 - val_loss: 0.6219 - val_binary_crossentropy: 0.6219\n",
      "Epoch 31/70\n",
      "3564/3564 [==============================] - 0s - loss: 0.6202 - binary_crossentropy: 0.5922 - val_loss: 0.6213 - val_binary_crossentropy: 0.6213\n",
      "Epoch 32/70\n",
      "3564/3564 [==============================] - 0s - loss: 0.6200 - binary_crossentropy: 0.5911 - val_loss: 0.6207 - val_binary_crossentropy: 0.6207\n",
      "Epoch 33/70\n",
      "3564/3564 [==============================] - 0s - loss: 0.6198 - binary_crossentropy: 0.5901 - val_loss: 0.6202 - val_binary_crossentropy: 0.6202\n",
      "Epoch 34/70\n",
      "3564/3564 [==============================] - 0s - loss: 0.6196 - binary_crossentropy: 0.5892 - val_loss: 0.6197 - val_binary_crossentropy: 0.6197\n",
      "Epoch 35/70\n",
      "3564/3564 [==============================] - 0s - loss: 0.6195 - binary_crossentropy: 0.5884 - val_loss: 0.6193 - val_binary_crossentropy: 0.6193\n",
      "Epoch 36/70\n",
      "3564/3564 [==============================] - 0s - loss: 0.6193 - binary_crossentropy: 0.5876 - val_loss: 0.6190 - val_binary_crossentropy: 0.6190\n",
      "Epoch 37/70\n",
      "3564/3564 [==============================] - 0s - loss: 0.6193 - binary_crossentropy: 0.5870 - val_loss: 0.6186 - val_binary_crossentropy: 0.6186\n",
      "Epoch 38/70\n",
      "3564/3564 [==============================] - 0s - loss: 0.6192 - binary_crossentropy: 0.5864 - val_loss: 0.6183 - val_binary_crossentropy: 0.6183\n",
      "Epoch 39/70\n",
      "3564/3564 [==============================] - 0s - loss: 0.6192 - binary_crossentropy: 0.5859 - val_loss: 0.6181 - val_binary_crossentropy: 0.6181\n",
      "Epoch 40/70\n",
      "3564/3564 [==============================] - 0s - loss: 0.6191 - binary_crossentropy: 0.5854 - val_loss: 0.6178 - val_binary_crossentropy: 0.6178\n",
      "Epoch 41/70\n",
      "3564/3564 [==============================] - 0s - loss: 0.6191 - binary_crossentropy: 0.5849 - val_loss: 0.6176 - val_binary_crossentropy: 0.6176\n",
      "Epoch 42/70\n",
      "3564/3564 [==============================] - 0s - loss: 0.6190 - binary_crossentropy: 0.5845 - val_loss: 0.6175 - val_binary_crossentropy: 0.6175\n",
      "Epoch 43/70\n",
      "3564/3564 [==============================] - 0s - loss: 0.6190 - binary_crossentropy: 0.5842 - val_loss: 0.6173 - val_binary_crossentropy: 0.6173\n",
      "Epoch 44/70\n",
      "3564/3564 [==============================] - 0s - loss: 0.6190 - binary_crossentropy: 0.5839 - val_loss: 0.6172 - val_binary_crossentropy: 0.6172\n",
      "Epoch 45/70\n",
      "3564/3564 [==============================] - 0s - loss: 0.6190 - binary_crossentropy: 0.5837 - val_loss: 0.6171 - val_binary_crossentropy: 0.6171\n",
      "Epoch 46/70\n",
      "3564/3564 [==============================] - 0s - loss: 0.6190 - binary_crossentropy: 0.5835 - val_loss: 0.6170 - val_binary_crossentropy: 0.6170\n",
      "Epoch 47/70\n",
      "3564/3564 [==============================] - 0s - loss: 0.6190 - binary_crossentropy: 0.5833 - val_loss: 0.6169 - val_binary_crossentropy: 0.6169\n",
      "Epoch 48/70\n",
      "3564/3564 [==============================] - 0s - loss: 0.6190 - binary_crossentropy: 0.5831 - val_loss: 0.6168 - val_binary_crossentropy: 0.6168\n",
      "Epoch 49/70\n",
      "3564/3564 [==============================] - 0s - loss: 0.6190 - binary_crossentropy: 0.5830 - val_loss: 0.6168 - val_binary_crossentropy: 0.6168\n",
      "Epoch 50/70\n",
      "3564/3564 [==============================] - 0s - loss: 0.6190 - binary_crossentropy: 0.5829 - val_loss: 0.6168 - val_binary_crossentropy: 0.6168\n",
      "Epoch 51/70\n",
      "3564/3564 [==============================] - 0s - loss: 0.6190 - binary_crossentropy: 0.5828 - val_loss: 0.6167 - val_binary_crossentropy: 0.6167\n",
      "Epoch 52/70\n",
      "3564/3564 [==============================] - 0s - loss: 0.6190 - binary_crossentropy: 0.5828 - val_loss: 0.6167 - val_binary_crossentropy: 0.6167\n",
      "Epoch 53/70\n",
      "3564/3564 [==============================] - 0s - loss: 0.6190 - binary_crossentropy: 0.5826 - val_loss: 0.6166 - val_binary_crossentropy: 0.6166\n",
      "Epoch 54/70\n",
      "3564/3564 [==============================] - 0s - loss: 0.6190 - binary_crossentropy: 0.5825 - val_loss: 0.6165 - val_binary_crossentropy: 0.6165\n",
      "Epoch 55/70\n",
      "3564/3564 [==============================] - 0s - loss: 0.6190 - binary_crossentropy: 0.5824 - val_loss: 0.6165 - val_binary_crossentropy: 0.6165\n",
      "Epoch 56/70\n",
      "3564/3564 [==============================] - 0s - loss: 0.6190 - binary_crossentropy: 0.5823 - val_loss: 0.6164 - val_binary_crossentropy: 0.6164\n",
      "Epoch 57/70\n",
      "3564/3564 [==============================] - 0s - loss: 0.6190 - binary_crossentropy: 0.5822 - val_loss: 0.6164 - val_binary_crossentropy: 0.6164\n",
      "Epoch 58/70\n",
      "3564/3564 [==============================] - 0s - loss: 0.6190 - binary_crossentropy: 0.5821 - val_loss: 0.6164 - val_binary_crossentropy: 0.6164\n",
      "Epoch 59/70\n",
      "3564/3564 [==============================] - 0s - loss: 0.6190 - binary_crossentropy: 0.5821 - val_loss: 0.6163 - val_binary_crossentropy: 0.6163\n",
      "Epoch 60/70\n",
      "3564/3564 [==============================] - 0s - loss: 0.6190 - binary_crossentropy: 0.5820 - val_loss: 0.6163 - val_binary_crossentropy: 0.6163\n",
      "Epoch 61/70\n",
      "3564/3564 [==============================] - 0s - loss: 0.6190 - binary_crossentropy: 0.5820 - val_loss: 0.6163 - val_binary_crossentropy: 0.6163\n",
      "Epoch 62/70\n",
      "3564/3564 [==============================] - 0s - loss: 0.6190 - binary_crossentropy: 0.5820 - val_loss: 0.6163 - val_binary_crossentropy: 0.6163\n",
      "Epoch 63/70\n",
      "3564/3564 [==============================] - 0s - loss: 0.6190 - binary_crossentropy: 0.5820 - val_loss: 0.6164 - val_binary_crossentropy: 0.6164\n",
      "Epoch 64/70\n",
      "3564/3564 [==============================] - 0s - loss: 0.6190 - binary_crossentropy: 0.5821 - val_loss: 0.6164 - val_binary_crossentropy: 0.6164\n",
      "Epoch 65/70\n",
      "3564/3564 [==============================] - 0s - loss: 0.6190 - binary_crossentropy: 0.5821 - val_loss: 0.6164 - val_binary_crossentropy: 0.6164\n",
      "Epoch 66/70\n",
      "3564/3564 [==============================] - 0s - loss: 0.6190 - binary_crossentropy: 0.5822 - val_loss: 0.6164 - val_binary_crossentropy: 0.6164\n",
      "Epoch 67/70\n",
      "3564/3564 [==============================] - 0s - loss: 0.6190 - binary_crossentropy: 0.5822 - val_loss: 0.6165 - val_binary_crossentropy: 0.6165\n",
      "Epoch 68/70\n",
      "3564/3564 [==============================] - 0s - loss: 0.6190 - binary_crossentropy: 0.5823 - val_loss: 0.6164 - val_binary_crossentropy: 0.6164\n",
      "Epoch 69/70\n",
      "3564/3564 [==============================] - 0s - loss: 0.6190 - binary_crossentropy: 0.5822 - val_loss: 0.6164 - val_binary_crossentropy: 0.6164\n",
      "Epoch 70/70\n",
      "3564/3564 [==============================] - 0s - loss: 0.6190 - binary_crossentropy: 0.5822 - val_loss: 0.6164 - val_binary_crossentropy: 0.6164\n"
     ]
    },
    {
     "data": {
      "text/plain": [
       "<keras.callbacks.History at 0x7fd676eff510>"
      ]
     },
     "execution_count": 12,
     "metadata": {},
     "output_type": "execute_result"
    }
   ],
   "source": [
    "model.fit(X, np.expand_dims(Y, 1), nb_epoch=70, batch_size=2048, validation_data=(Xt, np.expand_dims(Yt, 1)), verbose=1)"
   ]
  },
  {
   "cell_type": "code",
   "execution_count": 33,
   "metadata": {
    "collapsed": false
   },
   "outputs": [
    {
     "data": {
      "text/plain": [
       "array([[1],\n",
       "       [0],\n",
       "       [0],\n",
       "       ..., \n",
       "       [1],\n",
       "       [1],\n",
       "       [1]])"
      ]
     },
     "execution_count": 33,
     "metadata": {},
     "output_type": "execute_result"
    }
   ],
   "source": [
    "np.expand_dims(Y, 1)"
   ]
  },
  {
   "cell_type": "code",
   "execution_count": 48,
   "metadata": {
    "collapsed": false
   },
   "outputs": [
    {
     "name": "stdout",
     "output_type": "stream",
     "text": [
      "\r",
      " 32/134 [======>.......................] - ETA: 0s"
     ]
    }
   ],
   "source": [
    "Yp=model.predict_proba(Xt)"
   ]
  },
  {
   "cell_type": "code",
   "execution_count": 66,
   "metadata": {
    "collapsed": false
   },
   "outputs": [
    {
     "data": {
      "text/plain": [
       "array([[ 0.51612903,  0.14224138,  0.97952586, ...,  0.4612069 ,\n",
       "         0.92780172,  0.22952586],\n",
       "       [ 0.03225806,  0.14224138,  0.97952586, ...,  0.27155172,\n",
       "         0.61314655,  0.54525862],\n",
       "       [ 0.38709677,  0.67025862,  0.04956897, ...,  0.27155172,\n",
       "         0.61314655,  0.54525862],\n",
       "       ..., \n",
       "       [ 0.87096774,  0.54741379,  0.13469828, ...,  0.76293103,\n",
       "         0.92780172,  0.81357759],\n",
       "       [ 0.74193548,  0.82974138,  0.5       , ...,  0.95043103,\n",
       "         0.92780172,  0.14331897],\n",
       "       [ 0.87096774,  0.44073276,  0.04956897, ...,  0.4612069 ,\n",
       "         0.71012931,  0.54525862]])"
      ]
     },
     "execution_count": 66,
     "metadata": {},
     "output_type": "execute_result"
    }
   ],
   "source": [
    "X"
   ]
  },
  {
   "cell_type": "code",
   "execution_count": 10,
   "metadata": {
    "collapsed": false
   },
   "outputs": [],
   "source": [
    "seg = result[(result['Season'])<2013].copy()\n",
    "X = seg.ix[:, 6:7].values\n",
    "Y = seg.ix[:, 0].values\n",
    "test = result[(result['Season']==2013)].copy()\n",
    "Xt = test.ix[:, 6:7].values\n",
    "Yt = test.ix[:, 0].values"
   ]
  },
  {
   "cell_type": "code",
   "execution_count": 48,
   "metadata": {
    "collapsed": false
   },
   "outputs": [
    {
     "data": {
      "text/plain": [
       "{'min_samples_leaf': 4, 'n_estimators': 110}"
      ]
     },
     "execution_count": 48,
     "metadata": {},
     "output_type": "execute_result"
    }
   ],
   "source": [
    "cver.best_params_"
   ]
  },
  {
   "cell_type": "code",
   "execution_count": 49,
   "metadata": {
    "collapsed": false
   },
   "outputs": [
    {
     "data": {
      "text/plain": [
       "RandomForestClassifier(bootstrap=True, class_weight=None, criterion='gini',\n",
       "            max_depth=None, max_features='auto', max_leaf_nodes=None,\n",
       "            min_samples_leaf=4, min_samples_split=2,\n",
       "            min_weight_fraction_leaf=0.0, n_estimators=110, n_jobs=1,\n",
       "            oob_score=False, random_state=None, verbose=0,\n",
       "            warm_start=False)"
      ]
     },
     "execution_count": 49,
     "metadata": {},
     "output_type": "execute_result"
    }
   ],
   "source": [
    "rf = RandomForestClassifier(n_estimators=110, min_samples_leaf=4)\n",
    "rf.fit(X, Y)"
   ]
  },
  {
   "cell_type": "markdown",
   "metadata": {},
   "source": [
    "Test on test set"
   ]
  },
  {
   "cell_type": "code",
   "execution_count": 31,
   "metadata": {
    "collapsed": false
   },
   "outputs": [
    {
     "name": "stdout",
     "output_type": "stream",
     "text": [
      "\r",
      " 32/134 [======>.......................] - ETA: 0s"
     ]
    }
   ],
   "source": [
    "Yp = model.predict_proba(Xt)"
   ]
  },
  {
   "cell_type": "code",
   "execution_count": 52,
   "metadata": {
    "collapsed": false
   },
   "outputs": [
    {
     "data": {
      "text/plain": [
       "0.61295923585826095"
      ]
     },
     "execution_count": 52,
     "metadata": {},
     "output_type": "execute_result"
    }
   ],
   "source": [
    "#keeps the best auc\n",
    "from sklearn.metrics import log_loss\n",
    "\n",
    "log_loss(Yt, Yp)"
   ]
  },
  {
   "cell_type": "code",
   "execution_count": 32,
   "metadata": {
    "collapsed": false
   },
   "outputs": [
    {
     "data": {
      "text/plain": [
       "0.60233398560267781"
      ]
     },
     "execution_count": 32,
     "metadata": {},
     "output_type": "execute_result"
    }
   ],
   "source": [
    "from sklearn.metrics import log_loss\n",
    "log_loss(Yt, Yp, eps=1e-7)"
   ]
  },
  {
   "cell_type": "code",
   "execution_count": 30,
   "metadata": {
    "collapsed": false
   },
   "outputs": [
    {
     "data": {
      "text/plain": [
       "0.73535308531967036"
      ]
     },
     "execution_count": 30,
     "metadata": {},
     "output_type": "execute_result"
    }
   ],
   "source": [
    "#keeps the best auc\n",
    "from sklearn.metrics import roc_auc_score\n",
    "\n",
    "roc_auc_score(Yt, Yp[:,1])"
   ]
  },
  {
   "cell_type": "code",
   "execution_count": 34,
   "metadata": {
    "collapsed": false
   },
   "outputs": [
    {
     "data": {
      "text/plain": [
       "0.72978391623969707"
      ]
     },
     "execution_count": 34,
     "metadata": {},
     "output_type": "execute_result"
    }
   ],
   "source": [
    "from sklearn.metrics import roc_auc_score\n",
    "roc_auc_score(Yt, Yp)"
   ]
  },
  {
   "cell_type": "markdown",
   "metadata": {},
   "source": [
    "# Submit result"
   ]
  },
  {
   "cell_type": "code",
   "execution_count": 38,
   "metadata": {
    "collapsed": false
   },
   "outputs": [],
   "source": [
    "submission = pd.read_csv(\"./Data/sample_submission.csv\")\n",
    "content = []\n",
    "for row in submission.iterrows():\n",
    "    content.append(map(int, row[1].ix[0].split('_')))"
   ]
  },
  {
   "cell_type": "code",
   "execution_count": 39,
   "metadata": {
    "collapsed": false
   },
   "outputs": [],
   "source": [
    "submission = pd.DataFrame(content, columns=['Season', 'Player', 'Opponent'])"
   ]
  },
  {
   "cell_type": "code",
   "execution_count": null,
   "metadata": {
    "collapsed": true
   },
   "outputs": [],
   "source": []
  },
  {
   "cell_type": "code",
   "execution_count": 40,
   "metadata": {
    "collapsed": false
   },
   "outputs": [],
   "source": [
    "# take features from existing data\n",
    "t = pd.merge(submission, tourney_seeds, left_on=['Season', 'Player'], right_on=['Season', 'Team'])\n",
    "t = t.ix[:, [0,1,2,5]]\n",
    "t.columns = ['Season', 'Player', 'Opponent', 'PlayerSeed']\n",
    "t = pd.merge(t, tourney_seeds, left_on=['Season', 'Opponent'], right_on=['Season', 'Team'])\n",
    "t = t.ix[:, [0, 1, 2, 3, 6]]\n",
    "t.columns = ['Season', 'Player', 'Opponent', 'PlayerSeed', 'OpponentSeed']\n",
    "t['SeedDelta'] = (t['OpponentSeed']-t['PlayerSeed']+16.0)/31\n",
    "t['SeedState'] = (17.0-t['PlayerSeed'].values)/16\n",
    "t = pd.merge(t, feature, on=['Season', 'Player'])\n",
    "t = pd.merge(t, feature, left_on=['Season', 'Opponent'], right_on=['Season', 'Player'], suffixes=[\"Ply\", \"Opp\"])\n",
    "t.drop('PlayerOpp', 1, inplace=True)\n",
    "t = t.rename(columns={\"PlayerPly\": \"Player\"})"
   ]
  },
  {
   "cell_type": "code",
   "execution_count": 47,
   "metadata": {
    "collapsed": false
   },
   "outputs": [],
   "source": [
    "X = t.ix[:, 5:23].values\n",
    "Y = rf.predict_proba(X)"
   ]
  },
  {
   "cell_type": "code",
   "execution_count": 48,
   "metadata": {
    "collapsed": false
   },
   "outputs": [],
   "source": [
    "t['Prediction']=Y[:, 1]"
   ]
  },
  {
   "cell_type": "code",
   "execution_count": 49,
   "metadata": {
    "collapsed": true
   },
   "outputs": [],
   "source": [
    "id = []\n",
    "pred = []\n",
    "for row in t.iterrows():\n",
    "    id.append(\"{0}_{1}_{2}\".format(int(row[1].ix[0]), int(row[1].ix[1]), int(row[1].ix[2])))\n",
    "    pred.append(row[1].ix[23])"
   ]
  },
  {
   "cell_type": "code",
   "execution_count": 50,
   "metadata": {
    "collapsed": true
   },
   "outputs": [],
   "source": [
    "submit = pd.DataFrame({\"id\":id, \"pred\":pred}, columns=['id', 'pred'])"
   ]
  },
  {
   "cell_type": "code",
   "execution_count": 51,
   "metadata": {
    "collapsed": false
   },
   "outputs": [
    {
     "data": {
      "text/html": [
       "<div>\n",
       "<table border=\"1\" class=\"dataframe\">\n",
       "  <thead>\n",
       "    <tr style=\"text-align: right;\">\n",
       "      <th></th>\n",
       "      <th>id</th>\n",
       "      <th>pred</th>\n",
       "    </tr>\n",
       "  </thead>\n",
       "  <tbody>\n",
       "    <tr>\n",
       "      <th>0</th>\n",
       "      <td>2013_1103_1107</td>\n",
       "      <td>0.527143</td>\n",
       "    </tr>\n",
       "    <tr>\n",
       "      <th>1</th>\n",
       "      <td>2013_1103_1112</td>\n",
       "      <td>0.275000</td>\n",
       "    </tr>\n",
       "    <tr>\n",
       "      <th>2</th>\n",
       "      <td>2013_1107_1112</td>\n",
       "      <td>0.075000</td>\n",
       "    </tr>\n",
       "    <tr>\n",
       "      <th>3</th>\n",
       "      <td>2013_1103_1125</td>\n",
       "      <td>0.395238</td>\n",
       "    </tr>\n",
       "    <tr>\n",
       "      <th>4</th>\n",
       "      <td>2013_1107_1125</td>\n",
       "      <td>0.309286</td>\n",
       "    </tr>\n",
       "  </tbody>\n",
       "</table>\n",
       "</div>"
      ],
      "text/plain": [
       "               id      pred\n",
       "0  2013_1103_1107  0.527143\n",
       "1  2013_1103_1112  0.275000\n",
       "2  2013_1107_1112  0.075000\n",
       "3  2013_1103_1125  0.395238\n",
       "4  2013_1107_1125  0.309286"
      ]
     },
     "execution_count": 51,
     "metadata": {},
     "output_type": "execute_result"
    }
   ],
   "source": [
    "submit.head()"
   ]
  },
  {
   "cell_type": "code",
   "execution_count": 52,
   "metadata": {
    "collapsed": true
   },
   "outputs": [],
   "source": [
    "submit.to_csv(\"result.csv\", index=False)"
   ]
  },
  {
   "cell_type": "markdown",
   "metadata": {},
   "source": [
    "Try to calculate loss locally"
   ]
  },
  {
   "cell_type": "code",
   "execution_count": 53,
   "metadata": {
    "collapsed": false
   },
   "outputs": [],
   "source": [
    "submission = t[['Season', 'Player', 'Opponent', 'Prediction']]"
   ]
  },
  {
   "cell_type": "code",
   "execution_count": 54,
   "metadata": {
    "collapsed": false
   },
   "outputs": [
    {
     "data": {
      "text/plain": [
       "(9112, 4)"
      ]
     },
     "execution_count": 54,
     "metadata": {},
     "output_type": "execute_result"
    }
   ],
   "source": [
    "submission.shape"
   ]
  },
  {
   "cell_type": "code",
   "execution_count": 55,
   "metadata": {
    "collapsed": false
   },
   "outputs": [],
   "source": [
    "t1 = pd.merge(submission, tourney_compact_results, left_on=['Season', 'Player', 'Opponent'], right_on=['Season', 'Wteam', 'Lteam'])\n",
    "t2 = pd.merge(submission, tourney_compact_results, left_on=['Season', 'Player', 'Opponent'], right_on=['Season', 'Lteam', 'Wteam'])"
   ]
  },
  {
   "cell_type": "code",
   "execution_count": 56,
   "metadata": {
    "collapsed": false
   },
   "outputs": [
    {
     "data": {
      "text/plain": [
       "0.2889324328931448"
      ]
     },
     "execution_count": 56,
     "metadata": {},
     "output_type": "execute_result"
    }
   ],
   "source": [
    "t1['Label']=1\n",
    "t2['Label']=0\n",
    "submission = pd.concat([t1, t2], ignore_index=True)\n",
    "log_loss(submission['Label'].values, submission['Prediction'].values)"
   ]
  },
  {
   "cell_type": "code",
   "execution_count": null,
   "metadata": {
    "collapsed": true
   },
   "outputs": [],
   "source": []
  }
 ],
 "metadata": {
  "kernelspec": {
   "display_name": "Python 2",
   "language": "python",
   "name": "python2"
  },
  "language_info": {
   "codemirror_mode": {
    "name": "ipython",
    "version": 2
   },
   "file_extension": ".py",
   "mimetype": "text/x-python",
   "name": "python",
   "nbconvert_exporter": "python",
   "pygments_lexer": "ipython2",
   "version": "2.7.12"
  }
 },
 "nbformat": 4,
 "nbformat_minor": 1
}
