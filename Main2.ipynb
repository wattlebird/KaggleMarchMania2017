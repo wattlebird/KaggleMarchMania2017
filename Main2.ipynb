{
 "cells": [
  {
   "cell_type": "code",
   "execution_count": 1,
   "metadata": {
    "collapsed": false
   },
   "outputs": [],
   "source": [
    "import pandas as pd\n",
    "import numpy as np\n",
    "\n",
    "\n",
    "tourney_seeds = pd.read_csv(\"./Data/TourneySeeds.csv\")\n",
    "rank = []\n",
    "teams = []\n",
    "for seed, team in tourney_seeds.loc[:,['Seed','Team']].values:\n",
    "    rank.append(int(seed[1:3]))\n",
    "tourney_seeds[\"NumericalSeeds\"] = rank"
   ]
  },
  {
   "cell_type": "code",
   "execution_count": 2,
   "metadata": {
    "collapsed": false
   },
   "outputs": [],
   "source": [
    "tourney_compact_results = pd.read_csv(\"./Data/TourneyCompactResults.csv\")"
   ]
  },
  {
   "cell_type": "code",
   "execution_count": 17,
   "metadata": {
    "collapsed": false
   },
   "outputs": [
    {
     "data": {
      "text/html": [
       "<div>\n",
       "<table border=\"1\" class=\"dataframe\">\n",
       "  <thead>\n",
       "    <tr style=\"text-align: right;\">\n",
       "      <th></th>\n",
       "      <th>Season</th>\n",
       "      <th>Seed</th>\n",
       "      <th>Team</th>\n",
       "      <th>NumericalSeeds</th>\n",
       "    </tr>\n",
       "  </thead>\n",
       "  <tbody>\n",
       "    <tr>\n",
       "      <th>0</th>\n",
       "      <td>1985</td>\n",
       "      <td>W01</td>\n",
       "      <td>1207</td>\n",
       "      <td>1</td>\n",
       "    </tr>\n",
       "    <tr>\n",
       "      <th>1</th>\n",
       "      <td>1985</td>\n",
       "      <td>W02</td>\n",
       "      <td>1210</td>\n",
       "      <td>2</td>\n",
       "    </tr>\n",
       "    <tr>\n",
       "      <th>2</th>\n",
       "      <td>1985</td>\n",
       "      <td>W03</td>\n",
       "      <td>1228</td>\n",
       "      <td>3</td>\n",
       "    </tr>\n",
       "    <tr>\n",
       "      <th>3</th>\n",
       "      <td>1985</td>\n",
       "      <td>W04</td>\n",
       "      <td>1260</td>\n",
       "      <td>4</td>\n",
       "    </tr>\n",
       "    <tr>\n",
       "      <th>4</th>\n",
       "      <td>1985</td>\n",
       "      <td>W05</td>\n",
       "      <td>1374</td>\n",
       "      <td>5</td>\n",
       "    </tr>\n",
       "  </tbody>\n",
       "</table>\n",
       "</div>"
      ],
      "text/plain": [
       "   Season Seed  Team  NumericalSeeds\n",
       "0    1985  W01  1207               1\n",
       "1    1985  W02  1210               2\n",
       "2    1985  W03  1228               3\n",
       "3    1985  W04  1260               4\n",
       "4    1985  W05  1374               5"
      ]
     },
     "execution_count": 17,
     "metadata": {},
     "output_type": "execute_result"
    }
   ],
   "source": [
    "tourney_seeds.head()"
   ]
  },
  {
   "cell_type": "code",
   "execution_count": 3,
   "metadata": {
    "collapsed": false
   },
   "outputs": [
    {
     "data": {
      "text/html": [
       "<div>\n",
       "<table border=\"1\" class=\"dataframe\">\n",
       "  <thead>\n",
       "    <tr style=\"text-align: right;\">\n",
       "      <th></th>\n",
       "      <th>Season</th>\n",
       "      <th>Daynum</th>\n",
       "      <th>Wteam</th>\n",
       "      <th>Wscore</th>\n",
       "      <th>Lteam</th>\n",
       "      <th>Lscore</th>\n",
       "      <th>Wloc</th>\n",
       "      <th>Numot</th>\n",
       "    </tr>\n",
       "  </thead>\n",
       "  <tbody>\n",
       "    <tr>\n",
       "      <th>0</th>\n",
       "      <td>1985</td>\n",
       "      <td>136</td>\n",
       "      <td>1116</td>\n",
       "      <td>63</td>\n",
       "      <td>1234</td>\n",
       "      <td>54</td>\n",
       "      <td>N</td>\n",
       "      <td>0</td>\n",
       "    </tr>\n",
       "    <tr>\n",
       "      <th>1</th>\n",
       "      <td>1985</td>\n",
       "      <td>136</td>\n",
       "      <td>1120</td>\n",
       "      <td>59</td>\n",
       "      <td>1345</td>\n",
       "      <td>58</td>\n",
       "      <td>N</td>\n",
       "      <td>0</td>\n",
       "    </tr>\n",
       "    <tr>\n",
       "      <th>2</th>\n",
       "      <td>1985</td>\n",
       "      <td>136</td>\n",
       "      <td>1207</td>\n",
       "      <td>68</td>\n",
       "      <td>1250</td>\n",
       "      <td>43</td>\n",
       "      <td>N</td>\n",
       "      <td>0</td>\n",
       "    </tr>\n",
       "    <tr>\n",
       "      <th>3</th>\n",
       "      <td>1985</td>\n",
       "      <td>136</td>\n",
       "      <td>1229</td>\n",
       "      <td>58</td>\n",
       "      <td>1425</td>\n",
       "      <td>55</td>\n",
       "      <td>N</td>\n",
       "      <td>0</td>\n",
       "    </tr>\n",
       "    <tr>\n",
       "      <th>4</th>\n",
       "      <td>1985</td>\n",
       "      <td>136</td>\n",
       "      <td>1242</td>\n",
       "      <td>49</td>\n",
       "      <td>1325</td>\n",
       "      <td>38</td>\n",
       "      <td>N</td>\n",
       "      <td>0</td>\n",
       "    </tr>\n",
       "  </tbody>\n",
       "</table>\n",
       "</div>"
      ],
      "text/plain": [
       "   Season  Daynum  Wteam  Wscore  Lteam  Lscore Wloc  Numot\n",
       "0    1985     136   1116      63   1234      54    N      0\n",
       "1    1985     136   1120      59   1345      58    N      0\n",
       "2    1985     136   1207      68   1250      43    N      0\n",
       "3    1985     136   1229      58   1425      55    N      0\n",
       "4    1985     136   1242      49   1325      38    N      0"
      ]
     },
     "execution_count": 3,
     "metadata": {},
     "output_type": "execute_result"
    }
   ],
   "source": [
    "tourney_compact_results.head()"
   ]
  },
  {
   "cell_type": "code",
   "execution_count": 3,
   "metadata": {
    "collapsed": false
   },
   "outputs": [],
   "source": [
    "result = pd.DataFrame({\n",
    "        \"Season\": pd.concat([tourney_compact_results['Season'], tourney_compact_results['Season']], ignore_index=True),\n",
    "        \"Player\": pd.concat([tourney_compact_results['Wteam'], tourney_compact_results['Lteam']], ignore_index=True),\n",
    "        \"Opponent\": pd.concat([tourney_compact_results['Lteam'], tourney_compact_results['Wteam']], ignore_index=True),\n",
    "        \"Result\": np.hstack([np.ones(tourney_compact_results.shape[0], dtype=int), np.zeros(tourney_compact_results.shape[0], dtype=int)])\n",
    "    }, columns=[\"Result\", \"Season\", \"Player\", \"Opponent\"])"
   ]
  },
  {
   "cell_type": "code",
   "execution_count": 4,
   "metadata": {
    "collapsed": false
   },
   "outputs": [],
   "source": [
    "t = pd.merge(result, tourney_seeds, left_on=['Season', 'Player'], right_on=['Season', 'Team'])\n",
    "t = t[['Result', 'Season','Player', 'Opponent', 'NumericalSeeds']]\n",
    "t.columns=['Result', 'Season','Player', 'Opponent', 'PlayerSeed']\n",
    "result = t"
   ]
  },
  {
   "cell_type": "code",
   "execution_count": 5,
   "metadata": {
    "collapsed": false
   },
   "outputs": [],
   "source": [
    "t = pd.merge(result, tourney_seeds, left_on=['Season', 'Opponent'], right_on=['Season', 'Team'])\n",
    "t = t[['Result', 'Season', 'Player', 'Opponent', 'PlayerSeed', 'NumericalSeeds']]\n",
    "t.columns = ['Result', 'Season','Player', 'Opponent', 'PlayerSeed', 'OpponentSeed']\n",
    "result = t"
   ]
  },
  {
   "cell_type": "code",
   "execution_count": 6,
   "metadata": {
    "collapsed": false
   },
   "outputs": [
    {
     "data": {
      "text/html": [
       "<div>\n",
       "<table border=\"1\" class=\"dataframe\">\n",
       "  <thead>\n",
       "    <tr style=\"text-align: right;\">\n",
       "      <th></th>\n",
       "      <th>Season</th>\n",
       "      <th>Daynum</th>\n",
       "      <th>Wteam</th>\n",
       "      <th>Wscore</th>\n",
       "      <th>Lteam</th>\n",
       "      <th>Lscore</th>\n",
       "      <th>Wloc</th>\n",
       "      <th>Numot</th>\n",
       "      <th>Wfgm</th>\n",
       "      <th>Wfga</th>\n",
       "      <th>...</th>\n",
       "      <th>Lfga3</th>\n",
       "      <th>Lftm</th>\n",
       "      <th>Lfta</th>\n",
       "      <th>Lor</th>\n",
       "      <th>Ldr</th>\n",
       "      <th>Last</th>\n",
       "      <th>Lto</th>\n",
       "      <th>Lstl</th>\n",
       "      <th>Lblk</th>\n",
       "      <th>Lpf</th>\n",
       "    </tr>\n",
       "  </thead>\n",
       "  <tbody>\n",
       "    <tr>\n",
       "      <th>0</th>\n",
       "      <td>2003</td>\n",
       "      <td>10</td>\n",
       "      <td>1104</td>\n",
       "      <td>68</td>\n",
       "      <td>1328</td>\n",
       "      <td>62</td>\n",
       "      <td>N</td>\n",
       "      <td>0</td>\n",
       "      <td>27</td>\n",
       "      <td>58</td>\n",
       "      <td>...</td>\n",
       "      <td>10</td>\n",
       "      <td>16</td>\n",
       "      <td>22</td>\n",
       "      <td>10</td>\n",
       "      <td>22</td>\n",
       "      <td>8</td>\n",
       "      <td>18</td>\n",
       "      <td>9</td>\n",
       "      <td>2</td>\n",
       "      <td>20</td>\n",
       "    </tr>\n",
       "    <tr>\n",
       "      <th>1</th>\n",
       "      <td>2003</td>\n",
       "      <td>10</td>\n",
       "      <td>1272</td>\n",
       "      <td>70</td>\n",
       "      <td>1393</td>\n",
       "      <td>63</td>\n",
       "      <td>N</td>\n",
       "      <td>0</td>\n",
       "      <td>26</td>\n",
       "      <td>62</td>\n",
       "      <td>...</td>\n",
       "      <td>24</td>\n",
       "      <td>9</td>\n",
       "      <td>20</td>\n",
       "      <td>20</td>\n",
       "      <td>25</td>\n",
       "      <td>7</td>\n",
       "      <td>12</td>\n",
       "      <td>8</td>\n",
       "      <td>6</td>\n",
       "      <td>16</td>\n",
       "    </tr>\n",
       "    <tr>\n",
       "      <th>2</th>\n",
       "      <td>2003</td>\n",
       "      <td>11</td>\n",
       "      <td>1266</td>\n",
       "      <td>73</td>\n",
       "      <td>1437</td>\n",
       "      <td>61</td>\n",
       "      <td>N</td>\n",
       "      <td>0</td>\n",
       "      <td>24</td>\n",
       "      <td>58</td>\n",
       "      <td>...</td>\n",
       "      <td>26</td>\n",
       "      <td>14</td>\n",
       "      <td>23</td>\n",
       "      <td>31</td>\n",
       "      <td>22</td>\n",
       "      <td>9</td>\n",
       "      <td>12</td>\n",
       "      <td>2</td>\n",
       "      <td>5</td>\n",
       "      <td>23</td>\n",
       "    </tr>\n",
       "    <tr>\n",
       "      <th>3</th>\n",
       "      <td>2003</td>\n",
       "      <td>11</td>\n",
       "      <td>1296</td>\n",
       "      <td>56</td>\n",
       "      <td>1457</td>\n",
       "      <td>50</td>\n",
       "      <td>N</td>\n",
       "      <td>0</td>\n",
       "      <td>18</td>\n",
       "      <td>38</td>\n",
       "      <td>...</td>\n",
       "      <td>22</td>\n",
       "      <td>8</td>\n",
       "      <td>15</td>\n",
       "      <td>17</td>\n",
       "      <td>20</td>\n",
       "      <td>9</td>\n",
       "      <td>19</td>\n",
       "      <td>4</td>\n",
       "      <td>3</td>\n",
       "      <td>23</td>\n",
       "    </tr>\n",
       "    <tr>\n",
       "      <th>4</th>\n",
       "      <td>2003</td>\n",
       "      <td>11</td>\n",
       "      <td>1400</td>\n",
       "      <td>77</td>\n",
       "      <td>1208</td>\n",
       "      <td>71</td>\n",
       "      <td>N</td>\n",
       "      <td>0</td>\n",
       "      <td>30</td>\n",
       "      <td>61</td>\n",
       "      <td>...</td>\n",
       "      <td>16</td>\n",
       "      <td>17</td>\n",
       "      <td>27</td>\n",
       "      <td>21</td>\n",
       "      <td>15</td>\n",
       "      <td>12</td>\n",
       "      <td>10</td>\n",
       "      <td>7</td>\n",
       "      <td>1</td>\n",
       "      <td>14</td>\n",
       "    </tr>\n",
       "  </tbody>\n",
       "</table>\n",
       "<p>5 rows × 34 columns</p>\n",
       "</div>"
      ],
      "text/plain": [
       "   Season  Daynum  Wteam  Wscore  Lteam  Lscore Wloc  Numot  Wfgm  Wfga ...   \\\n",
       "0    2003      10   1104      68   1328      62    N      0    27    58 ...    \n",
       "1    2003      10   1272      70   1393      63    N      0    26    62 ...    \n",
       "2    2003      11   1266      73   1437      61    N      0    24    58 ...    \n",
       "3    2003      11   1296      56   1457      50    N      0    18    38 ...    \n",
       "4    2003      11   1400      77   1208      71    N      0    30    61 ...    \n",
       "\n",
       "   Lfga3  Lftm  Lfta  Lor  Ldr  Last  Lto  Lstl  Lblk  Lpf  \n",
       "0     10    16    22   10   22     8   18     9     2   20  \n",
       "1     24     9    20   20   25     7   12     8     6   16  \n",
       "2     26    14    23   31   22     9   12     2     5   23  \n",
       "3     22     8    15   17   20     9   19     4     3   23  \n",
       "4     16    17    27   21   15    12   10     7     1   14  \n",
       "\n",
       "[5 rows x 34 columns]"
      ]
     },
     "execution_count": 6,
     "metadata": {},
     "output_type": "execute_result"
    }
   ],
   "source": [
    "regular = pd.read_csv(\"./Data/RegularSeasonDetailedResults.csv\")\n",
    "regular.head()"
   ]
  },
  {
   "cell_type": "code",
   "execution_count": 7,
   "metadata": {
    "collapsed": false
   },
   "outputs": [],
   "source": [
    "regular_rev = regular.ix[:, [0,1,4,5,2,3,7,21,22,23,24,25,26,27,28,29,30,31,32,33,8,9,10,11,12,13,14,15,16,17,18,19,20]]\n",
    "new_regular = pd.DataFrame(np.vstack([regular_rev.values, \n",
    "                                   regular.ix[:, [0,1,2,3,4,5,7,8,9,10,11,12,13,14,15,16,17,18,19,20,21,22,23,24,25,26,27,28,29,30,31,32,33]].values], \n",
    "                                 ), columns = [\"Season\",\"Daynum\",\"Player\",\"PlayerScore\",\"Opponent\",\"OpponentScore\",\"Numot\",\"Wfgm\",\"Wfga\",\"Wfgm3\",\"Wfga3\",\"Wftm\",\"Wfta\",\"Wor\",\"Wdr\",\"Wast\",\"Wto\",\"Wstl\",\"Wblk\",\"Wpf\",\"Lfgm\",\"Lfga\",\"Lfgm3\",\"Lfga3\",\"Lftm\",\"Lfta\",\"Lor\",\"Ldr\",\"Last\",\"Lto\",\"Lstl\",\"Lblk\",\"Lpf\"])"
   ]
  },
  {
   "cell_type": "code",
   "execution_count": 8,
   "metadata": {
    "collapsed": false
   },
   "outputs": [],
   "source": [
    "loc = []\n",
    "revloc = []\n",
    "for itm in regular['Wloc'].values:\n",
    "    if itm=='N':\n",
    "        loc.append(0)\n",
    "        revloc.append(0)\n",
    "    elif itm=='H':\n",
    "        loc.append(1)\n",
    "        revloc.append(2)\n",
    "    else:\n",
    "        loc.append(2)\n",
    "        revloc.append(1)\n",
    "new_regular['PlayerLoc']=np.hstack([revloc, loc])\n",
    "new_regular['PlayerResult']=np.hstack([np.zeros(regular.shape[0], dtype=np.int), np.ones(regular.shape[0], dtype=np.int)])"
   ]
  },
  {
   "cell_type": "markdown",
   "metadata": {},
   "source": [
    "generate weight"
   ]
  },
  {
   "cell_type": "code",
   "execution_count": 9,
   "metadata": {
    "collapsed": false
   },
   "outputs": [],
   "source": [
    "w = np.ones(new_regular.shape[0])\n",
    "#w[new_regular['Daynum'].values>=(132-7)]=2.0\n",
    "new_regular['Weight']=w"
   ]
  },
  {
   "cell_type": "markdown",
   "metadata": {
    "collapsed": true
   },
   "source": [
    "Effective field goal percentage"
   ]
  },
  {
   "cell_type": "code",
   "execution_count": 10,
   "metadata": {
    "collapsed": false,
    "scrolled": true
   },
   "outputs": [
    {
     "data": {
      "text/html": [
       "<div>\n",
       "<table border=\"1\" class=\"dataframe\">\n",
       "  <thead>\n",
       "    <tr style=\"text-align: right;\">\n",
       "      <th></th>\n",
       "      <th></th>\n",
       "      <th>EfgO</th>\n",
       "      <th>EfgD</th>\n",
       "    </tr>\n",
       "    <tr>\n",
       "      <th>Season</th>\n",
       "      <th>Player</th>\n",
       "      <th></th>\n",
       "      <th></th>\n",
       "    </tr>\n",
       "  </thead>\n",
       "  <tbody>\n",
       "    <tr>\n",
       "      <th rowspan=\"5\" valign=\"top\">2003</th>\n",
       "      <th>1102</th>\n",
       "      <td>0.584407</td>\n",
       "      <td>0.514142</td>\n",
       "    </tr>\n",
       "    <tr>\n",
       "      <th>1103</th>\n",
       "      <td>0.536564</td>\n",
       "      <td>0.549098</td>\n",
       "    </tr>\n",
       "    <tr>\n",
       "      <th>1104</th>\n",
       "      <td>0.475785</td>\n",
       "      <td>0.480099</td>\n",
       "    </tr>\n",
       "    <tr>\n",
       "      <th>1105</th>\n",
       "      <td>0.457983</td>\n",
       "      <td>0.509308</td>\n",
       "    </tr>\n",
       "    <tr>\n",
       "      <th>1106</th>\n",
       "      <td>0.481697</td>\n",
       "      <td>0.452774</td>\n",
       "    </tr>\n",
       "  </tbody>\n",
       "</table>\n",
       "</div>"
      ],
      "text/plain": [
       "                   EfgO      EfgD\n",
       "Season Player                    \n",
       "2003   1102    0.584407  0.514142\n",
       "       1103    0.536564  0.549098\n",
       "       1104    0.475785  0.480099\n",
       "       1105    0.457983  0.509308\n",
       "       1106    0.481697  0.452774"
      ]
     },
     "execution_count": 10,
     "metadata": {},
     "output_type": "execute_result"
    }
   ],
   "source": [
    "t = new_regular[['Season', 'Player', 'Opponent', 'Wfgm', 'Wfgm3', 'Wfga', 'Lfgm', 'Lfgm3', 'Lfga', 'Weight']].copy()\n",
    "t[\"EfgO\"] = np.require(t['Wfgm'].values, dtype=np.float)+np.require(t['Wfgm3'].values, dtype=np.float)/2\n",
    "t[\"EfgO\"] = t['EfgO']/t['Wfga']*t['Weight']\n",
    "t[\"EfgD\"] = np.require(t['Lfgm'].values, dtype=np.float)+np.require(t['Lfgm3'].values, dtype=np.float)/2\n",
    "t[\"EfgD\"] = t['EfgD']/t['Lfga']*t['Weight']\n",
    "t = t.groupby(by=['Season', 'Player']).mean()\n",
    "rst = pd.DataFrame({'EfgO': t['EfgO'], 'EfgD': t['EfgD']}, columns=['EfgO', 'EfgD'])\n",
    "rst.head()"
   ]
  },
  {
   "cell_type": "code",
   "execution_count": 11,
   "metadata": {
    "collapsed": false
   },
   "outputs": [],
   "source": [
    "feature = pd.DataFrame(tourney_seeds[['Season', 'Team']].values, columns=['Season', 'Player'])\n",
    "feature = pd.merge(feature, rst, left_on=['Season', 'Player'], right_index=True)"
   ]
  },
  {
   "cell_type": "markdown",
   "metadata": {
    "collapsed": false
   },
   "source": [
    "Turnover percentage"
   ]
  },
  {
   "cell_type": "code",
   "execution_count": 12,
   "metadata": {
    "collapsed": false
   },
   "outputs": [
    {
     "data": {
      "text/html": [
       "<div>\n",
       "<table border=\"1\" class=\"dataframe\">\n",
       "  <thead>\n",
       "    <tr style=\"text-align: right;\">\n",
       "      <th></th>\n",
       "      <th></th>\n",
       "      <th>TopO</th>\n",
       "      <th>TopD</th>\n",
       "    </tr>\n",
       "    <tr>\n",
       "      <th>Season</th>\n",
       "      <th>Player</th>\n",
       "      <th></th>\n",
       "      <th></th>\n",
       "    </tr>\n",
       "  </thead>\n",
       "  <tbody>\n",
       "    <tr>\n",
       "      <th rowspan=\"5\" valign=\"top\">2003</th>\n",
       "      <th>1102</th>\n",
       "      <td>0.193121</td>\n",
       "      <td>0.203236</td>\n",
       "    </tr>\n",
       "    <tr>\n",
       "      <th>1103</th>\n",
       "      <td>0.159805</td>\n",
       "      <td>0.186897</td>\n",
       "    </tr>\n",
       "    <tr>\n",
       "      <th>1104</th>\n",
       "      <td>0.167275</td>\n",
       "      <td>0.179498</td>\n",
       "    </tr>\n",
       "    <tr>\n",
       "      <th>1105</th>\n",
       "      <td>0.207792</td>\n",
       "      <td>0.212924</td>\n",
       "    </tr>\n",
       "    <tr>\n",
       "      <th>1106</th>\n",
       "      <td>0.213721</td>\n",
       "      <td>0.194026</td>\n",
       "    </tr>\n",
       "  </tbody>\n",
       "</table>\n",
       "</div>"
      ],
      "text/plain": [
       "                   TopO      TopD\n",
       "Season Player                    \n",
       "2003   1102    0.193121  0.203236\n",
       "       1103    0.159805  0.186897\n",
       "       1104    0.167275  0.179498\n",
       "       1105    0.207792  0.212924\n",
       "       1106    0.213721  0.194026"
      ]
     },
     "execution_count": 12,
     "metadata": {},
     "output_type": "execute_result"
    }
   ],
   "source": [
    "t = new_regular[['Season', 'Player', 'Opponent', 'Wfga', 'Wfta', 'Wto', 'Lfga', 'Lfta', 'Lto', 'Weight']].copy()\n",
    "t[\"TopO\"] = np.require(t['Wfga'].values+t['Wto'].values, dtype=np.float) + \\\n",
    "0.44* np.require(t['Wfta'].values, dtype=np.float)\n",
    "t[\"TopO\"] = t['Wto']/t['TopO']*t['Weight']\n",
    "t[\"TopD\"] = np.require(t['Lfga'].values+t['Lto'].values, dtype=np.float) + \\\n",
    "0.44* np.require(t['Lfta'].values, dtype=np.float)\n",
    "t[\"TopD\"] = t['Lto']/t['TopD']*t['Weight']\n",
    "t = t.groupby(by=['Season', 'Player']).mean()\n",
    "rst = pd.DataFrame({'TopO': t['TopO'], 'TopD': t['TopD']}, columns=['TopO', 'TopD'])\n",
    "rst.head()"
   ]
  },
  {
   "cell_type": "code",
   "execution_count": 13,
   "metadata": {
    "collapsed": false
   },
   "outputs": [],
   "source": [
    "feature = pd.merge(feature, rst, left_on=['Season', 'Player'], right_index=True)"
   ]
  },
  {
   "cell_type": "markdown",
   "metadata": {},
   "source": [
    "Rebounding"
   ]
  },
  {
   "cell_type": "code",
   "execution_count": 14,
   "metadata": {
    "collapsed": false
   },
   "outputs": [
    {
     "data": {
      "text/html": [
       "<div>\n",
       "<table border=\"1\" class=\"dataframe\">\n",
       "  <thead>\n",
       "    <tr style=\"text-align: right;\">\n",
       "      <th></th>\n",
       "      <th></th>\n",
       "      <th>ORB</th>\n",
       "      <th>DRB</th>\n",
       "    </tr>\n",
       "    <tr>\n",
       "      <th>Season</th>\n",
       "      <th>Player</th>\n",
       "      <th></th>\n",
       "      <th></th>\n",
       "    </tr>\n",
       "  </thead>\n",
       "  <tbody>\n",
       "    <tr>\n",
       "      <th rowspan=\"5\" valign=\"top\">2003</th>\n",
       "      <th>1102</th>\n",
       "      <td>0.168235</td>\n",
       "      <td>0.630384</td>\n",
       "    </tr>\n",
       "    <tr>\n",
       "      <th>1103</th>\n",
       "      <td>0.305803</td>\n",
       "      <td>0.626998</td>\n",
       "    </tr>\n",
       "    <tr>\n",
       "      <th>1104</th>\n",
       "      <td>0.371256</td>\n",
       "      <td>0.686897</td>\n",
       "    </tr>\n",
       "    <tr>\n",
       "      <th>1105</th>\n",
       "      <td>0.335166</td>\n",
       "      <td>0.641434</td>\n",
       "    </tr>\n",
       "    <tr>\n",
       "      <th>1106</th>\n",
       "      <td>0.349480</td>\n",
       "      <td>0.679342</td>\n",
       "    </tr>\n",
       "  </tbody>\n",
       "</table>\n",
       "</div>"
      ],
      "text/plain": [
       "                    ORB       DRB\n",
       "Season Player                    \n",
       "2003   1102    0.168235  0.630384\n",
       "       1103    0.305803  0.626998\n",
       "       1104    0.371256  0.686897\n",
       "       1105    0.335166  0.641434\n",
       "       1106    0.349480  0.679342"
      ]
     },
     "execution_count": 14,
     "metadata": {},
     "output_type": "execute_result"
    }
   ],
   "source": [
    "t = new_regular[['Season', 'Player', 'Opponent', 'Wor', 'Wdr', 'Lor', 'Ldr', 'Weight']].copy()\n",
    "t[\"ORB\"] = np.require(t[\"Wor\"].values+t[\"Ldr\"].values, dtype=np.float)\n",
    "t[\"ORB\"] = t['Wor']/t['ORB']*t['Weight']\n",
    "t[\"DRB\"] = np.require(t[\"Wdr\"].values+t[\"Lor\"].values, dtype=np.float)\n",
    "t[\"DRB\"] = t['Wdr']/t['DRB']*t['Weight']\n",
    "t = t.groupby(by=['Season', 'Player']).mean()\n",
    "rst = pd.DataFrame({'ORB': t['ORB'], 'DRB': t['DRB']}, columns=['ORB', 'DRB'])\n",
    "rst.head()"
   ]
  },
  {
   "cell_type": "code",
   "execution_count": 15,
   "metadata": {
    "collapsed": true
   },
   "outputs": [],
   "source": [
    "feature = pd.merge(feature, rst, left_on=['Season', 'Player'], right_index=True)"
   ]
  },
  {
   "cell_type": "markdown",
   "metadata": {},
   "source": [
    "free throws"
   ]
  },
  {
   "cell_type": "code",
   "execution_count": 16,
   "metadata": {
    "collapsed": false
   },
   "outputs": [
    {
     "data": {
      "text/html": [
       "<div>\n",
       "<table border=\"1\" class=\"dataframe\">\n",
       "  <thead>\n",
       "    <tr style=\"text-align: right;\">\n",
       "      <th></th>\n",
       "      <th></th>\n",
       "      <th>OFT</th>\n",
       "      <th>DFT</th>\n",
       "    </tr>\n",
       "    <tr>\n",
       "      <th>Season</th>\n",
       "      <th>Player</th>\n",
       "      <th></th>\n",
       "      <th></th>\n",
       "    </tr>\n",
       "  </thead>\n",
       "  <tbody>\n",
       "    <tr>\n",
       "      <th rowspan=\"5\" valign=\"top\">2003</th>\n",
       "      <th>1102</th>\n",
       "      <td>0.291436</td>\n",
       "      <td>0.336057</td>\n",
       "    </tr>\n",
       "    <tr>\n",
       "      <th>1103</th>\n",
       "      <td>0.342976</td>\n",
       "      <td>0.282092</td>\n",
       "    </tr>\n",
       "    <tr>\n",
       "      <th>1104</th>\n",
       "      <td>0.263855</td>\n",
       "      <td>0.223414</td>\n",
       "    </tr>\n",
       "    <tr>\n",
       "      <th>1105</th>\n",
       "      <td>0.255629</td>\n",
       "      <td>0.289471</td>\n",
       "    </tr>\n",
       "    <tr>\n",
       "      <th>1106</th>\n",
       "      <td>0.199740</td>\n",
       "      <td>0.297459</td>\n",
       "    </tr>\n",
       "  </tbody>\n",
       "</table>\n",
       "</div>"
      ],
      "text/plain": [
       "                    OFT       DFT\n",
       "Season Player                    \n",
       "2003   1102    0.291436  0.336057\n",
       "       1103    0.342976  0.282092\n",
       "       1104    0.263855  0.223414\n",
       "       1105    0.255629  0.289471\n",
       "       1106    0.199740  0.297459"
      ]
     },
     "execution_count": 16,
     "metadata": {},
     "output_type": "execute_result"
    }
   ],
   "source": [
    "t = new_regular[['Season', 'Player', 'Opponent', 'Wfga', 'Wftm', 'Lfga', 'Lftm', 'Weight']].copy()\n",
    "t['OFT'] = np.require(t['Wftm'].values, dtype=np.float)/np.require(t['Wfga'].values, dtype=np.float)*t['Weight'].values\n",
    "t['DFT'] = np.require(t['Lftm'].values, dtype=np.float)/np.require(t['Lfga'].values, dtype=np.float)*t['Weight'].values\n",
    "t = t.groupby(by=['Season', 'Player']).mean()\n",
    "rst = pd.DataFrame({'OFT': t['OFT'], 'DFT': t['DFT']}, \n",
    "                   columns=['OFT', 'DFT'])\n",
    "rst.head()"
   ]
  },
  {
   "cell_type": "code",
   "execution_count": 17,
   "metadata": {
    "collapsed": false
   },
   "outputs": [],
   "source": [
    "feature = pd.merge(feature, rst, left_on=['Season', 'Player'], right_index=True)"
   ]
  },
  {
   "cell_type": "markdown",
   "metadata": {},
   "source": [
    "assist"
   ]
  },
  {
   "cell_type": "code",
   "execution_count": 18,
   "metadata": {
    "collapsed": false
   },
   "outputs": [
    {
     "data": {
      "text/html": [
       "<div>\n",
       "<table border=\"1\" class=\"dataframe\">\n",
       "  <thead>\n",
       "    <tr style=\"text-align: right;\">\n",
       "      <th></th>\n",
       "      <th></th>\n",
       "      <th>AstO</th>\n",
       "      <th>AstD</th>\n",
       "    </tr>\n",
       "    <tr>\n",
       "      <th>Season</th>\n",
       "      <th>Player</th>\n",
       "      <th></th>\n",
       "      <th></th>\n",
       "    </tr>\n",
       "  </thead>\n",
       "  <tbody>\n",
       "    <tr>\n",
       "      <th rowspan=\"5\" valign=\"top\">2003</th>\n",
       "      <th>1102</th>\n",
       "      <td>0.211098</td>\n",
       "      <td>0.151343</td>\n",
       "    </tr>\n",
       "    <tr>\n",
       "      <th>1103</th>\n",
       "      <td>0.183910</td>\n",
       "      <td>0.188268</td>\n",
       "    </tr>\n",
       "    <tr>\n",
       "      <th>1104</th>\n",
       "      <td>0.152915</td>\n",
       "      <td>0.155161</td>\n",
       "    </tr>\n",
       "    <tr>\n",
       "      <th>1105</th>\n",
       "      <td>0.168060</td>\n",
       "      <td>0.183142</td>\n",
       "    </tr>\n",
       "    <tr>\n",
       "      <th>1106</th>\n",
       "      <td>0.155741</td>\n",
       "      <td>0.155688</td>\n",
       "    </tr>\n",
       "  </tbody>\n",
       "</table>\n",
       "</div>"
      ],
      "text/plain": [
       "                   AstO      AstD\n",
       "Season Player                    \n",
       "2003   1102    0.211098  0.151343\n",
       "       1103    0.183910  0.188268\n",
       "       1104    0.152915  0.155161\n",
       "       1105    0.168060  0.183142\n",
       "       1106    0.155741  0.155688"
      ]
     },
     "execution_count": 18,
     "metadata": {},
     "output_type": "execute_result"
    }
   ],
   "source": [
    "t = new_regular[['Season', 'Player', 'Opponent', 'Wfga', 'Wfta', 'Wast', 'Lfga', 'Lfta', 'Last', 'Weight']].copy()\n",
    "t[\"AstO\"] = np.require(t['Wfga'].values+t['Wast'].values, dtype=np.float) + \\\n",
    "0.44* np.require(t['Wfta'].values, dtype=np.float)\n",
    "t[\"AstO\"] = t['Wast']/t['AstO']*t['Weight']\n",
    "t[\"AstD\"] = np.require(t['Lfga'].values+t['Last'].values, dtype=np.float) + \\\n",
    "0.44* np.require(t['Lfta'].values, dtype=np.float)\n",
    "t[\"AstD\"] = t['Last']/t['AstD']*t['Weight']\n",
    "t = t.groupby(by=['Season', 'Player']).mean()\n",
    "rst = pd.DataFrame({'AstO': t['AstO'], 'AstD': t['AstD']}, columns=['AstO', 'AstD'])\n",
    "rst.head()"
   ]
  },
  {
   "cell_type": "code",
   "execution_count": 19,
   "metadata": {
    "collapsed": true
   },
   "outputs": [],
   "source": [
    "feature = pd.merge(feature, rst, left_on=['Season', 'Player'], right_index=True)"
   ]
  },
  {
   "cell_type": "code",
   "execution_count": 20,
   "metadata": {
    "collapsed": false
   },
   "outputs": [
    {
     "data": {
      "text/html": [
       "<div>\n",
       "<table border=\"1\" class=\"dataframe\">\n",
       "  <thead>\n",
       "    <tr style=\"text-align: right;\">\n",
       "      <th></th>\n",
       "      <th></th>\n",
       "      <th>FGRate</th>\n",
       "      <th>FG3Rate</th>\n",
       "      <th>FTRate</th>\n",
       "      <th>AstTo</th>\n",
       "    </tr>\n",
       "    <tr>\n",
       "      <th>Season</th>\n",
       "      <th>Player</th>\n",
       "      <th></th>\n",
       "      <th></th>\n",
       "      <th></th>\n",
       "      <th></th>\n",
       "    </tr>\n",
       "  </thead>\n",
       "  <tbody>\n",
       "    <tr>\n",
       "      <th rowspan=\"5\" valign=\"top\">2003</th>\n",
       "      <th>1102</th>\n",
       "      <td>0.481149</td>\n",
       "      <td>0.375643</td>\n",
       "      <td>0.651357</td>\n",
       "      <td>1.137500</td>\n",
       "    </tr>\n",
       "    <tr>\n",
       "      <th>1103</th>\n",
       "      <td>0.486074</td>\n",
       "      <td>0.338710</td>\n",
       "      <td>0.736390</td>\n",
       "      <td>1.205279</td>\n",
       "    </tr>\n",
       "    <tr>\n",
       "      <th>1104</th>\n",
       "      <td>0.420362</td>\n",
       "      <td>0.320144</td>\n",
       "      <td>0.709898</td>\n",
       "      <td>0.911290</td>\n",
       "    </tr>\n",
       "    <tr>\n",
       "      <th>1105</th>\n",
       "      <td>0.395755</td>\n",
       "      <td>0.364815</td>\n",
       "      <td>0.705986</td>\n",
       "      <td>0.779381</td>\n",
       "    </tr>\n",
       "    <tr>\n",
       "      <th>1106</th>\n",
       "      <td>0.423773</td>\n",
       "      <td>0.346154</td>\n",
       "      <td>0.646421</td>\n",
       "      <td>0.685535</td>\n",
       "    </tr>\n",
       "  </tbody>\n",
       "</table>\n",
       "</div>"
      ],
      "text/plain": [
       "                 FGRate   FG3Rate    FTRate     AstTo\n",
       "Season Player                                        \n",
       "2003   1102    0.481149  0.375643  0.651357  1.137500\n",
       "       1103    0.486074  0.338710  0.736390  1.205279\n",
       "       1104    0.420362  0.320144  0.709898  0.911290\n",
       "       1105    0.395755  0.364815  0.705986  0.779381\n",
       "       1106    0.423773  0.346154  0.646421  0.685535"
      ]
     },
     "execution_count": 20,
     "metadata": {},
     "output_type": "execute_result"
    }
   ],
   "source": [
    "t = new_regular[['Season', 'Player', 'Opponent', 'Wfgm', 'Wfga', 'Wfgm3', 'Wfga3', 'Wftm', 'Wfta', 'Wast', 'Wto', 'Weight']].copy()\n",
    "t = t.groupby(by=['Season', 'Player']).sum()\n",
    "rst = pd.DataFrame({'FGRate': t['Wfgm']/t['Wfga'], 'FG3Rate': t['Wfgm3']/t['Wfga3'], 'FTRate': t['Wftm']/t['Wfta'], 'AstTo': t['Wast']/t['Wto']}, \n",
    "                   columns=['FGRate', 'FG3Rate', 'FTRate', 'AstTo'])\n",
    "rst.head()"
   ]
  },
  {
   "cell_type": "code",
   "execution_count": 21,
   "metadata": {
    "collapsed": true
   },
   "outputs": [],
   "source": [
    "feature = pd.merge(feature, rst, left_on=['Season', 'Player'], right_index=True)"
   ]
  },
  {
   "cell_type": "markdown",
   "metadata": {},
   "source": [
    "Messay Ranking"
   ]
  },
  {
   "cell_type": "code",
   "execution_count": 22,
   "metadata": {
    "collapsed": false
   },
   "outputs": [],
   "source": [
    "w = np.ones(regular.shape[0])\n",
    "w[regular['Daynum'].values>=(132-15)]=2.0\n",
    "regular['Weight']=w"
   ]
  },
  {
   "cell_type": "code",
   "execution_count": 23,
   "metadata": {
    "collapsed": false
   },
   "outputs": [
    {
     "name": "stderr",
     "output_type": "stream",
     "text": [
      "/home/ike/Projects/ranking/rankit/util/converter.py:202: RuntimeWarning: invalid value encountered in divide\n",
      "  S = D/C\n",
      "/home/ike/Projects/ranking/rankit/ranker/EigRank.py:27: RuntimeWarning: invalid value encountered in divide\n",
      "  S = S/np.expand_dims(s, axis=1)\n"
     ]
    }
   ],
   "source": [
    "from rankit.util import Converter\n",
    "from rankit.ranker import *\n",
    "\n",
    "frames = []\n",
    "for year in range(2003, 2017):\n",
    "    table = regular[regular['Season']==year][['Wteam', 'Lteam', 'Wscore', 'Lscore', 'Weight']].copy()\n",
    "    table.columns = [['primary', 'secondary', 'rate1', 'rate2', 'weight']]\n",
    "    #table['weight'] = np.ones(table.shape[0])\n",
    "    \n",
    "    cvt = Converter(table=table)\n",
    "    M=cvt.MasseyMatrix()\n",
    "    b=cvt.MasseyVector()\n",
    "    ranker=MasseyRank(itemlist=cvt.ItemList())\n",
    "    x=ranker.rate(M,b)\n",
    "    bigtable=ranker.rank(x)\n",
    "    bigtable.drop(['rank'], 1, inplace=True)\n",
    "    bigtable = bigtable.rename(columns={'rate': \"Massey\"})\n",
    "    \n",
    "    C=cvt.ColleyMatrix()\n",
    "    b=cvt.ColleyVector()\n",
    "    ranker=ColleyRank(itemlist=cvt.ItemList())\n",
    "    x=ranker.rate(C,b)\n",
    "    r=ranker.rank(x)\n",
    "    r.drop(['rank'], 1, inplace=True)\n",
    "    r.rename(columns={'rate': \"Colley\"}, inplace=True)\n",
    "    bigtable = pd.merge(bigtable, r, on='title')\n",
    "    \n",
    "    M=cvt.SymmetricDifferenceMatrix()\n",
    "    ranker=DifferenceRank(itemlist=cvt.ItemList())\n",
    "    x=ranker.rate(M)\n",
    "    r=ranker.rank(x)\n",
    "    r.drop(['rank'], 1, inplace=True)\n",
    "    r.rename(columns={'rate': \"Differ\"}, inplace=True)\n",
    "    bigtable = pd.merge(bigtable, r, on='title')\n",
    "    \n",
    "    M=cvt.RateDifferenceVoteMatrix()\n",
    "    ranker=MarkovRank(itemlist=cvt.ItemList(), epsilon=0.6)\n",
    "    x = ranker.rate(M)\n",
    "    r = ranker.rank(x)\n",
    "    r.drop(['rank'], 1, inplace=True)\n",
    "    r.rename(columns={'rate': \"MarkovRDV\"}, inplace=True)\n",
    "    bigtable = pd.merge(bigtable, r, on='title')\n",
    "    \n",
    "    M=cvt.SimpleDifferenceVoteMatrix()\n",
    "    ranker=MarkovRank(itemlist=cvt.ItemList(), epsilon=0.6)\n",
    "    x = ranker.rate(M)\n",
    "    r = ranker.rank(x)\n",
    "    r.drop(['rank'], 1, inplace=True)\n",
    "    r.rename(columns={'rate': \"MarkovSDV\"}, inplace=True)\n",
    "    bigtable = pd.merge(bigtable, r, on='title')\n",
    "    \n",
    "    M=cvt.RateVoteMatrix()\n",
    "    ranker=ODRank(itemlist=cvt.ItemList(), iteration=1000000)\n",
    "    x=ranker.rate(M)\n",
    "    r=ranker.rank(x)\n",
    "    r.drop(['rank'], 1, inplace=True)\n",
    "    r.rename(columns={'rate': \"OD\"}, inplace=True)\n",
    "    bigtable = pd.merge(bigtable, r, on='title')\n",
    "    \n",
    "    C = cvt.CountMatrix()\n",
    "    ranker=KeenerRank(itemlist=cvt.ItemList(), epsilon=1e-4)\n",
    "    x = ranker.rate(M.T, C)\n",
    "    r = ranker.rank(x)\n",
    "    r.drop(['rank'], 1, inplace=True)\n",
    "    r.rename(columns={'rate': \"Keener\"}, inplace=True)\n",
    "    bigtable = pd.merge(bigtable, r, on='title')\n",
    "    \n",
    "    bigtable['Team']=np.require(bigtable.ix[:, 0].values, dtype=np.int)\n",
    "    bigtable.drop('title', 1, inplace=True)\n",
    "    bigtable['Year'] = year*np.ones(bigtable.shape[0], dtype=np.int)\n",
    "    frames.append(bigtable)"
   ]
  },
  {
   "cell_type": "code",
   "execution_count": 24,
   "metadata": {
    "collapsed": false
   },
   "outputs": [
    {
     "data": {
      "text/plain": [
       "(4779, 9)"
      ]
     },
     "execution_count": 24,
     "metadata": {},
     "output_type": "execute_result"
    }
   ],
   "source": [
    "ranking = pd.concat(frames, ignore_index=True)\n",
    "ranking.shape"
   ]
  },
  {
   "cell_type": "code",
   "execution_count": 25,
   "metadata": {
    "collapsed": false
   },
   "outputs": [
    {
     "data": {
      "text/html": [
       "<div>\n",
       "<table border=\"1\" class=\"dataframe\">\n",
       "  <thead>\n",
       "    <tr style=\"text-align: right;\">\n",
       "      <th></th>\n",
       "      <th>Season</th>\n",
       "      <th>Player</th>\n",
       "      <th>EfgO</th>\n",
       "      <th>EfgD</th>\n",
       "      <th>TopO</th>\n",
       "      <th>TopD</th>\n",
       "      <th>ORB</th>\n",
       "      <th>DRB</th>\n",
       "      <th>OFT</th>\n",
       "      <th>DFT</th>\n",
       "      <th>...</th>\n",
       "      <th>FG3Rate</th>\n",
       "      <th>FTRate</th>\n",
       "      <th>AstTo</th>\n",
       "      <th>Massey</th>\n",
       "      <th>Colley</th>\n",
       "      <th>Differ</th>\n",
       "      <th>MarkovRDV</th>\n",
       "      <th>MarkovSDV</th>\n",
       "      <th>OD</th>\n",
       "      <th>Keener</th>\n",
       "    </tr>\n",
       "  </thead>\n",
       "  <tbody>\n",
       "    <tr>\n",
       "      <th>0</th>\n",
       "      <td>2003</td>\n",
       "      <td>1328</td>\n",
       "      <td>0.512124</td>\n",
       "      <td>0.448150</td>\n",
       "      <td>0.155078</td>\n",
       "      <td>0.181439</td>\n",
       "      <td>0.347284</td>\n",
       "      <td>0.709854</td>\n",
       "      <td>0.234856</td>\n",
       "      <td>0.236844</td>\n",
       "      <td>...</td>\n",
       "      <td>0.393673</td>\n",
       "      <td>0.707885</td>\n",
       "      <td>1.200565</td>\n",
       "      <td>50.711750</td>\n",
       "      <td>0.978662</td>\n",
       "      <td>0.940367</td>\n",
       "      <td>0.007066</td>\n",
       "      <td>0.006171</td>\n",
       "      <td>2982.190430</td>\n",
       "      <td>0.003958</td>\n",
       "    </tr>\n",
       "    <tr>\n",
       "      <th>1</th>\n",
       "      <td>2003</td>\n",
       "      <td>1448</td>\n",
       "      <td>0.511972</td>\n",
       "      <td>0.463124</td>\n",
       "      <td>0.178941</td>\n",
       "      <td>0.167749</td>\n",
       "      <td>0.429724</td>\n",
       "      <td>0.687237</td>\n",
       "      <td>0.354094</td>\n",
       "      <td>0.221934</td>\n",
       "      <td>...</td>\n",
       "      <td>0.344358</td>\n",
       "      <td>0.752591</td>\n",
       "      <td>0.965753</td>\n",
       "      <td>48.587179</td>\n",
       "      <td>0.940367</td>\n",
       "      <td>0.862895</td>\n",
       "      <td>0.007634</td>\n",
       "      <td>0.005863</td>\n",
       "      <td>2835.567139</td>\n",
       "      <td>0.003220</td>\n",
       "    </tr>\n",
       "    <tr>\n",
       "      <th>2</th>\n",
       "      <td>2003</td>\n",
       "      <td>1393</td>\n",
       "      <td>0.515151</td>\n",
       "      <td>0.445717</td>\n",
       "      <td>0.160408</td>\n",
       "      <td>0.165338</td>\n",
       "      <td>0.385242</td>\n",
       "      <td>0.630790</td>\n",
       "      <td>0.274586</td>\n",
       "      <td>0.199656</td>\n",
       "      <td>...</td>\n",
       "      <td>0.330435</td>\n",
       "      <td>0.693431</td>\n",
       "      <td>1.098734</td>\n",
       "      <td>48.047815</td>\n",
       "      <td>0.937698</td>\n",
       "      <td>0.801223</td>\n",
       "      <td>0.005666</td>\n",
       "      <td>0.005944</td>\n",
       "      <td>2810.180420</td>\n",
       "      <td>0.003929</td>\n",
       "    </tr>\n",
       "    <tr>\n",
       "      <th>3</th>\n",
       "      <td>2003</td>\n",
       "      <td>1257</td>\n",
       "      <td>0.528861</td>\n",
       "      <td>0.450485</td>\n",
       "      <td>0.156505</td>\n",
       "      <td>0.205507</td>\n",
       "      <td>0.356053</td>\n",
       "      <td>0.664037</td>\n",
       "      <td>0.292504</td>\n",
       "      <td>0.329973</td>\n",
       "      <td>...</td>\n",
       "      <td>0.360399</td>\n",
       "      <td>0.695883</td>\n",
       "      <td>1.241895</td>\n",
       "      <td>51.215123</td>\n",
       "      <td>0.946595</td>\n",
       "      <td>1.198777</td>\n",
       "      <td>0.011890</td>\n",
       "      <td>0.007738</td>\n",
       "      <td>2919.098877</td>\n",
       "      <td>0.004260</td>\n",
       "    </tr>\n",
       "    <tr>\n",
       "      <th>4</th>\n",
       "      <td>2003</td>\n",
       "      <td>1280</td>\n",
       "      <td>0.521359</td>\n",
       "      <td>0.463462</td>\n",
       "      <td>0.197467</td>\n",
       "      <td>0.208120</td>\n",
       "      <td>0.383446</td>\n",
       "      <td>0.695785</td>\n",
       "      <td>0.220035</td>\n",
       "      <td>0.199428</td>\n",
       "      <td>...</td>\n",
       "      <td>0.343621</td>\n",
       "      <td>0.676749</td>\n",
       "      <td>0.927505</td>\n",
       "      <td>49.042847</td>\n",
       "      <td>0.834543</td>\n",
       "      <td>0.816004</td>\n",
       "      <td>0.006985</td>\n",
       "      <td>0.005437</td>\n",
       "      <td>2905.012695</td>\n",
       "      <td>0.003999</td>\n",
       "    </tr>\n",
       "  </tbody>\n",
       "</table>\n",
       "<p>5 rows × 23 columns</p>\n",
       "</div>"
      ],
      "text/plain": [
       "   Season  Player      EfgO      EfgD      TopO      TopD       ORB       DRB  \\\n",
       "0    2003    1328  0.512124  0.448150  0.155078  0.181439  0.347284  0.709854   \n",
       "1    2003    1448  0.511972  0.463124  0.178941  0.167749  0.429724  0.687237   \n",
       "2    2003    1393  0.515151  0.445717  0.160408  0.165338  0.385242  0.630790   \n",
       "3    2003    1257  0.528861  0.450485  0.156505  0.205507  0.356053  0.664037   \n",
       "4    2003    1280  0.521359  0.463462  0.197467  0.208120  0.383446  0.695785   \n",
       "\n",
       "        OFT       DFT    ...      FG3Rate    FTRate     AstTo     Massey  \\\n",
       "0  0.234856  0.236844    ...     0.393673  0.707885  1.200565  50.711750   \n",
       "1  0.354094  0.221934    ...     0.344358  0.752591  0.965753  48.587179   \n",
       "2  0.274586  0.199656    ...     0.330435  0.693431  1.098734  48.047815   \n",
       "3  0.292504  0.329973    ...     0.360399  0.695883  1.241895  51.215123   \n",
       "4  0.220035  0.199428    ...     0.343621  0.676749  0.927505  49.042847   \n",
       "\n",
       "     Colley    Differ  MarkovRDV  MarkovSDV           OD    Keener  \n",
       "0  0.978662  0.940367   0.007066   0.006171  2982.190430  0.003958  \n",
       "1  0.940367  0.862895   0.007634   0.005863  2835.567139  0.003220  \n",
       "2  0.937698  0.801223   0.005666   0.005944  2810.180420  0.003929  \n",
       "3  0.946595  1.198777   0.011890   0.007738  2919.098877  0.004260  \n",
       "4  0.834543  0.816004   0.006985   0.005437  2905.012695  0.003999  \n",
       "\n",
       "[5 rows x 23 columns]"
      ]
     },
     "execution_count": 25,
     "metadata": {},
     "output_type": "execute_result"
    }
   ],
   "source": [
    "feature = pd.merge(feature, ranking, left_on=[\"Season\", \"Player\"], right_on=[\"Year\", \"Team\"])\n",
    "feature.drop(['Year','Team'], axis=1, inplace=True)\n",
    "feature.head()"
   ]
  },
  {
   "cell_type": "markdown",
   "metadata": {},
   "source": [
    "## Feature normalization"
   ]
  },
  {
   "cell_type": "code",
   "execution_count": 26,
   "metadata": {
    "collapsed": true
   },
   "outputs": [],
   "source": [
    "from scipy import stats\n",
    "\n",
    "cdf = dict()\n",
    "hist, bin_edges = np.histogram(feature['EfgO'].values, bins=10000, density=True)\n",
    "hist/=hist.sum()\n",
    "cdf['EfgO'] = stats.rv_discrete(name='EfgO', values=(bin_edges[:-1], hist))\n",
    "feature['EfgO'] = cdf['EfgO'].cdf(feature['EfgO'].values)"
   ]
  },
  {
   "cell_type": "code",
   "execution_count": 27,
   "metadata": {
    "collapsed": false
   },
   "outputs": [],
   "source": [
    "hist, bin_edges = np.histogram(feature['EfgD'].values, bins=10000, density=True)\n",
    "hist/=hist.sum()\n",
    "cdf['EfgD'] = stats.rv_discrete(name='EfgD', values=(bin_edges[:-1], hist))\n",
    "feature['EfgD'] = cdf['EfgD'].cdf(feature['EfgD'].values)\n",
    "\n",
    "hist, bin_edges = np.histogram(feature['TopO'].values, bins=10000, density=True)\n",
    "hist/=hist.sum()\n",
    "cdf['TopO'] = stats.rv_discrete(name='TopO', values=(bin_edges[:-1], hist))\n",
    "feature['TopO'] = cdf['TopO'].cdf(feature['TopO'].values)\n",
    "\n",
    "hist, bin_edges = np.histogram(feature['TopD'].values, bins=10000, density=True)\n",
    "hist/=hist.sum()\n",
    "cdf['TopD'] = stats.rv_discrete(name='TopD', values=(bin_edges[:-1], hist))\n",
    "feature['TopD'] = cdf['TopD'].cdf(feature['TopD'].values)\n",
    "\n",
    "hist, bin_edges = np.histogram(feature['ORB'].values, bins=10000, density=True)\n",
    "hist/=hist.sum()\n",
    "cdf['ORB'] = stats.rv_discrete(name='ORB', values=(bin_edges[:-1], hist))\n",
    "feature['ORB'] = cdf['ORB'].cdf(feature['ORB'].values)\n",
    "\n",
    "hist, bin_edges = np.histogram(feature['DRB'].values, bins=10000, density=True)\n",
    "hist/=hist.sum()\n",
    "cdf['DRB'] = stats.rv_discrete(name='DRB', values=(bin_edges[:-1], hist))\n",
    "feature['DRB'] = cdf['DRB'].cdf(feature['DRB'].values)\n",
    "\n",
    "hist, bin_edges = np.histogram(feature['OFT'].values, bins=10000, density=True)\n",
    "hist/=hist.sum()\n",
    "cdf['OFT'] = stats.rv_discrete(name='DRB', values=(bin_edges[:-1], hist))\n",
    "feature['OFT'] = cdf['OFT'].cdf(feature['OFT'].values)\n",
    "\n",
    "hist, bin_edges = np.histogram(feature['DFT'].values, bins=10000, density=True)\n",
    "hist/=hist.sum()\n",
    "cdf['DFT'] = stats.rv_discrete(name='DFT', values=(bin_edges[:-1], hist))\n",
    "feature['DFT'] = cdf['DFT'].cdf(feature['DFT'].values)\n",
    "\n",
    "hist, bin_edges = np.histogram(feature['AstO'].values, bins=10000, density=True)\n",
    "hist/=hist.sum()\n",
    "cdf['AstO'] = stats.rv_discrete(name='AstO', values=(bin_edges[:-1], hist))\n",
    "feature['AstO'] = cdf['AstO'].cdf(feature['AstO'].values)\n",
    "\n",
    "hist, bin_edges = np.histogram(feature['AstD'].values, bins=10000, density=True)\n",
    "hist/=hist.sum()\n",
    "cdf['AstD'] = stats.rv_discrete(name='AstD', values=(bin_edges[:-1], hist))\n",
    "feature['AstD'] = cdf['AstD'].cdf(feature['AstD'].values)\n",
    "\n",
    "hist, bin_edges = np.histogram(feature['FGRate'].values, bins=10000, density=True)\n",
    "hist/=hist.sum()\n",
    "cdf['FGRate'] = stats.rv_discrete(name='FGRate', values=(bin_edges[:-1], hist))\n",
    "feature['FGRate'] = cdf['FGRate'].cdf(feature['FGRate'].values)\n",
    "\n",
    "hist, bin_edges = np.histogram(feature['FG3Rate'].values, bins=10000, density=True)\n",
    "hist/=hist.sum()\n",
    "cdf['FG3Rate'] = stats.rv_discrete(name='FG3Rate', values=(bin_edges[:-1], hist))\n",
    "feature['FG3Rate'] = cdf['FG3Rate'].cdf(feature['FG3Rate'].values)\n",
    "\n",
    "hist, bin_edges = np.histogram(feature['FTRate'].values, bins=10000, density=True)\n",
    "hist/=hist.sum()\n",
    "cdf['FTRate'] = stats.rv_discrete(name='FTRate', values=(bin_edges[:-1], hist))\n",
    "feature['FTRate'] = cdf['FTRate'].cdf(feature['FTRate'].values)\n",
    "\n",
    "hist, bin_edges = np.histogram(feature['AstTo'].values, bins=10000, density=True)\n",
    "hist/=hist.sum()\n",
    "cdf['AstTo'] = stats.rv_discrete(name='AstTo', values=(bin_edges[:-1], hist))\n",
    "feature['AstTo'] = cdf['AstTo'].cdf(feature['AstTo'].values)"
   ]
  },
  {
   "cell_type": "code",
   "execution_count": 28,
   "metadata": {
    "collapsed": false,
    "scrolled": true
   },
   "outputs": [
    {
     "data": {
      "text/html": [
       "<div>\n",
       "<table border=\"1\" class=\"dataframe\">\n",
       "  <thead>\n",
       "    <tr style=\"text-align: right;\">\n",
       "      <th></th>\n",
       "      <th>Season</th>\n",
       "      <th>Player</th>\n",
       "      <th>EfgO</th>\n",
       "      <th>EfgD</th>\n",
       "      <th>TopO</th>\n",
       "      <th>TopD</th>\n",
       "      <th>ORB</th>\n",
       "      <th>DRB</th>\n",
       "      <th>OFT</th>\n",
       "      <th>DFT</th>\n",
       "      <th>...</th>\n",
       "      <th>FG3Rate</th>\n",
       "      <th>FTRate</th>\n",
       "      <th>AstTo</th>\n",
       "      <th>Massey</th>\n",
       "      <th>Colley</th>\n",
       "      <th>Differ</th>\n",
       "      <th>MarkovRDV</th>\n",
       "      <th>MarkovSDV</th>\n",
       "      <th>OD</th>\n",
       "      <th>Keener</th>\n",
       "    </tr>\n",
       "  </thead>\n",
       "  <tbody>\n",
       "    <tr>\n",
       "      <th>0</th>\n",
       "      <td>2003</td>\n",
       "      <td>1328</td>\n",
       "      <td>0.396552</td>\n",
       "      <td>0.164871</td>\n",
       "      <td>0.307112</td>\n",
       "      <td>0.545259</td>\n",
       "      <td>0.548491</td>\n",
       "      <td>0.747845</td>\n",
       "      <td>0.106681</td>\n",
       "      <td>0.506466</td>\n",
       "      <td>...</td>\n",
       "      <td>0.895474</td>\n",
       "      <td>0.528017</td>\n",
       "      <td>0.674569</td>\n",
       "      <td>-12.191715</td>\n",
       "      <td>0.991596</td>\n",
       "      <td>0.968400</td>\n",
       "      <td>0.007350</td>\n",
       "      <td>0.006349</td>\n",
       "      <td>3349.814697</td>\n",
       "      <td>0.003958</td>\n",
       "    </tr>\n",
       "    <tr>\n",
       "      <th>1</th>\n",
       "      <td>2003</td>\n",
       "      <td>1448</td>\n",
       "      <td>0.394397</td>\n",
       "      <td>0.362069</td>\n",
       "      <td>0.784483</td>\n",
       "      <td>0.299569</td>\n",
       "      <td>0.994612</td>\n",
       "      <td>0.456897</td>\n",
       "      <td>0.964440</td>\n",
       "      <td>0.351293</td>\n",
       "      <td>...</td>\n",
       "      <td>0.293103</td>\n",
       "      <td>0.908405</td>\n",
       "      <td>0.191810</td>\n",
       "      <td>-15.457868</td>\n",
       "      <td>0.927684</td>\n",
       "      <td>0.850153</td>\n",
       "      <td>0.007267</td>\n",
       "      <td>0.005603</td>\n",
       "      <td>3136.880859</td>\n",
       "      <td>0.003216</td>\n",
       "    </tr>\n",
       "    <tr>\n",
       "      <th>2</th>\n",
       "      <td>2003</td>\n",
       "      <td>1393</td>\n",
       "      <td>0.447198</td>\n",
       "      <td>0.134698</td>\n",
       "      <td>0.410560</td>\n",
       "      <td>0.270474</td>\n",
       "      <td>0.875000</td>\n",
       "      <td>0.024784</td>\n",
       "      <td>0.462284</td>\n",
       "      <td>0.169181</td>\n",
       "      <td>...</td>\n",
       "      <td>0.134698</td>\n",
       "      <td>0.372845</td>\n",
       "      <td>0.454741</td>\n",
       "      <td>-14.338999</td>\n",
       "      <td>0.969844</td>\n",
       "      <td>0.883792</td>\n",
       "      <td>0.005469</td>\n",
       "      <td>0.006014</td>\n",
       "      <td>3182.917480</td>\n",
       "      <td>0.003935</td>\n",
       "    </tr>\n",
       "    <tr>\n",
       "      <th>3</th>\n",
       "      <td>2003</td>\n",
       "      <td>1257</td>\n",
       "      <td>0.664871</td>\n",
       "      <td>0.188578</td>\n",
       "      <td>0.340517</td>\n",
       "      <td>0.851293</td>\n",
       "      <td>0.635776</td>\n",
       "      <td>0.173491</td>\n",
       "      <td>0.653017</td>\n",
       "      <td>0.971983</td>\n",
       "      <td>...</td>\n",
       "      <td>0.510776</td>\n",
       "      <td>0.392241</td>\n",
       "      <td>0.732759</td>\n",
       "      <td>-12.966325</td>\n",
       "      <td>0.919376</td>\n",
       "      <td>1.152905</td>\n",
       "      <td>0.011397</td>\n",
       "      <td>0.007718</td>\n",
       "      <td>3218.960449</td>\n",
       "      <td>0.004254</td>\n",
       "    </tr>\n",
       "    <tr>\n",
       "      <th>4</th>\n",
       "      <td>2003</td>\n",
       "      <td>1280</td>\n",
       "      <td>0.540948</td>\n",
       "      <td>0.370690</td>\n",
       "      <td>0.947198</td>\n",
       "      <td>0.884698</td>\n",
       "      <td>0.864224</td>\n",
       "      <td>0.567888</td>\n",
       "      <td>0.044181</td>\n",
       "      <td>0.165948</td>\n",
       "      <td>...</td>\n",
       "      <td>0.288793</td>\n",
       "      <td>0.223060</td>\n",
       "      <td>0.143319</td>\n",
       "      <td>-13.884743</td>\n",
       "      <td>0.852265</td>\n",
       "      <td>0.839959</td>\n",
       "      <td>0.006558</td>\n",
       "      <td>0.005341</td>\n",
       "      <td>3259.900146</td>\n",
       "      <td>0.003999</td>\n",
       "    </tr>\n",
       "  </tbody>\n",
       "</table>\n",
       "<p>5 rows × 23 columns</p>\n",
       "</div>"
      ],
      "text/plain": [
       "   Season  Player      EfgO      EfgD      TopO      TopD       ORB       DRB  \\\n",
       "0    2003    1328  0.396552  0.164871  0.307112  0.545259  0.548491  0.747845   \n",
       "1    2003    1448  0.394397  0.362069  0.784483  0.299569  0.994612  0.456897   \n",
       "2    2003    1393  0.447198  0.134698  0.410560  0.270474  0.875000  0.024784   \n",
       "3    2003    1257  0.664871  0.188578  0.340517  0.851293  0.635776  0.173491   \n",
       "4    2003    1280  0.540948  0.370690  0.947198  0.884698  0.864224  0.567888   \n",
       "\n",
       "        OFT       DFT    ...      FG3Rate    FTRate     AstTo     Massey  \\\n",
       "0  0.106681  0.506466    ...     0.895474  0.528017  0.674569 -12.191715   \n",
       "1  0.964440  0.351293    ...     0.293103  0.908405  0.191810 -15.457868   \n",
       "2  0.462284  0.169181    ...     0.134698  0.372845  0.454741 -14.338999   \n",
       "3  0.653017  0.971983    ...     0.510776  0.392241  0.732759 -12.966325   \n",
       "4  0.044181  0.165948    ...     0.288793  0.223060  0.143319 -13.884743   \n",
       "\n",
       "     Colley    Differ  MarkovRDV  MarkovSDV           OD    Keener  \n",
       "0  0.991596  0.968400   0.007350   0.006349  3349.814697  0.003958  \n",
       "1  0.927684  0.850153   0.007267   0.005603  3136.880859  0.003216  \n",
       "2  0.969844  0.883792   0.005469   0.006014  3182.917480  0.003935  \n",
       "3  0.919376  1.152905   0.011397   0.007718  3218.960449  0.004254  \n",
       "4  0.852265  0.839959   0.006558   0.005341  3259.900146  0.003999  \n",
       "\n",
       "[5 rows x 23 columns]"
      ]
     },
     "execution_count": 28,
     "metadata": {},
     "output_type": "execute_result"
    }
   ],
   "source": [
    "feature.head()"
   ]
  },
  {
   "cell_type": "code",
   "execution_count": 28,
   "metadata": {
    "collapsed": false
   },
   "outputs": [],
   "source": [
    "result['SeedDelta'] = (result['OpponentSeed']-result['PlayerSeed']+16.0)/31\n",
    "result = pd.merge(result, feature, on=['Season', 'Player'])\n",
    "result = pd.merge(result, feature, left_on=['Season', 'Opponent'], right_on=['Season', 'Player'], suffixes=[\"Ply\", \"Opp\"])"
   ]
  },
  {
   "cell_type": "code",
   "execution_count": 29,
   "metadata": {
    "collapsed": false
   },
   "outputs": [],
   "source": [
    "result.drop(['PlayerOpp'], 1, inplace=True)\n",
    "result = result.rename(columns={\"PlayerPly\": \"Player\"})"
   ]
  },
  {
   "cell_type": "code",
   "execution_count": 27,
   "metadata": {
    "collapsed": false
   },
   "outputs": [
    {
     "data": {
      "text/html": [
       "<div>\n",
       "<table border=\"1\" class=\"dataframe\">\n",
       "  <thead>\n",
       "    <tr style=\"text-align: right;\">\n",
       "      <th></th>\n",
       "      <th>Result</th>\n",
       "      <th>Season</th>\n",
       "      <th>Player</th>\n",
       "      <th>Opponent</th>\n",
       "      <th>PlayerSeed</th>\n",
       "      <th>OpponentSeed</th>\n",
       "      <th>SeedDelta</th>\n",
       "      <th>EfgOPly</th>\n",
       "      <th>EfgDPly</th>\n",
       "      <th>TopOPly</th>\n",
       "      <th>...</th>\n",
       "      <th>AstOOpp</th>\n",
       "      <th>AstDOpp</th>\n",
       "      <th>MasseyOpp</th>\n",
       "      <th>ColleyOpp</th>\n",
       "      <th>DifferOpp</th>\n",
       "      <th>MarkovRVOpp</th>\n",
       "      <th>MarkovRDVOpp</th>\n",
       "      <th>MarkovSDVOpp</th>\n",
       "      <th>ODOpp</th>\n",
       "      <th>KeenerOpp</th>\n",
       "    </tr>\n",
       "  </thead>\n",
       "  <tbody>\n",
       "    <tr>\n",
       "      <th>0</th>\n",
       "      <td>1</td>\n",
       "      <td>2003</td>\n",
       "      <td>1421</td>\n",
       "      <td>1411</td>\n",
       "      <td>16</td>\n",
       "      <td>16</td>\n",
       "      <td>0.516129</td>\n",
       "      <td>0.122845</td>\n",
       "      <td>0.970905</td>\n",
       "      <td>0.945043</td>\n",
       "      <td>...</td>\n",
       "      <td>0.367457</td>\n",
       "      <td>0.714440</td>\n",
       "      <td>0.324660</td>\n",
       "      <td>0.403616</td>\n",
       "      <td>0.037207</td>\n",
       "      <td>0.003139</td>\n",
       "      <td>0.001994</td>\n",
       "      <td>0.002649</td>\n",
       "      <td>1746.673584</td>\n",
       "      <td>0.002252</td>\n",
       "    </tr>\n",
       "    <tr>\n",
       "      <th>1</th>\n",
       "      <td>0</td>\n",
       "      <td>2003</td>\n",
       "      <td>1421</td>\n",
       "      <td>1400</td>\n",
       "      <td>16</td>\n",
       "      <td>1</td>\n",
       "      <td>0.032258</td>\n",
       "      <td>0.122845</td>\n",
       "      <td>0.970905</td>\n",
       "      <td>0.945043</td>\n",
       "      <td>...</td>\n",
       "      <td>0.216595</td>\n",
       "      <td>0.070043</td>\n",
       "      <td>28.597487</td>\n",
       "      <td>0.948236</td>\n",
       "      <td>0.730887</td>\n",
       "      <td>0.003414</td>\n",
       "      <td>0.007592</td>\n",
       "      <td>0.006023</td>\n",
       "      <td>2616.507080</td>\n",
       "      <td>0.004130</td>\n",
       "    </tr>\n",
       "    <tr>\n",
       "      <th>2</th>\n",
       "      <td>0</td>\n",
       "      <td>2003</td>\n",
       "      <td>1163</td>\n",
       "      <td>1400</td>\n",
       "      <td>5</td>\n",
       "      <td>1</td>\n",
       "      <td>0.387097</td>\n",
       "      <td>0.581897</td>\n",
       "      <td>0.049569</td>\n",
       "      <td>0.822198</td>\n",
       "      <td>...</td>\n",
       "      <td>0.216595</td>\n",
       "      <td>0.070043</td>\n",
       "      <td>28.597487</td>\n",
       "      <td>0.948236</td>\n",
       "      <td>0.730887</td>\n",
       "      <td>0.003414</td>\n",
       "      <td>0.007592</td>\n",
       "      <td>0.006023</td>\n",
       "      <td>2616.507080</td>\n",
       "      <td>0.004130</td>\n",
       "    </tr>\n",
       "    <tr>\n",
       "      <th>3</th>\n",
       "      <td>0</td>\n",
       "      <td>2003</td>\n",
       "      <td>1277</td>\n",
       "      <td>1400</td>\n",
       "      <td>7</td>\n",
       "      <td>1</td>\n",
       "      <td>0.322581</td>\n",
       "      <td>0.265086</td>\n",
       "      <td>0.270474</td>\n",
       "      <td>0.918103</td>\n",
       "      <td>...</td>\n",
       "      <td>0.216595</td>\n",
       "      <td>0.070043</td>\n",
       "      <td>28.597487</td>\n",
       "      <td>0.948236</td>\n",
       "      <td>0.730887</td>\n",
       "      <td>0.003414</td>\n",
       "      <td>0.007592</td>\n",
       "      <td>0.006023</td>\n",
       "      <td>2616.507080</td>\n",
       "      <td>0.004130</td>\n",
       "    </tr>\n",
       "    <tr>\n",
       "      <th>4</th>\n",
       "      <td>0</td>\n",
       "      <td>2003</td>\n",
       "      <td>1345</td>\n",
       "      <td>1400</td>\n",
       "      <td>9</td>\n",
       "      <td>1</td>\n",
       "      <td>0.258065</td>\n",
       "      <td>0.060345</td>\n",
       "      <td>0.437500</td>\n",
       "      <td>0.709052</td>\n",
       "      <td>...</td>\n",
       "      <td>0.216595</td>\n",
       "      <td>0.070043</td>\n",
       "      <td>28.597487</td>\n",
       "      <td>0.948236</td>\n",
       "      <td>0.730887</td>\n",
       "      <td>0.003414</td>\n",
       "      <td>0.007592</td>\n",
       "      <td>0.006023</td>\n",
       "      <td>2616.507080</td>\n",
       "      <td>0.004130</td>\n",
       "    </tr>\n",
       "  </tbody>\n",
       "</table>\n",
       "<p>5 rows × 43 columns</p>\n",
       "</div>"
      ],
      "text/plain": [
       "   Result  Season  Player  Opponent  PlayerSeed  OpponentSeed  SeedDelta  \\\n",
       "0       1    2003    1421      1411          16            16   0.516129   \n",
       "1       0    2003    1421      1400          16             1   0.032258   \n",
       "2       0    2003    1163      1400           5             1   0.387097   \n",
       "3       0    2003    1277      1400           7             1   0.322581   \n",
       "4       0    2003    1345      1400           9             1   0.258065   \n",
       "\n",
       "    EfgOPly   EfgDPly   TopOPly    ...       AstOOpp   AstDOpp  MasseyOpp  \\\n",
       "0  0.122845  0.970905  0.945043    ...      0.367457  0.714440   0.324660   \n",
       "1  0.122845  0.970905  0.945043    ...      0.216595  0.070043  28.597487   \n",
       "2  0.581897  0.049569  0.822198    ...      0.216595  0.070043  28.597487   \n",
       "3  0.265086  0.270474  0.918103    ...      0.216595  0.070043  28.597487   \n",
       "4  0.060345  0.437500  0.709052    ...      0.216595  0.070043  28.597487   \n",
       "\n",
       "   ColleyOpp  DifferOpp  MarkovRVOpp  MarkovRDVOpp  MarkovSDVOpp        ODOpp  \\\n",
       "0   0.403616   0.037207     0.003139      0.001994      0.002649  1746.673584   \n",
       "1   0.948236   0.730887     0.003414      0.007592      0.006023  2616.507080   \n",
       "2   0.948236   0.730887     0.003414      0.007592      0.006023  2616.507080   \n",
       "3   0.948236   0.730887     0.003414      0.007592      0.006023  2616.507080   \n",
       "4   0.948236   0.730887     0.003414      0.007592      0.006023  2616.507080   \n",
       "\n",
       "   KeenerOpp  \n",
       "0   0.002252  \n",
       "1   0.004130  \n",
       "2   0.004130  \n",
       "3   0.004130  \n",
       "4   0.004130  \n",
       "\n",
       "[5 rows x 43 columns]"
      ]
     },
     "execution_count": 27,
     "metadata": {},
     "output_type": "execute_result"
    }
   ],
   "source": [
    "result.head()"
   ]
  },
  {
   "cell_type": "code",
   "execution_count": 30,
   "metadata": {
    "collapsed": false
   },
   "outputs": [],
   "source": [
    "result['MasseyDelta'] = result.MasseyPly-result.MasseyOpp\n",
    "result.drop(['MasseyPly', 'MasseyOpp'], 1, inplace=True)\n",
    "result['ColleyDelta'] = result.ColleyPly-result.ColleyOpp\n",
    "result.drop(['ColleyPly', 'ColleyOpp'], 1, inplace=True)\n",
    "result['DifferDelta'] = result.DifferPly-result.DifferOpp\n",
    "result.drop(['DifferPly', 'DifferOpp'], 1, inplace=True)\n",
    "result['MarkovRDVDelta'] = result.MarkovRDVPly-result.MarkovRDVOpp\n",
    "result.drop(['MarkovRDVPly', 'MarkovRDVOpp'], 1, inplace=True)\n",
    "result['MarkovSDVDelta'] = result.MarkovSDVPly-result.MarkovSDVOpp\n",
    "result.drop(['MarkovSDVPly', 'MarkovSDVOpp'], 1, inplace=True)\n",
    "result['ODDelta'] = result.ODPly-result.ODOpp\n",
    "result.drop(['ODPly', 'ODOpp'], 1, inplace=True)\n",
    "result['KeenerDelta'] = result.KeenerPly-result.KeenerOpp\n",
    "result.drop(['KeenerPly', 'KeenerOpp'], 1, inplace=True)"
   ]
  },
  {
   "cell_type": "code",
   "execution_count": 31,
   "metadata": {
    "collapsed": false
   },
   "outputs": [],
   "source": [
    "hist, bin_edges = np.histogram(result['MasseyDelta'].values, bins=10000, density=True)\n",
    "hist/=hist.sum()\n",
    "cdf['MasseyDelta'] = stats.rv_discrete(name='MasseyDelta', values=(bin_edges[:-1], hist))\n",
    "result['MasseyDelta'] = cdf['MasseyDelta'].cdf(result['MasseyDelta'].values)\n",
    "\n",
    "hist, bin_edges = np.histogram(result['ColleyDelta'].values, bins=10000, density=True)\n",
    "hist/=hist.sum()\n",
    "cdf['ColleyDelta'] = stats.rv_discrete(name='ColleyDelta', values=(bin_edges[:-1], hist))\n",
    "result['ColleyDelta'] = cdf['ColleyDelta'].cdf(result['ColleyDelta'].values)\n",
    "\n",
    "hist, bin_edges = np.histogram(result['DifferDelta'].values, bins=10000, density=True)\n",
    "hist/=hist.sum()\n",
    "cdf['DifferDelta'] = stats.rv_discrete(name='DifferDelta', values=(bin_edges[:-1], hist))\n",
    "result['DifferDelta'] = cdf['DifferDelta'].cdf(result['DifferDelta'].values)\n",
    "\n",
    "hist, bin_edges = np.histogram(result['MarkovRDVDelta'].values, bins=10000, density=True)\n",
    "hist/=hist.sum()\n",
    "cdf['MarkovRDVDelta'] = stats.rv_discrete(name='MarkovRDVDelta', values=(bin_edges[:-1], hist))\n",
    "result['MarkovRDVDelta'] = cdf['MarkovRDVDelta'].cdf(result['MarkovRDVDelta'].values)\n",
    "\n",
    "hist, bin_edges = np.histogram(result['MarkovSDVDelta'].values, bins=10000, density=True)\n",
    "hist/=hist.sum()\n",
    "cdf['MarkovSDVDelta'] = stats.rv_discrete(name='MarkovSDVDelta', values=(bin_edges[:-1], hist))\n",
    "result['MarkovSDVDelta'] = cdf['MarkovSDVDelta'].cdf(result['MarkovSDVDelta'].values)\n",
    "\n",
    "hist, bin_edges = np.histogram(result['ODDelta'].values, bins=10000, density=True)\n",
    "hist/=hist.sum()\n",
    "cdf['ODDelta'] = stats.rv_discrete(name='ODDelta', values=(bin_edges[:-1], hist))\n",
    "result['ODDelta'] = cdf['ODDelta'].cdf(result['ODDelta'].values)\n",
    "\n",
    "hist, bin_edges = np.histogram(result['KeenerDelta'].values, bins=10000, density=True)\n",
    "hist/=hist.sum()\n",
    "cdf['KeenerDelta'] = stats.rv_discrete(name='KeenerDelta', values=(bin_edges[:-1], hist))\n",
    "result['KeenerDelta'] = cdf['KeenerDelta'].cdf(result['KeenerDelta'].values)"
   ]
  },
  {
   "cell_type": "markdown",
   "metadata": {
    "collapsed": false
   },
   "source": [
    "Parameter tunning"
   ]
  },
  {
   "cell_type": "code",
   "execution_count": 39,
   "metadata": {
    "collapsed": false
   },
   "outputs": [
    {
     "data": {
      "text/plain": [
       "(1828, 42)"
      ]
     },
     "execution_count": 39,
     "metadata": {},
     "output_type": "execute_result"
    }
   ],
   "source": [
    "result.shape"
   ]
  },
  {
   "cell_type": "code",
   "execution_count": 50,
   "metadata": {
    "collapsed": false
   },
   "outputs": [
    {
     "data": {
      "text/plain": [
       "(1292,)"
      ]
     },
     "execution_count": 50,
     "metadata": {},
     "output_type": "execute_result"
    }
   ],
   "source": [
    "Y.shape"
   ]
  },
  {
   "cell_type": "code",
   "execution_count": 68,
   "metadata": {
    "collapsed": false
   },
   "outputs": [],
   "source": [
    "from keras.models import Sequential\n",
    "from keras.layers import Dense, Activation\n",
    "from keras.regularizers import l2, l1, l1l2\n",
    "from keras.optimizers import SGD\n",
    "\n",
    "model = Sequential([\n",
    "    Dense(1, input_dim=36, W_regularizer=l1l2(0.002, 0.005), init='lecun_uniform'),\n",
    "    Activation('sigmoid')\n",
    "])\n",
    "\n",
    "opt = SGD(lr=0.14, momentum=0.89, decay=4e-5)\n",
    "model.compile(optimizer=opt, loss='binary_crossentropy', metrics=['binary_crossentropy'])"
   ]
  },
  {
   "cell_type": "code",
   "execution_count": 33,
   "metadata": {
    "collapsed": true
   },
   "outputs": [],
   "source": [
    "seg = result[(result['Season'])<2013].copy()\n",
    "X = seg.ix[:, 6:42].values\n",
    "Y = seg.ix[:, 0].values\n",
    "test = result[(result['Season']>=2013)].copy()\n",
    "Xt = test.ix[:, 6:42].values\n",
    "Yt = test.ix[:, 0].values"
   ]
  },
  {
   "cell_type": "code",
   "execution_count": 69,
   "metadata": {
    "collapsed": false,
    "scrolled": false
   },
   "outputs": [
    {
     "data": {
      "text/plain": [
       "<keras.callbacks.History at 0x7f3ac27244d0>"
      ]
     },
     "execution_count": 69,
     "metadata": {},
     "output_type": "execute_result"
    }
   ],
   "source": [
    "model.fit(X, np.expand_dims(Y, 1), nb_epoch=1000, batch_size=2048, validation_data=(Xt, np.expand_dims(Yt, 1)), verbose=0)"
   ]
  },
  {
   "cell_type": "code",
   "execution_count": 70,
   "metadata": {
    "collapsed": false
   },
   "outputs": [
    {
     "name": "stdout",
     "output_type": "stream",
     "text": [
      "\r",
      " 32/536 [>.............................] - ETA: 0s"
     ]
    }
   ],
   "source": [
    "Yp = model.predict_proba(Xt)"
   ]
  },
  {
   "cell_type": "code",
   "execution_count": 71,
   "metadata": {
    "collapsed": false
   },
   "outputs": [
    {
     "data": {
      "text/plain": [
       "0.55975982673299407"
      ]
     },
     "execution_count": 71,
     "metadata": {},
     "output_type": "execute_result"
    }
   ],
   "source": [
    "#keeps the best auc\n",
    "from sklearn.metrics import log_loss\n",
    "\n",
    "log_loss(Yt, Yp)"
   ]
  },
  {
   "cell_type": "code",
   "execution_count": 61,
   "metadata": {
    "collapsed": false
   },
   "outputs": [
    {
     "data": {
      "text/plain": [
       "0.56130580138415098"
      ]
     },
     "execution_count": 61,
     "metadata": {},
     "output_type": "execute_result"
    }
   ],
   "source": [
    "from sklearn.metrics import log_loss\n",
    "log_loss(Yt, Yp, eps=1e-7)"
   ]
  },
  {
   "cell_type": "code",
   "execution_count": 41,
   "metadata": {
    "collapsed": false
   },
   "outputs": [
    {
     "data": {
      "text/plain": [
       "0.78017097349075515"
      ]
     },
     "execution_count": 41,
     "metadata": {},
     "output_type": "execute_result"
    }
   ],
   "source": [
    "#keeps the best auc\n",
    "from sklearn.metrics import roc_auc_score\n",
    "\n",
    "roc_auc_score(Yt, Yp)"
   ]
  },
  {
   "cell_type": "code",
   "execution_count": 62,
   "metadata": {
    "collapsed": false
   },
   "outputs": [
    {
     "data": {
      "text/plain": [
       "0.78134049899754965"
      ]
     },
     "execution_count": 62,
     "metadata": {},
     "output_type": "execute_result"
    }
   ],
   "source": [
    "from sklearn.metrics import roc_auc_score\n",
    "roc_auc_score(Yt, Yp)"
   ]
  },
  {
   "cell_type": "markdown",
   "metadata": {},
   "source": [
    "using GBDT"
   ]
  },
  {
   "cell_type": "code",
   "execution_count": 40,
   "metadata": {
    "collapsed": true
   },
   "outputs": [],
   "source": [
    "import lightgbm as lgb\n",
    "\n",
    "train_data = lgb.Dataset(X, label=Y)\n",
    "valid_data = lgb.Dataset(Xt, label=Yt, reference=train_data)\n"
   ]
  },
  {
   "cell_type": "code",
   "execution_count": 41,
   "metadata": {
    "collapsed": false
   },
   "outputs": [
    {
     "name": "stdout",
     "output_type": "stream",
     "text": [
      "[1]\tvalid_0's binary_logloss: 0.680136\tvalid_0's auc: 0.789485\n",
      "[2]\tvalid_0's binary_logloss: 0.67091\tvalid_0's auc: 0.768211\n",
      "[3]\tvalid_0's binary_logloss: 0.661989\tvalid_0's auc: 0.780018\n",
      "[4]\tvalid_0's binary_logloss: 0.655022\tvalid_0's auc: 0.766763\n",
      "[5]\tvalid_0's binary_logloss: 0.649124\tvalid_0's auc: 0.764424\n",
      "[6]\tvalid_0's binary_logloss: 0.642882\tvalid_0's auc: 0.758632\n",
      "[7]\tvalid_0's binary_logloss: 0.637037\tvalid_0's auc: 0.760526\n",
      "[8]\tvalid_0's binary_logloss: 0.631912\tvalid_0's auc: 0.761083\n",
      "[9]\tvalid_0's binary_logloss: 0.627628\tvalid_0's auc: 0.760637\n",
      "[10]\tvalid_0's binary_logloss: 0.622388\tvalid_0's auc: 0.763088\n",
      "[11]\tvalid_0's binary_logloss: 0.618993\tvalid_0's auc: 0.760192\n",
      "[12]\tvalid_0's binary_logloss: 0.615262\tvalid_0's auc: 0.762976\n",
      "[13]\tvalid_0's binary_logloss: 0.610783\tvalid_0's auc: 0.765427\n",
      "[14]\tvalid_0's binary_logloss: 0.608805\tvalid_0's auc: 0.760971\n",
      "[15]\tvalid_0's binary_logloss: 0.605005\tvalid_0's auc: 0.762308\n",
      "[16]\tvalid_0's binary_logloss: 0.603281\tvalid_0's auc: 0.762085\n",
      "[17]\tvalid_0's binary_logloss: 0.599637\tvalid_0's auc: 0.764981\n",
      "[18]\tvalid_0's binary_logloss: 0.599302\tvalid_0's auc: 0.762308\n",
      "[19]\tvalid_0's binary_logloss: 0.597046\tvalid_0's auc: 0.762196\n",
      "[20]\tvalid_0's binary_logloss: 0.594776\tvalid_0's auc: 0.763979\n",
      "[21]\tvalid_0's binary_logloss: 0.594089\tvalid_0's auc: 0.762419\n",
      "[22]\tvalid_0's binary_logloss: 0.593558\tvalid_0's auc: 0.761751\n",
      "[23]\tvalid_0's binary_logloss: 0.591751\tvalid_0's auc: 0.76487\n",
      "[24]\tvalid_0's binary_logloss: 0.591947\tvalid_0's auc: 0.763088\n",
      "[25]\tvalid_0's binary_logloss: 0.590511\tvalid_0's auc: 0.765315\n",
      "[26]\tvalid_0's binary_logloss: 0.589655\tvalid_0's auc: 0.765984\n",
      "[27]\tvalid_0's binary_logloss: 0.590094\tvalid_0's auc: 0.763088\n",
      "[28]\tvalid_0's binary_logloss: 0.588519\tvalid_0's auc: 0.762642\n",
      "[29]\tvalid_0's binary_logloss: 0.589399\tvalid_0's auc: 0.761528\n",
      "[30]\tvalid_0's binary_logloss: 0.589133\tvalid_0's auc: 0.762308\n",
      "[31]\tvalid_0's binary_logloss: 0.589789\tvalid_0's auc: 0.760303\n",
      "[32]\tvalid_0's binary_logloss: 0.58772\tvalid_0's auc: 0.761417\n",
      "[33]\tvalid_0's binary_logloss: 0.588064\tvalid_0's auc: 0.760303\n",
      "[34]\tvalid_0's binary_logloss: 0.58862\tvalid_0's auc: 0.759857\n",
      "[35]\tvalid_0's binary_logloss: 0.588234\tvalid_0's auc: 0.759857\n",
      "[36]\tvalid_0's binary_logloss: 0.587536\tvalid_0's auc: 0.759857\n",
      "[37]\tvalid_0's binary_logloss: 0.588499\tvalid_0's auc: 0.758521\n",
      "[38]\tvalid_0's binary_logloss: 0.587081\tvalid_0's auc: 0.761194\n",
      "[39]\tvalid_0's binary_logloss: 0.586586\tvalid_0's auc: 0.761194\n",
      "[40]\tvalid_0's binary_logloss: 0.585909\tvalid_0's auc: 0.762753\n",
      "[41]\tvalid_0's binary_logloss: 0.587386\tvalid_0's auc: 0.763644\n",
      "[42]\tvalid_0's binary_logloss: 0.587194\tvalid_0's auc: 0.761194\n",
      "[43]\tvalid_0's binary_logloss: 0.588382\tvalid_0's auc: 0.761194\n",
      "[44]\tvalid_0's binary_logloss: 0.588417\tvalid_0's auc: 0.76164\n",
      "[45]\tvalid_0's binary_logloss: 0.586576\tvalid_0's auc: 0.762531\n",
      "[46]\tvalid_0's binary_logloss: 0.587775\tvalid_0's auc: 0.762531\n",
      "[47]\tvalid_0's binary_logloss: 0.588392\tvalid_0's auc: 0.762753\n",
      "[48]\tvalid_0's binary_logloss: 0.588305\tvalid_0's auc: 0.763199\n",
      "[49]\tvalid_0's binary_logloss: 0.588618\tvalid_0's auc: 0.762976\n",
      "[50]\tvalid_0's binary_logloss: 0.588747\tvalid_0's auc: 0.761194\n",
      "[51]\tvalid_0's binary_logloss: 0.588757\tvalid_0's auc: 0.76164\n",
      "[52]\tvalid_0's binary_logloss: 0.589188\tvalid_0's auc: 0.760526\n",
      "[53]\tvalid_0's binary_logloss: 0.58885\tvalid_0's auc: 0.760971\n",
      "[54]\tvalid_0's binary_logloss: 0.589355\tvalid_0's auc: 0.759189\n",
      "[55]\tvalid_0's binary_logloss: 0.589534\tvalid_0's auc: 0.758075\n",
      "[56]\tvalid_0's binary_logloss: 0.589221\tvalid_0's auc: 0.759857\n",
      "[57]\tvalid_0's binary_logloss: 0.589665\tvalid_0's auc: 0.760971\n",
      "[58]\tvalid_0's binary_logloss: 0.591018\tvalid_0's auc: 0.758744\n",
      "[59]\tvalid_0's binary_logloss: 0.592111\tvalid_0's auc: 0.759635\n",
      "[60]\tvalid_0's binary_logloss: 0.593345\tvalid_0's auc: 0.756961\n",
      "[61]\tvalid_0's binary_logloss: 0.593708\tvalid_0's auc: 0.755402\n",
      "[62]\tvalid_0's binary_logloss: 0.593013\tvalid_0's auc: 0.757407\n",
      "[63]\tvalid_0's binary_logloss: 0.594495\tvalid_0's auc: 0.754957\n",
      "[64]\tvalid_0's binary_logloss: 0.595144\tvalid_0's auc: 0.754288\n",
      "[65]\tvalid_0's binary_logloss: 0.595034\tvalid_0's auc: 0.755179\n",
      "[66]\tvalid_0's binary_logloss: 0.595375\tvalid_0's auc: 0.75607\n",
      "[67]\tvalid_0's binary_logloss: 0.596205\tvalid_0's auc: 0.754734\n",
      "[68]\tvalid_0's binary_logloss: 0.594784\tvalid_0's auc: 0.758075\n",
      "[69]\tvalid_0's binary_logloss: 0.59623\tvalid_0's auc: 0.755625\n",
      "[70]\tvalid_0's binary_logloss: 0.596526\tvalid_0's auc: 0.755625\n",
      "[71]\tvalid_0's binary_logloss: 0.596709\tvalid_0's auc: 0.754734\n",
      "[72]\tvalid_0's binary_logloss: 0.596678\tvalid_0's auc: 0.753174\n",
      "[73]\tvalid_0's binary_logloss: 0.59707\tvalid_0's auc: 0.754288\n",
      "[74]\tvalid_0's binary_logloss: 0.597157\tvalid_0's auc: 0.755402\n",
      "[75]\tvalid_0's binary_logloss: 0.597127\tvalid_0's auc: 0.754065\n",
      "[76]\tvalid_0's binary_logloss: 0.596283\tvalid_0's auc: 0.756516\n",
      "[77]\tvalid_0's binary_logloss: 0.596253\tvalid_0's auc: 0.756293\n",
      "[78]\tvalid_0's binary_logloss: 0.597248\tvalid_0's auc: 0.754957\n",
      "[79]\tvalid_0's binary_logloss: 0.597627\tvalid_0's auc: 0.754065\n",
      "[80]\tvalid_0's binary_logloss: 0.597102\tvalid_0's auc: 0.755179\n",
      "[81]\tvalid_0's binary_logloss: 0.598189\tvalid_0's auc: 0.754734\n",
      "[82]\tvalid_0's binary_logloss: 0.599268\tvalid_0's auc: 0.752506\n",
      "[83]\tvalid_0's binary_logloss: 0.599005\tvalid_0's auc: 0.754288\n",
      "[84]\tvalid_0's binary_logloss: 0.599414\tvalid_0's auc: 0.753397\n",
      "[85]\tvalid_0's binary_logloss: 0.599675\tvalid_0's auc: 0.754065\n",
      "[86]\tvalid_0's binary_logloss: 0.600016\tvalid_0's auc: 0.754288\n",
      "[87]\tvalid_0's binary_logloss: 0.599701\tvalid_0's auc: 0.75607\n",
      "[88]\tvalid_0's binary_logloss: 0.600404\tvalid_0's auc: 0.755402\n",
      "[89]\tvalid_0's binary_logloss: 0.600697\tvalid_0's auc: 0.754065\n",
      "[90]\tvalid_0's binary_logloss: 0.602247\tvalid_0's auc: 0.752952\n",
      "[91]\tvalid_0's binary_logloss: 0.6025\tvalid_0's auc: 0.751615\n",
      "[92]\tvalid_0's binary_logloss: 0.602674\tvalid_0's auc: 0.752283\n",
      "[93]\tvalid_0's binary_logloss: 0.603312\tvalid_0's auc: 0.750724\n",
      "[94]\tvalid_0's binary_logloss: 0.604207\tvalid_0's auc: 0.749833\n",
      "[95]\tvalid_0's binary_logloss: 0.605627\tvalid_0's auc: 0.748274\n",
      "[96]\tvalid_0's binary_logloss: 0.605343\tvalid_0's auc: 0.749165\n",
      "[97]\tvalid_0's binary_logloss: 0.606282\tvalid_0's auc: 0.748719\n",
      "[98]\tvalid_0's binary_logloss: 0.607499\tvalid_0's auc: 0.747828\n",
      "[99]\tvalid_0's binary_logloss: 0.60764\tvalid_0's auc: 0.745823\n",
      "[100]\tvalid_0's binary_logloss: 0.608497\tvalid_0's auc: 0.745823\n"
     ]
    }
   ],
   "source": [
    "params = {\n",
    "    'boosting_type': 'gbdt',\n",
    "    'objective': 'binary',\n",
    "    'tree_learner': 'feature',\n",
    "    'num_threads': 4,\n",
    "    'metric': ['auc', 'binary_logloss'],\n",
    "    'num_leaves': 31,\n",
    "    'learning_rate': 0.05,\n",
    "    'feature_fraction': 0.7,\n",
    "    'verbose': 1\n",
    "}\n",
    "\n",
    "gbdt = lgb.train(params, train_data, 100, valid_sets=[valid_data])"
   ]
  },
  {
   "cell_type": "code",
   "execution_count": null,
   "metadata": {
    "collapsed": true
   },
   "outputs": [],
   "source": []
  },
  {
   "cell_type": "code",
   "execution_count": null,
   "metadata": {
    "collapsed": true
   },
   "outputs": [],
   "source": []
  },
  {
   "cell_type": "code",
   "execution_count": null,
   "metadata": {
    "collapsed": true
   },
   "outputs": [],
   "source": []
  },
  {
   "cell_type": "markdown",
   "metadata": {},
   "source": [
    "# Submit result"
   ]
  },
  {
   "cell_type": "code",
   "execution_count": 38,
   "metadata": {
    "collapsed": false
   },
   "outputs": [],
   "source": [
    "submission = pd.read_csv(\"./Data/sample_submission.csv\")\n",
    "content = []\n",
    "for row in submission.iterrows():\n",
    "    content.append(map(int, row[1].ix[0].split('_')))"
   ]
  },
  {
   "cell_type": "code",
   "execution_count": 39,
   "metadata": {
    "collapsed": false
   },
   "outputs": [],
   "source": [
    "submission = pd.DataFrame(content, columns=['Season', 'Player', 'Opponent'])"
   ]
  },
  {
   "cell_type": "code",
   "execution_count": null,
   "metadata": {
    "collapsed": true
   },
   "outputs": [],
   "source": []
  },
  {
   "cell_type": "code",
   "execution_count": 40,
   "metadata": {
    "collapsed": false
   },
   "outputs": [],
   "source": [
    "# take features from existing data\n",
    "t = pd.merge(submission, tourney_seeds, left_on=['Season', 'Player'], right_on=['Season', 'Team'])\n",
    "t = t.ix[:, [0,1,2,5]]\n",
    "t.columns = ['Season', 'Player', 'Opponent', 'PlayerSeed']\n",
    "t = pd.merge(t, tourney_seeds, left_on=['Season', 'Opponent'], right_on=['Season', 'Team'])\n",
    "t = t.ix[:, [0, 1, 2, 3, 6]]\n",
    "t.columns = ['Season', 'Player', 'Opponent', 'PlayerSeed', 'OpponentSeed']\n",
    "t['SeedDelta'] = (t['OpponentSeed']-t['PlayerSeed']+16.0)/31\n",
    "t['SeedState'] = (17.0-t['PlayerSeed'].values)/16\n",
    "t = pd.merge(t, feature, on=['Season', 'Player'])\n",
    "t = pd.merge(t, feature, left_on=['Season', 'Opponent'], right_on=['Season', 'Player'], suffixes=[\"Ply\", \"Opp\"])\n",
    "t.drop('PlayerOpp', 1, inplace=True)\n",
    "t = t.rename(columns={\"PlayerPly\": \"Player\"})"
   ]
  },
  {
   "cell_type": "code",
   "execution_count": 47,
   "metadata": {
    "collapsed": false
   },
   "outputs": [],
   "source": [
    "X = t.ix[:, 5:23].values\n",
    "Y = rf.predict_proba(X)"
   ]
  },
  {
   "cell_type": "code",
   "execution_count": 48,
   "metadata": {
    "collapsed": false
   },
   "outputs": [],
   "source": [
    "t['Prediction']=Y[:, 1]"
   ]
  },
  {
   "cell_type": "code",
   "execution_count": 49,
   "metadata": {
    "collapsed": true
   },
   "outputs": [],
   "source": [
    "id = []\n",
    "pred = []\n",
    "for row in t.iterrows():\n",
    "    id.append(\"{0}_{1}_{2}\".format(int(row[1].ix[0]), int(row[1].ix[1]), int(row[1].ix[2])))\n",
    "    pred.append(row[1].ix[23])"
   ]
  },
  {
   "cell_type": "code",
   "execution_count": 50,
   "metadata": {
    "collapsed": true
   },
   "outputs": [],
   "source": [
    "submit = pd.DataFrame({\"id\":id, \"pred\":pred}, columns=['id', 'pred'])"
   ]
  },
  {
   "cell_type": "code",
   "execution_count": 51,
   "metadata": {
    "collapsed": false
   },
   "outputs": [
    {
     "data": {
      "text/html": [
       "<div>\n",
       "<table border=\"1\" class=\"dataframe\">\n",
       "  <thead>\n",
       "    <tr style=\"text-align: right;\">\n",
       "      <th></th>\n",
       "      <th>id</th>\n",
       "      <th>pred</th>\n",
       "    </tr>\n",
       "  </thead>\n",
       "  <tbody>\n",
       "    <tr>\n",
       "      <th>0</th>\n",
       "      <td>2013_1103_1107</td>\n",
       "      <td>0.527143</td>\n",
       "    </tr>\n",
       "    <tr>\n",
       "      <th>1</th>\n",
       "      <td>2013_1103_1112</td>\n",
       "      <td>0.275000</td>\n",
       "    </tr>\n",
       "    <tr>\n",
       "      <th>2</th>\n",
       "      <td>2013_1107_1112</td>\n",
       "      <td>0.075000</td>\n",
       "    </tr>\n",
       "    <tr>\n",
       "      <th>3</th>\n",
       "      <td>2013_1103_1125</td>\n",
       "      <td>0.395238</td>\n",
       "    </tr>\n",
       "    <tr>\n",
       "      <th>4</th>\n",
       "      <td>2013_1107_1125</td>\n",
       "      <td>0.309286</td>\n",
       "    </tr>\n",
       "  </tbody>\n",
       "</table>\n",
       "</div>"
      ],
      "text/plain": [
       "               id      pred\n",
       "0  2013_1103_1107  0.527143\n",
       "1  2013_1103_1112  0.275000\n",
       "2  2013_1107_1112  0.075000\n",
       "3  2013_1103_1125  0.395238\n",
       "4  2013_1107_1125  0.309286"
      ]
     },
     "execution_count": 51,
     "metadata": {},
     "output_type": "execute_result"
    }
   ],
   "source": [
    "submit.head()"
   ]
  },
  {
   "cell_type": "code",
   "execution_count": 52,
   "metadata": {
    "collapsed": true
   },
   "outputs": [],
   "source": [
    "submit.to_csv(\"result.csv\", index=False)"
   ]
  },
  {
   "cell_type": "markdown",
   "metadata": {},
   "source": [
    "Try to calculate loss locally"
   ]
  },
  {
   "cell_type": "code",
   "execution_count": 53,
   "metadata": {
    "collapsed": false
   },
   "outputs": [],
   "source": [
    "submission = t[['Season', 'Player', 'Opponent', 'Prediction']]"
   ]
  },
  {
   "cell_type": "code",
   "execution_count": 54,
   "metadata": {
    "collapsed": false
   },
   "outputs": [
    {
     "data": {
      "text/plain": [
       "(9112, 4)"
      ]
     },
     "execution_count": 54,
     "metadata": {},
     "output_type": "execute_result"
    }
   ],
   "source": [
    "submission.shape"
   ]
  },
  {
   "cell_type": "code",
   "execution_count": 55,
   "metadata": {
    "collapsed": false
   },
   "outputs": [],
   "source": [
    "t1 = pd.merge(submission, tourney_compact_results, left_on=['Season', 'Player', 'Opponent'], right_on=['Season', 'Wteam', 'Lteam'])\n",
    "t2 = pd.merge(submission, tourney_compact_results, left_on=['Season', 'Player', 'Opponent'], right_on=['Season', 'Lteam', 'Wteam'])"
   ]
  },
  {
   "cell_type": "code",
   "execution_count": 56,
   "metadata": {
    "collapsed": false
   },
   "outputs": [
    {
     "data": {
      "text/plain": [
       "0.2889324328931448"
      ]
     },
     "execution_count": 56,
     "metadata": {},
     "output_type": "execute_result"
    }
   ],
   "source": [
    "t1['Label']=1\n",
    "t2['Label']=0\n",
    "submission = pd.concat([t1, t2], ignore_index=True)\n",
    "log_loss(submission['Label'].values, submission['Prediction'].values)"
   ]
  },
  {
   "cell_type": "code",
   "execution_count": null,
   "metadata": {
    "collapsed": true
   },
   "outputs": [],
   "source": []
  }
 ],
 "metadata": {
  "kernelspec": {
   "display_name": "Python 2",
   "language": "python",
   "name": "python2"
  },
  "language_info": {
   "codemirror_mode": {
    "name": "ipython",
    "version": 2
   },
   "file_extension": ".py",
   "mimetype": "text/x-python",
   "name": "python",
   "nbconvert_exporter": "python",
   "pygments_lexer": "ipython2",
   "version": "2.7.12"
  }
 },
 "nbformat": 4,
 "nbformat_minor": 1
}
