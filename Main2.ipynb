{
 "cells": [
  {
   "cell_type": "code",
   "execution_count": 1,
   "metadata": {
    "collapsed": false
   },
   "outputs": [],
   "source": [
    "import pandas as pd\n",
    "import numpy as np\n",
    "\n",
    "\n",
    "tourney_seeds = pd.read_csv(\"./Data/TourneySeeds.csv\")\n",
    "rank = []\n",
    "teams = []\n",
    "for seed, team in tourney_seeds.loc[:,['Seed','Team']].values:\n",
    "    rank.append(int(seed[1:3]))\n",
    "tourney_seeds[\"NumericalSeeds\"] = rank"
   ]
  },
  {
   "cell_type": "code",
   "execution_count": 2,
   "metadata": {
    "collapsed": false
   },
   "outputs": [],
   "source": [
    "tourney_compact_results = pd.read_csv(\"./Data/TourneyCompactResults.csv\")"
   ]
  },
  {
   "cell_type": "code",
   "execution_count": 17,
   "metadata": {
    "collapsed": false
   },
   "outputs": [
    {
     "data": {
      "text/html": [
       "<div>\n",
       "<table border=\"1\" class=\"dataframe\">\n",
       "  <thead>\n",
       "    <tr style=\"text-align: right;\">\n",
       "      <th></th>\n",
       "      <th>Season</th>\n",
       "      <th>Seed</th>\n",
       "      <th>Team</th>\n",
       "      <th>NumericalSeeds</th>\n",
       "    </tr>\n",
       "  </thead>\n",
       "  <tbody>\n",
       "    <tr>\n",
       "      <th>0</th>\n",
       "      <td>1985</td>\n",
       "      <td>W01</td>\n",
       "      <td>1207</td>\n",
       "      <td>1</td>\n",
       "    </tr>\n",
       "    <tr>\n",
       "      <th>1</th>\n",
       "      <td>1985</td>\n",
       "      <td>W02</td>\n",
       "      <td>1210</td>\n",
       "      <td>2</td>\n",
       "    </tr>\n",
       "    <tr>\n",
       "      <th>2</th>\n",
       "      <td>1985</td>\n",
       "      <td>W03</td>\n",
       "      <td>1228</td>\n",
       "      <td>3</td>\n",
       "    </tr>\n",
       "    <tr>\n",
       "      <th>3</th>\n",
       "      <td>1985</td>\n",
       "      <td>W04</td>\n",
       "      <td>1260</td>\n",
       "      <td>4</td>\n",
       "    </tr>\n",
       "    <tr>\n",
       "      <th>4</th>\n",
       "      <td>1985</td>\n",
       "      <td>W05</td>\n",
       "      <td>1374</td>\n",
       "      <td>5</td>\n",
       "    </tr>\n",
       "  </tbody>\n",
       "</table>\n",
       "</div>"
      ],
      "text/plain": [
       "   Season Seed  Team  NumericalSeeds\n",
       "0    1985  W01  1207               1\n",
       "1    1985  W02  1210               2\n",
       "2    1985  W03  1228               3\n",
       "3    1985  W04  1260               4\n",
       "4    1985  W05  1374               5"
      ]
     },
     "execution_count": 17,
     "metadata": {},
     "output_type": "execute_result"
    }
   ],
   "source": [
    "tourney_seeds.head()"
   ]
  },
  {
   "cell_type": "code",
   "execution_count": 18,
   "metadata": {
    "collapsed": false
   },
   "outputs": [
    {
     "data": {
      "text/html": [
       "<div>\n",
       "<table border=\"1\" class=\"dataframe\">\n",
       "  <thead>\n",
       "    <tr style=\"text-align: right;\">\n",
       "      <th></th>\n",
       "      <th>Result</th>\n",
       "      <th>Season</th>\n",
       "      <th>Player</th>\n",
       "      <th>Opponent</th>\n",
       "    </tr>\n",
       "  </thead>\n",
       "  <tbody>\n",
       "    <tr>\n",
       "      <th>0</th>\n",
       "      <td>1</td>\n",
       "      <td>1985</td>\n",
       "      <td>1116</td>\n",
       "      <td>1234</td>\n",
       "    </tr>\n",
       "    <tr>\n",
       "      <th>1</th>\n",
       "      <td>1</td>\n",
       "      <td>1985</td>\n",
       "      <td>1120</td>\n",
       "      <td>1345</td>\n",
       "    </tr>\n",
       "    <tr>\n",
       "      <th>2</th>\n",
       "      <td>1</td>\n",
       "      <td>1985</td>\n",
       "      <td>1207</td>\n",
       "      <td>1250</td>\n",
       "    </tr>\n",
       "    <tr>\n",
       "      <th>3</th>\n",
       "      <td>1</td>\n",
       "      <td>1985</td>\n",
       "      <td>1229</td>\n",
       "      <td>1425</td>\n",
       "    </tr>\n",
       "    <tr>\n",
       "      <th>4</th>\n",
       "      <td>1</td>\n",
       "      <td>1985</td>\n",
       "      <td>1242</td>\n",
       "      <td>1325</td>\n",
       "    </tr>\n",
       "  </tbody>\n",
       "</table>\n",
       "</div>"
      ],
      "text/plain": [
       "   Result  Season  Player  Opponent\n",
       "0       1    1985    1116      1234\n",
       "1       1    1985    1120      1345\n",
       "2       1    1985    1207      1250\n",
       "3       1    1985    1229      1425\n",
       "4       1    1985    1242      1325"
      ]
     },
     "execution_count": 18,
     "metadata": {},
     "output_type": "execute_result"
    }
   ],
   "source": [
    "result.head()"
   ]
  },
  {
   "cell_type": "code",
   "execution_count": 3,
   "metadata": {
    "collapsed": false
   },
   "outputs": [],
   "source": [
    "result = pd.DataFrame({\n",
    "        \"Season\": pd.concat([tourney_compact_results['Season'], tourney_compact_results['Season']], ignore_index=True),\n",
    "        \"Player\": pd.concat([tourney_compact_results['Wteam'], tourney_compact_results['Lteam']], ignore_index=True),\n",
    "        \"Opponent\": pd.concat([tourney_compact_results['Lteam'], tourney_compact_results['Wteam']], ignore_index=True),\n",
    "        \"Result\": np.hstack([np.ones(tourney_compact_results.shape[0], dtype=int), np.zeros(tourney_compact_results.shape[0], dtype=int)])\n",
    "    }, columns=[\"Result\", \"Season\", \"Player\", \"Opponent\"])"
   ]
  },
  {
   "cell_type": "code",
   "execution_count": 4,
   "metadata": {
    "collapsed": false
   },
   "outputs": [],
   "source": [
    "t = pd.merge(result, tourney_seeds, left_on=['Season', 'Player'], right_on=['Season', 'Team'])\n",
    "t = t[['Result', 'Season','Player', 'Opponent', 'NumericalSeeds']]\n",
    "t.columns=['Result', 'Season','Player', 'Opponent', 'PlayerSeed']\n",
    "result = t"
   ]
  },
  {
   "cell_type": "code",
   "execution_count": 5,
   "metadata": {
    "collapsed": false
   },
   "outputs": [],
   "source": [
    "t = pd.merge(result, tourney_seeds, left_on=['Season', 'Opponent'], right_on=['Season', 'Team'])\n",
    "t = t[['Result', 'Season', 'Player', 'Opponent', 'PlayerSeed', 'NumericalSeeds']]\n",
    "t.columns = ['Result', 'Season','Player', 'Opponent', 'PlayerSeed', 'OpponentSeed']\n",
    "result = t"
   ]
  },
  {
   "cell_type": "code",
   "execution_count": 23,
   "metadata": {
    "collapsed": false
   },
   "outputs": [
    {
     "data": {
      "text/html": [
       "<div>\n",
       "<table border=\"1\" class=\"dataframe\">\n",
       "  <thead>\n",
       "    <tr style=\"text-align: right;\">\n",
       "      <th></th>\n",
       "      <th>Season</th>\n",
       "      <th>Daynum</th>\n",
       "      <th>Wteam</th>\n",
       "      <th>Wscore</th>\n",
       "      <th>Lteam</th>\n",
       "      <th>Lscore</th>\n",
       "      <th>Wloc</th>\n",
       "      <th>Numot</th>\n",
       "      <th>Wfgm</th>\n",
       "      <th>Wfga</th>\n",
       "      <th>...</th>\n",
       "      <th>Lfga3</th>\n",
       "      <th>Lftm</th>\n",
       "      <th>Lfta</th>\n",
       "      <th>Lor</th>\n",
       "      <th>Ldr</th>\n",
       "      <th>Last</th>\n",
       "      <th>Lto</th>\n",
       "      <th>Lstl</th>\n",
       "      <th>Lblk</th>\n",
       "      <th>Lpf</th>\n",
       "    </tr>\n",
       "  </thead>\n",
       "  <tbody>\n",
       "    <tr>\n",
       "      <th>0</th>\n",
       "      <td>2003</td>\n",
       "      <td>10</td>\n",
       "      <td>1104</td>\n",
       "      <td>68</td>\n",
       "      <td>1328</td>\n",
       "      <td>62</td>\n",
       "      <td>N</td>\n",
       "      <td>0</td>\n",
       "      <td>27</td>\n",
       "      <td>58</td>\n",
       "      <td>...</td>\n",
       "      <td>10</td>\n",
       "      <td>16</td>\n",
       "      <td>22</td>\n",
       "      <td>10</td>\n",
       "      <td>22</td>\n",
       "      <td>8</td>\n",
       "      <td>18</td>\n",
       "      <td>9</td>\n",
       "      <td>2</td>\n",
       "      <td>20</td>\n",
       "    </tr>\n",
       "    <tr>\n",
       "      <th>1</th>\n",
       "      <td>2003</td>\n",
       "      <td>10</td>\n",
       "      <td>1272</td>\n",
       "      <td>70</td>\n",
       "      <td>1393</td>\n",
       "      <td>63</td>\n",
       "      <td>N</td>\n",
       "      <td>0</td>\n",
       "      <td>26</td>\n",
       "      <td>62</td>\n",
       "      <td>...</td>\n",
       "      <td>24</td>\n",
       "      <td>9</td>\n",
       "      <td>20</td>\n",
       "      <td>20</td>\n",
       "      <td>25</td>\n",
       "      <td>7</td>\n",
       "      <td>12</td>\n",
       "      <td>8</td>\n",
       "      <td>6</td>\n",
       "      <td>16</td>\n",
       "    </tr>\n",
       "    <tr>\n",
       "      <th>2</th>\n",
       "      <td>2003</td>\n",
       "      <td>11</td>\n",
       "      <td>1266</td>\n",
       "      <td>73</td>\n",
       "      <td>1437</td>\n",
       "      <td>61</td>\n",
       "      <td>N</td>\n",
       "      <td>0</td>\n",
       "      <td>24</td>\n",
       "      <td>58</td>\n",
       "      <td>...</td>\n",
       "      <td>26</td>\n",
       "      <td>14</td>\n",
       "      <td>23</td>\n",
       "      <td>31</td>\n",
       "      <td>22</td>\n",
       "      <td>9</td>\n",
       "      <td>12</td>\n",
       "      <td>2</td>\n",
       "      <td>5</td>\n",
       "      <td>23</td>\n",
       "    </tr>\n",
       "    <tr>\n",
       "      <th>3</th>\n",
       "      <td>2003</td>\n",
       "      <td>11</td>\n",
       "      <td>1296</td>\n",
       "      <td>56</td>\n",
       "      <td>1457</td>\n",
       "      <td>50</td>\n",
       "      <td>N</td>\n",
       "      <td>0</td>\n",
       "      <td>18</td>\n",
       "      <td>38</td>\n",
       "      <td>...</td>\n",
       "      <td>22</td>\n",
       "      <td>8</td>\n",
       "      <td>15</td>\n",
       "      <td>17</td>\n",
       "      <td>20</td>\n",
       "      <td>9</td>\n",
       "      <td>19</td>\n",
       "      <td>4</td>\n",
       "      <td>3</td>\n",
       "      <td>23</td>\n",
       "    </tr>\n",
       "    <tr>\n",
       "      <th>4</th>\n",
       "      <td>2003</td>\n",
       "      <td>11</td>\n",
       "      <td>1400</td>\n",
       "      <td>77</td>\n",
       "      <td>1208</td>\n",
       "      <td>71</td>\n",
       "      <td>N</td>\n",
       "      <td>0</td>\n",
       "      <td>30</td>\n",
       "      <td>61</td>\n",
       "      <td>...</td>\n",
       "      <td>16</td>\n",
       "      <td>17</td>\n",
       "      <td>27</td>\n",
       "      <td>21</td>\n",
       "      <td>15</td>\n",
       "      <td>12</td>\n",
       "      <td>10</td>\n",
       "      <td>7</td>\n",
       "      <td>1</td>\n",
       "      <td>14</td>\n",
       "    </tr>\n",
       "  </tbody>\n",
       "</table>\n",
       "<p>5 rows × 34 columns</p>\n",
       "</div>"
      ],
      "text/plain": [
       "   Season  Daynum  Wteam  Wscore  Lteam  Lscore Wloc  Numot  Wfgm  Wfga ...   \\\n",
       "0    2003      10   1104      68   1328      62    N      0    27    58 ...    \n",
       "1    2003      10   1272      70   1393      63    N      0    26    62 ...    \n",
       "2    2003      11   1266      73   1437      61    N      0    24    58 ...    \n",
       "3    2003      11   1296      56   1457      50    N      0    18    38 ...    \n",
       "4    2003      11   1400      77   1208      71    N      0    30    61 ...    \n",
       "\n",
       "   Lfga3  Lftm  Lfta  Lor  Ldr  Last  Lto  Lstl  Lblk  Lpf  \n",
       "0     10    16    22   10   22     8   18     9     2   20  \n",
       "1     24     9    20   20   25     7   12     8     6   16  \n",
       "2     26    14    23   31   22     9   12     2     5   23  \n",
       "3     22     8    15   17   20     9   19     4     3   23  \n",
       "4     16    17    27   21   15    12   10     7     1   14  \n",
       "\n",
       "[5 rows x 34 columns]"
      ]
     },
     "execution_count": 23,
     "metadata": {},
     "output_type": "execute_result"
    }
   ],
   "source": [
    "regular = pd.read_csv(\"./Data/RegularSeasonDetailedResults.csv\")\n",
    "regular.head()"
   ]
  },
  {
   "cell_type": "code",
   "execution_count": 10,
   "metadata": {
    "collapsed": false
   },
   "outputs": [],
   "source": [
    "regular_rev = regular.ix[:, [0,1,4,5,2,3,7,21,22,23,24,25,26,27,28,29,30,31,32,33,8,9,10,11,12,13,14,15,16,17,18,19,20]]\n",
    "new_regular = pd.DataFrame(np.vstack([regular_rev.values, \n",
    "                                   regular.ix[:, [0,1,2,3,4,5,7,8,9,10,11,12,13,14,15,16,17,18,19,20,21,22,23,24,25,26,27,28,29,30,31,32,33]].values], \n",
    "                                 ), columns = [\"Season\",\"Daynum\",\"Player\",\"PlayerScore\",\"Opponent\",\"OpponentScore\",\"Numot\",\"Wfgm\",\"Wfga\",\"Wfgm3\",\"Wfga3\",\"Wftm\",\"Wfta\",\"Wor\",\"Wdr\",\"Wast\",\"Wto\",\"Wstl\",\"Wblk\",\"Wpf\",\"Lfgm\",\"Lfga\",\"Lfgm3\",\"Lfga3\",\"Lftm\",\"Lfta\",\"Lor\",\"Ldr\",\"Last\",\"Lto\",\"Lstl\",\"Lblk\",\"Lpf\"])"
   ]
  },
  {
   "cell_type": "code",
   "execution_count": 12,
   "metadata": {
    "collapsed": false
   },
   "outputs": [],
   "source": [
    "loc = []\n",
    "revloc = []\n",
    "for itm in regular['Wloc'].values:\n",
    "    if itm=='N':\n",
    "        loc.append(0)\n",
    "        revloc.append(0)\n",
    "    elif itm=='H':\n",
    "        loc.append(1)\n",
    "        revloc.append(2)\n",
    "    else:\n",
    "        loc.append(2)\n",
    "        revloc.append(1)\n",
    "new_regular['PlayerLoc']=np.hstack([revloc, loc])\n",
    "new_regular['PlayerResult']=np.hstack([np.zeros(regular.shape[0], dtype=np.int), np.ones(regular.shape[0], dtype=np.int)])"
   ]
  },
  {
   "cell_type": "code",
   "execution_count": 24,
   "metadata": {
    "collapsed": false
   },
   "outputs": [
    {
     "data": {
      "text/html": [
       "<div>\n",
       "<table border=\"1\" class=\"dataframe\">\n",
       "  <thead>\n",
       "    <tr style=\"text-align: right;\">\n",
       "      <th></th>\n",
       "      <th>Season</th>\n",
       "      <th>Daynum</th>\n",
       "      <th>Player</th>\n",
       "      <th>PlayerScore</th>\n",
       "      <th>Opponent</th>\n",
       "      <th>OpponentScore</th>\n",
       "      <th>Numot</th>\n",
       "      <th>Wfgm</th>\n",
       "      <th>Wfga</th>\n",
       "      <th>Wfgm3</th>\n",
       "      <th>...</th>\n",
       "      <th>Lfta</th>\n",
       "      <th>Lor</th>\n",
       "      <th>Ldr</th>\n",
       "      <th>Last</th>\n",
       "      <th>Lto</th>\n",
       "      <th>Lstl</th>\n",
       "      <th>Lblk</th>\n",
       "      <th>Lpf</th>\n",
       "      <th>PlayerLoc</th>\n",
       "      <th>PlayerResult</th>\n",
       "    </tr>\n",
       "  </thead>\n",
       "  <tbody>\n",
       "    <tr>\n",
       "      <th>0</th>\n",
       "      <td>2003</td>\n",
       "      <td>10</td>\n",
       "      <td>1328</td>\n",
       "      <td>62</td>\n",
       "      <td>1104</td>\n",
       "      <td>68</td>\n",
       "      <td>0</td>\n",
       "      <td>22</td>\n",
       "      <td>53</td>\n",
       "      <td>2</td>\n",
       "      <td>...</td>\n",
       "      <td>18</td>\n",
       "      <td>14</td>\n",
       "      <td>24</td>\n",
       "      <td>13</td>\n",
       "      <td>23</td>\n",
       "      <td>7</td>\n",
       "      <td>1</td>\n",
       "      <td>22</td>\n",
       "      <td>0</td>\n",
       "      <td>0</td>\n",
       "    </tr>\n",
       "    <tr>\n",
       "      <th>1</th>\n",
       "      <td>2003</td>\n",
       "      <td>10</td>\n",
       "      <td>1393</td>\n",
       "      <td>63</td>\n",
       "      <td>1272</td>\n",
       "      <td>70</td>\n",
       "      <td>0</td>\n",
       "      <td>24</td>\n",
       "      <td>67</td>\n",
       "      <td>6</td>\n",
       "      <td>...</td>\n",
       "      <td>19</td>\n",
       "      <td>15</td>\n",
       "      <td>28</td>\n",
       "      <td>16</td>\n",
       "      <td>13</td>\n",
       "      <td>4</td>\n",
       "      <td>4</td>\n",
       "      <td>18</td>\n",
       "      <td>0</td>\n",
       "      <td>0</td>\n",
       "    </tr>\n",
       "    <tr>\n",
       "      <th>2</th>\n",
       "      <td>2003</td>\n",
       "      <td>11</td>\n",
       "      <td>1437</td>\n",
       "      <td>61</td>\n",
       "      <td>1266</td>\n",
       "      <td>73</td>\n",
       "      <td>0</td>\n",
       "      <td>22</td>\n",
       "      <td>73</td>\n",
       "      <td>3</td>\n",
       "      <td>...</td>\n",
       "      <td>29</td>\n",
       "      <td>17</td>\n",
       "      <td>26</td>\n",
       "      <td>15</td>\n",
       "      <td>10</td>\n",
       "      <td>5</td>\n",
       "      <td>2</td>\n",
       "      <td>25</td>\n",
       "      <td>0</td>\n",
       "      <td>0</td>\n",
       "    </tr>\n",
       "    <tr>\n",
       "      <th>3</th>\n",
       "      <td>2003</td>\n",
       "      <td>11</td>\n",
       "      <td>1457</td>\n",
       "      <td>50</td>\n",
       "      <td>1296</td>\n",
       "      <td>56</td>\n",
       "      <td>0</td>\n",
       "      <td>18</td>\n",
       "      <td>49</td>\n",
       "      <td>6</td>\n",
       "      <td>...</td>\n",
       "      <td>31</td>\n",
       "      <td>6</td>\n",
       "      <td>19</td>\n",
       "      <td>11</td>\n",
       "      <td>12</td>\n",
       "      <td>14</td>\n",
       "      <td>2</td>\n",
       "      <td>18</td>\n",
       "      <td>0</td>\n",
       "      <td>0</td>\n",
       "    </tr>\n",
       "    <tr>\n",
       "      <th>4</th>\n",
       "      <td>2003</td>\n",
       "      <td>11</td>\n",
       "      <td>1208</td>\n",
       "      <td>71</td>\n",
       "      <td>1400</td>\n",
       "      <td>77</td>\n",
       "      <td>0</td>\n",
       "      <td>24</td>\n",
       "      <td>62</td>\n",
       "      <td>6</td>\n",
       "      <td>...</td>\n",
       "      <td>13</td>\n",
       "      <td>17</td>\n",
       "      <td>22</td>\n",
       "      <td>12</td>\n",
       "      <td>14</td>\n",
       "      <td>4</td>\n",
       "      <td>4</td>\n",
       "      <td>20</td>\n",
       "      <td>0</td>\n",
       "      <td>0</td>\n",
       "    </tr>\n",
       "  </tbody>\n",
       "</table>\n",
       "<p>5 rows × 35 columns</p>\n",
       "</div>"
      ],
      "text/plain": [
       "   Season  Daynum  Player  PlayerScore  Opponent  OpponentScore  Numot  Wfgm  \\\n",
       "0    2003      10    1328           62      1104             68      0    22   \n",
       "1    2003      10    1393           63      1272             70      0    24   \n",
       "2    2003      11    1437           61      1266             73      0    22   \n",
       "3    2003      11    1457           50      1296             56      0    18   \n",
       "4    2003      11    1208           71      1400             77      0    24   \n",
       "\n",
       "   Wfga  Wfgm3      ...       Lfta  Lor  Ldr  Last  Lto  Lstl  Lblk  Lpf  \\\n",
       "0    53      2      ...         18   14   24    13   23     7     1   22   \n",
       "1    67      6      ...         19   15   28    16   13     4     4   18   \n",
       "2    73      3      ...         29   17   26    15   10     5     2   25   \n",
       "3    49      6      ...         31    6   19    11   12    14     2   18   \n",
       "4    62      6      ...         13   17   22    12   14     4     4   20   \n",
       "\n",
       "   PlayerLoc  PlayerResult  \n",
       "0          0             0  \n",
       "1          0             0  \n",
       "2          0             0  \n",
       "3          0             0  \n",
       "4          0             0  \n",
       "\n",
       "[5 rows x 35 columns]"
      ]
     },
     "execution_count": 24,
     "metadata": {},
     "output_type": "execute_result"
    }
   ],
   "source": [
    "new_regular.head()"
   ]
  },
  {
   "cell_type": "markdown",
   "metadata": {
    "collapsed": true
   },
   "source": [
    "Effective field goal percentage"
   ]
  },
  {
   "cell_type": "code",
   "execution_count": 42,
   "metadata": {
    "collapsed": false,
    "scrolled": true
   },
   "outputs": [
    {
     "data": {
      "text/html": [
       "<div>\n",
       "<table border=\"1\" class=\"dataframe\">\n",
       "  <thead>\n",
       "    <tr style=\"text-align: right;\">\n",
       "      <th></th>\n",
       "      <th></th>\n",
       "      <th>EfgO</th>\n",
       "      <th>EfgD</th>\n",
       "    </tr>\n",
       "    <tr>\n",
       "      <th>Season</th>\n",
       "      <th>Player</th>\n",
       "      <th></th>\n",
       "      <th></th>\n",
       "    </tr>\n",
       "  </thead>\n",
       "  <tbody>\n",
       "    <tr>\n",
       "      <th rowspan=\"5\" valign=\"top\">2003</th>\n",
       "      <th>1102</th>\n",
       "      <td>0.579443</td>\n",
       "      <td>0.510522</td>\n",
       "    </tr>\n",
       "    <tr>\n",
       "      <th>1103</th>\n",
       "      <td>0.534814</td>\n",
       "      <td>0.545809</td>\n",
       "    </tr>\n",
       "    <tr>\n",
       "      <th>1104</th>\n",
       "      <td>0.475953</td>\n",
       "      <td>0.476190</td>\n",
       "    </tr>\n",
       "    <tr>\n",
       "      <th>1105</th>\n",
       "      <td>0.457241</td>\n",
       "      <td>0.511089</td>\n",
       "    </tr>\n",
       "    <tr>\n",
       "      <th>1106</th>\n",
       "      <td>0.479005</td>\n",
       "      <td>0.451505</td>\n",
       "    </tr>\n",
       "  </tbody>\n",
       "</table>\n",
       "</div>"
      ],
      "text/plain": [
       "                   EfgO      EfgD\n",
       "Season Player                    \n",
       "2003   1102    0.579443  0.510522\n",
       "       1103    0.534814  0.545809\n",
       "       1104    0.475953  0.476190\n",
       "       1105    0.457241  0.511089\n",
       "       1106    0.479005  0.451505"
      ]
     },
     "execution_count": 42,
     "metadata": {},
     "output_type": "execute_result"
    }
   ],
   "source": [
    "t = new_regular[['Season', 'Player', 'Opponent', 'Wfgm', 'Wfgm3', 'Wfga', 'Lfgm', 'Lfgm3', 'Lfga']].copy()\n",
    "t[\"EfgO\"] = np.require(t['Wfgm'].values, dtype=np.float)+np.require(t['Wfgm3'].values, dtype=np.float)/2\n",
    "t[\"EfgD\"] = np.require(t['Lfgm'].values, dtype=np.float)+np.require(t['Lfgm3'].values, dtype=np.float)/2\n",
    "t = t.groupby(by=['Season', 'Player']).sum()\n",
    "rst = pd.DataFrame({'EfgO': t['EfgO']/t['Wfga'], 'EfgD': t['EfgD']/t['Lfga']}, columns=['EfgO', 'EfgD'])\n",
    "rst.head()"
   ]
  },
  {
   "cell_type": "code",
   "execution_count": 43,
   "metadata": {
    "collapsed": false
   },
   "outputs": [
    {
     "data": {
      "text/html": [
       "<div>\n",
       "<table border=\"1\" class=\"dataframe\">\n",
       "  <thead>\n",
       "    <tr style=\"text-align: right;\">\n",
       "      <th></th>\n",
       "      <th>Result</th>\n",
       "      <th>Season</th>\n",
       "      <th>Player</th>\n",
       "      <th>Opponent</th>\n",
       "      <th>PlayerSeed</th>\n",
       "      <th>OpponentSeed</th>\n",
       "      <th>EfgO</th>\n",
       "      <th>EfgD</th>\n",
       "    </tr>\n",
       "  </thead>\n",
       "  <tbody>\n",
       "    <tr>\n",
       "      <th>2272</th>\n",
       "      <td>1</td>\n",
       "      <td>2003</td>\n",
       "      <td>1421</td>\n",
       "      <td>1411</td>\n",
       "      <td>16</td>\n",
       "      <td>16</td>\n",
       "      <td>0.486339</td>\n",
       "      <td>0.518382</td>\n",
       "    </tr>\n",
       "    <tr>\n",
       "      <th>2273</th>\n",
       "      <td>0</td>\n",
       "      <td>2003</td>\n",
       "      <td>1421</td>\n",
       "      <td>1400</td>\n",
       "      <td>16</td>\n",
       "      <td>1</td>\n",
       "      <td>0.486339</td>\n",
       "      <td>0.518382</td>\n",
       "    </tr>\n",
       "    <tr>\n",
       "      <th>2274</th>\n",
       "      <td>0</td>\n",
       "      <td>2003</td>\n",
       "      <td>1163</td>\n",
       "      <td>1400</td>\n",
       "      <td>5</td>\n",
       "      <td>1</td>\n",
       "      <td>0.523580</td>\n",
       "      <td>0.429628</td>\n",
       "    </tr>\n",
       "    <tr>\n",
       "      <th>2300</th>\n",
       "      <td>1</td>\n",
       "      <td>2003</td>\n",
       "      <td>1163</td>\n",
       "      <td>1140</td>\n",
       "      <td>5</td>\n",
       "      <td>12</td>\n",
       "      <td>0.523580</td>\n",
       "      <td>0.429628</td>\n",
       "    </tr>\n",
       "    <tr>\n",
       "      <th>2301</th>\n",
       "      <td>1</td>\n",
       "      <td>2003</td>\n",
       "      <td>1163</td>\n",
       "      <td>1390</td>\n",
       "      <td>5</td>\n",
       "      <td>4</td>\n",
       "      <td>0.523580</td>\n",
       "      <td>0.429628</td>\n",
       "    </tr>\n",
       "  </tbody>\n",
       "</table>\n",
       "</div>"
      ],
      "text/plain": [
       "      Result  Season  Player  Opponent  PlayerSeed  OpponentSeed      EfgO  \\\n",
       "2272       1    2003    1421      1411          16            16  0.486339   \n",
       "2273       0    2003    1421      1400          16             1  0.486339   \n",
       "2274       0    2003    1163      1400           5             1  0.523580   \n",
       "2300       1    2003    1163      1140           5            12  0.523580   \n",
       "2301       1    2003    1163      1390           5             4  0.523580   \n",
       "\n",
       "          EfgD  \n",
       "2272  0.518382  \n",
       "2273  0.518382  \n",
       "2274  0.429628  \n",
       "2300  0.429628  \n",
       "2301  0.429628  "
      ]
     },
     "execution_count": 43,
     "metadata": {},
     "output_type": "execute_result"
    }
   ],
   "source": [
    "result = pd.merge(result, rst, left_on=['Season', 'Player'], right_index=True)"
   ]
  },
  {
   "cell_type": "code",
   "execution_count": 41,
   "metadata": {
    "collapsed": false
   },
   "outputs": [
    {
     "data": {
      "text/plain": [
       "(1828, 7)"
      ]
     },
     "execution_count": 41,
     "metadata": {},
     "output_type": "execute_result"
    }
   ],
   "source": []
  },
  {
   "cell_type": "code",
   "execution_count": null,
   "metadata": {
    "collapsed": true
   },
   "outputs": [],
   "source": []
  },
  {
   "cell_type": "markdown",
   "metadata": {},
   "source": [
    "## Feature normalization"
   ]
  },
  {
   "cell_type": "code",
   "execution_count": 7,
   "metadata": {
    "collapsed": true
   },
   "outputs": [],
   "source": [
    "feature = result[['Result', 'Season', 'Player', 'Opponent']].copy()"
   ]
  },
  {
   "cell_type": "code",
   "execution_count": 8,
   "metadata": {
    "collapsed": false
   },
   "outputs": [],
   "source": [
    "#seeddelta\n",
    "from scipy import stats\n",
    "\n",
    "\n",
    "cdf = dict()\n",
    "X = result['PlayerSeed']-result['OpponentSeed']\n",
    "hist, bin_edges = np.histogram(X.values, bins=31, density=True)\n",
    "hist /= hist.sum()\n",
    "cdf['SeedDelta'] = stats.rv_discrete(name='SeedDelta', values=(bin_edges[:-1], hist))\n",
    "feature['SeedDelta'] = cdf['SeedDelta'].cdf(X.values)"
   ]
  },
  {
   "cell_type": "code",
   "execution_count": 11,
   "metadata": {
    "collapsed": true
   },
   "outputs": [],
   "source": [
    "#playerseed\n",
    "hist, bin_edges = np.histogram(result['PlayerSeed'].values, bins=16, density=True)\n",
    "hist /= hist.sum()\n",
    "cdf['PlayerSeed'] = stats.rv_discrete(name='PlayerSeed', values=(bin_edges[:-1], hist))\n",
    "feature['PlayerSeed'] = cdf['PlayerSeed'].cdf(result['PlayerSeed'].values)"
   ]
  },
  {
   "cell_type": "code",
   "execution_count": 12,
   "metadata": {
    "collapsed": false
   },
   "outputs": [
    {
     "data": {
      "text/html": [
       "<div>\n",
       "<table border=\"1\" class=\"dataframe\">\n",
       "  <thead>\n",
       "    <tr style=\"text-align: right;\">\n",
       "      <th></th>\n",
       "      <th>Result</th>\n",
       "      <th>Season</th>\n",
       "      <th>Player</th>\n",
       "      <th>Opponent</th>\n",
       "      <th>SeedDelta</th>\n",
       "      <th>PlayerSeed</th>\n",
       "    </tr>\n",
       "  </thead>\n",
       "  <tbody>\n",
       "    <tr>\n",
       "      <th>0</th>\n",
       "      <td>1</td>\n",
       "      <td>1985</td>\n",
       "      <td>1116</td>\n",
       "      <td>1234</td>\n",
       "      <td>0.596585</td>\n",
       "      <td>0.694878</td>\n",
       "    </tr>\n",
       "    <tr>\n",
       "      <th>1</th>\n",
       "      <td>0</td>\n",
       "      <td>1985</td>\n",
       "      <td>1116</td>\n",
       "      <td>1385</td>\n",
       "      <td>0.862683</td>\n",
       "      <td>0.694878</td>\n",
       "    </tr>\n",
       "    <tr>\n",
       "      <th>2</th>\n",
       "      <td>1</td>\n",
       "      <td>1985</td>\n",
       "      <td>1207</td>\n",
       "      <td>1385</td>\n",
       "      <td>0.514146</td>\n",
       "      <td>0.131220</td>\n",
       "    </tr>\n",
       "    <tr>\n",
       "      <th>3</th>\n",
       "      <td>0</td>\n",
       "      <td>1985</td>\n",
       "      <td>1246</td>\n",
       "      <td>1385</td>\n",
       "      <td>0.936341</td>\n",
       "      <td>0.847805</td>\n",
       "    </tr>\n",
       "    <tr>\n",
       "      <th>4</th>\n",
       "      <td>0</td>\n",
       "      <td>1985</td>\n",
       "      <td>1301</td>\n",
       "      <td>1385</td>\n",
       "      <td>0.607073</td>\n",
       "      <td>0.322439</td>\n",
       "    </tr>\n",
       "  </tbody>\n",
       "</table>\n",
       "</div>"
      ],
      "text/plain": [
       "   Result  Season  Player  Opponent  SeedDelta  PlayerSeed\n",
       "0       1    1985    1116      1234   0.596585    0.694878\n",
       "1       0    1985    1116      1385   0.862683    0.694878\n",
       "2       1    1985    1207      1385   0.514146    0.131220\n",
       "3       0    1985    1246      1385   0.936341    0.847805\n",
       "4       0    1985    1301      1385   0.607073    0.322439"
      ]
     },
     "execution_count": 12,
     "metadata": {},
     "output_type": "execute_result"
    }
   ],
   "source": [
    "feature.head()"
   ]
  },
  {
   "cell_type": "markdown",
   "metadata": {
    "collapsed": false
   },
   "source": [
    "Parameter tunning"
   ]
  },
  {
   "cell_type": "code",
   "execution_count": 13,
   "metadata": {
    "collapsed": false
   },
   "outputs": [
    {
     "data": {
      "text/plain": [
       "GridSearchCV(cv=5, error_score='raise',\n",
       "       estimator=LogisticRegression(C=1.0, class_weight=None, dual=False, fit_intercept=True,\n",
       "          intercept_scaling=1, max_iter=100, multi_class='ovr', n_jobs=1,\n",
       "          penalty='l2', random_state=None, solver='liblinear', tol=0.0001,\n",
       "          verbose=0, warm_start=False),\n",
       "       fit_params={}, iid=True, n_jobs=1,\n",
       "       param_grid={'C': [1000000, 100000, 10000, 1000, 100, 10, 1, 0.1, 0.01, 0.001]},\n",
       "       pre_dispatch='2*n_jobs', refit=True, scoring='log_loss', verbose=0)"
      ]
     },
     "execution_count": 13,
     "metadata": {},
     "output_type": "execute_result"
    }
   ],
   "source": [
    "from sklearn.linear_model import LogisticRegression\n",
    "from sklearn.grid_search import GridSearchCV\n",
    "\n",
    "seg = feature[(feature['Season']<2003) & (feature['Season'])<2013]\n",
    "X = seg.ix[:, 4:6].values\n",
    "Y = seg.ix[:, 0].values\n",
    "param = {'C':[1000000, 100000, 10000, 1000, 100, 10, 1, 0.1, 0.01, 0.001]}\n",
    "lr = LogisticRegression()\n",
    "cver = GridSearchCV(lr, param, scoring='log_loss', cv=5)\n",
    "cver.fit(X, Y)"
   ]
  },
  {
   "cell_type": "code",
   "execution_count": 14,
   "metadata": {
    "collapsed": false
   },
   "outputs": [
    {
     "data": {
      "text/plain": [
       "{'C': 10}"
      ]
     },
     "execution_count": 14,
     "metadata": {},
     "output_type": "execute_result"
    }
   ],
   "source": [
    "cver.best_params_"
   ]
  },
  {
   "cell_type": "code",
   "execution_count": 15,
   "metadata": {
    "collapsed": false
   },
   "outputs": [
    {
     "data": {
      "text/plain": [
       "LogisticRegression(C=10, class_weight=None, dual=False, fit_intercept=True,\n",
       "          intercept_scaling=1, max_iter=100, multi_class='ovr', n_jobs=1,\n",
       "          penalty='l2', random_state=None, solver='liblinear', tol=0.0001,\n",
       "          verbose=0, warm_start=False)"
      ]
     },
     "execution_count": 15,
     "metadata": {},
     "output_type": "execute_result"
    }
   ],
   "source": [
    "lr = LogisticRegression(C=10)\n",
    "lr.fit(X, Y)"
   ]
  },
  {
   "cell_type": "markdown",
   "metadata": {},
   "source": [
    "Test on test set"
   ]
  },
  {
   "cell_type": "code",
   "execution_count": 56,
   "metadata": {
    "collapsed": false
   },
   "outputs": [
    {
     "name": "stderr",
     "output_type": "stream",
     "text": [
      "/home/ike/.miniconda/lib/python2.7/site-packages/ipykernel/__main__.py:5: SettingWithCopyWarning: \n",
      "A value is trying to be set on a copy of a slice from a DataFrame.\n",
      "Try using .loc[row_indexer,col_indexer] = value instead\n",
      "\n",
      "See the caveats in the documentation: http://pandas.pydata.org/pandas-docs/stable/indexing.html#indexing-view-versus-copy\n"
     ]
    }
   ],
   "source": [
    "test = feature[(feature['Season']==2013)]\n",
    "Xt = test.ix[:, 4:6].values\n",
    "Yt = test.ix[:, 0].values\n",
    "Yp = lr.predict_proba(Xt)\n",
    "test['Pred']=Yp[:, 1]"
   ]
  },
  {
   "cell_type": "code",
   "execution_count": 95,
   "metadata": {
    "collapsed": false
   },
   "outputs": [
    {
     "data": {
      "text/plain": [
       "array([ 0.80878049,  0.64609756])"
      ]
     },
     "execution_count": 95,
     "metadata": {},
     "output_type": "execute_result"
    }
   ],
   "source": [
    "Xt[2, :]"
   ]
  },
  {
   "cell_type": "code",
   "execution_count": 93,
   "metadata": {
    "collapsed": false,
    "scrolled": true
   },
   "outputs": [
    {
     "data": {
      "text/html": [
       "<div>\n",
       "<table border=\"1\" class=\"dataframe\">\n",
       "  <thead>\n",
       "    <tr style=\"text-align: right;\">\n",
       "      <th></th>\n",
       "      <th>Result</th>\n",
       "      <th>Season</th>\n",
       "      <th>Player</th>\n",
       "      <th>Opponent</th>\n",
       "      <th>SeedDelta</th>\n",
       "      <th>PlayerSeed</th>\n",
       "      <th>Pred</th>\n",
       "    </tr>\n",
       "  </thead>\n",
       "  <tbody>\n",
       "    <tr>\n",
       "      <th>3564</th>\n",
       "      <td>1</td>\n",
       "      <td>2013</td>\n",
       "      <td>1299</td>\n",
       "      <td>1251</td>\n",
       "      <td>0.514146</td>\n",
       "      <td>1.000000</td>\n",
       "      <td>0.477876</td>\n",
       "    </tr>\n",
       "    <tr>\n",
       "      <th>3565</th>\n",
       "      <td>0</td>\n",
       "      <td>2013</td>\n",
       "      <td>1299</td>\n",
       "      <td>1257</td>\n",
       "      <td>1.000000</td>\n",
       "      <td>1.000000</td>\n",
       "      <td>0.121022</td>\n",
       "    </tr>\n",
       "    <tr>\n",
       "      <th>3566</th>\n",
       "      <td>0</td>\n",
       "      <td>2013</td>\n",
       "      <td>1161</td>\n",
       "      <td>1257</td>\n",
       "      <td>0.808780</td>\n",
       "      <td>0.646098</td>\n",
       "      <td>0.243410</td>\n",
       "    </tr>\n",
       "    <tr>\n",
       "      <th>3567</th>\n",
       "      <td>0</td>\n",
       "      <td>2013</td>\n",
       "      <td>1276</td>\n",
       "      <td>1257</td>\n",
       "      <td>0.672683</td>\n",
       "      <td>0.401707</td>\n",
       "      <td>0.370005</td>\n",
       "    </tr>\n",
       "    <tr>\n",
       "      <th>3568</th>\n",
       "      <td>0</td>\n",
       "      <td>2013</td>\n",
       "      <td>1332</td>\n",
       "      <td>1257</td>\n",
       "      <td>0.936341</td>\n",
       "      <td>0.847805</td>\n",
       "      <td>0.155747</td>\n",
       "    </tr>\n",
       "    <tr>\n",
       "      <th>3569</th>\n",
       "      <td>0</td>\n",
       "      <td>2013</td>\n",
       "      <td>1455</td>\n",
       "      <td>1257</td>\n",
       "      <td>0.862683</td>\n",
       "      <td>0.694878</td>\n",
       "      <td>0.204492</td>\n",
       "    </tr>\n",
       "    <tr>\n",
       "      <th>3570</th>\n",
       "      <td>0</td>\n",
       "      <td>2013</td>\n",
       "      <td>1181</td>\n",
       "      <td>1257</td>\n",
       "      <td>0.596585</td>\n",
       "      <td>0.236098</td>\n",
       "      <td>0.453331</td>\n",
       "    </tr>\n",
       "    <tr>\n",
       "      <th>3571</th>\n",
       "      <td>1</td>\n",
       "      <td>2013</td>\n",
       "      <td>1388</td>\n",
       "      <td>1292</td>\n",
       "      <td>0.514146</td>\n",
       "      <td>0.798780</td>\n",
       "      <td>0.492531</td>\n",
       "    </tr>\n",
       "    <tr>\n",
       "      <th>3572</th>\n",
       "      <td>0</td>\n",
       "      <td>2013</td>\n",
       "      <td>1388</td>\n",
       "      <td>1272</td>\n",
       "      <td>0.753902</td>\n",
       "      <td>0.798780</td>\n",
       "      <td>0.275951</td>\n",
       "    </tr>\n",
       "    <tr>\n",
       "      <th>3573</th>\n",
       "      <td>1</td>\n",
       "      <td>2013</td>\n",
       "      <td>1277</td>\n",
       "      <td>1272</td>\n",
       "      <td>0.392927</td>\n",
       "      <td>0.322439</td>\n",
       "      <td>0.641441</td>\n",
       "    </tr>\n",
       "    <tr>\n",
       "      <th>3574</th>\n",
       "      <td>1</td>\n",
       "      <td>2013</td>\n",
       "      <td>1241</td>\n",
       "      <td>1254</td>\n",
       "      <td>0.514146</td>\n",
       "      <td>1.000000</td>\n",
       "      <td>0.477876</td>\n",
       "    </tr>\n",
       "    <tr>\n",
       "      <th>3575</th>\n",
       "      <td>0</td>\n",
       "      <td>2013</td>\n",
       "      <td>1241</td>\n",
       "      <td>1231</td>\n",
       "      <td>1.000000</td>\n",
       "      <td>1.000000</td>\n",
       "      <td>0.121022</td>\n",
       "    </tr>\n",
       "    <tr>\n",
       "      <th>3576</th>\n",
       "      <td>1</td>\n",
       "      <td>2013</td>\n",
       "      <td>1393</td>\n",
       "      <td>1231</td>\n",
       "      <td>0.672683</td>\n",
       "      <td>0.401707</td>\n",
       "      <td>0.370005</td>\n",
       "    </tr>\n",
       "    <tr>\n",
       "      <th>3577</th>\n",
       "      <td>0</td>\n",
       "      <td>2013</td>\n",
       "      <td>1396</td>\n",
       "      <td>1231</td>\n",
       "      <td>0.862683</td>\n",
       "      <td>0.694878</td>\n",
       "      <td>0.204492</td>\n",
       "    </tr>\n",
       "    <tr>\n",
       "      <th>3578</th>\n",
       "      <td>1</td>\n",
       "      <td>2013</td>\n",
       "      <td>1247</td>\n",
       "      <td>1129</td>\n",
       "      <td>0.514146</td>\n",
       "      <td>0.887317</td>\n",
       "      <td>0.486080</td>\n",
       "    </tr>\n",
       "    <tr>\n",
       "      <th>3579</th>\n",
       "      <td>1</td>\n",
       "      <td>2013</td>\n",
       "      <td>1247</td>\n",
       "      <td>1243</td>\n",
       "      <td>0.898780</td>\n",
       "      <td>0.887317</td>\n",
       "      <td>0.174322</td>\n",
       "    </tr>\n",
       "    <tr>\n",
       "      <th>3580</th>\n",
       "      <td>1</td>\n",
       "      <td>2013</td>\n",
       "      <td>1247</td>\n",
       "      <td>1279</td>\n",
       "      <td>0.596585</td>\n",
       "      <td>0.887317</td>\n",
       "      <td>0.406825</td>\n",
       "    </tr>\n",
       "    <tr>\n",
       "      <th>3581</th>\n",
       "      <td>0</td>\n",
       "      <td>2013</td>\n",
       "      <td>1458</td>\n",
       "      <td>1279</td>\n",
       "      <td>0.242195</td>\n",
       "      <td>0.467561</td>\n",
       "      <td>0.755280</td>\n",
       "    </tr>\n",
       "    <tr>\n",
       "      <th>3582</th>\n",
       "      <td>0</td>\n",
       "      <td>2013</td>\n",
       "      <td>1247</td>\n",
       "      <td>1455</td>\n",
       "      <td>0.699024</td>\n",
       "      <td>0.887317</td>\n",
       "      <td>0.315076</td>\n",
       "    </tr>\n",
       "    <tr>\n",
       "      <th>3583</th>\n",
       "      <td>0</td>\n",
       "      <td>2013</td>\n",
       "      <td>1211</td>\n",
       "      <td>1455</td>\n",
       "      <td>0.191220</td>\n",
       "      <td>0.131220</td>\n",
       "      <td>0.805932</td>\n",
       "    </tr>\n",
       "    <tr>\n",
       "      <th>3584</th>\n",
       "      <td>1</td>\n",
       "      <td>2013</td>\n",
       "      <td>1257</td>\n",
       "      <td>1455</td>\n",
       "      <td>0.191220</td>\n",
       "      <td>0.131220</td>\n",
       "      <td>0.805932</td>\n",
       "    </tr>\n",
       "    <tr>\n",
       "      <th>3585</th>\n",
       "      <td>0</td>\n",
       "      <td>2013</td>\n",
       "      <td>1326</td>\n",
       "      <td>1455</td>\n",
       "      <td>0.242195</td>\n",
       "      <td>0.236098</td>\n",
       "      <td>0.767539</td>\n",
       "    </tr>\n",
       "    <tr>\n",
       "      <th>3586</th>\n",
       "      <td>0</td>\n",
       "      <td>2013</td>\n",
       "      <td>1338</td>\n",
       "      <td>1455</td>\n",
       "      <td>0.485854</td>\n",
       "      <td>0.646098</td>\n",
       "      <td>0.531196</td>\n",
       "    </tr>\n",
       "    <tr>\n",
       "      <th>3587</th>\n",
       "      <td>1</td>\n",
       "      <td>2013</td>\n",
       "      <td>1112</td>\n",
       "      <td>1125</td>\n",
       "      <td>0.300976</td>\n",
       "      <td>0.533659</td>\n",
       "      <td>0.706518</td>\n",
       "    </tr>\n",
       "    <tr>\n",
       "      <th>3588</th>\n",
       "      <td>1</td>\n",
       "      <td>2013</td>\n",
       "      <td>1112</td>\n",
       "      <td>1217</td>\n",
       "      <td>0.191220</td>\n",
       "      <td>0.533659</td>\n",
       "      <td>0.786918</td>\n",
       "    </tr>\n",
       "    <tr>\n",
       "      <th>3589</th>\n",
       "      <td>0</td>\n",
       "      <td>2013</td>\n",
       "      <td>1307</td>\n",
       "      <td>1217</td>\n",
       "      <td>0.099512</td>\n",
       "      <td>0.322439</td>\n",
       "      <td>0.848846</td>\n",
       "    </tr>\n",
       "    <tr>\n",
       "      <th>3590</th>\n",
       "      <td>0</td>\n",
       "      <td>2013</td>\n",
       "      <td>1112</td>\n",
       "      <td>1326</td>\n",
       "      <td>0.699024</td>\n",
       "      <td>0.533659</td>\n",
       "      <td>0.337742</td>\n",
       "    </tr>\n",
       "    <tr>\n",
       "      <th>3591</th>\n",
       "      <td>1</td>\n",
       "      <td>2013</td>\n",
       "      <td>1455</td>\n",
       "      <td>1326</td>\n",
       "      <td>0.808780</td>\n",
       "      <td>0.694878</td>\n",
       "      <td>0.240801</td>\n",
       "    </tr>\n",
       "    <tr>\n",
       "      <th>3592</th>\n",
       "      <td>0</td>\n",
       "      <td>2013</td>\n",
       "      <td>1235</td>\n",
       "      <td>1326</td>\n",
       "      <td>0.862683</td>\n",
       "      <td>0.746098</td>\n",
       "      <td>0.202074</td>\n",
       "    </tr>\n",
       "    <tr>\n",
       "      <th>3593</th>\n",
       "      <td>0</td>\n",
       "      <td>2013</td>\n",
       "      <td>1233</td>\n",
       "      <td>1326</td>\n",
       "      <td>0.968780</td>\n",
       "      <td>0.958049</td>\n",
       "      <td>0.136010</td>\n",
       "    </tr>\n",
       "    <tr>\n",
       "      <th>...</th>\n",
       "      <td>...</td>\n",
       "      <td>...</td>\n",
       "      <td>...</td>\n",
       "      <td>...</td>\n",
       "      <td>...</td>\n",
       "      <td>...</td>\n",
       "      <td>...</td>\n",
       "    </tr>\n",
       "    <tr>\n",
       "      <th>3668</th>\n",
       "      <td>0</td>\n",
       "      <td>2013</td>\n",
       "      <td>1153</td>\n",
       "      <td>1166</td>\n",
       "      <td>0.672683</td>\n",
       "      <td>0.746098</td>\n",
       "      <td>0.346917</td>\n",
       "    </tr>\n",
       "    <tr>\n",
       "      <th>3669</th>\n",
       "      <td>1</td>\n",
       "      <td>2013</td>\n",
       "      <td>1195</td>\n",
       "      <td>1207</td>\n",
       "      <td>0.968780</td>\n",
       "      <td>0.958049</td>\n",
       "      <td>0.136010</td>\n",
       "    </tr>\n",
       "    <tr>\n",
       "      <th>3670</th>\n",
       "      <td>1</td>\n",
       "      <td>2013</td>\n",
       "      <td>1195</td>\n",
       "      <td>1361</td>\n",
       "      <td>0.862683</td>\n",
       "      <td>0.958049</td>\n",
       "      <td>0.192292</td>\n",
       "    </tr>\n",
       "    <tr>\n",
       "      <th>3671</th>\n",
       "      <td>0</td>\n",
       "      <td>2013</td>\n",
       "      <td>1328</td>\n",
       "      <td>1361</td>\n",
       "      <td>0.672683</td>\n",
       "      <td>0.746098</td>\n",
       "      <td>0.346917</td>\n",
       "    </tr>\n",
       "    <tr>\n",
       "      <th>3672</th>\n",
       "      <td>1</td>\n",
       "      <td>2013</td>\n",
       "      <td>1196</td>\n",
       "      <td>1322</td>\n",
       "      <td>0.099512</td>\n",
       "      <td>0.322439</td>\n",
       "      <td>0.848846</td>\n",
       "    </tr>\n",
       "    <tr>\n",
       "      <th>3673</th>\n",
       "      <td>1</td>\n",
       "      <td>2013</td>\n",
       "      <td>1196</td>\n",
       "      <td>1278</td>\n",
       "      <td>0.191220</td>\n",
       "      <td>0.322439</td>\n",
       "      <td>0.797062</td>\n",
       "    </tr>\n",
       "    <tr>\n",
       "      <th>3674</th>\n",
       "      <td>0</td>\n",
       "      <td>2013</td>\n",
       "      <td>1417</td>\n",
       "      <td>1278</td>\n",
       "      <td>0.300976</td>\n",
       "      <td>0.533659</td>\n",
       "      <td>0.706518</td>\n",
       "    </tr>\n",
       "    <tr>\n",
       "      <th>3675</th>\n",
       "      <td>1</td>\n",
       "      <td>2013</td>\n",
       "      <td>1196</td>\n",
       "      <td>1195</td>\n",
       "      <td>0.063659</td>\n",
       "      <td>0.322439</td>\n",
       "      <td>0.865921</td>\n",
       "    </tr>\n",
       "    <tr>\n",
       "      <th>3676</th>\n",
       "      <td>0</td>\n",
       "      <td>2013</td>\n",
       "      <td>1361</td>\n",
       "      <td>1195</td>\n",
       "      <td>0.191220</td>\n",
       "      <td>0.592439</td>\n",
       "      <td>0.784030</td>\n",
       "    </tr>\n",
       "    <tr>\n",
       "      <th>3677</th>\n",
       "      <td>0</td>\n",
       "      <td>2013</td>\n",
       "      <td>1207</td>\n",
       "      <td>1195</td>\n",
       "      <td>0.062439</td>\n",
       "      <td>0.236098</td>\n",
       "      <td>0.869358</td>\n",
       "    </tr>\n",
       "    <tr>\n",
       "      <th>3678</th>\n",
       "      <td>1</td>\n",
       "      <td>2013</td>\n",
       "      <td>1228</td>\n",
       "      <td>1160</td>\n",
       "      <td>0.392927</td>\n",
       "      <td>0.592439</td>\n",
       "      <td>0.623139</td>\n",
       "    </tr>\n",
       "    <tr>\n",
       "      <th>3679</th>\n",
       "      <td>1</td>\n",
       "      <td>2013</td>\n",
       "      <td>1231</td>\n",
       "      <td>1241</td>\n",
       "      <td>0.031220</td>\n",
       "      <td>0.131220</td>\n",
       "      <td>0.885704</td>\n",
       "    </tr>\n",
       "    <tr>\n",
       "      <th>3680</th>\n",
       "      <td>0</td>\n",
       "      <td>2013</td>\n",
       "      <td>1254</td>\n",
       "      <td>1241</td>\n",
       "      <td>0.514146</td>\n",
       "      <td>1.000000</td>\n",
       "      <td>0.477876</td>\n",
       "    </tr>\n",
       "    <tr>\n",
       "      <th>3681</th>\n",
       "      <td>1</td>\n",
       "      <td>2013</td>\n",
       "      <td>1231</td>\n",
       "      <td>1396</td>\n",
       "      <td>0.191220</td>\n",
       "      <td>0.131220</td>\n",
       "      <td>0.805932</td>\n",
       "    </tr>\n",
       "    <tr>\n",
       "      <th>3682</th>\n",
       "      <td>0</td>\n",
       "      <td>2013</td>\n",
       "      <td>1301</td>\n",
       "      <td>1396</td>\n",
       "      <td>0.485854</td>\n",
       "      <td>0.646098</td>\n",
       "      <td>0.531196</td>\n",
       "    </tr>\n",
       "    <tr>\n",
       "      <th>3683</th>\n",
       "      <td>1</td>\n",
       "      <td>2013</td>\n",
       "      <td>1235</td>\n",
       "      <td>1323</td>\n",
       "      <td>0.672683</td>\n",
       "      <td>0.746098</td>\n",
       "      <td>0.346917</td>\n",
       "    </tr>\n",
       "    <tr>\n",
       "      <th>3684</th>\n",
       "      <td>1</td>\n",
       "      <td>2013</td>\n",
       "      <td>1242</td>\n",
       "      <td>1443</td>\n",
       "      <td>0.031220</td>\n",
       "      <td>0.131220</td>\n",
       "      <td>0.885704</td>\n",
       "    </tr>\n",
       "    <tr>\n",
       "      <th>3685</th>\n",
       "      <td>1</td>\n",
       "      <td>2013</td>\n",
       "      <td>1242</td>\n",
       "      <td>1314</td>\n",
       "      <td>0.242195</td>\n",
       "      <td>0.131220</td>\n",
       "      <td>0.772951</td>\n",
       "    </tr>\n",
       "    <tr>\n",
       "      <th>3686</th>\n",
       "      <td>0</td>\n",
       "      <td>2013</td>\n",
       "      <td>1437</td>\n",
       "      <td>1314</td>\n",
       "      <td>0.596585</td>\n",
       "      <td>0.694878</td>\n",
       "      <td>0.420433</td>\n",
       "    </tr>\n",
       "    <tr>\n",
       "      <th>3687</th>\n",
       "      <td>1</td>\n",
       "      <td>2013</td>\n",
       "      <td>1274</td>\n",
       "      <td>1334</td>\n",
       "      <td>0.062439</td>\n",
       "      <td>0.236098</td>\n",
       "      <td>0.869358</td>\n",
       "    </tr>\n",
       "    <tr>\n",
       "      <th>3688</th>\n",
       "      <td>1</td>\n",
       "      <td>2013</td>\n",
       "      <td>1274</td>\n",
       "      <td>1228</td>\n",
       "      <td>0.300976</td>\n",
       "      <td>0.236098</td>\n",
       "      <td>0.724181</td>\n",
       "    </tr>\n",
       "    <tr>\n",
       "      <th>3689</th>\n",
       "      <td>0</td>\n",
       "      <td>2013</td>\n",
       "      <td>1160</td>\n",
       "      <td>1228</td>\n",
       "      <td>0.672683</td>\n",
       "      <td>0.746098</td>\n",
       "      <td>0.346917</td>\n",
       "    </tr>\n",
       "    <tr>\n",
       "      <th>3690</th>\n",
       "      <td>1</td>\n",
       "      <td>2013</td>\n",
       "      <td>1278</td>\n",
       "      <td>1417</td>\n",
       "      <td>0.753902</td>\n",
       "      <td>0.798780</td>\n",
       "      <td>0.275951</td>\n",
       "    </tr>\n",
       "    <tr>\n",
       "      <th>3691</th>\n",
       "      <td>1</td>\n",
       "      <td>2013</td>\n",
       "      <td>1279</td>\n",
       "      <td>1458</td>\n",
       "      <td>0.808780</td>\n",
       "      <td>0.847805</td>\n",
       "      <td>0.232743</td>\n",
       "    </tr>\n",
       "    <tr>\n",
       "      <th>3692</th>\n",
       "      <td>1</td>\n",
       "      <td>2013</td>\n",
       "      <td>1314</td>\n",
       "      <td>1437</td>\n",
       "      <td>0.485854</td>\n",
       "      <td>0.646098</td>\n",
       "      <td>0.531196</td>\n",
       "    </tr>\n",
       "    <tr>\n",
       "      <th>3693</th>\n",
       "      <td>1</td>\n",
       "      <td>2013</td>\n",
       "      <td>1326</td>\n",
       "      <td>1233</td>\n",
       "      <td>0.062439</td>\n",
       "      <td>0.236098</td>\n",
       "      <td>0.869358</td>\n",
       "    </tr>\n",
       "    <tr>\n",
       "      <th>3694</th>\n",
       "      <td>1</td>\n",
       "      <td>2013</td>\n",
       "      <td>1326</td>\n",
       "      <td>1235</td>\n",
       "      <td>0.191220</td>\n",
       "      <td>0.236098</td>\n",
       "      <td>0.801104</td>\n",
       "    </tr>\n",
       "    <tr>\n",
       "      <th>3695</th>\n",
       "      <td>0</td>\n",
       "      <td>2013</td>\n",
       "      <td>1323</td>\n",
       "      <td>1235</td>\n",
       "      <td>0.392927</td>\n",
       "      <td>0.592439</td>\n",
       "      <td>0.623139</td>\n",
       "    </tr>\n",
       "    <tr>\n",
       "      <th>3696</th>\n",
       "      <td>1</td>\n",
       "      <td>2013</td>\n",
       "      <td>1361</td>\n",
       "      <td>1328</td>\n",
       "      <td>0.392927</td>\n",
       "      <td>0.592439</td>\n",
       "      <td>0.623139</td>\n",
       "    </tr>\n",
       "    <tr>\n",
       "      <th>3697</th>\n",
       "      <td>1</td>\n",
       "      <td>2013</td>\n",
       "      <td>1396</td>\n",
       "      <td>1301</td>\n",
       "      <td>0.596585</td>\n",
       "      <td>0.694878</td>\n",
       "      <td>0.420433</td>\n",
       "    </tr>\n",
       "  </tbody>\n",
       "</table>\n",
       "<p>134 rows × 7 columns</p>\n",
       "</div>"
      ],
      "text/plain": [
       "      Result  Season  Player  Opponent  SeedDelta  PlayerSeed      Pred\n",
       "3564       1    2013    1299      1251   0.514146    1.000000  0.477876\n",
       "3565       0    2013    1299      1257   1.000000    1.000000  0.121022\n",
       "3566       0    2013    1161      1257   0.808780    0.646098  0.243410\n",
       "3567       0    2013    1276      1257   0.672683    0.401707  0.370005\n",
       "3568       0    2013    1332      1257   0.936341    0.847805  0.155747\n",
       "3569       0    2013    1455      1257   0.862683    0.694878  0.204492\n",
       "3570       0    2013    1181      1257   0.596585    0.236098  0.453331\n",
       "3571       1    2013    1388      1292   0.514146    0.798780  0.492531\n",
       "3572       0    2013    1388      1272   0.753902    0.798780  0.275951\n",
       "3573       1    2013    1277      1272   0.392927    0.322439  0.641441\n",
       "3574       1    2013    1241      1254   0.514146    1.000000  0.477876\n",
       "3575       0    2013    1241      1231   1.000000    1.000000  0.121022\n",
       "3576       1    2013    1393      1231   0.672683    0.401707  0.370005\n",
       "3577       0    2013    1396      1231   0.862683    0.694878  0.204492\n",
       "3578       1    2013    1247      1129   0.514146    0.887317  0.486080\n",
       "3579       1    2013    1247      1243   0.898780    0.887317  0.174322\n",
       "3580       1    2013    1247      1279   0.596585    0.887317  0.406825\n",
       "3581       0    2013    1458      1279   0.242195    0.467561  0.755280\n",
       "3582       0    2013    1247      1455   0.699024    0.887317  0.315076\n",
       "3583       0    2013    1211      1455   0.191220    0.131220  0.805932\n",
       "3584       1    2013    1257      1455   0.191220    0.131220  0.805932\n",
       "3585       0    2013    1326      1455   0.242195    0.236098  0.767539\n",
       "3586       0    2013    1338      1455   0.485854    0.646098  0.531196\n",
       "3587       1    2013    1112      1125   0.300976    0.533659  0.706518\n",
       "3588       1    2013    1112      1217   0.191220    0.533659  0.786918\n",
       "3589       0    2013    1307      1217   0.099512    0.322439  0.848846\n",
       "3590       0    2013    1112      1326   0.699024    0.533659  0.337742\n",
       "3591       1    2013    1455      1326   0.808780    0.694878  0.240801\n",
       "3592       0    2013    1235      1326   0.862683    0.746098  0.202074\n",
       "3593       0    2013    1233      1326   0.968780    0.958049  0.136010\n",
       "...      ...     ...     ...       ...        ...         ...       ...\n",
       "3668       0    2013    1153      1166   0.672683    0.746098  0.346917\n",
       "3669       1    2013    1195      1207   0.968780    0.958049  0.136010\n",
       "3670       1    2013    1195      1361   0.862683    0.958049  0.192292\n",
       "3671       0    2013    1328      1361   0.672683    0.746098  0.346917\n",
       "3672       1    2013    1196      1322   0.099512    0.322439  0.848846\n",
       "3673       1    2013    1196      1278   0.191220    0.322439  0.797062\n",
       "3674       0    2013    1417      1278   0.300976    0.533659  0.706518\n",
       "3675       1    2013    1196      1195   0.063659    0.322439  0.865921\n",
       "3676       0    2013    1361      1195   0.191220    0.592439  0.784030\n",
       "3677       0    2013    1207      1195   0.062439    0.236098  0.869358\n",
       "3678       1    2013    1228      1160   0.392927    0.592439  0.623139\n",
       "3679       1    2013    1231      1241   0.031220    0.131220  0.885704\n",
       "3680       0    2013    1254      1241   0.514146    1.000000  0.477876\n",
       "3681       1    2013    1231      1396   0.191220    0.131220  0.805932\n",
       "3682       0    2013    1301      1396   0.485854    0.646098  0.531196\n",
       "3683       1    2013    1235      1323   0.672683    0.746098  0.346917\n",
       "3684       1    2013    1242      1443   0.031220    0.131220  0.885704\n",
       "3685       1    2013    1242      1314   0.242195    0.131220  0.772951\n",
       "3686       0    2013    1437      1314   0.596585    0.694878  0.420433\n",
       "3687       1    2013    1274      1334   0.062439    0.236098  0.869358\n",
       "3688       1    2013    1274      1228   0.300976    0.236098  0.724181\n",
       "3689       0    2013    1160      1228   0.672683    0.746098  0.346917\n",
       "3690       1    2013    1278      1417   0.753902    0.798780  0.275951\n",
       "3691       1    2013    1279      1458   0.808780    0.847805  0.232743\n",
       "3692       1    2013    1314      1437   0.485854    0.646098  0.531196\n",
       "3693       1    2013    1326      1233   0.062439    0.236098  0.869358\n",
       "3694       1    2013    1326      1235   0.191220    0.236098  0.801104\n",
       "3695       0    2013    1323      1235   0.392927    0.592439  0.623139\n",
       "3696       1    2013    1361      1328   0.392927    0.592439  0.623139\n",
       "3697       1    2013    1396      1301   0.596585    0.694878  0.420433\n",
       "\n",
       "[134 rows x 7 columns]"
      ]
     },
     "execution_count": 93,
     "metadata": {},
     "output_type": "execute_result"
    }
   ],
   "source": [
    "test"
   ]
  },
  {
   "cell_type": "code",
   "execution_count": 37,
   "metadata": {
    "collapsed": false,
    "scrolled": true
   },
   "outputs": [
    {
     "data": {
      "text/plain": [
       "array([[ 0.52212361,  0.47787639],\n",
       "       [ 0.87897794,  0.12102206],\n",
       "       [ 0.65793354,  0.34206646],\n",
       "       [ 0.79550755,  0.20449245],\n",
       "       [ 0.70833871,  0.29166129],\n",
       "       [ 0.81967106,  0.18032894],\n",
       "       [ 0.54666893,  0.45333107],\n",
       "       [ 0.50746933,  0.49253067],\n",
       "       [ 0.72404884,  0.27595116],\n",
       "       [ 0.80039193,  0.19960807],\n",
       "       [ 0.43917832,  0.56082168],\n",
       "       [ 0.84717593,  0.15282407],\n",
       "       [ 0.52212361,  0.47787639],\n",
       "       [ 0.87897794,  0.12102206],\n",
       "       [ 0.62999549,  0.37000451],\n",
       "       [ 0.54666893,  0.45333107],\n",
       "       [ 0.7565896 ,  0.2434104 ],\n",
       "       [ 0.50746933,  0.49253067],\n",
       "       [ 0.72404884,  0.27595116],\n",
       "       [ 0.26975291,  0.73024709],\n",
       "       [ 0.80619026,  0.19380974],\n",
       "       [ 0.57227145,  0.42772855],\n",
       "       [ 0.767257  ,  0.232743  ],\n",
       "       [ 0.80266593,  0.19733407],\n",
       "       [ 0.34583919,  0.65416081],\n",
       "       [ 0.82567761,  0.17432239],\n",
       "       [ 0.57956658,  0.42043342],\n",
       "       [ 0.79550755,  0.20449245],\n",
       "       [ 0.62999549,  0.37000451],\n",
       "       [ 0.81967106,  0.18032894],\n",
       "       [ 0.87897794,  0.12102206],\n",
       "       [ 0.57956658,  0.42043342],\n",
       "       [ 0.79550755,  0.20449245],\n",
       "       [ 0.65793354,  0.34206646],\n",
       "       [ 0.54666893,  0.45333107],\n",
       "       [ 0.87897794,  0.12102206],\n",
       "       [ 0.1743546 ,  0.8256454 ],\n",
       "       [ 0.20670202,  0.79329798],\n",
       "       [ 0.24471956,  0.75528044],\n",
       "       [ 0.72404884,  0.27595116],\n",
       "       [ 0.80039193,  0.19960807],\n",
       "       [ 0.84717593,  0.15282407],\n",
       "       [ 0.58693057,  0.41306943],\n",
       "       [ 0.16329071,  0.83670929],\n",
       "       [ 0.16329071,  0.83670929],\n",
       "       [ 0.73323053,  0.26676947],\n",
       "       [ 0.37686072,  0.62313928],\n",
       "       [ 0.24471956,  0.75528044],\n",
       "       [ 0.56333596,  0.43666404],\n",
       "       [ 0.82567761,  0.17432239],\n",
       "       [ 0.1743546 ,  0.8256454 ],\n",
       "       [ 0.20670202,  0.79329798],\n",
       "       [ 0.24471956,  0.75528044],\n",
       "       [ 0.1142956 ,  0.8857044 ],\n",
       "       [ 0.19406796,  0.80593204],\n",
       "       [ 0.46880372,  0.53119628],\n",
       "       [ 0.29045463,  0.70954537],\n",
       "       [ 0.80448445,  0.19551555],\n",
       "       [ 0.767257  ,  0.232743  ],\n",
       "       [ 0.43166078,  0.56833922],\n",
       "       [ 0.55290043,  0.44709957],\n",
       "       [ 0.43166078,  0.56833922],\n",
       "       [ 0.71186697,  0.28813303],\n",
       "       [ 0.46650259,  0.53349741],\n",
       "       [ 0.86399046,  0.13600954],\n",
       "       [ 0.1743546 ,  0.8256454 ],\n",
       "       [ 0.45110474,  0.54889526],\n",
       "       [ 0.29045463,  0.70954537],\n",
       "       [ 0.767257  ,  0.232743  ],\n",
       "       [ 0.15115376,  0.84884624],\n",
       "       [ 0.20293764,  0.79706236],\n",
       "       [ 0.50746933,  0.49253067],\n",
       "       [ 0.29348225,  0.70651775],\n",
       "       [ 0.1142956 ,  0.8857044 ],\n",
       "       [ 0.52212361,  0.47787639],\n",
       "       [ 0.19406796,  0.80593204],\n",
       "       [ 0.46880372,  0.53119628],\n",
       "       [ 0.57956658,  0.42043342],\n",
       "       [ 0.15115376,  0.84884624],\n",
       "       [ 0.20293764,  0.79706236],\n",
       "       [ 0.47607108,  0.52392892],\n",
       "       [ 0.29348225,  0.70651775],\n",
       "       [ 0.1142956 ,  0.8857044 ],\n",
       "       [ 0.19406796,  0.80593204],\n",
       "       [ 0.46880372,  0.53119628],\n",
       "       [ 0.767257  ,  0.232743  ],\n",
       "       [ 0.80266593,  0.19733407],\n",
       "       [ 0.34583919,  0.65416081],\n",
       "       [ 0.82567761,  0.17432239],\n",
       "       [ 0.82567761,  0.17432239],\n",
       "       [ 0.37686072,  0.62313928],\n",
       "       [ 0.24471956,  0.75528044],\n",
       "       [ 0.20986842,  0.79013158],\n",
       "       [ 0.1743546 ,  0.8256454 ],\n",
       "       [ 0.86399046,  0.13600954],\n",
       "       [ 0.72404884,  0.27595116],\n",
       "       [ 0.80039193,  0.19960807],\n",
       "       [ 0.43917832,  0.56082168],\n",
       "       [ 0.84717593,  0.15282407],\n",
       "       [ 0.29348225,  0.70651775],\n",
       "       [ 0.50746933,  0.49253067],\n",
       "       [ 0.21308223,  0.78691777],\n",
       "       [ 0.15115376,  0.84884624],\n",
       "       [ 0.4606483 ,  0.5393517 ],\n",
       "       [ 0.27581918,  0.72418082],\n",
       "       [ 0.65308254,  0.34691746],\n",
       "       [ 0.13064176,  0.86935824],\n",
       "       [ 0.19889578,  0.80110422],\n",
       "       [ 0.37686072,  0.62313928],\n",
       "       [ 0.1142956 ,  0.8857044 ],\n",
       "       [ 0.52212361,  0.47787639],\n",
       "       [ 0.22704923,  0.77295077],\n",
       "       [ 0.57956658,  0.42043342],\n",
       "       [ 0.43166078,  0.56833922],\n",
       "       [ 0.55290043,  0.44709957],\n",
       "       [ 0.79792636,  0.20207364],\n",
       "       [ 0.46650259,  0.53349741],\n",
       "       [ 0.86399046,  0.13600954],\n",
       "       [ 0.84717593,  0.15282407],\n",
       "       [ 0.46880372,  0.53119628],\n",
       "       [ 0.65308254,  0.34691746],\n",
       "       [ 0.30648862,  0.69351138],\n",
       "       [ 0.13064176,  0.86935824],\n",
       "       [ 0.15115376,  0.84884624],\n",
       "       [ 0.20293764,  0.79706236],\n",
       "       [ 0.29348225,  0.70651775],\n",
       "       [ 0.65308254,  0.34691746],\n",
       "       [ 0.13064176,  0.86935824],\n",
       "       [ 0.27581918,  0.72418082],\n",
       "       [ 0.65308254,  0.34691746],\n",
       "       [ 0.37686072,  0.62313928],\n",
       "       [ 0.71186697,  0.28813303],\n",
       "       [ 0.86399046,  0.13600954],\n",
       "       [ 0.13064176,  0.86935824]])"
      ]
     },
     "execution_count": 37,
     "metadata": {},
     "output_type": "execute_result"
    }
   ],
   "source": [
    "Yp"
   ]
  },
  {
   "cell_type": "code",
   "execution_count": 34,
   "metadata": {
    "collapsed": false
   },
   "outputs": [
    {
     "data": {
      "text/plain": [
       "0.52649896905457294"
      ]
     },
     "execution_count": 34,
     "metadata": {},
     "output_type": "execute_result"
    }
   ],
   "source": [
    "#keeps the best auc\n",
    "from sklearn.metrics import log_loss\n",
    "\n",
    "log_loss(Yt, Yp)"
   ]
  },
  {
   "cell_type": "code",
   "execution_count": 38,
   "metadata": {
    "collapsed": false
   },
   "outputs": [
    {
     "data": {
      "text/plain": [
       "0.59969320347157529"
      ]
     },
     "execution_count": 38,
     "metadata": {},
     "output_type": "execute_result"
    }
   ],
   "source": [
    "from sklearn.metrics import log_loss\n",
    "log_loss(Yt, Yp)"
   ]
  },
  {
   "cell_type": "code",
   "execution_count": 35,
   "metadata": {
    "collapsed": false
   },
   "outputs": [
    {
     "data": {
      "text/plain": [
       "0.82223212296725323"
      ]
     },
     "execution_count": 35,
     "metadata": {},
     "output_type": "execute_result"
    }
   ],
   "source": [
    "#keeps the best auc\n",
    "from sklearn.metrics import roc_auc_score\n",
    "\n",
    "roc_auc_score(Yt, Yp[:,1])"
   ]
  },
  {
   "cell_type": "code",
   "execution_count": 39,
   "metadata": {
    "collapsed": false
   },
   "outputs": [
    {
     "data": {
      "text/plain": [
       "0.74504343951882379"
      ]
     },
     "execution_count": 39,
     "metadata": {},
     "output_type": "execute_result"
    }
   ],
   "source": [
    "from sklearn.metrics import roc_auc_score\n",
    "roc_auc_score(Yt, Yp[:,1])"
   ]
  },
  {
   "cell_type": "markdown",
   "metadata": {},
   "source": [
    "# Submit result"
   ]
  },
  {
   "cell_type": "code",
   "execution_count": 69,
   "metadata": {
    "collapsed": false
   },
   "outputs": [],
   "source": [
    "submission = pd.read_csv(\"./Data/sample_submission.csv\")\n",
    "content = []\n",
    "for row in submission.iterrows():\n",
    "    content.append(map(int, row[1].ix[0].split('_')))"
   ]
  },
  {
   "cell_type": "code",
   "execution_count": 70,
   "metadata": {
    "collapsed": false
   },
   "outputs": [],
   "source": [
    "submission = pd.DataFrame(content, columns=['Season', 'Player', 'Opponent'])"
   ]
  },
  {
   "cell_type": "code",
   "execution_count": 79,
   "metadata": {
    "collapsed": false
   },
   "outputs": [],
   "source": [
    "# take features from existing data\n",
    "t = pd.merge(submission, tourney_seeds, left_on=['Season', 'Player'], right_on=['Season', 'Team'])\n",
    "t = t.ix[:, [0,1,2,5]]\n",
    "t.columns = ['Season', 'Player', 'Opponent', 'PlayerSeed']\n",
    "t = pd.merge(t, tourney_seeds, left_on=['Season', 'Opponent'], right_on=['Season', 'Team'])\n",
    "t = t.ix[:, [0, 1, 2, 3, 6]]\n",
    "t.columns = ['Season', 'Player', 'Opponent', 'PlayerSeed', 'OpponentSeed']\n",
    "t['SeedDelta'] = cdf['SeedDelta'].cdf(t['PlayerSeed']-t['OpponentSeed'])\n",
    "t['PlayerSeed'] = cdf['PlayerSeed'].cdf(t['PlayerSeed'])"
   ]
  },
  {
   "cell_type": "code",
   "execution_count": 100,
   "metadata": {
    "collapsed": false,
    "scrolled": true
   },
   "outputs": [
    {
     "data": {
      "text/html": [
       "<div>\n",
       "<table border=\"1\" class=\"dataframe\">\n",
       "  <thead>\n",
       "    <tr style=\"text-align: right;\">\n",
       "      <th></th>\n",
       "      <th>Season</th>\n",
       "      <th>Player</th>\n",
       "      <th>Opponent</th>\n",
       "      <th>PlayerSeed</th>\n",
       "      <th>OpponentSeed</th>\n",
       "      <th>SeedDelta</th>\n",
       "    </tr>\n",
       "  </thead>\n",
       "  <tbody>\n",
       "    <tr>\n",
       "      <th>416</th>\n",
       "      <td>2013</td>\n",
       "      <td>1161</td>\n",
       "      <td>1257</td>\n",
       "      <td>0.646098</td>\n",
       "      <td>1</td>\n",
       "      <td>0.80878</td>\n",
       "    </tr>\n",
       "  </tbody>\n",
       "</table>\n",
       "</div>"
      ],
      "text/plain": [
       "     Season  Player  Opponent  PlayerSeed  OpponentSeed  SeedDelta\n",
       "416    2013    1161      1257    0.646098             1    0.80878"
      ]
     },
     "execution_count": 100,
     "metadata": {},
     "output_type": "execute_result"
    }
   ],
   "source": [
    "t[(t['Player']==1161) & (t['Opponent']==1257)]"
   ]
  },
  {
   "cell_type": "code",
   "execution_count": 48,
   "metadata": {
    "collapsed": false
   },
   "outputs": [],
   "source": [
    "X = t.ix[:, [5, 3]].values\n",
    "Y = lr.predict_proba(X)"
   ]
  },
  {
   "cell_type": "code",
   "execution_count": 111,
   "metadata": {
    "collapsed": false
   },
   "outputs": [],
   "source": [
    "t['Prediction']=Y[:, 1]"
   ]
  },
  {
   "cell_type": "code",
   "execution_count": 115,
   "metadata": {
    "collapsed": true
   },
   "outputs": [],
   "source": [
    "id = []\n",
    "pred = []\n",
    "for row in t.iterrows():\n",
    "    id.append(\"{0}_{1}_{2}\".format(int(row[1].ix[0]), int(row[1].ix[1]), int(row[1].ix[2])))\n",
    "    pred.append(row[1].ix[6])"
   ]
  },
  {
   "cell_type": "code",
   "execution_count": 116,
   "metadata": {
    "collapsed": true
   },
   "outputs": [],
   "source": [
    "submit = pd.DataFrame({\"id\":id, \"pred\":pred}, columns=['id', 'pred'])"
   ]
  },
  {
   "cell_type": "code",
   "execution_count": 117,
   "metadata": {
    "collapsed": false
   },
   "outputs": [
    {
     "data": {
      "text/html": [
       "<div>\n",
       "<table border=\"1\" class=\"dataframe\">\n",
       "  <thead>\n",
       "    <tr style=\"text-align: right;\">\n",
       "      <th></th>\n",
       "      <th>id</th>\n",
       "      <th>pred</th>\n",
       "    </tr>\n",
       "  </thead>\n",
       "  <tbody>\n",
       "    <tr>\n",
       "      <th>0</th>\n",
       "      <td>2013_1103_1107</td>\n",
       "      <td>0.605500</td>\n",
       "    </tr>\n",
       "    <tr>\n",
       "      <th>1</th>\n",
       "      <td>2013_1103_1112</td>\n",
       "      <td>0.270094</td>\n",
       "    </tr>\n",
       "    <tr>\n",
       "      <th>2</th>\n",
       "      <td>2013_1107_1112</td>\n",
       "      <td>0.171374</td>\n",
       "    </tr>\n",
       "    <tr>\n",
       "      <th>3</th>\n",
       "      <td>2013_1103_1125</td>\n",
       "      <td>0.409608</td>\n",
       "    </tr>\n",
       "    <tr>\n",
       "      <th>4</th>\n",
       "      <td>2013_1107_1125</td>\n",
       "      <td>0.310642</td>\n",
       "    </tr>\n",
       "  </tbody>\n",
       "</table>\n",
       "</div>"
      ],
      "text/plain": [
       "               id      pred\n",
       "0  2013_1103_1107  0.605500\n",
       "1  2013_1103_1112  0.270094\n",
       "2  2013_1107_1112  0.171374\n",
       "3  2013_1103_1125  0.409608\n",
       "4  2013_1107_1125  0.310642"
      ]
     },
     "execution_count": 117,
     "metadata": {},
     "output_type": "execute_result"
    }
   ],
   "source": [
    "submit.head()"
   ]
  },
  {
   "cell_type": "code",
   "execution_count": 125,
   "metadata": {
    "collapsed": true
   },
   "outputs": [],
   "source": [
    "submit.to_csv(\"result.csv\", index=False)"
   ]
  },
  {
   "cell_type": "markdown",
   "metadata": {},
   "source": [
    "Try to calculate loss locally"
   ]
  },
  {
   "cell_type": "code",
   "execution_count": 119,
   "metadata": {
    "collapsed": false
   },
   "outputs": [],
   "source": [
    "submission = t[['Season', 'Player', 'Opponent', 'Prediction']]"
   ]
  },
  {
   "cell_type": "code",
   "execution_count": 110,
   "metadata": {
    "collapsed": false
   },
   "outputs": [
    {
     "data": {
      "text/plain": [
       "(9112, 4)"
      ]
     },
     "execution_count": 110,
     "metadata": {},
     "output_type": "execute_result"
    }
   ],
   "source": [
    "submission.shape"
   ]
  },
  {
   "cell_type": "code",
   "execution_count": 120,
   "metadata": {
    "collapsed": false
   },
   "outputs": [
    {
     "data": {
      "text/html": [
       "<div>\n",
       "<table border=\"1\" class=\"dataframe\">\n",
       "  <thead>\n",
       "    <tr style=\"text-align: right;\">\n",
       "      <th></th>\n",
       "      <th>Season</th>\n",
       "      <th>Player</th>\n",
       "      <th>Opponent</th>\n",
       "      <th>Prediction</th>\n",
       "    </tr>\n",
       "  </thead>\n",
       "  <tbody>\n",
       "    <tr>\n",
       "      <th>416</th>\n",
       "      <td>2013</td>\n",
       "      <td>1161</td>\n",
       "      <td>1257</td>\n",
       "      <td>0.24341</td>\n",
       "    </tr>\n",
       "  </tbody>\n",
       "</table>\n",
       "</div>"
      ],
      "text/plain": [
       "     Season  Player  Opponent  Prediction\n",
       "416    2013    1161      1257     0.24341"
      ]
     },
     "execution_count": 120,
     "metadata": {},
     "output_type": "execute_result"
    }
   ],
   "source": [
    "submission[(submission['Player']==1161) & (submission['Opponent']==1257)]"
   ]
  },
  {
   "cell_type": "code",
   "execution_count": 121,
   "metadata": {
    "collapsed": false
   },
   "outputs": [],
   "source": [
    "t1 = pd.merge(submission, tourney_compact_results, left_on=['Season', 'Player', 'Opponent'], right_on=['Season', 'Wteam', 'Lteam'])\n",
    "t2 = pd.merge(submission, tourney_compact_results, left_on=['Season', 'Player', 'Opponent'], right_on=['Season', 'Lteam', 'Wteam'])"
   ]
  },
  {
   "cell_type": "code",
   "execution_count": 124,
   "metadata": {
    "collapsed": false
   },
   "outputs": [
    {
     "data": {
      "text/plain": [
       "0.59209624341275435"
      ]
     },
     "execution_count": 124,
     "metadata": {},
     "output_type": "execute_result"
    }
   ],
   "source": [
    "t1['Label']=1\n",
    "t2['Label']=0\n",
    "submission = pd.concat([t1, t2], ignore_index=True)\n",
    "log_loss(submission['Label'].values, submission['Prediction'].values)"
   ]
  },
  {
   "cell_type": "code",
   "execution_count": 246,
   "metadata": {
    "collapsed": true
   },
   "outputs": [],
   "source": [
    "submission['pred'] = Y[:,0]"
   ]
  },
  {
   "cell_type": "code",
   "execution_count": 247,
   "metadata": {
    "collapsed": false
   },
   "outputs": [],
   "source": [
    "submission.to_csv(\"result.csv\", index=False)"
   ]
  },
  {
   "cell_type": "code",
   "execution_count": null,
   "metadata": {
    "collapsed": true
   },
   "outputs": [],
   "source": []
  }
 ],
 "metadata": {
  "kernelspec": {
   "display_name": "Python 2",
   "language": "python",
   "name": "python2"
  },
  "language_info": {
   "codemirror_mode": {
    "name": "ipython",
    "version": 2
   },
   "file_extension": ".py",
   "mimetype": "text/x-python",
   "name": "python",
   "nbconvert_exporter": "python",
   "pygments_lexer": "ipython2",
   "version": "2.7.12"
  }
 },
 "nbformat": 4,
 "nbformat_minor": 1
}
